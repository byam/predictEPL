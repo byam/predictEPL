{
 "cells": [
  {
   "cell_type": "code",
   "execution_count": 1,
   "metadata": {
    "collapsed": true
   },
   "outputs": [],
   "source": [
    "import os\n",
    "import sys\n",
    "import pandas as pd\n",
    "import time\n",
    "\n",
    "sys.path.append('/Users/Bya/git/predictEPL/config/')\n",
    "sys.path.append('/Users/Bya/git/predictEPL/utils/')\n",
    "sys.path.append('/Users/Bya/git/predictEPL/MyFunctions/')"
   ]
  },
  {
   "cell_type": "code",
   "execution_count": 2,
   "metadata": {
    "collapsed": true
   },
   "outputs": [],
   "source": [
    "from convert_raw_data import FolderFiles\n",
    "from paths import READ_PATH_EXTRACTED_CSV\n",
    "from dataIO import csv_dic_df\n",
    "from fake_tweets import STREAM_TWEETS_TUPLES\n",
    "import users\n",
    "from useful_methods import TweetsPercentageByWeek\n",
    "from useful_methods import MostCommonUsersByWeek"
   ]
  },
  {
   "cell_type": "code",
   "execution_count": 8,
   "metadata": {
    "collapsed": false
   },
   "outputs": [
    {
     "name": "stdout",
     "output_type": "stream",
     "text": [
      "All User Number:  83079\n",
      "Unique User Number: 41151 (0.50)\n",
      "\n",
      "[('futbolkolik16', 464),\n",
      " ('aysegulum123', 432),\n",
      " ('futbolhaber16', 358),\n",
      " ('derrickalonsos', 348),\n",
      " ('ksastuf1', 311),\n",
      " ('tugekeskin', 295),\n",
      " ('machaberi', 294),\n",
      " ('16gamzeturan', 293),\n",
      " ('pervincanbulan', 290),\n",
      " ('jonfellipe1989', 276)]\n"
     ]
    }
   ],
   "source": [
    "MostCommonUsersByWeek(4, users_number=10, filtered=False)"
   ]
  },
  {
   "cell_type": "code",
   "execution_count": 7,
   "metadata": {
    "collapsed": false
   },
   "outputs": [
    {
     "name": "stdout",
     "output_type": "stream",
     "text": [
      "All User Number:  76911\n",
      "Unique User Number: 41048 (0.53)\n",
      "\n",
      "[('filizakkaya16', 198),\n",
      " ('futbolkolik16', 182),\n",
      " ('ayseugg', 181),\n",
      " ('canankara121', 160),\n",
      " ('aysegulum123', 152),\n",
      " ('futbolhaber16', 145),\n",
      " ('markacin', 139),\n",
      " ('onlineskor', 116),\n",
      " ('stevestevens47', 111),\n",
      " ('machaberi', 90)]\n"
     ]
    }
   ],
   "source": [
    "MostCommonUsersByWeek(4, users_number=10, filtered=True)"
   ]
  }
 ],
 "metadata": {
  "kernelspec": {
   "display_name": "Python 3",
   "language": "python",
   "name": "python3"
  },
  "language_info": {
   "codemirror_mode": {
    "name": "ipython",
    "version": 3
   },
   "file_extension": ".py",
   "mimetype": "text/x-python",
   "name": "python",
   "nbconvert_exporter": "python",
   "pygments_lexer": "ipython3",
   "version": "3.4.3"
  }
 },
 "nbformat": 4,
 "nbformat_minor": 0
}
