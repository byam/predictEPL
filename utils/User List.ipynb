{
 "cells": [
  {
   "cell_type": "code",
   "execution_count": 1,
   "metadata": {
    "collapsed": true
   },
   "outputs": [],
   "source": [
    "import os\n",
    "import sys\n",
    "import pandas as pd\n",
    "import time\n",
    "\n",
    "sys.path.append('/Users/Bya/git/predictEPL/config/')\n",
    "sys.path.append('/Users/Bya/git/predictEPL/MyFunctions/')"
   ]
  },
  {
   "cell_type": "code",
   "execution_count": 62,
   "metadata": {
    "collapsed": true
   },
   "outputs": [],
   "source": [
    "from convert_raw_data import FolderFiles\n",
    "from paths import READ_PATH_EXTRACTED_CSV\n",
    "from dataIO import csv_dic_df\n",
    "from fake_tweets import STREAM_TWEETS_TUPLES\n",
    "import users"
   ]
  },
  {
   "cell_type": "code",
   "execution_count": 3,
   "metadata": {
    "collapsed": false
   },
   "outputs": [
    {
     "name": "stdout",
     "output_type": "stream",
     "text": [
      "['Arsenal_vs_Sunderland.csv', 'Chelsea_vs_Bournemouth.csv', 'Everton_vs_Crystal.csv', 'Newcastle_vs_Liverpool.csv', 'Southampton_vs_Villa.csv', 'Stoke_vs_City.csv', 'Swansea_vs_Leicester.csv', 'United_vs_WestHam.csv', 'Watford_vs_Norwich.csv', 'WestBromwich_vs_Tottenham.csv']\n"
     ]
    }
   ],
   "source": [
    "week = 15\n",
    "GW = 'GW' + str(week)\n",
    "\n",
    "single_games = FolderFiles('SingleGames', READ_PATH_EXTRACTED_CSV + GW, '.csv')\n",
    "print(single_games)"
   ]
  },
  {
   "cell_type": "markdown",
   "metadata": {},
   "source": [
    "### Tweet , Retweet, Quoted Tweet"
   ]
  },
  {
   "cell_type": "code",
   "execution_count": null,
   "metadata": {
    "collapsed": true
   },
   "outputs": [],
   "source": [
    "Retweet: \n",
    "    text = retweet(text)\n",
    "    tags = retweet(tags)\n",
    "    \n",
    "Quoted:\n",
    "    text = tweet(text) + quoted(text)\n",
    "    tags = tweet(text) + quoted(tags)"
   ]
  },
  {
   "cell_type": "code",
   "execution_count": 43,
   "metadata": {
    "collapsed": false
   },
   "outputs": [
    {
     "name": "stdout",
     "output_type": "stream",
     "text": [
      "Com'on Arsenal, a must win EPL match, let December count.\n",
      "#COYG #Arsenal https://t.co/PgjQ2TySuq. HERE THEY COME! @mertesacker leads out @Arsenal at Emirates Stadium. We are now just moments away from kick-off #AFCvSFC\n",
      "---------------------------\n",
      "REPORT:2-0 Man City: Marko Arnautovic double dents City's title push. https://t.co/XLkJy2BjUj https://t.co/ZdMC91YhqQ. FT Stoke 2-0 Man City Thank you Stoke, now I  hope we take advantage #afc\n",
      "---------------------------\n",
      "Retard https://t.co/ctpavMEBpo. Chelsea is out.\n",
      "City is losing.\n",
      "United is shit.\n",
      "\n",
      "How are we still 4th?\n",
      "\n",
      "#Arsenal \n",
      "#WengerOut\n",
      "---------------------------\n",
      "He's still an abortion of a referee mind https://t.co/mSG3fg0eCg. Bobby Madley is the referee this afternoon, we all remember last time he reffed #SAFC ...\n",
      "https://t.co/xfpaBG2yfM https://t.co/WfYkfMWYpa\n",
      "---------------------------\n",
      "Christmas is really here https://t.co/kpxD3MHCjf. *LAST CHANCE*\n",
      "\n",
      "Join @stanjames for 8/1 about #AFC versus #SAFC: https://t.co/SJwT4Ri5Bk https://t.co/QL9feWFmnB\n",
      "---------------------------\n"
     ]
    }
   ],
   "source": [
    "count = 0\n",
    "for text in dfTweets[(dfTweets['status'] == 'quoted')]['text']:\n",
    "    print(text)\n",
    "    print('---------------------------')\n",
    "    count += 1\n",
    "    if count == 5:\n",
    "        break"
   ]
  },
  {
   "cell_type": "code",
   "execution_count": 26,
   "metadata": {
    "collapsed": false
   },
   "outputs": [
    {
     "name": "stdout",
     "output_type": "stream",
     "text": [
      "All Tweet Number:  10453\n",
      "\tNormal Tweet: 6031(0.58)\n",
      "\tNormal Retweet: 4132(0.40)\n",
      "\tNormal Quoted: 290(0.03)\n"
     ]
    }
   ],
   "source": [
    "all_week = 0\n",
    "tweet = 0\n",
    "retweet = 0\n",
    "quoted = 0\n",
    "\n",
    "\n",
    "for single_game in single_games[0:1]:\n",
    "    os.chdir(READ_PATH_EXTRACTED_CSV + GW + '/SingleGames/')\n",
    "    dfTweets = csv_dic_df(single_game)\n",
    "    \n",
    "    tweet += len(dfTweets[(dfTweets['status'] == 'tweet')])\n",
    "    retweet += len(dfTweets[(dfTweets['status'] == 'retweet')])\n",
    "    quoted += len(dfTweets[(dfTweets['status'] == 'quoted')])\n",
    "    \n",
    "    all_week += len(dfTweets)\n",
    "\n",
    "print(\"All Tweet Number: \",all_week)\n",
    "print(\"\\tNormal Tweet: %s(%.2f)\" % (tweet, tweet/all_week))\n",
    "print(\"\\tNormal Retweet: %s(%.2f)\" % (retweet, retweet/all_week))\n",
    "print(\"\\tNormal Quoted: %s(%.2f)\" % (quoted, quoted/all_week))"
   ]
  },
  {
   "cell_type": "markdown",
   "metadata": {},
   "source": [
    "### Common Users & Fake Account User"
   ]
  },
  {
   "cell_type": "code",
   "execution_count": 61,
   "metadata": {
    "collapsed": false
   },
   "outputs": [
    {
     "name": "stdout",
     "output_type": "stream",
     "text": [
      "All User Number:  108605\n",
      "Unique User Number: 46760 (0.43)\n"
     ]
    }
   ],
   "source": [
    "all_users = []\n",
    "\n",
    "\n",
    "for single_game in single_games:\n",
    "    os.chdir(READ_PATH_EXTRACTED_CSV + GW + '/SingleGames/')\n",
    "    dfTweets = csv_dic_df(single_game)\n",
    "    \n",
    "    user = list(dfTweets['user'])\n",
    "    \n",
    "    all_users += user\n",
    "\n",
    "\n",
    "print(\"All User Number: \", len(all_users))\n",
    "print(\"Unique User Number: %s (%.2f)\" %(len(set(all_users)), len(set(all_users))/len(all_users)))"
   ]
  },
  {
   "cell_type": "code",
   "execution_count": 58,
   "metadata": {
    "collapsed": false
   },
   "outputs": [
    {
     "name": "stdout",
     "output_type": "stream",
     "text": [
      "[('MatchesOnline', 644),\n",
      " ('KORAWATS1', 627),\n",
      " ('izil18', 615),\n",
      " ('KSASTUF1', 609),\n",
      " ('FootbalStream', 606),\n",
      " ('jonfellipe1989', 591),\n",
      " ('izil12', 572),\n",
      " ('izil17', 510),\n",
      " ('izil27', 485),\n",
      " ('ftblsk31', 280),\n",
      " ('lornesway', 237),\n",
      " ('izil19', 216),\n",
      " ('ThoughtsTalks', 207),\n",
      " ('uzlmrym', 206),\n",
      " ('secretceli', 201),\n",
      " ('LauraCsrc', 200),\n",
      " ('EPL_ArabicNews', 187),\n",
      " ('ftbllprmrshp', 174),\n",
      " ('izil24', 164),\n",
      " ('SHAHEDSP1', 164)]\n"
     ]
    }
   ],
   "source": [
    "import collections\n",
    "from pprint import pprint\n",
    "\n",
    "counter=collections.Counter(all_users)\n",
    "most_common = list(counter.most_common(20))\n",
    "pprint(most_common)"
   ]
  },
  {
   "cell_type": "code",
   "execution_count": 65,
   "metadata": {
    "collapsed": false,
    "scrolled": true
   },
   "outputs": [
    {
     "name": "stdout",
     "output_type": "stream",
     "text": [
      "2.9745380878448486\n",
      "2.7671830654144287\n",
      "1.5447912216186523\n",
      "6.821207046508789\n",
      "1.3728270530700684\n",
      "3.802750825881958\n",
      "1.5963730812072754\n",
      "8.064964056015015\n",
      "0.6720020771026611\n",
      "1.4964489936828613\n",
      "97315 46535\n"
     ]
    }
   ],
   "source": [
    "def CheckText(text):\n",
    "    text = text.lower()\n",
    "    for tuples in STREAM_TWEETS_TUPLES:\n",
    "        if tuples[0] in text and tuples[1] in text:\n",
    "            return False\n",
    "    return True\n",
    "\n",
    "all_users = []\n",
    "\n",
    "all_len = 0\n",
    "\n",
    "for single_game in single_games:\n",
    "    os.chdir(READ_PATH_EXTRACTED_CSV + GW + '/SingleGames/')\n",
    "    dfTweets = csv_dic_df(single_game)\n",
    "    \n",
    "    all_len += len(dfTweets)\n",
    "    \n",
    "    start_time = time.time()\n",
    "    for i in range(len(dfTweets)):\n",
    "        text = dfTweets.loc[i]['text']\n",
    "        user = dfTweets.loc[i]['user']\n",
    "        if CheckText(text) and user not in users.STREAMS:\n",
    "#                 and user not in users.NON_ENGLISH \\\n",
    "#                 and user not in users.BOT:\n",
    "            all_users.append(user)\n",
    "    \n",
    "    print(time.time() - start_time)\n",
    "\n",
    "print(len(all_users), len(set(all_users)))"
   ]
  },
  {
   "cell_type": "code",
   "execution_count": 64,
   "metadata": {
    "collapsed": false
   },
   "outputs": [
    {
     "name": "stdout",
     "output_type": "stream",
     "text": [
      "All User Number:  97315\n",
      "Unique User Number: 46535 (0.48)\n"
     ]
    }
   ],
   "source": [
    "print(\"All User Number: \", len(all_users))\n",
    "print(\"Unique User Number: %s (%.2f)\" %(len(set(all_users)), len(set(all_users))/len(all_users)))"
   ]
  },
  {
   "cell_type": "code",
   "execution_count": 67,
   "metadata": {
    "collapsed": false
   },
   "outputs": [
    {
     "name": "stdout",
     "output_type": "stream",
     "text": [
      "All Tweet Number:  108605\n",
      "Non Stream Tweet Number: 97315 (0.90)\n"
     ]
    }
   ],
   "source": [
    "print(\"All Tweet Number: \", all_len)\n",
    "print(\"Non Stream Tweet Number: %s (%.2f)\" %(len(all_users), len(all_users)/all_len))"
   ]
  },
  {
   "cell_type": "code",
   "execution_count": 78,
   "metadata": {
    "collapsed": false
   },
   "outputs": [
    {
     "name": "stdout",
     "output_type": "stream",
     "text": [
      "3.050981044769287\n",
      "2.8903889656066895\n",
      "1.5551578998565674\n",
      "6.782724142074585\n",
      "1.4077520370483398\n",
      "3.9271399974823\n",
      "1.6527609825134277\n",
      "7.991448879241943\n",
      "0.6738319396972656\n",
      "1.5576651096343994\n"
     ]
    }
   ],
   "source": [
    "non_stream = 97315\n",
    "\n",
    "all_users = []\n",
    "for single_game in single_games:\n",
    "    os.chdir(READ_PATH_EXTRACTED_CSV + GW + '/SingleGames/')\n",
    "    dfTweets = csv_dic_df(single_game)\n",
    "        \n",
    "    start_time = time.time()\n",
    "    for i in range(len(dfTweets)):\n",
    "        text = dfTweets.loc[i]['text']\n",
    "        user = dfTweets.loc[i]['user']\n",
    "        if CheckText(text) and user not in users.STREAMS \\\n",
    "                    and user not in users.BOT \\\n",
    "                    and user not in users.NON_ENGLISH:\n",
    "            all_users.append(user)\n",
    "    \n",
    "    print(time.time() - start_time)"
   ]
  },
  {
   "cell_type": "code",
   "execution_count": 76,
   "metadata": {
    "collapsed": false
   },
   "outputs": [
    {
     "name": "stdout",
     "output_type": "stream",
     "text": [
      "All Tweet Number:  108605\n",
      "Non Stream Tweet Number: 97315 (0.90)\n",
      "Non Bot & Stream Tweet Number: 96585 (0.89)\n"
     ]
    }
   ],
   "source": [
    "all_tweet = 108605\n",
    "non_bot_stream = len(all_users)\n",
    "print(\"All Tweet Number: \", all_tweet)\n",
    "print(\"Non Stream Tweet Number: %s (%.2f)\" %(non_stream, non_stream/all_tweet))\n",
    "print(\"Non Bot & Stream Tweet Number: %s (%.2f)\" %(non_bot_stream, non_bot_stream/all_tweet))"
   ]
  },
  {
   "cell_type": "code",
   "execution_count": 79,
   "metadata": {
    "collapsed": false
   },
   "outputs": [
    {
     "name": "stdout",
     "output_type": "stream",
     "text": [
      "[('ThoughtsTalks', 207),\n",
      " ('AllSportsGh', 134),\n",
      " ('rima_247', 105),\n",
      " ('Niktheblue94', 100),\n",
      " ('NUFC360', 95),\n",
      " ('bryoshavin', 89),\n",
      " ('SteveStevens47', 80),\n",
      " ('Ryan_Rosee', 79),\n",
      " ('mrunited7', 73),\n",
      " ('ElCoronel22', 70),\n",
      " ('whufc_official', 68),\n",
      " ('AdrianHdzHoyos', 65),\n",
      " ('donein90', 64),\n",
      " ('JordanSollof9', 63),\n",
      " ('ChrisDHWaugh', 62),\n",
      " ('Observer_Owl', 61),\n",
      " ('Eastbridge_SB', 60),\n",
      " ('AchmadAnsharDJR', 59),\n",
      " ('fredomdet', 57),\n",
      " ('worldsoccertalk', 57)]\n"
     ]
    }
   ],
   "source": [
    "import collections\n",
    "from pprint import pprint\n",
    "\n",
    "counter=collections.Counter(all_users)\n",
    "most_common = list(counter.most_common(20))\n",
    "pprint(most_common)\n"
   ]
  },
  {
   "cell_type": "code",
   "execution_count": null,
   "metadata": {
    "collapsed": true
   },
   "outputs": [],
   "source": []
  }
 ],
 "metadata": {
  "kernelspec": {
   "display_name": "Python 3",
   "language": "python",
   "name": "python3"
  },
  "language_info": {
   "codemirror_mode": {
    "name": "ipython",
    "version": 3
   },
   "file_extension": ".py",
   "mimetype": "text/x-python",
   "name": "python",
   "nbconvert_exporter": "python",
   "pygments_lexer": "ipython3",
   "version": "3.4.3"
  }
 },
 "nbformat": 4,
 "nbformat_minor": 0
}
