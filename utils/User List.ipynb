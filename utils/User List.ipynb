{
 "cells": [
  {
   "cell_type": "code",
   "execution_count": 1,
   "metadata": {
    "collapsed": true
   },
   "outputs": [],
   "source": [
    "import os\n",
    "import sys\n",
    "import pandas as pd\n",
    "import time\n",
    "\n",
    "sys.path.append('/Users/Bya/git/predictEPL/config/')\n",
    "sys.path.append('/Users/Bya/git/predictEPL/MyFunctions/')"
   ]
  },
  {
   "cell_type": "code",
   "execution_count": 7,
   "metadata": {
    "collapsed": true
   },
   "outputs": [],
   "source": [
    "from convert_raw_data import FolderFiles\n",
    "from paths import READ_PATH_EXTRACTED_CSV\n",
    "from dataIO import csv_dic_df\n",
    "from fake_tweets import STREAM_TWEETS_TUPLES\n",
    "import users"
   ]
  },
  {
   "cell_type": "code",
   "execution_count": 3,
   "metadata": {
    "collapsed": false
   },
   "outputs": [
    {
     "name": "stdout",
     "output_type": "stream",
     "text": [
      "['Bournemouth_vs_Everton.csv', 'City_vs_Southampton.csv', 'Crystal_vs_Newcastle.csv', 'Leicester_vs_United.csv', 'Liverpool_vs_Swansea.csv', 'Norwich_vs_Arsenal.csv', 'Sunderland_vs_Stoke.csv', 'Tottenham_vs_Chelsea.csv', 'Villa_vs_Watford.csv', 'WestHam_vs_WestBromwich.csv']\n"
     ]
    }
   ],
   "source": [
    "week = 14\n",
    "GW = 'GW' + str(week)\n",
    "\n",
    "single_games = FolderFiles('SingleGames', READ_PATH_EXTRACTED_CSV + GW, '.csv')\n",
    "print(single_games)"
   ]
  },
  {
   "cell_type": "code",
   "execution_count": 8,
   "metadata": {
    "collapsed": false,
    "scrolled": true
   },
   "outputs": [
    {
     "name": "stdout",
     "output_type": "stream",
     "text": [
      "0.9903829097747803\n",
      "3.3595919609069824\n",
      "3.4647841453552246\n",
      "18.783565044403076\n",
      "7.521191120147705\n",
      "4.7830610275268555\n",
      "0.783627986907959\n",
      "3.6539721488952637\n",
      "1.6776070594787598\n",
      "0.9283299446105957\n",
      "138695 67911\n"
     ]
    }
   ],
   "source": [
    "def CheckText(text):\n",
    "    text = text.lower()\n",
    "    for tuples in STREAM_TWEETS_TUPLES:\n",
    "        if tuples[0] in text and tuples[1] in text:\n",
    "            return False\n",
    "    return True\n",
    "\n",
    "all_users = []\n",
    "\n",
    "\n",
    "for single_game in single_games:\n",
    "    os.chdir(READ_PATH_EXTRACTED_CSV + GW + '/SingleGames/')\n",
    "    dfTweets = csv_dic_df(single_game)\n",
    "\n",
    "    start_time = time.time()\n",
    "    for i in range(len(dfTweets)):\n",
    "        text = dfTweets.loc[i]['text']\n",
    "        user = dfTweets.loc[i]['user']\n",
    "        if CheckText(text) and user not in users.STREAMS \\\n",
    "                and user not in users.NON_ENGLISH \\\n",
    "                and user not in users.BOT:\n",
    "            all_users.append(user)\n",
    "    \n",
    "    print(time.time() - start_time)\n",
    "\n",
    "print(len(all_users), len(set(all_users)))"
   ]
  },
  {
   "cell_type": "code",
   "execution_count": 9,
   "metadata": {
    "collapsed": false
   },
   "outputs": [
    {
     "name": "stdout",
     "output_type": "stream",
     "text": [
      "[('musasesay1', 105),\n",
      " ('fifa15reviews', 86),\n",
      " ('zezo2000380479', 85),\n",
      " ('AstonVillaMedia', 85),\n",
      " ('donein90', 84),\n",
      " ('SteveStevens47', 83),\n",
      " ('geesingh1', 77),\n",
      " ('srcntrgt', 76),\n",
      " ('ElCoronel22', 75),\n",
      " ('bryoshavin', 74),\n",
      " ('BarraRaphael', 72),\n",
      " ('kushal_keshav', 71),\n",
      " ('chrisovglyn12', 68),\n",
      " ('NUFC360', 68),\n",
      " ('ChrisDHWaugh', 67),\n",
      " ('WaveyTimz277', 67),\n",
      " ('JordanSollof9', 65),\n",
      " ('JordanW91', 64),\n",
      " ('leman_yoga', 63),\n",
      " ('peelows', 63)]\n"
     ]
    }
   ],
   "source": [
    "import collections\n",
    "from pprint import pprint\n",
    "\n",
    "counter=collections.Counter(all_users)\n",
    "most_common = list(counter.most_common(20))\n",
    "pprint(most_common)\n"
   ]
  },
  {
   "cell_type": "code",
   "execution_count": null,
   "metadata": {
    "collapsed": true
   },
   "outputs": [],
   "source": []
  }
 ],
 "metadata": {
  "kernelspec": {
   "display_name": "Python 3",
   "language": "python",
   "name": "python3"
  },
  "language_info": {
   "codemirror_mode": {
    "name": "ipython",
    "version": 3
   },
   "file_extension": ".py",
   "mimetype": "text/x-python",
   "name": "python",
   "nbconvert_exporter": "python",
   "pygments_lexer": "ipython3",
   "version": "3.4.3"
  }
 },
 "nbformat": 4,
 "nbformat_minor": 0
}
