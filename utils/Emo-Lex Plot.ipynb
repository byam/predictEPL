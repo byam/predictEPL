{
 "cells": [
  {
   "cell_type": "code",
   "execution_count": 23,
   "metadata": {
    "collapsed": false
   },
   "outputs": [
    {
     "name": "stdout",
     "output_type": "stream",
     "text": [
      "Populating the interactive namespace from numpy and matplotlib\n"
     ]
    }
   ],
   "source": [
    "%pylab inline\n",
    "%matplotlib inline\n",
    "\n",
    "import os\n",
    "import sys\n",
    "import time\n",
    "import pandas as pd\n",
    "import csv\n",
    "import random\n",
    "import numpy as np\n",
    "import matplotlib.pyplot as plt\n",
    "import matplotlib.dates as mdates\n",
    "\n",
    "sys.path.append('/Users/Bya/git/predictEPL/config/')\n",
    "sys.path.append('/Users/Bya/git/predictEPL/utils/')\n",
    "sys.path.append('/Users/Bya/git/predictEPL/MyFunctions/')"
   ]
  },
  {
   "cell_type": "code",
   "execution_count": 27,
   "metadata": {
    "collapsed": true
   },
   "outputs": [],
   "source": [
    "from dataIO import GetFilenames, csv_dic_df\n",
    "from converter import toSeconds\n",
    "\n",
    "from useful_methods import EmolexDic\n",
    "from useful_methods import PreprocessingTweet\n",
    "from useful_methods import TweetEmolex\n",
    "\n",
    "from paths import READ_PATH_EXTRACTED_CSV\n",
    "\n",
    "from convert_raw_data import FolderFiles"
   ]
  },
  {
   "cell_type": "code",
   "execution_count": 2,
   "metadata": {
    "collapsed": false
   },
   "outputs": [
    {
     "name": "stdout",
     "output_type": "stream",
     "text": [
      "All Words: 14182\n"
     ]
    }
   ],
   "source": [
    "dic_emolex, dic_emolex_stemmed = EmolexDic()"
   ]
  },
  {
   "cell_type": "code",
   "execution_count": 18,
   "metadata": {
    "collapsed": true
   },
   "outputs": [],
   "source": [
    "def create_minute_dics_emolex(df, side, category, cumulative = False):\n",
    "    minutes = range(120) \n",
    "    dic_minutes = {}\n",
    "\n",
    "    for minute in minutes:    \n",
    "        try:\n",
    "            if cumulative:\n",
    "                dic_minutes[minute] = sum(df[(df['side'] == side) & \\\n",
    "                                                    (df['ith_minute'] < minute + 1)][category])\n",
    "            else:\n",
    "                dic_minutes[minute] = sum(df[(df['side'] == side) & \\\n",
    "                                                    (df['ith_minute'] > minute) & \\\n",
    "                                                    (df['ith_minute'] < minute + 1)][category])\n",
    "        except:\n",
    "            dic_minutes[minute] = 0\n",
    "        \n",
    "    return (dic_minutes)\n",
    "\n",
    "\n",
    "def plot_emolex(home_team, list_dic_minutes, colors, categorys, i_plot, limit=True):\n",
    "\n",
    "    ax = plt.subplot(3,2,i_plot)\n",
    "    if limit:\n",
    "        ax.set_xlim([0, 60])\n",
    "    else:\n",
    "        ax.set_xlim([0, 120])\n",
    "\n",
    "    for i in range(len(list_dic_minutes)):\n",
    "        tweets = tuple(list(list_dic_minutes[i].values()))\n",
    "        plot1 = plt.plot(tweets, label=categorys[i], alpha=0.5, color=colors[i])\n",
    "\n",
    "    \n",
    "    plt.xlabel('Minutes')\n",
    "    plt.ylabel('Emotion Signals')\n",
    "    plt.title('Emotion-Lexicon  (Home Team: %s)'  % home_team)\n",
    "    plt.legend()\n",
    "    plt.tight_layout()\n",
    "\n",
    "\n",
    "def plot_three(df, home_team, away_team):\n",
    "    side = ['home', 'away', 'both']\n",
    "    categorys_neg = ['anger', 'fear', 'disgust', 'sadness', 'surprise']\n",
    "    colors_neg = ['red', 'darkorange', 'darksalmon', 'palegreen', 'darkgreen']\n",
    "    categorys_pos = ['trust', 'joy', 'anticipation']\n",
    "    colors_pos = ['skyblue', 'purple', 'blue']\n",
    "    categorys_sent = ['positive', 'negative']\n",
    "    colors_sent = ['green', 'red']\n",
    "\n",
    "    plt.figure(figsize=(15, 20))\n",
    "\n",
    "    list_dic_minutes = []\n",
    "    for category in categorys_neg:\n",
    "        list_dic_minutes.append(create_minute_dics_emolex(df, side[0], category))\n",
    "    plot_emolex(home_team, list_dic_minutes, colors_neg, categorys_neg, 1, False)\n",
    "\n",
    "    list_dic_minutes = []\n",
    "    for category in categorys_pos:\n",
    "        list_dic_minutes.append(create_minute_dics_emolex(df, side[0], category))\n",
    "    plot_emolex(home_team, list_dic_minutes, colors_pos, categorys_pos, 3, False)\n",
    "\n",
    "\n",
    "    list_dic_minutes = []\n",
    "    for category in categorys_sent:\n",
    "        list_dic_minutes.append(create_minute_dics_emolex(df, side[0], category))\n",
    "    plot_emolex(home_team, list_dic_minutes, colors_sent, categorys_sent, 5, False)\n",
    "\n",
    "    \n",
    "    list_dic_minutes = []\n",
    "    for category in categorys_neg:\n",
    "        list_dic_minutes.append(create_minute_dics_emolex(df, side[1], category))\n",
    "    plot_emolex(away_team, list_dic_minutes, colors_neg, categorys_neg, 2, False)\n",
    "\n",
    "    list_dic_minutes = []\n",
    "    for category in categorys_pos:\n",
    "        list_dic_minutes.append(create_minute_dics_emolex(df, side[1], category))\n",
    "    plot_emolex(away_team, list_dic_minutes, colors_pos, categorys_pos, 4, False)\n",
    "\n",
    "\n",
    "    list_dic_minutes = []\n",
    "    for category in categorys_sent:\n",
    "        list_dic_minutes.append(create_minute_dics_emolex(df, side[1], category))\n",
    "    plot_emolex(away_team, list_dic_minutes, colors_sent, categorys_sent, 6, False)\n",
    "\n",
    "\n",
    "    plt.show()"
   ]
  },
  {
   "cell_type": "code",
   "execution_count": 20,
   "metadata": {
    "collapsed": true
   },
   "outputs": [],
   "source": [
    "# read csv data as dataframe\n",
    "def create_emolex_df(filePath):\n",
    "    home_team = filePath.split(\"_\")[0][5::]\n",
    "    away_team = filePath.split(\"_\")[2][0:-4]\n",
    "\n",
    "    df = csv_dic_df(filePath)\n",
    "\n",
    "    # adding minute column\n",
    "    df['ith_minute'] = [float(ith_minute) for ith_minute in df['ith_minute']]\n",
    "\n",
    "    # adding Emotion-Lexicon columns\n",
    "    df['anger'] = 0\n",
    "    df['fear'] = 0\n",
    "    df['disgust'] = 0\n",
    "    df['sadness'] = 0\n",
    "    df['surprise'] = 0\n",
    "    df['trust'] = 0\n",
    "    df['joy'] = 0\n",
    "    df['anticipation'] = 0\n",
    "    df['positive'] = 0\n",
    "    df['negative'] = 0\n",
    "\n",
    "\n",
    "    # adding emotion-lexicon values to dataframe\n",
    "    for i in range(len(df)):\n",
    "        tweet = df.loc[i]['text']\n",
    "\n",
    "        words, words_stemmed, good_tweet = PreprocessingTweet(tweet)\n",
    "        dic_counted = TweetEmolex(words, words_stemmed, good_tweet)\n",
    "\n",
    "        df.loc[i, 'anger'] = dic_counted['anger']\n",
    "        df.loc[i, 'anticipation'] = dic_counted['anticipation']\n",
    "        df.loc[i, 'disgust'] = dic_counted['disgust']\n",
    "        df.loc[i, 'fear'] = dic_counted['fear']\n",
    "        df.loc[i, 'joy'] = dic_counted['joy']\n",
    "        df.loc[i, 'negative'] = dic_counted['negative']\n",
    "        df.loc[i, 'positive'] = dic_counted['positive']\n",
    "        df.loc[i, 'sadness'] = dic_counted['sadness']\n",
    "        df.loc[i, 'surprise'] = dic_counted['surprise']\n",
    "        df.loc[i, 'trust'] = dic_counted['trust']\n",
    "    \n",
    "    return df"
   ]
  },
  {
   "cell_type": "code",
   "execution_count": 21,
   "metadata": {
    "collapsed": true
   },
   "outputs": [],
   "source": [
    "def calculate_df_emolex(df, side):\n",
    "    dic = {\n",
    "        'anger': [sum(df[df['side'] == side]['anger'])],\n",
    "        'fear': [sum(df[df['side'] == side]['fear'])],\n",
    "        'disgust': [sum(df[df['side'] == side]['disgust'])],\n",
    "        'sadness': [sum(df[df['side'] == side]['sadness'])],\n",
    "        'surprise': [sum(df[df['side'] == side]['surprise'])],\n",
    "        'trust': [sum(df[df['side'] == side]['trust'])],\n",
    "        'joy': [sum(df[df['side'] == side]['joy'])],\n",
    "        'anticipation': [sum(df[df['side'] == side]['anticipation'])]\n",
    "    }\n",
    "    \n",
    "    \n",
    "    dic_sent = {\n",
    "        'positive': [sum(df[df['side'] == side]['positive'])],\n",
    "        'negative': [sum(df[df['side'] == side]['negative'])]\n",
    "    }\n",
    "    \n",
    "    \n",
    "    emolex_sum = float(sum(list(dic.values())))\n",
    "    emolex_sum_sent = float(sum(list(dic_sent.values())))\n",
    "\n",
    "    for key in dic.keys():\n",
    "        dic[key].append(dic[key][0] / emolex_sum)\n",
    "    \n",
    "    for key in dic_sent.keys():\n",
    "        dic_sent[key].append(dic_sent[key][0] / emolex_sum_sent)\n",
    "    \n",
    "    return dic, dic_sent"
   ]
  },
  {
   "cell_type": "code",
   "execution_count": 44,
   "metadata": {
    "collapsed": false
   },
   "outputs": [
    {
     "data": {
      "text/plain": [
       "['Bournemouth_vs_United.csv',\n",
       " 'City_vs_Swansea.csv',\n",
       " 'Crystal_vs_Southampton.csv',\n",
       " 'Liverpool_vs_WestBromwich.csv',\n",
       " 'Norwich_vs_Everton.csv',\n",
       " 'Sunderland_vs_Watford.csv',\n",
       " 'Tottenham_vs_Newcastle.csv',\n",
       " 'Villa_vs_Arsenal.csv',\n",
       " 'WestHam_vs_Stoke.csv']"
      ]
     },
     "execution_count": 44,
     "metadata": {},
     "output_type": "execute_result"
    }
   ],
   "source": [
    "FolderFiles('GW16/SingleGames/', READ_PATH_EXTRACTED_CSV, ends='.csv')"
   ]
  },
  {
   "cell_type": "code",
   "execution_count": 37,
   "metadata": {
    "collapsed": false
   },
   "outputs": [
    {
     "data": {
      "text/plain": [
       "'/Users/Bya/Dropbox/Research/datas/EPL/ExtractedCsvData/'"
      ]
     },
     "execution_count": 37,
     "metadata": {},
     "output_type": "execute_result"
    }
   ],
   "source": [
    "READ_PATH_EXTRACTED_CSV"
   ]
  },
  {
   "cell_type": "code",
   "execution_count": 48,
   "metadata": {
    "collapsed": false
   },
   "outputs": [
    {
     "ename": "KeyError",
     "evalue": "'ith_minute'",
     "output_type": "error",
     "traceback": [
      "\u001b[0;31m---------------------------------------------------------------------------\u001b[0m",
      "\u001b[0;31mKeyError\u001b[0m                                  Traceback (most recent call last)",
      "\u001b[0;32m<ipython-input-48-0d88df12e1e0>\u001b[0m in \u001b[0;36m<module>\u001b[0;34m()\u001b[0m\n\u001b[1;32m     14\u001b[0m     \u001b[0;31m# create df\u001b[0m\u001b[0;34m\u001b[0m\u001b[0;34m\u001b[0m\u001b[0m\n\u001b[1;32m     15\u001b[0m     \u001b[0mos\u001b[0m\u001b[0;34m.\u001b[0m\u001b[0mchdir\u001b[0m\u001b[0;34m(\u001b[0m\u001b[0mREAD_PATH_EXTRACTED_CSV\u001b[0m \u001b[0;34m+\u001b[0m \u001b[0mGW\u001b[0m \u001b[0;34m+\u001b[0m \u001b[0;34m'/SingleGames/'\u001b[0m\u001b[0;34m)\u001b[0m\u001b[0;34m\u001b[0m\u001b[0m\n\u001b[0;32m---> 16\u001b[0;31m     \u001b[0mdf\u001b[0m \u001b[0;34m=\u001b[0m \u001b[0mcreate_emolex_df\u001b[0m\u001b[0;34m(\u001b[0m\u001b[0mfilename\u001b[0m\u001b[0;34m)\u001b[0m\u001b[0;34m\u001b[0m\u001b[0m\n\u001b[0m\u001b[1;32m     17\u001b[0m \u001b[0;34m\u001b[0m\u001b[0m\n\u001b[1;32m     18\u001b[0m     \u001b[0;31m# plots\u001b[0m\u001b[0;34m\u001b[0m\u001b[0;34m\u001b[0m\u001b[0m\n",
      "\u001b[0;32m<ipython-input-20-f2f27cc29b44>\u001b[0m in \u001b[0;36mcreate_emolex_df\u001b[0;34m(filePath)\u001b[0m\n\u001b[1;32m      7\u001b[0m \u001b[0;34m\u001b[0m\u001b[0m\n\u001b[1;32m      8\u001b[0m     \u001b[0;31m# adding minute column\u001b[0m\u001b[0;34m\u001b[0m\u001b[0;34m\u001b[0m\u001b[0m\n\u001b[0;32m----> 9\u001b[0;31m     \u001b[0mdf\u001b[0m\u001b[0;34m[\u001b[0m\u001b[0;34m'ith_minute'\u001b[0m\u001b[0;34m]\u001b[0m \u001b[0;34m=\u001b[0m \u001b[0;34m[\u001b[0m\u001b[0mfloat\u001b[0m\u001b[0;34m(\u001b[0m\u001b[0mith_minute\u001b[0m\u001b[0;34m)\u001b[0m \u001b[0;32mfor\u001b[0m \u001b[0mith_minute\u001b[0m \u001b[0;32min\u001b[0m \u001b[0mdf\u001b[0m\u001b[0;34m[\u001b[0m\u001b[0;34m'ith_minute'\u001b[0m\u001b[0;34m]\u001b[0m\u001b[0;34m]\u001b[0m\u001b[0;34m\u001b[0m\u001b[0m\n\u001b[0m\u001b[1;32m     10\u001b[0m \u001b[0;34m\u001b[0m\u001b[0m\n\u001b[1;32m     11\u001b[0m     \u001b[0;31m# adding Emotion-Lexicon columns\u001b[0m\u001b[0;34m\u001b[0m\u001b[0;34m\u001b[0m\u001b[0m\n",
      "\u001b[0;32m/Users/Bya/.virtualenvs/py3/lib/python3.4/site-packages/pandas/core/frame.py\u001b[0m in \u001b[0;36m__getitem__\u001b[0;34m(self, key)\u001b[0m\n\u001b[1;32m   1912\u001b[0m             \u001b[0;32mreturn\u001b[0m \u001b[0mself\u001b[0m\u001b[0;34m.\u001b[0m\u001b[0m_getitem_multilevel\u001b[0m\u001b[0;34m(\u001b[0m\u001b[0mkey\u001b[0m\u001b[0;34m)\u001b[0m\u001b[0;34m\u001b[0m\u001b[0m\n\u001b[1;32m   1913\u001b[0m         \u001b[0;32melse\u001b[0m\u001b[0;34m:\u001b[0m\u001b[0;34m\u001b[0m\u001b[0m\n\u001b[0;32m-> 1914\u001b[0;31m             \u001b[0;32mreturn\u001b[0m \u001b[0mself\u001b[0m\u001b[0;34m.\u001b[0m\u001b[0m_getitem_column\u001b[0m\u001b[0;34m(\u001b[0m\u001b[0mkey\u001b[0m\u001b[0;34m)\u001b[0m\u001b[0;34m\u001b[0m\u001b[0m\n\u001b[0m\u001b[1;32m   1915\u001b[0m \u001b[0;34m\u001b[0m\u001b[0m\n\u001b[1;32m   1916\u001b[0m     \u001b[0;32mdef\u001b[0m \u001b[0m_getitem_column\u001b[0m\u001b[0;34m(\u001b[0m\u001b[0mself\u001b[0m\u001b[0;34m,\u001b[0m \u001b[0mkey\u001b[0m\u001b[0;34m)\u001b[0m\u001b[0;34m:\u001b[0m\u001b[0;34m\u001b[0m\u001b[0m\n",
      "\u001b[0;32m/Users/Bya/.virtualenvs/py3/lib/python3.4/site-packages/pandas/core/frame.py\u001b[0m in \u001b[0;36m_getitem_column\u001b[0;34m(self, key)\u001b[0m\n\u001b[1;32m   1919\u001b[0m         \u001b[0;31m# get column\u001b[0m\u001b[0;34m\u001b[0m\u001b[0;34m\u001b[0m\u001b[0m\n\u001b[1;32m   1920\u001b[0m         \u001b[0;32mif\u001b[0m \u001b[0mself\u001b[0m\u001b[0;34m.\u001b[0m\u001b[0mcolumns\u001b[0m\u001b[0;34m.\u001b[0m\u001b[0mis_unique\u001b[0m\u001b[0;34m:\u001b[0m\u001b[0;34m\u001b[0m\u001b[0m\n\u001b[0;32m-> 1921\u001b[0;31m             \u001b[0;32mreturn\u001b[0m \u001b[0mself\u001b[0m\u001b[0;34m.\u001b[0m\u001b[0m_get_item_cache\u001b[0m\u001b[0;34m(\u001b[0m\u001b[0mkey\u001b[0m\u001b[0;34m)\u001b[0m\u001b[0;34m\u001b[0m\u001b[0m\n\u001b[0m\u001b[1;32m   1922\u001b[0m \u001b[0;34m\u001b[0m\u001b[0m\n\u001b[1;32m   1923\u001b[0m         \u001b[0;31m# duplicate columns & possible reduce dimensionaility\u001b[0m\u001b[0;34m\u001b[0m\u001b[0;34m\u001b[0m\u001b[0m\n",
      "\u001b[0;32m/Users/Bya/.virtualenvs/py3/lib/python3.4/site-packages/pandas/core/generic.py\u001b[0m in \u001b[0;36m_get_item_cache\u001b[0;34m(self, item)\u001b[0m\n\u001b[1;32m   1088\u001b[0m         \u001b[0mres\u001b[0m \u001b[0;34m=\u001b[0m \u001b[0mcache\u001b[0m\u001b[0;34m.\u001b[0m\u001b[0mget\u001b[0m\u001b[0;34m(\u001b[0m\u001b[0mitem\u001b[0m\u001b[0;34m)\u001b[0m\u001b[0;34m\u001b[0m\u001b[0m\n\u001b[1;32m   1089\u001b[0m         \u001b[0;32mif\u001b[0m \u001b[0mres\u001b[0m \u001b[0;32mis\u001b[0m \u001b[0;32mNone\u001b[0m\u001b[0;34m:\u001b[0m\u001b[0;34m\u001b[0m\u001b[0m\n\u001b[0;32m-> 1090\u001b[0;31m             \u001b[0mvalues\u001b[0m \u001b[0;34m=\u001b[0m \u001b[0mself\u001b[0m\u001b[0;34m.\u001b[0m\u001b[0m_data\u001b[0m\u001b[0;34m.\u001b[0m\u001b[0mget\u001b[0m\u001b[0;34m(\u001b[0m\u001b[0mitem\u001b[0m\u001b[0;34m)\u001b[0m\u001b[0;34m\u001b[0m\u001b[0m\n\u001b[0m\u001b[1;32m   1091\u001b[0m             \u001b[0mres\u001b[0m \u001b[0;34m=\u001b[0m \u001b[0mself\u001b[0m\u001b[0;34m.\u001b[0m\u001b[0m_box_item_values\u001b[0m\u001b[0;34m(\u001b[0m\u001b[0mitem\u001b[0m\u001b[0;34m,\u001b[0m \u001b[0mvalues\u001b[0m\u001b[0;34m)\u001b[0m\u001b[0;34m\u001b[0m\u001b[0m\n\u001b[1;32m   1092\u001b[0m             \u001b[0mcache\u001b[0m\u001b[0;34m[\u001b[0m\u001b[0mitem\u001b[0m\u001b[0;34m]\u001b[0m \u001b[0;34m=\u001b[0m \u001b[0mres\u001b[0m\u001b[0;34m\u001b[0m\u001b[0m\n",
      "\u001b[0;32m/Users/Bya/.virtualenvs/py3/lib/python3.4/site-packages/pandas/core/internals.py\u001b[0m in \u001b[0;36mget\u001b[0;34m(self, item, fastpath)\u001b[0m\n\u001b[1;32m   3100\u001b[0m \u001b[0;34m\u001b[0m\u001b[0m\n\u001b[1;32m   3101\u001b[0m             \u001b[0;32mif\u001b[0m \u001b[0;32mnot\u001b[0m \u001b[0misnull\u001b[0m\u001b[0;34m(\u001b[0m\u001b[0mitem\u001b[0m\u001b[0;34m)\u001b[0m\u001b[0;34m:\u001b[0m\u001b[0;34m\u001b[0m\u001b[0m\n\u001b[0;32m-> 3102\u001b[0;31m                 \u001b[0mloc\u001b[0m \u001b[0;34m=\u001b[0m \u001b[0mself\u001b[0m\u001b[0;34m.\u001b[0m\u001b[0mitems\u001b[0m\u001b[0;34m.\u001b[0m\u001b[0mget_loc\u001b[0m\u001b[0;34m(\u001b[0m\u001b[0mitem\u001b[0m\u001b[0;34m)\u001b[0m\u001b[0;34m\u001b[0m\u001b[0m\n\u001b[0m\u001b[1;32m   3103\u001b[0m             \u001b[0;32melse\u001b[0m\u001b[0;34m:\u001b[0m\u001b[0;34m\u001b[0m\u001b[0m\n\u001b[1;32m   3104\u001b[0m                 \u001b[0mindexer\u001b[0m \u001b[0;34m=\u001b[0m \u001b[0mnp\u001b[0m\u001b[0;34m.\u001b[0m\u001b[0marange\u001b[0m\u001b[0;34m(\u001b[0m\u001b[0mlen\u001b[0m\u001b[0;34m(\u001b[0m\u001b[0mself\u001b[0m\u001b[0;34m.\u001b[0m\u001b[0mitems\u001b[0m\u001b[0;34m)\u001b[0m\u001b[0;34m)\u001b[0m\u001b[0;34m[\u001b[0m\u001b[0misnull\u001b[0m\u001b[0;34m(\u001b[0m\u001b[0mself\u001b[0m\u001b[0;34m.\u001b[0m\u001b[0mitems\u001b[0m\u001b[0;34m)\u001b[0m\u001b[0;34m]\u001b[0m\u001b[0;34m\u001b[0m\u001b[0m\n",
      "\u001b[0;32m/Users/Bya/.virtualenvs/py3/lib/python3.4/site-packages/pandas/core/index.py\u001b[0m in \u001b[0;36mget_loc\u001b[0;34m(self, key, method, tolerance)\u001b[0m\n\u001b[1;32m   1690\u001b[0m                 raise ValueError('tolerance argument only valid if using pad, '\n\u001b[1;32m   1691\u001b[0m                                  'backfill or nearest lookups')\n\u001b[0;32m-> 1692\u001b[0;31m             \u001b[0;32mreturn\u001b[0m \u001b[0mself\u001b[0m\u001b[0;34m.\u001b[0m\u001b[0m_engine\u001b[0m\u001b[0;34m.\u001b[0m\u001b[0mget_loc\u001b[0m\u001b[0;34m(\u001b[0m\u001b[0m_values_from_object\u001b[0m\u001b[0;34m(\u001b[0m\u001b[0mkey\u001b[0m\u001b[0;34m)\u001b[0m\u001b[0;34m)\u001b[0m\u001b[0;34m\u001b[0m\u001b[0m\n\u001b[0m\u001b[1;32m   1693\u001b[0m \u001b[0;34m\u001b[0m\u001b[0m\n\u001b[1;32m   1694\u001b[0m         indexer = self.get_indexer([key], method=method,\n",
      "\u001b[0;32mpandas/index.pyx\u001b[0m in \u001b[0;36mpandas.index.IndexEngine.get_loc (pandas/index.c:3979)\u001b[0;34m()\u001b[0m\n",
      "\u001b[0;32mpandas/index.pyx\u001b[0m in \u001b[0;36mpandas.index.IndexEngine.get_loc (pandas/index.c:3843)\u001b[0;34m()\u001b[0m\n",
      "\u001b[0;32mpandas/hashtable.pyx\u001b[0m in \u001b[0;36mpandas.hashtable.PyObjectHashTable.get_item (pandas/hashtable.c:12265)\u001b[0;34m()\u001b[0m\n",
      "\u001b[0;32mpandas/hashtable.pyx\u001b[0m in \u001b[0;36mpandas.hashtable.PyObjectHashTable.get_item (pandas/hashtable.c:12216)\u001b[0;34m()\u001b[0m\n",
      "\u001b[0;31mKeyError\u001b[0m: 'ith_minute'"
     ]
    }
   ],
   "source": [
    "game_key = 1\n",
    "for filename in filenames[0:1]:\n",
    "    home_team = filename.split(\"_\")[0][5::]\n",
    "    away_team = filename.split(\"_\")[2][0:-4]\n",
    "    \n",
    "    start = time.time()\n",
    "\n",
    "    # create df\n",
    "    os.chdir(READ_PATH_EXTRACTED_CSV + GW + '/SingleGames/')\n",
    "    df = create_emolex_df(filename)\n",
    "\n",
    "    # plots\n",
    "    plot_three(df, home_team, away_team)\n",
    "\n",
    "    # time\n",
    "    print(\"\\n[Time]: %s\" % (time.time() - start))\n",
    "\n",
    "    # games\n",
    "    print(\"================================\")\n",
    "    print(\"\\n[Game]: %s vs %s\" % (home_team, away_team))\n",
    "\n",
    "    # calculated dics\n",
    "    dic_home, dic_sent_home = calculate_df_emolex(df, 'home')\n",
    "    dic_away, dic_sent_away = calculate_df_emolex(df, 'away')\n",
    "\n",
    "    print(\"\\n\\n\\n******[Emotions]******\")\n",
    "    print(\"---------------------------------------------------\")\n",
    "    print(\"    CATEGORY \\t\\t HOME TEAM \\t AWAY TEAM\")\n",
    "    for key in dic_home.keys():\n",
    "        print(\"---------------------------------------------------\")\n",
    "        print(\"%12s \\t\\t %.0f (%.2f) \\t %.0f (%.2f)\" % (key, dic_home[key][0], dic_home[key][1], \n",
    "                                     dic_away[key][0], dic_away[key][1]))\n",
    "\n",
    "    print(\"\\n\\n\\n******[Sentiment]******\")\n",
    "    print(\"---------------------------------------------------\")\n",
    "    print(\"    CATEGORY \\t\\t HOME TEAM \\t AWAY TEAM\")\n",
    "    for key in dic_sent_home.keys():\n",
    "        print(\"---------------------------------------------------\")\n",
    "        print(\"%12s \\t\\t %.0f (%.2f) \\t %.0f (%.2f)\" % (key, dic_sent_home[key][0], dic_sent_home[key][1], \n",
    "                                     dic_sent_away[key][0], dic_sent_away[key][1]))"
   ]
  }
 ],
 "metadata": {
  "kernelspec": {
   "display_name": "Python 3",
   "language": "python",
   "name": "python3"
  },
  "language_info": {
   "codemirror_mode": {
    "name": "ipython",
    "version": 3
   },
   "file_extension": ".py",
   "mimetype": "text/x-python",
   "name": "python",
   "nbconvert_exporter": "python",
   "pygments_lexer": "ipython3",
   "version": "3.4.3"
  }
 },
 "nbformat": 4,
 "nbformat_minor": 0
}
