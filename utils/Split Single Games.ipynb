{
 "cells": [
  {
   "cell_type": "code",
   "execution_count": 1,
   "metadata": {
    "collapsed": false
   },
   "outputs": [],
   "source": [
    "import os\n",
    "import sys\n",
    "import pandas as pd\n",
    "\n",
    "sys.path.append('/Users/Bya/git/predictEPL/config/')\n",
    "\n",
    "from games import GAMES\n",
    "from csv_files import FILES\n",
    "from hash_tags import HashTags\n",
    "from paths import READ_PATH_EXTRACTED_CSV\n",
    "from paths import SAVE_PATH_SINGLE_GAME"
   ]
  },
  {
   "cell_type": "code",
   "execution_count": 2,
   "metadata": {
    "collapsed": true
   },
   "outputs": [],
   "source": [
    "# save df to csv file.\n",
    "def DFtoCSV(df, pathToSave, fileName, index=True):\n",
    "    if not os.path.exists(pathToSave):\n",
    "        os.makedirs(pathToSave)\n",
    "\n",
    "    os.chdir(pathToSave)\n",
    "\n",
    "    df.to_csv(fileName + '.csv', sep=',', encoding='utf-8', index=index)\n",
    "\n",
    "\n",
    "def WhichSide(tags, tags_home, tags_away):\n",
    "    tags = list(map(lambda tag: '#' + tag.lower(), tags))\n",
    "    if set(tags).intersection(tags_home) and set(tags).intersection(tags_away):\n",
    "        return 'both'\n",
    "    elif set(tags).intersection(tags_home):\n",
    "        return 'home'\n",
    "    elif set(tags).intersection(tags_away):\n",
    "        return 'away'\n",
    "    else:\n",
    "        return 'nothing'\n",
    "\n",
    "\n",
    "def SplitSingleGameAndSave(file_name, teams, GW):\n",
    "    # teams\n",
    "    home_team = teams[0]\n",
    "    away_team = teams[1]\n",
    "\n",
    "    # both team hashtags\n",
    "    tags_home = HashTags.dic[home_team]\n",
    "    tags_away = HashTags.dic[away_team]\n",
    "\n",
    "    # read file as dataframe, and add 'side' column that shows which team's tweet it is\n",
    "    os.chdir(READ_PATH_EXTRACTED_CSV + GW)\n",
    "    dfTweets = pd.read_csv(file_name, header=None, names=['date', 'text', 'tags', 'user', 'status'])\n",
    "    dfTweets['side'] = [WhichSide(str(tags).split(','), tags_home, tags_away) for tags in dfTweets['tags']]\n",
    "\n",
    "    # count tweets\n",
    "    sides = ['home', 'away', 'both', 'nothing']\n",
    "    numSides = map(lambda side: (side, len(dfTweets[dfTweets[\"side\"] == side])), sides)\n",
    "    print(\"\\n %s vs %s :\\n\" % (home_team, away_team))\n",
    "    print(list(numSides))\n",
    "\n",
    "    dfHomeAwayTweets = dfTweets[(dfTweets[\"side\"] == 'home') | (dfTweets[\"side\"] == 'away') | (dfTweets[\"side\"] == 'both')]\n",
    "    dfHomeAwayTweets = pd.DataFrame(dfHomeAwayTweets.values, range(len(dfHomeAwayTweets)), dfHomeAwayTweets.columns)\n",
    "\n",
    "    DFtoCSV(dfHomeAwayTweets, SAVE_PATH_SINGLE_GAME + GW + '/SingleGames/', home_team + \"_vs_\" + away_team, False)"
   ]
  },
  {
   "cell_type": "code",
   "execution_count": 3,
   "metadata": {
    "collapsed": true
   },
   "outputs": [],
   "source": [
    "def WeekSplit(week):\n",
    "    GW = 'GW' + str(week)\n",
    "\n",
    "    week_games = GAMES[GW]\n",
    "    week_files = FILES[GW]\n",
    "\n",
    "    for i in range(len(week_games)):\n",
    "        SplitSingleGameAndSave(week_files[i], week_games[i], GW)"
   ]
  },
  {
   "cell_type": "code",
   "execution_count": null,
   "metadata": {
    "collapsed": false
   },
   "outputs": [],
   "source": [
    "WeekSplit(5)"
   ]
  }
 ],
 "metadata": {
  "kernelspec": {
   "display_name": "Python 3",
   "language": "python",
   "name": "python3"
  },
  "language_info": {
   "codemirror_mode": {
    "name": "ipython",
    "version": 3
   },
   "file_extension": ".py",
   "mimetype": "text/x-python",
   "name": "python",
   "nbconvert_exporter": "python",
   "pygments_lexer": "ipython3",
   "version": "3.4.3"
  }
 },
 "nbformat": 4,
 "nbformat_minor": 0
}
