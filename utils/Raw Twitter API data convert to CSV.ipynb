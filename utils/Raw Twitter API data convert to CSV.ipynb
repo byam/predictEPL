{
 "cells": [
  {
   "cell_type": "code",
   "execution_count": 1,
   "metadata": {
    "collapsed": true
   },
   "outputs": [],
   "source": [
    "import os\n",
    "import sys\n",
    "import json\n",
    "import csv\n",
    "import time"
   ]
  },
  {
   "cell_type": "code",
   "execution_count": 5,
   "metadata": {
    "collapsed": true
   },
   "outputs": [],
   "source": [
    "RAW_DATA_PATH = \"/Users/Bya/Dropbox/Research/datas/EPL/TwitterRawJsonData/\"\n",
    "SAVE_DATA_PATH = \"/Users/Bya/Dropbox/Research/datas/EPL/ExtractedCsvData/\""
   ]
  },
  {
   "cell_type": "code",
   "execution_count": 2,
   "metadata": {
    "collapsed": true
   },
   "outputs": [],
   "source": [
    "# Return Directory's file names\n",
    "def FolderFiles(folder, directory, ends='.txt'):\n",
    "    os.chdir(directory)\n",
    "    for folderName, subFolders, fileNames in os.walk(folder):\n",
    "        fileNames = filter(lambda filename: filename.endswith(ends), fileNames)\n",
    "        return list(fileNames)"
   ]
  },
  {
   "cell_type": "code",
   "execution_count": 3,
   "metadata": {
    "collapsed": true
   },
   "outputs": [],
   "source": [
    "# Filtering Twitter API\n",
    "# date, text, tags, user, status\n",
    "def FilterTweet(tweet):\n",
    "    date = tweet['created_at']\n",
    "    text = tweet['text']\n",
    "    tags = list(map(lambda tag: tag['text'],\n",
    "               tweet['entities']['hashtags']))\n",
    "    user = tweet[\"user\"][\"screen_name\"]\n",
    "    status = 'tweet'\n",
    "\n",
    "    if 'retweeted_status' in tweet:\n",
    "        retweeted = tweet['retweeted_status']\n",
    "        text = retweeted['text']\n",
    "        tags = list(map(lambda tag: tag['text'],\n",
    "           retweeted['entities']['hashtags']))\n",
    "        status = 'retweet'\n",
    "\n",
    "    elif 'quoted_status' in tweet:\n",
    "        quoted = tweet['quoted_status']\n",
    "        text = text + '. ' + quoted['text']\n",
    "        qt_tags = list(map(lambda tag: tag['text'],\n",
    "           quoted['entities']['hashtags']))\n",
    "        tags = list(set(tags + qt_tags))\n",
    "        status = 'quoted'\n",
    "    \n",
    "    tweet_list = [\n",
    "        date,\n",
    "        text,\n",
    "        ','.join(map(lambda tag: tag.lower(), tags)),\n",
    "        user,\n",
    "        status\n",
    "    ]\n",
    "    \n",
    "    return tweet_list"
   ]
  },
  {
   "cell_type": "code",
   "execution_count": 4,
   "metadata": {
    "collapsed": true
   },
   "outputs": [],
   "source": [
    "def SaveListAppendToCSV(path_to_save, file_name, my_list):\n",
    "    if not os.path.exists(path_to_save):\n",
    "        os.makedirs(path_to_save)\n",
    "    os.chdir(path_to_save)\n",
    "    \n",
    "    with open(file_name[:-4] + '.csv', 'a') as file:\n",
    "        wr = csv.writer(file, quoting=csv.QUOTE_ALL)\n",
    "        wr.writerow(my_list)"
   ]
  },
  {
   "cell_type": "code",
   "execution_count": 7,
   "metadata": {
    "collapsed": true
   },
   "outputs": [],
   "source": [
    "def ReadTextLineByLine(file_name, directory):\n",
    "    os.chdir(directory)\n",
    "    \n",
    "    with open(file_name) as file:\n",
    "        tweets = (line.rstrip() for line in file)\n",
    "\n",
    "        # removing blank lines\n",
    "        tweets = list(line for line in tweets if line)\n",
    "    \n",
    "    return tweets"
   ]
  },
  {
   "cell_type": "code",
   "execution_count": 6,
   "metadata": {
    "collapsed": false
   },
   "outputs": [],
   "source": [
    "def RawTweetFilterToCSV(week):\n",
    "    week_folder = 'GW' + str(week)\n",
    "    week_files = FolderFiles(week_folder, RAW_DATA_PATH)\n",
    "\n",
    "    os.chdir(RAW_DATA_PATH + week_folder)\n",
    "\n",
    "    for file_name in week_files:\n",
    "        start_time = time.time()\n",
    "        \n",
    "        path_to_read = RAW_DATA_PATH + week_folder\n",
    "        tweets = ReadTextLineByLine(file_name, path_to_read)\n",
    "\n",
    "        for i in range(len(tweets)):\n",
    "            try:\n",
    "                tweet_all = json.loads(tweets[i])\n",
    "                tweet_list = FilterTweet(tweet_all)\n",
    "\n",
    "                path_to_save = SAVE_DATA_PATH + week_folder\n",
    "                SaveListAppendToCSV(path_to_save, file_name, tweet_list)\n",
    "\n",
    "            except ValueError:\n",
    "                continue\n",
    "            except KeyError:\n",
    "                continue\n",
    "\n",
    "        print(\"[Converting Done]: %s (%.2f sec)\" % (file_name, time.time() - start_time))"
   ]
  },
  {
   "cell_type": "code",
   "execution_count": 8,
   "metadata": {
    "collapsed": false
   },
   "outputs": [
    {
     "name": "stdout",
     "output_type": "stream",
     "text": [
      "[Converting Done]: 1508292045_NUFCvsARSENAL_json.txt (5.63 sec)\n",
      "[Converting Done]: 1508292300_6matches_json.txt (9.93 sec)\n",
      "[Converting Done]: 1508302130_SAINTSvsNCFC_json.txt (2.18 sec)\n",
      "[Converting Done]: 1508310000_SWANSvsMUFC_json.txt (10.35 sec)\n"
     ]
    }
   ],
   "source": [
    "RawTweetFilterToCSV(4)"
   ]
  }
 ],
 "metadata": {
  "kernelspec": {
   "display_name": "Python 3",
   "language": "python",
   "name": "python3"
  },
  "language_info": {
   "codemirror_mode": {
    "name": "ipython",
    "version": 3
   },
   "file_extension": ".py",
   "mimetype": "text/x-python",
   "name": "python",
   "nbconvert_exporter": "python",
   "pygments_lexer": "ipython3",
   "version": "3.4.3"
  }
 },
 "nbformat": 4,
 "nbformat_minor": 0
}
