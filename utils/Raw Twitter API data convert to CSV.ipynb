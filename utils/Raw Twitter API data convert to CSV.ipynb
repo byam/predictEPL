{
 "cells": [
  {
   "cell_type": "code",
   "execution_count": 1,
   "metadata": {
    "collapsed": true
   },
   "outputs": [],
   "source": [
    "import os\n",
    "import sys\n",
    "import json\n",
    "import csv\n",
    "import time\n",
    "import codecs"
   ]
  },
  {
   "cell_type": "code",
   "execution_count": 2,
   "metadata": {
    "collapsed": true
   },
   "outputs": [],
   "source": [
    "# Return Directory's file names\n",
    "def FolderFiles(folder, directory):\n",
    "    os.chdir(directory)\n",
    "    for folderName, subFolders, fileNames in os.walk(folder):\n",
    "        fileNames = filter(lambda filename: filename.endswith('.txt'), fileNames)\n",
    "        return list(fileNames)"
   ]
  },
  {
   "cell_type": "code",
   "execution_count": 3,
   "metadata": {
    "collapsed": true
   },
   "outputs": [],
   "source": [
    "# Filtering Twitter API\n",
    "# date, text, tags, user, status\n",
    "def FilterTweet(tweet):\n",
    "    date = tweet['created_at']\n",
    "    text = tweet['text']\n",
    "    tags = list(map(lambda tag: tag['text'],\n",
    "               tweet['entities']['hashtags']))\n",
    "    user = tweet[\"user\"][\"screen_name\"]\n",
    "    status = 'tweet'\n",
    "\n",
    "    if 'retweeted_status' in tweet:\n",
    "        retweeted = tweet['retweeted_status']\n",
    "        text = retweeted['text']\n",
    "        tags = list(map(lambda tag: tag['text'],\n",
    "           retweeted['entities']['hashtags']))\n",
    "        status = 'retweet'\n",
    "\n",
    "    elif 'quoted_status' in tweet:\n",
    "        quoted = tweet['quoted_status']\n",
    "        text = text + '. ' + quoted['text']\n",
    "        qt_tags = list(map(lambda tag: tag['text'],\n",
    "           quoted['entities']['hashtags']))\n",
    "        tags = list(set(tags + qt_tags))\n",
    "        status = 'quoted'\n",
    "    \n",
    "    tweet_list = [\n",
    "        date,\n",
    "        text,\n",
    "        ','.join(map(lambda tag: tag.lower(), tags)),\n",
    "        user,\n",
    "        status\n",
    "    ]\n",
    "    \n",
    "    return tweet_list"
   ]
  },
  {
   "cell_type": "code",
   "execution_count": 4,
   "metadata": {
    "collapsed": true
   },
   "outputs": [],
   "source": [
    "def SaveListAppendToCSV(path_to_save, file_name, my_list):\n",
    "    if not os.path.exists(path_to_save):\n",
    "        os.makedirs(path_to_save)\n",
    "    os.chdir(path_to_save)\n",
    "    \n",
    "    with open(file_name[:-4] + '.csv', 'a') as file:\n",
    "        wr = csv.writer(file, quoting=csv.QUOTE_ALL)\n",
    "        wr.writerow(my_list)"
   ]
  },
  {
   "cell_type": "code",
   "execution_count": 5,
   "metadata": {
    "collapsed": true
   },
   "outputs": [],
   "source": [
    "RAW_DATA_PATH = \"/Users/Bya/Dropbox/Research/datas/EPL/TwitterRawJsonData/\"\n",
    "SAVE_DATA_PATH = \"/Users/Bya/Dropbox/Research/datas/EPL/ExtractedCsvData/\""
   ]
  },
  {
   "cell_type": "code",
   "execution_count": 6,
   "metadata": {
    "collapsed": false
   },
   "outputs": [],
   "source": [
    "def RawTweetFilterToCSV(week):\n",
    "    week_folder = 'GW' + str(week)\n",
    "    week_files = FolderFiles(week_folder, RAW_DATA_PATH)\n",
    "\n",
    "    os.chdir(RAW_DATA_PATH + week_folder)\n",
    "\n",
    "    for file_name in week_files:\n",
    "        start_time = time.time()\n",
    "        \n",
    "        path_to_read = RAW_DATA_PATH + week_folder\n",
    "        tweets = ReadTextLineByLine(file_name, path_to_read)\n",
    "\n",
    "        for i in range(len(tweets)):\n",
    "            try:\n",
    "                tweet_all = json.loads(tweets[i])\n",
    "                tweet_list = FilterTweet(tweet_all)\n",
    "\n",
    "                path_to_save = SAVE_DATA_PATH + week_folder\n",
    "                SaveListAppendToCSV(path_to_save, file_name, tweet_list)\n",
    "\n",
    "            except ValueError:\n",
    "                continue\n",
    "            except KeyError:\n",
    "                continue\n",
    "\n",
    "        print(\"[Converting Done]: %s (%.2f sec)\" % (file_name, time.time() - start_time))"
   ]
  },
  {
   "cell_type": "code",
   "execution_count": 7,
   "metadata": {
    "collapsed": true
   },
   "outputs": [],
   "source": [
    "def ReadTextLineByLine(file_name, directory):\n",
    "    os.chdir(directory)\n",
    "    \n",
    "    with open(file_name) as file:\n",
    "        tweets = (line.rstrip() for line in file)\n",
    "\n",
    "        # removing blank lines\n",
    "        tweets = list(line for line in tweets if line)\n",
    "    \n",
    "    return tweets"
   ]
  },
  {
   "cell_type": "code",
   "execution_count": 8,
   "metadata": {
    "collapsed": false
   },
   "outputs": [
    {
     "name": "stdout",
     "output_type": "stream",
     "text": [
      "[Converting Done]: 1508292045_NUFCvsARSENAL_json.txt (5.63 sec)\n",
      "[Converting Done]: 1508292300_6matches_json.txt (9.93 sec)\n",
      "[Converting Done]: 1508302130_SAINTSvsNCFC_json.txt (2.18 sec)\n",
      "[Converting Done]: 1508310000_SWANSvsMUFC_json.txt (10.35 sec)\n"
     ]
    }
   ],
   "source": [
    "RawTweetFilterToCSV(4)"
   ]
  },
  {
   "cell_type": "code",
   "execution_count": 10,
   "metadata": {
    "collapsed": false
   },
   "outputs": [
    {
     "name": "stdout",
     "output_type": "stream",
     "text": [
      "[Converting Done]: 1508292045_NUFCvsARSENAL_json.txt (5.59 sec)\n",
      "[Converting Done]: 1508292300_6matches_json.txt (10.50 sec)\n",
      "[Converting Done]: 1508302130_SAINTSvsNCFC_json.txt (1.93 sec)\n",
      "[Converting Done]: 1508310000_SWANSvsMUFC_json.txt (10.58 sec)\n",
      "[Converting Done]: 1509122045_EFCvsCFC_json.txt (9.74 sec)\n",
      "[Converting Done]: 1509122300_5matches_json.txt (8.16 sec)\n",
      "[Converting Done]: 1509130130_MUFCvsLFC_json.txt (16.86 sec)\n",
      "[Converting Done]: 1509132130_SAFCvsCOYS_json.txt (1.73 sec)\n",
      "[Converting Done]: 15091400_LCFCvsAVFC_json.txt (2.79 sec)\n",
      "[Converting Done]: 1509150400_WHUFCvsNUFC_json.txt (2.35 sec)\n",
      "[Converting Done]: 1509192045_CFCvsARSENAL_json.txt (7.38 sec)\n",
      "[Converting Done]: 1509192300_5matches_json.txt (6.03 sec)\n",
      "[Converting Done]: 1509200130_MCFCvsWHU_json.txt (4.79 sec)\n",
      "[Converting Done]: 1509202130_COYSvsCPFC_json.txt (1.01 sec)\n",
      "[Converting Done]: 1509210000_2matches_json.txt (20.17 sec)\n",
      "[Converting Done]: 1509262045_COYSvsMCFC_json.txt (6.04 sec)\n",
      "[Converting Done]: 1509262300_6matches_json.txt (17.89 sec)\n",
      "[Converting Done]: 1509270130_NUFCvsCFC_json.txt (4.88 sec)\n",
      "[Converting Done]: 1509280000_WATFORDvsCPFC_json.txt (0.18 sec)\n",
      "[Converting Done]: 1509290400_WBAvsEFC_json.txt (0.86 sec)\n",
      "[Converting Done]: game1_json.txt (1.99 sec)\n",
      "[Converting Done]: game2_6_json.txt (17.48 sec)\n",
      "[Converting Done]: game7_json.txt (11.74 sec)\n",
      "[Converting Done]: game8_json.txt (11.00 sec)\n",
      "[Converting Done]: game9_10_json.txt (38.15 sec)\n",
      "[Converting Done]: game1.txt (10.40 sec)\n",
      "[Converting Done]: game10.txt (0.68 sec)\n",
      "[Converting Done]: game2_7.txt (38.76 sec)\n",
      "[Converting Done]: game8.txt (6.33 sec)\n",
      "[Converting Done]: game9.txt (6.35 sec)\n",
      "[Converting Done]: game10.txt (6.78 sec)\n",
      "[Converting Done]: game1_5.txt (13.26 sec)\n",
      "[Converting Done]: game6.txt (5.00 sec)\n",
      "[Converting Done]: game7.txt (3.65 sec)\n",
      "[Converting Done]: game8_9.txt (21.26 sec)\n",
      "[Converting Done]: game1.txt (18.66 sec)\n",
      "[Converting Done]: game10.txt (5.16 sec)\n",
      "[Converting Done]: game2_7.txt (18.54 sec)\n",
      "[Converting Done]: game8.txt (2.41 sec)\n",
      "[Converting Done]: game9.txt (1.53 sec)\n",
      "[Converting Done]: game1.txt (17.94 sec)\n",
      "[Converting Done]: game10.txt (1.40 sec)\n",
      "[Converting Done]: game2_7.txt (15.47 sec)\n",
      "[Converting Done]: game8.txt (26.20 sec)\n",
      "[Converting Done]: game9.txt (6.65 sec)\n",
      "[Converting Done]: game1_5.txt (12.44 sec)\n",
      "[Converting Done]: game6.txt (25.25 sec)\n",
      "[Converting Done]: game7.txt (6.16 sec)\n",
      "[Converting Done]: game8.txt (1.00 sec)\n",
      "[Converting Done]: game9_10.txt (15.58 sec)\n",
      "[Converting Done]: game1.txt (6.83 sec)\n",
      "[Converting Done]: game10.txt (1.86 sec)\n",
      "[Converting Done]: game2_7.txt (19.10 sec)\n",
      "[Converting Done]: game8.txt (5.66 sec)\n",
      "[Converting Done]: game9.txt (7.70 sec)\n"
     ]
    },
    {
     "data": {
      "text/plain": [
       "[None, None, None, None, None, None, None, None, None, None, None]"
      ]
     },
     "execution_count": 10,
     "metadata": {},
     "output_type": "execute_result"
    }
   ],
   "source": [
    "weeks = [4, 5, 6, 7, 8, 9, 10, 11, 13, 14, 15]\n",
    "\n",
    "[RawTweetFilterToCSV(week) for week in weeks]"
   ]
  },
  {
   "cell_type": "code",
   "execution_count": 11,
   "metadata": {
    "collapsed": true
   },
   "outputs": [],
   "source": [
    "# Return Directory's file names\n",
    "def FolderFiles(folder, directory):\n",
    "    os.chdir(directory)\n",
    "    for folderName, subFolders, fileNames in os.walk(folder):\n",
    "        fileNames = filter(lambda filename: filename.endswith('.csv'), fileNames)\n",
    "        return list(fileNames)"
   ]
  },
  {
   "cell_type": "code",
   "execution_count": 24,
   "metadata": {
    "collapsed": false
   },
   "outputs": [
    {
     "data": {
      "text/plain": [
       "['game1.csv', 'game10.csv', 'game2_7.csv', 'game8.csv', 'game9.csv']"
      ]
     },
     "execution_count": 24,
     "metadata": {},
     "output_type": "execute_result"
    }
   ],
   "source": [
    "FolderFiles('GW15', '/Users/Bya/Dropbox/Research/datas/EPL/ExtractedCsvData/')"
   ]
  }
 ],
 "metadata": {
  "kernelspec": {
   "display_name": "Python 3",
   "language": "python",
   "name": "python3"
  },
  "language_info": {
   "codemirror_mode": {
    "name": "ipython",
    "version": 3
   },
   "file_extension": ".py",
   "mimetype": "text/x-python",
   "name": "python",
   "nbconvert_exporter": "python",
   "pygments_lexer": "ipython3",
   "version": "3.4.3"
  }
 },
 "nbformat": 4,
 "nbformat_minor": 0
}
