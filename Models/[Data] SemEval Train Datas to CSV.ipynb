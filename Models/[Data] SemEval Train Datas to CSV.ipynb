{
 "cells": [
  {
   "cell_type": "code",
   "execution_count": 45,
   "metadata": {
    "collapsed": false
   },
   "outputs": [],
   "source": [
    "import sys\n",
    "import os\n",
    "import time\n",
    "import codecs\n",
    "import pandas as pd\n",
    "import random\n",
    "import numpy as np\n",
    "\n",
    "\n",
    "sys.path.append(\"/Users/Bya/git/predictEPL/utils/\")\n",
    "sys.path.append(\"/Users/Bya/git/predictEPL/config/\")\n",
    "\n",
    "import paths\n",
    "import tokenizer\n",
    "import useful_methods"
   ]
  },
  {
   "cell_type": "markdown",
   "metadata": {},
   "source": [
    "### SemEval 2015: B Train Cleansed"
   ]
  },
  {
   "cell_type": "code",
   "execution_count": 2,
   "metadata": {
    "collapsed": false
   },
   "outputs": [
    {
     "data": {
      "text/plain": [
       "['264183816548130816',\n",
       " '15140428',\n",
       " 'positive',\n",
       " \"Gas by my house hit $3.39!!!! I'm going to Chapel Hill on Sat. :)\\n\"]"
      ]
     },
     "execution_count": 2,
     "metadata": {},
     "output_type": "execute_result"
    }
   ],
   "source": [
    "os.chdir(\"/Users/Bya/Dropbox/Research/datas/TweetsPN/\")\n",
    "\n",
    "with open(\"B_cleansed.tsv\") as tweet:\n",
    "    tweets = tweet.readlines()\n",
    "\n",
    "tweets[0].split('\\t')"
   ]
  },
  {
   "cell_type": "code",
   "execution_count": 3,
   "metadata": {
    "collapsed": false
   },
   "outputs": [
    {
     "name": "stdout",
     "output_type": "stream",
     "text": [
      "positive:  2844\n",
      "negative:  1073\n",
      "neutral:  3709\n"
     ]
    },
    {
     "data": {
      "text/html": [
       "<div>\n",
       "<table border=\"1\" class=\"dataframe\">\n",
       "  <thead>\n",
       "    <tr style=\"text-align: right;\">\n",
       "      <th></th>\n",
       "      <th>tweet</th>\n",
       "      <th>sentiment</th>\n",
       "    </tr>\n",
       "  </thead>\n",
       "  <tbody>\n",
       "    <tr>\n",
       "      <th>count</th>\n",
       "      <td>7626</td>\n",
       "      <td>7626</td>\n",
       "    </tr>\n",
       "    <tr>\n",
       "      <th>unique</th>\n",
       "      <td>7626</td>\n",
       "      <td>3</td>\n",
       "    </tr>\n",
       "    <tr>\n",
       "      <th>top</th>\n",
       "      <td>Thanks everybody for the bday wishes!! Gonna h...</td>\n",
       "      <td>neutral</td>\n",
       "    </tr>\n",
       "    <tr>\n",
       "      <th>freq</th>\n",
       "      <td>1</td>\n",
       "      <td>3709</td>\n",
       "    </tr>\n",
       "  </tbody>\n",
       "</table>\n",
       "</div>"
      ],
      "text/plain": [
       "                                                    tweet sentiment\n",
       "count                                                7626      7626\n",
       "unique                                               7626         3\n",
       "top     Thanks everybody for the bday wishes!! Gonna h...   neutral\n",
       "freq                                                    1      3709"
      ]
     },
     "execution_count": 3,
     "metadata": {},
     "output_type": "execute_result"
    }
   ],
   "source": [
    "# Extract Tweet & Labels\n",
    "labels = []\n",
    "texts = []\n",
    "\n",
    "for tweet in tweets:\n",
    "    label = tweet.split('\\t')[2]\n",
    "    text = tweet.split('\\t')[3]\n",
    "    \n",
    "    if text != 'Not Available\\n' and text not in texts:\n",
    "        labels.append(label)\n",
    "        texts.append(text)\n",
    "\n",
    "# Create Dataframe\n",
    "dfTwitterPn = pd.DataFrame(columns=['tweet', 'sentiment'])\n",
    "dfTwitterPn['tweet'] = texts\n",
    "dfTwitterPn['sentiment'] = labels\n",
    "\n",
    "print(\"positive: \", len(dfTwitterPn[dfTwitterPn.sentiment == 'positive']))\n",
    "print(\"negative: \", len(dfTwitterPn[dfTwitterPn.sentiment == 'negative']))\n",
    "print(\"neutral: \", len(dfTwitterPn[dfTwitterPn.sentiment == 'neutral']))\n",
    "\n",
    "dfTwitterPn.describe()"
   ]
  },
  {
   "cell_type": "code",
   "execution_count": 8,
   "metadata": {
    "collapsed": false
   },
   "outputs": [
    {
     "name": "stdout",
     "output_type": "stream",
     "text": [
      "[('neutral', 3709), ('positive', 2844), ('negative', 1073)]\n"
     ]
    }
   ],
   "source": [
    "useful_methods.ShowMostCommon(list(dfTwitterPn['sentiment']))"
   ]
  },
  {
   "cell_type": "code",
   "execution_count": 9,
   "metadata": {
    "collapsed": true
   },
   "outputs": [],
   "source": [
    "useful_methods.DFtoCSV(dfTwitterPn, \"/Users/Bya/Dropbox/Research/datas/TweetsPN/\", \"tweets_pn(SemEval2013Task2)\", index=False)"
   ]
  },
  {
   "cell_type": "markdown",
   "metadata": {},
   "source": [
    "### SemEval 2015: A Train Cleansed"
   ]
  },
  {
   "cell_type": "code",
   "execution_count": null,
   "metadata": {
    "collapsed": false
   },
   "outputs": [],
   "source": [
    "os.chdir(\"/Users/Bya/Dropbox/Research/datas/TweetsPN/\")\n",
    "\n",
    "with open(\"A_cleansed.tsv\") as tweet:\n",
    "    tweets = tweet.readlines()\n",
    "\n",
    "tweets[0].split('\\t')"
   ]
  },
  {
   "cell_type": "code",
   "execution_count": null,
   "metadata": {
    "collapsed": false
   },
   "outputs": [],
   "source": [
    "\" \".join(tweets[0].split('\\t')[-1].split()[1:3])"
   ]
  },
  {
   "cell_type": "code",
   "execution_count": null,
   "metadata": {
    "collapsed": false
   },
   "outputs": [],
   "source": [
    "# Extract Tweet & Labels\n",
    "labels = []\n",
    "texts = []\n",
    "start_tokens = []\n",
    "end_tokens = []\n",
    "words = []\n",
    "\n",
    "for tweet in tweets:\n",
    "    start_token = tweet.split('\\t')[2]\n",
    "    end_token = tweet.split('\\t')[3]\n",
    "    label = tweet.split('\\t')[4]\n",
    "    text = tweet.split('\\t')[5]\n",
    "    \n",
    "    if text != 'Not Available\\n':\n",
    "        labels.append(label)\n",
    "        texts.append(text)\n",
    "        start_tokens.append(start_token)\n",
    "        end_tokens.append(end_token)\n",
    "        \n",
    "        word = \" \".join(text.split()[int(start_token):int(end_token) + 1])\n",
    "        words.append(word)\n",
    "\n",
    "# Create Dataframe\n",
    "dfTwitterPnWords = pd.DataFrame(columns=['tweet', 'word', 'sentiment'])\n",
    "dfTwitterPnWords['tweet'] = texts\n",
    "dfTwitterPnWords['word'] = words\n",
    "dfTwitterPnWords['sentiment'] = labels\n",
    "\n",
    "dfTwitterPnWords.describe()"
   ]
  },
  {
   "cell_type": "code",
   "execution_count": null,
   "metadata": {
    "collapsed": true
   },
   "outputs": [],
   "source": [
    "useful_methods.DFtoCSV(dfTwitterPnWords, \"/Users/Bya/Dropbox/Research/datas/TweetsPN/\", \"tweets_words_pn(SemEval2013Task2)\", index=False)"
   ]
  },
  {
   "cell_type": "markdown",
   "metadata": {},
   "source": [
    "### SemEval 2016: B,D: Train 100 topic * xxx tweets"
   ]
  },
  {
   "cell_type": "code",
   "execution_count": 10,
   "metadata": {
    "collapsed": false
   },
   "outputs": [
    {
     "data": {
      "text/plain": [
       "['628949369883000832',\n",
       " '@microsoft',\n",
       " 'negative',\n",
       " \"dear @Microsoft the newOoffice for Mac is great and all, but no Lync update? C'mon.\\n\"]"
      ]
     },
     "execution_count": 10,
     "metadata": {},
     "output_type": "execute_result"
    }
   ],
   "source": [
    "os.chdir(\"/Users/Bya/Dropbox/Research/datas/TweetsPN/\")\n",
    "\n",
    "with open(\"BD_train.txt\") as tweet:\n",
    "    tweets = tweet.readlines()\n",
    "\n",
    "tweets[0].split('\\t')"
   ]
  },
  {
   "cell_type": "code",
   "execution_count": 11,
   "metadata": {
    "collapsed": false
   },
   "outputs": [
    {
     "data": {
      "text/html": [
       "<div>\n",
       "<table border=\"1\" class=\"dataframe\">\n",
       "  <thead>\n",
       "    <tr style=\"text-align: right;\">\n",
       "      <th></th>\n",
       "      <th>tweet</th>\n",
       "      <th>topic</th>\n",
       "      <th>sentiment</th>\n",
       "    </tr>\n",
       "  </thead>\n",
       "  <tbody>\n",
       "    <tr>\n",
       "      <th>count</th>\n",
       "      <td>3871</td>\n",
       "      <td>3871</td>\n",
       "      <td>3871</td>\n",
       "    </tr>\n",
       "    <tr>\n",
       "      <th>unique</th>\n",
       "      <td>3871</td>\n",
       "      <td>60</td>\n",
       "      <td>2</td>\n",
       "    </tr>\n",
       "    <tr>\n",
       "      <th>top</th>\n",
       "      <td>London. Spent the afternoon with friends in So...</td>\n",
       "      <td>magic mike xxl</td>\n",
       "      <td>positive</td>\n",
       "    </tr>\n",
       "    <tr>\n",
       "      <th>freq</th>\n",
       "      <td>1</td>\n",
       "      <td>87</td>\n",
       "      <td>3204</td>\n",
       "    </tr>\n",
       "  </tbody>\n",
       "</table>\n",
       "</div>"
      ],
      "text/plain": [
       "                                                    tweet           topic  \\\n",
       "count                                                3871            3871   \n",
       "unique                                               3871              60   \n",
       "top     London. Spent the afternoon with friends in So...  magic mike xxl   \n",
       "freq                                                    1              87   \n",
       "\n",
       "       sentiment  \n",
       "count       3871  \n",
       "unique         2  \n",
       "top     positive  \n",
       "freq        3204  "
      ]
     },
     "execution_count": 11,
     "metadata": {},
     "output_type": "execute_result"
    }
   ],
   "source": [
    "# Extract Tweet & Labels\n",
    "labels = []\n",
    "texts = []\n",
    "topics = []\n",
    "\n",
    "for tweet in tweets:\n",
    "    topic = tweet.split('\\t')[1]\n",
    "    label = tweet.split('\\t')[2]\n",
    "    text = tweet.split('\\t')[3]\n",
    "    \n",
    "    if text != 'Not Available\\n' and text not in texts:\n",
    "        labels.append(label)\n",
    "        texts.append(text)\n",
    "        topics.append(topic)\n",
    "\n",
    "# Create Dataframe\n",
    "dfTwitterTopicPn = pd.DataFrame(columns=['tweet', 'topic', 'sentiment'])\n",
    "dfTwitterTopicPn['tweet'] = texts\n",
    "dfTwitterTopicPn['sentiment'] = labels\n",
    "dfTwitterTopicPn['topic'] = topics\n",
    "\n",
    "dfTwitterTopicPn.describe()"
   ]
  },
  {
   "cell_type": "code",
   "execution_count": 14,
   "metadata": {
    "collapsed": false
   },
   "outputs": [
    {
     "name": "stdout",
     "output_type": "stream",
     "text": [
      "[('positive', 3204), ('negative', 667)]\n"
     ]
    }
   ],
   "source": [
    "useful_methods.ShowMostCommon(list(dfTwitterTopicPn['sentiment']))"
   ]
  },
  {
   "cell_type": "code",
   "execution_count": 15,
   "metadata": {
    "collapsed": true
   },
   "outputs": [],
   "source": [
    "useful_methods.DFtoCSV(dfTwitterTopicPn, \"/Users/Bya/Dropbox/Research/datas/TweetsPN/\", \"tweets_topics_pn(SemEval2016)\", index=False)"
   ]
  },
  {
   "cell_type": "markdown",
   "metadata": {},
   "source": [
    "### SemEval 2016: A: Train 100 topic * 100 tweets. 3 points"
   ]
  },
  {
   "cell_type": "code",
   "execution_count": 21,
   "metadata": {
    "collapsed": false
   },
   "outputs": [
    {
     "data": {
      "text/plain": [
       "['628949369883000832',\n",
       " 'negative',\n",
       " \"dear @Microsoft the newOoffice for Mac is great and all, but no Lync update? C'mon.\\n\"]"
      ]
     },
     "execution_count": 21,
     "metadata": {},
     "output_type": "execute_result"
    }
   ],
   "source": [
    "os.chdir(\"/Users/Bya/Dropbox/Research/datas/TweetsPN/\")\n",
    "\n",
    "with open(\"A_3point_train.txt\") as tweet:\n",
    "    tweets = tweet.readlines()\n",
    "\n",
    "tweets[0].split('\\t')"
   ]
  },
  {
   "cell_type": "code",
   "execution_count": 23,
   "metadata": {
    "collapsed": false
   },
   "outputs": [
    {
     "data": {
      "text/html": [
       "<div>\n",
       "<table border=\"1\" class=\"dataframe\">\n",
       "  <thead>\n",
       "    <tr style=\"text-align: right;\">\n",
       "      <th></th>\n",
       "      <th>tweet</th>\n",
       "      <th>sentiment</th>\n",
       "    </tr>\n",
       "  </thead>\n",
       "  <tbody>\n",
       "    <tr>\n",
       "      <th>count</th>\n",
       "      <td>5344</td>\n",
       "      <td>5344</td>\n",
       "    </tr>\n",
       "    <tr>\n",
       "      <th>unique</th>\n",
       "      <td>5344</td>\n",
       "      <td>3</td>\n",
       "    </tr>\n",
       "    <tr>\n",
       "      <th>top</th>\n",
       "      <td>Misinterpreting Mariah Carey lyrics. Apparentl...</td>\n",
       "      <td>positive</td>\n",
       "    </tr>\n",
       "    <tr>\n",
       "      <th>freq</th>\n",
       "      <td>1</td>\n",
       "      <td>2743</td>\n",
       "    </tr>\n",
       "  </tbody>\n",
       "</table>\n",
       "</div>"
      ],
      "text/plain": [
       "                                                    tweet sentiment\n",
       "count                                                5344      5344\n",
       "unique                                               5344         3\n",
       "top     Misinterpreting Mariah Carey lyrics. Apparentl...  positive\n",
       "freq                                                    1      2743"
      ]
     },
     "execution_count": 23,
     "metadata": {},
     "output_type": "execute_result"
    }
   ],
   "source": [
    "# Extract Tweet & Labels\n",
    "labels = []\n",
    "texts = []\n",
    "\n",
    "for tweet in tweets:\n",
    "    label = tweet.split('\\t')[1]\n",
    "    text = tweet.split('\\t')[2]\n",
    "    \n",
    "    if text != 'Not Available\\n' and text not in texts:\n",
    "        labels.append(label)\n",
    "        texts.append(text)\n",
    "\n",
    "# Create Dataframe\n",
    "dfTwitterPnn = pd.DataFrame(columns=['tweet', 'sentiment'])\n",
    "dfTwitterPnn['tweet'] = texts\n",
    "dfTwitterPnn['sentiment'] = labels\n",
    "\n",
    "dfTwitterPnn.describe()"
   ]
  },
  {
   "cell_type": "code",
   "execution_count": 24,
   "metadata": {
    "collapsed": false
   },
   "outputs": [
    {
     "name": "stdout",
     "output_type": "stream",
     "text": [
      "[('positive', 2743), ('neutral', 1840), ('negative', 761)]\n"
     ]
    }
   ],
   "source": [
    "useful_methods.ShowMostCommon(list(dfTwitterPnn['sentiment']))"
   ]
  },
  {
   "cell_type": "code",
   "execution_count": 25,
   "metadata": {
    "collapsed": true
   },
   "outputs": [],
   "source": [
    "useful_methods.DFtoCSV(dfTwitterPnn, \"/Users/Bya/Dropbox/Research/datas/TweetsPN/\", \"tweets_pnn(SemEval2015)\", index=False)"
   ]
  },
  {
   "cell_type": "markdown",
   "metadata": {},
   "source": [
    "### Tweet PN (SemEval 2013 + SemEval 2016)"
   ]
  },
  {
   "cell_type": "code",
   "execution_count": 16,
   "metadata": {
    "collapsed": false
   },
   "outputs": [
    {
     "name": "stdout",
     "output_type": "stream",
     "text": [
      "positive:  2844\n",
      "negative:  1073\n",
      "neutral:  3709\n"
     ]
    },
    {
     "data": {
      "text/html": [
       "<div>\n",
       "<table border=\"1\" class=\"dataframe\">\n",
       "  <thead>\n",
       "    <tr style=\"text-align: right;\">\n",
       "      <th></th>\n",
       "      <th>tweet</th>\n",
       "      <th>sentiment</th>\n",
       "    </tr>\n",
       "  </thead>\n",
       "  <tbody>\n",
       "    <tr>\n",
       "      <th>count</th>\n",
       "      <td>7626</td>\n",
       "      <td>7626</td>\n",
       "    </tr>\n",
       "    <tr>\n",
       "      <th>unique</th>\n",
       "      <td>7626</td>\n",
       "      <td>3</td>\n",
       "    </tr>\n",
       "    <tr>\n",
       "      <th>top</th>\n",
       "      <td>Thanks everybody for the bday wishes!! Gonna h...</td>\n",
       "      <td>neutral</td>\n",
       "    </tr>\n",
       "    <tr>\n",
       "      <th>freq</th>\n",
       "      <td>1</td>\n",
       "      <td>3709</td>\n",
       "    </tr>\n",
       "  </tbody>\n",
       "</table>\n",
       "</div>"
      ],
      "text/plain": [
       "                                                    tweet sentiment\n",
       "count                                                7626      7626\n",
       "unique                                               7626         3\n",
       "top     Thanks everybody for the bday wishes!! Gonna h...   neutral\n",
       "freq                                                    1      3709"
      ]
     },
     "execution_count": 16,
     "metadata": {},
     "output_type": "execute_result"
    }
   ],
   "source": [
    "print(\"positive: \", len(dfTwitterPn[dfTwitterPn.sentiment == 'positive']))\n",
    "print(\"negative: \", len(dfTwitterPn[dfTwitterPn.sentiment == 'negative']))\n",
    "print(\"neutral: \", len(dfTwitterPn[dfTwitterPn.sentiment == 'neutral']))\n",
    "\n",
    "dfTwitterPn.describe()"
   ]
  },
  {
   "cell_type": "code",
   "execution_count": 17,
   "metadata": {
    "collapsed": false
   },
   "outputs": [
    {
     "name": "stdout",
     "output_type": "stream",
     "text": [
      "positive:  3204\n",
      "negative:  667\n"
     ]
    },
    {
     "data": {
      "text/html": [
       "<div>\n",
       "<table border=\"1\" class=\"dataframe\">\n",
       "  <thead>\n",
       "    <tr style=\"text-align: right;\">\n",
       "      <th></th>\n",
       "      <th>tweet</th>\n",
       "      <th>topic</th>\n",
       "      <th>sentiment</th>\n",
       "    </tr>\n",
       "  </thead>\n",
       "  <tbody>\n",
       "    <tr>\n",
       "      <th>count</th>\n",
       "      <td>3871</td>\n",
       "      <td>3871</td>\n",
       "      <td>3871</td>\n",
       "    </tr>\n",
       "    <tr>\n",
       "      <th>unique</th>\n",
       "      <td>3871</td>\n",
       "      <td>60</td>\n",
       "      <td>2</td>\n",
       "    </tr>\n",
       "    <tr>\n",
       "      <th>top</th>\n",
       "      <td>London. Spent the afternoon with friends in So...</td>\n",
       "      <td>magic mike xxl</td>\n",
       "      <td>positive</td>\n",
       "    </tr>\n",
       "    <tr>\n",
       "      <th>freq</th>\n",
       "      <td>1</td>\n",
       "      <td>87</td>\n",
       "      <td>3204</td>\n",
       "    </tr>\n",
       "  </tbody>\n",
       "</table>\n",
       "</div>"
      ],
      "text/plain": [
       "                                                    tweet           topic  \\\n",
       "count                                                3871            3871   \n",
       "unique                                               3871              60   \n",
       "top     London. Spent the afternoon with friends in So...  magic mike xxl   \n",
       "freq                                                    1              87   \n",
       "\n",
       "       sentiment  \n",
       "count       3871  \n",
       "unique         2  \n",
       "top     positive  \n",
       "freq        3204  "
      ]
     },
     "execution_count": 17,
     "metadata": {},
     "output_type": "execute_result"
    }
   ],
   "source": [
    "print(\"positive: \", len(dfTwitterTopicPn[dfTwitterTopicPn.sentiment == 'positive']))\n",
    "print(\"negative: \", len(dfTwitterTopicPn[dfTwitterTopicPn.sentiment == 'negative']))\n",
    "\n",
    "dfTwitterTopicPn.describe()"
   ]
  },
  {
   "cell_type": "code",
   "execution_count": 27,
   "metadata": {
    "collapsed": false
   },
   "outputs": [
    {
     "name": "stdout",
     "output_type": "stream",
     "text": [
      "positive:  5587\n",
      "negative:  1834\n",
      "neutral:  5549\n"
     ]
    },
    {
     "data": {
      "text/html": [
       "<div>\n",
       "<table border=\"1\" class=\"dataframe\">\n",
       "  <thead>\n",
       "    <tr style=\"text-align: right;\">\n",
       "      <th></th>\n",
       "      <th>tweet</th>\n",
       "      <th>sentiment</th>\n",
       "    </tr>\n",
       "  </thead>\n",
       "  <tbody>\n",
       "    <tr>\n",
       "      <th>count</th>\n",
       "      <td>12970</td>\n",
       "      <td>12970</td>\n",
       "    </tr>\n",
       "    <tr>\n",
       "      <th>unique</th>\n",
       "      <td>12970</td>\n",
       "      <td>3</td>\n",
       "    </tr>\n",
       "    <tr>\n",
       "      <th>top</th>\n",
       "      <td>Phinsider Week 8 Picks: Thursday Night Footbal...</td>\n",
       "      <td>positive</td>\n",
       "    </tr>\n",
       "    <tr>\n",
       "      <th>freq</th>\n",
       "      <td>1</td>\n",
       "      <td>5587</td>\n",
       "    </tr>\n",
       "  </tbody>\n",
       "</table>\n",
       "</div>"
      ],
      "text/plain": [
       "                                                    tweet sentiment\n",
       "count                                               12970     12970\n",
       "unique                                              12970         3\n",
       "top     Phinsider Week 8 Picks: Thursday Night Footbal...  positive\n",
       "freq                                                    1      5587"
      ]
     },
     "execution_count": 27,
     "metadata": {},
     "output_type": "execute_result"
    }
   ],
   "source": [
    "# SemEval 2015: Tweet PN\n",
    "texts_pn = list(dfTwitterPn.tweet)\n",
    "labels_pn = list(dfTwitterPn.sentiment)\n",
    "\n",
    "# SemEval 2016: Tweet PNN\n",
    "texts_pnn = list(dfTwitterPnn.tweet)\n",
    "labels_pnn = list(dfTwitterPnn.sentiment)\n",
    "\n",
    "# Create Dataframe\n",
    "dfTwitter = pd.DataFrame(columns=['tweet', 'sentiment'])\n",
    "dfTwitter['tweet'] = texts_pn + texts_pnn\n",
    "dfTwitter['sentiment'] = labels_pn + labels_pnn\n",
    "\n",
    "print(\"positive: \", len(dfTwitter[dfTwitter.sentiment == 'positive']))\n",
    "print(\"negative: \", len(dfTwitter[dfTwitter.sentiment == 'negative']))\n",
    "print(\"neutral: \", len(dfTwitter[dfTwitter.sentiment == 'neutral']))\n",
    "\n",
    "dfTwitter.describe()"
   ]
  },
  {
   "cell_type": "code",
   "execution_count": 29,
   "metadata": {
    "collapsed": true
   },
   "outputs": [],
   "source": [
    "useful_methods.DFtoCSV(dfTwitter, \"/Users/Bya/Dropbox/Research/datas/TweetsPN/\", \"tweets_pnn\", index=False)"
   ]
  },
  {
   "cell_type": "markdown",
   "metadata": {},
   "source": [
    "### Create Create Pos == Neg Twitter Data"
   ]
  },
  {
   "cell_type": "code",
   "execution_count": 67,
   "metadata": {
    "collapsed": false
   },
   "outputs": [
    {
     "data": {
      "text/html": [
       "<div>\n",
       "<table border=\"1\" class=\"dataframe\">\n",
       "  <thead>\n",
       "    <tr style=\"text-align: right;\">\n",
       "      <th></th>\n",
       "      <th>tweet</th>\n",
       "      <th>sentiment</th>\n",
       "    </tr>\n",
       "  </thead>\n",
       "  <tbody>\n",
       "    <tr>\n",
       "      <th>count</th>\n",
       "      <td>3668</td>\n",
       "      <td>3668</td>\n",
       "    </tr>\n",
       "    <tr>\n",
       "      <th>unique</th>\n",
       "      <td>3668</td>\n",
       "      <td>2</td>\n",
       "    </tr>\n",
       "    <tr>\n",
       "      <th>top</th>\n",
       "      <td>h. i'm going to make a twitter to use on my ip...</td>\n",
       "      <td>negative</td>\n",
       "    </tr>\n",
       "    <tr>\n",
       "      <th>freq</th>\n",
       "      <td>1</td>\n",
       "      <td>1834</td>\n",
       "    </tr>\n",
       "  </tbody>\n",
       "</table>\n",
       "</div>"
      ],
      "text/plain": [
       "                                                    tweet sentiment\n",
       "count                                                3668      3668\n",
       "unique                                               3668         2\n",
       "top     h. i'm going to make a twitter to use on my ip...  negative\n",
       "freq                                                    1      1834"
      ]
     },
     "execution_count": 67,
     "metadata": {},
     "output_type": "execute_result"
    }
   ],
   "source": [
    "dfNeg = dfTwitter[dfTwitter.sentiment == 'negative'].copy()\n",
    "neg_len = len(dfNeg)\n",
    "\n",
    "dfPos = dfTwitter[dfTwitter.sentiment == 'positive'].copy()\n",
    "dfPos = dfPos.iloc[np.random.permutation(len(dfPos))].reset_index(drop=True)\n",
    "\n",
    "# Create Dataframe\n",
    "dfPNEqual = pd.DataFrame(columns=['tweet', 'sentiment'])\n",
    "dfPNEqual['tweet'] = list(dfNeg.tweet) + list(dfPos.tweet)[0:neg_len]\n",
    "dfPNEqual['sentiment'] = list(dfNeg.sentiment) + list(dfPos.sentiment)[0:neg_len]\n",
    "\n",
    "# Shuffle\n",
    "dfPNEqual = dfPNEqual.iloc[np.random.permutation(len(dfPNEqual))].reset_index(drop=True)\n",
    "dfPNEqual.describe()"
   ]
  },
  {
   "cell_type": "code",
   "execution_count": 68,
   "metadata": {
    "collapsed": false
   },
   "outputs": [
    {
     "name": "stdout",
     "output_type": "stream",
     "text": [
      "[('positive', 1834), ('negative', 1834)]\n"
     ]
    }
   ],
   "source": [
    "useful_methods.ShowMostCommon(list(dfPNEqual['sentiment']))"
   ]
  },
  {
   "cell_type": "code",
   "execution_count": 70,
   "metadata": {
    "collapsed": true
   },
   "outputs": [],
   "source": [
    "useful_methods.DFtoCSV(dfPNEqual, \"/Users/Bya/Dropbox/Research/datas/TweetsPN/\", \"tweets_pn_eq\", index=False)"
   ]
  }
 ],
 "metadata": {
  "kernelspec": {
   "display_name": "Python 3",
   "language": "python",
   "name": "python3"
  },
  "language_info": {
   "codemirror_mode": {
    "name": "ipython",
    "version": 3
   },
   "file_extension": ".py",
   "mimetype": "text/x-python",
   "name": "python",
   "nbconvert_exporter": "python",
   "pygments_lexer": "ipython3",
   "version": "3.4.3"
  }
 },
 "nbformat": 4,
 "nbformat_minor": 0
}
