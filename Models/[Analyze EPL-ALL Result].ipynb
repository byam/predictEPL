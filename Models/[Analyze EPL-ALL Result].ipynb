{
 "cells": [
  {
   "cell_type": "code",
   "execution_count": 1,
   "metadata": {
    "collapsed": false
   },
   "outputs": [
    {
     "name": "stdout",
     "output_type": "stream",
     "text": [
      "Populating the interactive namespace from numpy and matplotlib\n"
     ]
    }
   ],
   "source": [
    "%pylab inline\n",
    "%matplotlib inline\n",
    "\n",
    "import sys\n",
    "import os\n",
    "import pickle\n",
    "import math\n",
    "\n",
    "\n",
    "sys.path.append(\"/Users/Bya/git/predictEPL/config/\")\n",
    "sys.path.append(\"/Users/Bya/git/predictEPL/utils/\")\n",
    "sys.path.append(\"/Users/Bya/git/predictEPL/WebScrapping/\")\n",
    "\n",
    "\n",
    "import paths\n",
    "import names\n",
    "import tokenizer\n",
    "import useful_methods\n",
    "import my_plot\n",
    "import scrap_espn_gamecast\n",
    "import espn_urls\n",
    "import result_analyzer"
   ]
  },
  {
   "cell_type": "code",
   "execution_count": 2,
   "metadata": {
    "collapsed": false
   },
   "outputs": [
    {
     "name": "stdout",
     "output_type": "stream",
     "text": [
      "*************************\n",
      "Base Model Resulst:\n",
      "\n",
      "[GOOD]: 64\n",
      "[NG]: 5\n",
      "[HT DRAW]:74\n",
      "[FT DRAW]:41\n",
      "*************************\n",
      "Odds Model Resulst:\n",
      "\n",
      "[GOOD]: 73\n",
      "[NG]: 42 \n",
      "[FT DRAW]:41\n",
      "*************************\n",
      "Review Model Resulst:\n",
      "\n",
      "[GOOD]: 86\n",
      "[NG]:29 \n",
      "[FT DRAW]:41\n",
      "*************************\n",
      "Emolex Model Resulst:\n",
      "\n",
      "[GOOD]: 84\n",
      "[NG]: 31 \n",
      "[FT DRAW]:41\n"
     ]
    }
   ],
   "source": [
    "dfAll = result_analyzer.AllRes()"
   ]
  },
  {
   "cell_type": "code",
   "execution_count": 8,
   "metadata": {
    "collapsed": false
   },
   "outputs": [
    {
     "data": {
      "text/plain": [
       "74"
      ]
     },
     "execution_count": 8,
     "metadata": {},
     "output_type": "execute_result"
    }
   ],
   "source": [
    "len(dfAll[(dfAll['score_ht_home'] == dfAll['score_ht_away'])])"
   ]
  },
  {
   "cell_type": "code",
   "execution_count": 5,
   "metadata": {
    "collapsed": false
   },
   "outputs": [
    {
     "data": {
      "text/plain": [
       "28"
      ]
     },
     "execution_count": 5,
     "metadata": {},
     "output_type": "execute_result"
    }
   ],
   "source": [
    "len(dfAll[(dfAll['score_ht_home'] == dfAll['score_ht_away']) &\n",
    "     (dfAll['score_ft_home'] == dfAll['score_ft_away'])])"
   ]
  },
  {
   "cell_type": "markdown",
   "metadata": {},
   "source": [
    "### HT: DRAW --> Odds Model"
   ]
  },
  {
   "cell_type": "code",
   "execution_count": 3,
   "metadata": {
    "collapsed": false,
    "scrolled": true
   },
   "outputs": [
    {
     "name": "stdout",
     "output_type": "stream",
     "text": [
      "*************************\n"
     ]
    },
    {
     "data": {
      "text/plain": [
       "26"
      ]
     },
     "execution_count": 3,
     "metadata": {},
     "output_type": "execute_result"
    }
   ],
   "source": [
    "df = dfAll[(dfAll['score_ht_home'] == dfAll['score_ht_away'])].copy()\n",
    "\n",
    "odd = len(df[\n",
    "    # Odds: (h < a) & FT: (h > a)\n",
    "    ((df['odds_home'] < df['odds_away']) &\n",
    "     (df['score_ft_home'] > df['score_ft_away'])) |\n",
    "\n",
    "    # Odds: (h > a) & FT: (h < a)\n",
    "    ((df['odds_home'] > df['odds_away']) &\n",
    "     (df['score_ft_home'] < df['score_ft_away']))\n",
    "])\n",
    "\n",
    "\n",
    "print(\"*************************\")\n",
    "odd"
   ]
  },
  {
   "cell_type": "markdown",
   "metadata": {},
   "source": [
    "### HT: DRAW --> Review Model"
   ]
  },
  {
   "cell_type": "code",
   "execution_count": 4,
   "metadata": {
    "collapsed": false
   },
   "outputs": [
    {
     "data": {
      "text/plain": [
       "25"
      ]
     },
     "execution_count": 4,
     "metadata": {},
     "output_type": "execute_result"
    }
   ],
   "source": [
    "df = dfAll[(dfAll['score_ht_home'] == dfAll['score_ht_away'])].copy()\n",
    "\n",
    "len(df[\n",
    "    ((df['nb_pos_home'] > df['nb_pos_away']) &\n",
    "     (df['score_ft_home'] > df['score_ft_away'])) |\n",
    "\n",
    "    ((df['nb_pos_home'] < df['nb_pos_away']) &\n",
    "     (df['score_ft_home'] < df['score_ft_away']))\n",
    "])"
   ]
  },
  {
   "cell_type": "markdown",
   "metadata": {},
   "source": [
    "### HT: DRAW --> Emolex Model"
   ]
  },
  {
   "cell_type": "code",
   "execution_count": 5,
   "metadata": {
    "collapsed": false
   },
   "outputs": [
    {
     "data": {
      "text/plain": [
       "26"
      ]
     },
     "execution_count": 5,
     "metadata": {},
     "output_type": "execute_result"
    }
   ],
   "source": [
    "df = dfAll[(dfAll['score_ht_home'] == dfAll['score_ht_away'])].copy()\n",
    "\n",
    "len(df[\n",
    "    ((df['pn_home'] > df['pn_away']) &\n",
    "     (df['score_ft_home'] > df['score_ft_away'])) |\n",
    "\n",
    "    ((df['pn_home'] < df['pn_away']) &\n",
    "     (df['score_ft_home'] < df['score_ft_away']))\n",
    "])"
   ]
  },
  {
   "cell_type": "code",
   "execution_count": null,
   "metadata": {
    "collapsed": true
   },
   "outputs": [],
   "source": [
    "import numpy as np"
   ]
  },
  {
   "cell_type": "code",
   "execution_count": null,
   "metadata": {
    "collapsed": false
   },
   "outputs": [],
   "source": [
    "nb_home_gap = np.array(abs(dfAll['nb_pos_home'] - dfAll['nb_neg_home']))\n",
    "nb_home_gap.mean() * 100"
   ]
  },
  {
   "cell_type": "code",
   "execution_count": null,
   "metadata": {
    "collapsed": false
   },
   "outputs": [],
   "source": [
    "nb_away_gap = np.array(abs(dfAll['nb_pos_away'] - dfAll['nb_neg_away']))\n",
    "nb_away_gap.mean() * 100"
   ]
  },
  {
   "cell_type": "code",
   "execution_count": null,
   "metadata": {
    "collapsed": false
   },
   "outputs": [],
   "source": [
    "pn_gap = np.array(abs(dfAll['pn_home'] - dfAll['pn_away']))\n",
    "pn_gap.mean() * 100"
   ]
  },
  {
   "cell_type": "code",
   "execution_count": 7,
   "metadata": {
    "collapsed": false
   },
   "outputs": [
    {
     "data": {
      "text/plain": [
       "count    156.000000\n",
       "mean       0.612352\n",
       "std        0.096925\n",
       "min        0.308157\n",
       "25%        0.541263\n",
       "50%        0.620557\n",
       "75%        0.680747\n",
       "max        0.825095\n",
       "Name: pn_home, dtype: float64"
      ]
     },
     "execution_count": 7,
     "metadata": {},
     "output_type": "execute_result"
    }
   ],
   "source": [
    "dfAll['pn_home'].describe()"
   ]
  },
  {
   "cell_type": "code",
   "execution_count": 8,
   "metadata": {
    "collapsed": false
   },
   "outputs": [
    {
     "data": {
      "text/plain": [
       "count    156.000000\n",
       "mean       0.595743\n",
       "std        0.100421\n",
       "min        0.393595\n",
       "25%        0.514532\n",
       "50%        0.585967\n",
       "75%        0.667463\n",
       "max        1.000000\n",
       "Name: pn_away, dtype: float64"
      ]
     },
     "execution_count": 8,
     "metadata": {},
     "output_type": "execute_result"
    }
   ],
   "source": [
    "dfAll['pn_away'].describe()"
   ]
  }
 ],
 "metadata": {
  "kernelspec": {
   "display_name": "Python 3",
   "language": "python",
   "name": "python3"
  },
  "language_info": {
   "codemirror_mode": {
    "name": "ipython",
    "version": 3
   },
   "file_extension": ".py",
   "mimetype": "text/x-python",
   "name": "python",
   "nbconvert_exporter": "python",
   "pygments_lexer": "ipython3",
   "version": "3.4.3"
  }
 },
 "nbformat": 4,
 "nbformat_minor": 0
}
