{
 "cells": [
  {
   "cell_type": "code",
   "execution_count": 1,
   "metadata": {
    "collapsed": false
   },
   "outputs": [
    {
     "name": "stdout",
     "output_type": "stream",
     "text": [
      "Populating the interactive namespace from numpy and matplotlib\n"
     ]
    }
   ],
   "source": [
    "%pylab inline\n",
    "%matplotlib inline\n",
    "\n",
    "import sys\n",
    "import os\n",
    "import pickle\n",
    "import math\n",
    "\n",
    "\n",
    "sys.path.append(\"/Users/Bya/git/predictEPL/config/\")\n",
    "sys.path.append(\"/Users/Bya/git/predictEPL/utils/\")\n",
    "sys.path.append(\"/Users/Bya/git/predictEPL/WebScrapping/\")\n",
    "\n",
    "\n",
    "import paths\n",
    "import names\n",
    "import tokenizer\n",
    "import useful_methods\n",
    "import my_plot\n",
    "import scrap_espn_gamecast\n",
    "import espn_urls\n",
    "import result_analyzer"
   ]
  },
  {
   "cell_type": "code",
   "execution_count": 2,
   "metadata": {
    "collapsed": false
   },
   "outputs": [
    {
     "name": "stdout",
     "output_type": "stream",
     "text": [
      "*************************\n",
      "Base Model Resulst:\n",
      "\n",
      "[GOOD]: 64\n",
      "[NG]: 5\n",
      "[HT DRAW]:74\n",
      "[FT DRAW]:41\n",
      "*************************\n",
      "Odds Model Resulst:\n",
      "\n",
      "[GOOD]: 73\n",
      "[NG]: 42 \n",
      "[FT DRAW]:41\n",
      "*************************\n",
      "Review Model Resulst:\n",
      "\n",
      "[GOOD]: 68\n",
      "[NG]:47 \n",
      "[FT DRAW]:41\n",
      "*************************\n",
      "Emolex Model Resulst:\n",
      "\n",
      "[GOOD]: 84\n",
      "[NG]: 31 \n",
      "[FT DRAW]:41\n"
     ]
    }
   ],
   "source": [
    "dfAll = result_analyzer.AllRes()"
   ]
  },
  {
   "cell_type": "code",
   "execution_count": null,
   "metadata": {
    "collapsed": false
   },
   "outputs": [],
   "source": [
    "len(dfAll[(dfAll['score_ht_home'] == dfAll['score_ht_away'])])"
   ]
  },
  {
   "cell_type": "code",
   "execution_count": null,
   "metadata": {
    "collapsed": false
   },
   "outputs": [],
   "source": [
    "len(dfAll[(dfAll['score_ht_home'] == dfAll['score_ht_away']) &\n",
    "     (dfAll['score_ft_home'] == dfAll['score_ft_away'])])"
   ]
  },
  {
   "cell_type": "markdown",
   "metadata": {},
   "source": [
    "### HT: DRAW --> Odds Model"
   ]
  },
  {
   "cell_type": "code",
   "execution_count": null,
   "metadata": {
    "collapsed": false,
    "scrolled": true
   },
   "outputs": [],
   "source": [
    "df = dfAll[(dfAll['score_ht_home'] == dfAll['score_ht_away'])].copy()\n",
    "\n",
    "odd = len(df[\n",
    "    # Odds: (h < a) & FT: (h > a)\n",
    "    ((df['odds_home'] < df['odds_away']) &\n",
    "     (df['score_ft_home'] > df['score_ft_away'])) |\n",
    "\n",
    "    # Odds: (h > a) & FT: (h < a)\n",
    "    ((df['odds_home'] > df['odds_away']) &\n",
    "     (df['score_ft_home'] < df['score_ft_away']))\n",
    "])\n",
    "\n",
    "\n",
    "print(\"*************************\")\n",
    "odd"
   ]
  },
  {
   "cell_type": "markdown",
   "metadata": {},
   "source": [
    "### HT: DRAW --> Review Model"
   ]
  },
  {
   "cell_type": "code",
   "execution_count": null,
   "metadata": {
    "collapsed": false
   },
   "outputs": [],
   "source": [
    "df = dfAll[(dfAll['score_ht_home'] == dfAll['score_ht_away'])].copy()\n",
    "\n",
    "len(df[\n",
    "    ((df['nb_pos_home'] > df['nb_pos_away']) &\n",
    "     (df['score_ft_home'] > df['score_ft_away'])) |\n",
    "\n",
    "    ((df['nb_pos_home'] < df['nb_pos_away']) &\n",
    "     (df['score_ft_home'] < df['score_ft_away']))\n",
    "])"
   ]
  },
  {
   "cell_type": "markdown",
   "metadata": {},
   "source": [
    "### HT: DRAW --> Emolex Model"
   ]
  },
  {
   "cell_type": "code",
   "execution_count": null,
   "metadata": {
    "collapsed": false
   },
   "outputs": [],
   "source": [
    "df = dfAll[(dfAll['score_ht_home'] == dfAll['score_ht_away'])].copy()\n",
    "\n",
    "len(df[\n",
    "    ((df['pn_home'] > df['pn_away']) &\n",
    "     (df['score_ft_home'] > df['score_ft_away'])) |\n",
    "\n",
    "    ((df['pn_home'] < df['pn_away']) &\n",
    "     (df['score_ft_home'] < df['score_ft_away']))\n",
    "])"
   ]
  },
  {
   "cell_type": "markdown",
   "metadata": {},
   "source": [
    "### Comparison"
   ]
  },
  {
   "cell_type": "markdown",
   "metadata": {},
   "source": [
    "#### 1. Emolex | Review"
   ]
  },
  {
   "cell_type": "code",
   "execution_count": null,
   "metadata": {
    "collapsed": false
   },
   "outputs": [],
   "source": [
    "dfNbGood = dfAll[\n",
    "    # nb_home > nb_away => ft_home > ft_away\n",
    "    (\n",
    "        (dfAll.score_ft_home > dfAll.score_ft_away) &\n",
    "        (dfAll.nb_pos_home > dfAll.nb_pos_away)\n",
    "    ) |\n",
    "    \n",
    "    # nb_home < nb_away => ft_home < ft_away\n",
    "    (\n",
    "        (dfAll.score_ft_home < dfAll.score_ft_away) &\n",
    "        (dfAll.nb_pos_home < dfAll.nb_pos_away)\n",
    "    )\n",
    "]\n",
    "\n",
    "print(\"Review Good: \", len(dfNbGood))\n",
    "\n",
    "\n",
    "\n",
    "\n",
    "dfEmolexGood = dfAll[\n",
    "    # nb_home > nb_away => ft_home > ft_away\n",
    "    (\n",
    "        (dfAll.score_ft_home > dfAll.score_ft_away) &\n",
    "        (dfAll.pn_home > dfAll.pn_away)\n",
    "    ) |\n",
    "    \n",
    "    # nb_home < nb_away => ft_home < ft_away\n",
    "    (\n",
    "        (dfAll.score_ft_home < dfAll.score_ft_away) &\n",
    "        (dfAll.pn_home < dfAll.pn_away)\n",
    "    )\n",
    "]\n",
    "\n",
    "print(\"Emolex Good: \", len(dfEmolexGood))"
   ]
  },
  {
   "cell_type": "code",
   "execution_count": null,
   "metadata": {
    "collapsed": false
   },
   "outputs": [],
   "source": [
    "len(set(list(dfNbGood.index)).intersection(list(dfEmolexGood.index)))"
   ]
  },
  {
   "cell_type": "code",
   "execution_count": null,
   "metadata": {
    "collapsed": false
   },
   "outputs": [],
   "source": [
    "dfEmolexGood.index"
   ]
  },
  {
   "cell_type": "code",
   "execution_count": null,
   "metadata": {
    "collapsed": false
   },
   "outputs": [],
   "source": [
    "dfAll['nb_diff'] = dfAll['nb_pos_home'] - dfAll['nb_pos_away']\n",
    "dfAll['pn_diff'] = dfAll['pn_home'] - dfAll['pn_away']\n",
    "\n",
    "dfDraw = dfAll[(dfAll['score_ft_home'] == dfAll['score_ft_away'])].copy()"
   ]
  },
  {
   "cell_type": "code",
   "execution_count": null,
   "metadata": {
    "collapsed": false
   },
   "outputs": [],
   "source": [
    "nb_diff_draw_mean = dfDraw.nb_diff.mean()\n",
    "pn_diff_draw_mean = dfDraw.pn_diff.mean()\n",
    "\n",
    "\n",
    "dfAll[(abs(dfAll.nb_diff) <= nb_diff_draw_mean)]\n",
    "\n",
    "# dfAll[(abs(dfAll.pn_diff) <= pn_diff_draw_mean)]"
   ]
  }
 ],
 "metadata": {
  "kernelspec": {
   "display_name": "Python 3",
   "language": "python",
   "name": "python3"
  },
  "language_info": {
   "codemirror_mode": {
    "name": "ipython",
    "version": 3
   },
   "file_extension": ".py",
   "mimetype": "text/x-python",
   "name": "python",
   "nbconvert_exporter": "python",
   "pygments_lexer": "ipython3",
   "version": "3.4.3"
  }
 },
 "nbformat": 4,
 "nbformat_minor": 0
}
