{
 "cells": [
  {
   "cell_type": "code",
   "execution_count": 2,
   "metadata": {
    "collapsed": false
   },
   "outputs": [
    {
     "name": "stdout",
     "output_type": "stream",
     "text": [
      "Populating the interactive namespace from numpy and matplotlib\n"
     ]
    }
   ],
   "source": [
    "%pylab inline\n",
    "%matplotlib inline\n",
    "\n",
    "import sys\n",
    "import os\n",
    "import pickle\n",
    "import math\n",
    "\n",
    "\n",
    "sys.path.append(\"/Users/Bya/git/predictEPL/config/\")\n",
    "sys.path.append(\"/Users/Bya/git/predictEPL/utils/\")\n",
    "sys.path.append(\"/Users/Bya/git/predictEPL/WebScrapping/\")\n",
    "\n",
    "\n",
    "import paths\n",
    "import names\n",
    "import tokenizer\n",
    "import useful_methods\n",
    "import my_plot\n",
    "import scrap_espn_gamecast\n",
    "import espn_urls\n",
    "import result_analyzer"
   ]
  },
  {
   "cell_type": "code",
   "execution_count": 3,
   "metadata": {
    "collapsed": false
   },
   "outputs": [
    {
     "name": "stdout",
     "output_type": "stream",
     "text": [
      "*************************\n",
      "Base Model Resulst:\n",
      "\n",
      "[GOOD]: 47\n",
      "[NG]: 4\n",
      "[HT DRAW]:54\n",
      "[FT DRAW]:31\n",
      "*************************\n",
      "Odds Model Resulst:\n",
      "\n",
      "[GOOD]: 55\n",
      "[NG]: 30 \n",
      "[FT DRAW]:31\n",
      "*************************\n",
      "Review Model Resulst:\n",
      "\n",
      "[GOOD]: 64\n",
      "[NG]:21 \n",
      "[FT DRAW]:31\n",
      "*************************\n",
      "Emolex Model Resulst:\n",
      "\n",
      "[GOOD]: 59\n",
      "[NG]: 26 \n",
      "[FT DRAW]:31\n"
     ]
    }
   ],
   "source": [
    "dfAll = result_analyzer.AllRes()"
   ]
  },
  {
   "cell_type": "markdown",
   "metadata": {},
   "source": [
    "### HT: DRAW --> Odds Model"
   ]
  },
  {
   "cell_type": "code",
   "execution_count": 4,
   "metadata": {
    "collapsed": false,
    "scrolled": true
   },
   "outputs": [
    {
     "data": {
      "text/plain": [
       "18"
      ]
     },
     "execution_count": 4,
     "metadata": {},
     "output_type": "execute_result"
    }
   ],
   "source": [
    "df = dfAll[(dfAll['score_ht_home'] == dfAll['score_ht_away'])].copy()\n",
    "\n",
    "len(df[\n",
    "    # Odds: (h < a) & FT: (h > a)\n",
    "    ((df['odds_home'] < df['odds_away']) &\n",
    "     (df['score_ft_home'] > df['score_ft_away'])) |\n",
    "\n",
    "    # Odds: (h > a) & FT: (h < a)\n",
    "    ((df['odds_home'] > df['odds_away']) &\n",
    "     (df['score_ft_home'] < df['score_ft_away']))\n",
    "])"
   ]
  },
  {
   "cell_type": "markdown",
   "metadata": {},
   "source": [
    "### HT: DRAW --> Review Model"
   ]
  },
  {
   "cell_type": "code",
   "execution_count": 5,
   "metadata": {
    "collapsed": false
   },
   "outputs": [
    {
     "data": {
      "text/plain": [
       "19"
      ]
     },
     "execution_count": 5,
     "metadata": {},
     "output_type": "execute_result"
    }
   ],
   "source": [
    "df = dfAll[(dfAll['score_ht_home'] == dfAll['score_ht_away'])].copy()\n",
    "\n",
    "len(df[\n",
    "    ((df['nb_pos_home'] > df['nb_pos_away']) &\n",
    "     (df['score_ft_home'] > df['score_ft_away'])) |\n",
    "\n",
    "    ((df['nb_pos_home'] < df['nb_pos_away']) &\n",
    "     (df['score_ft_home'] < df['score_ft_away']))\n",
    "])"
   ]
  },
  {
   "cell_type": "markdown",
   "metadata": {},
   "source": [
    "### HT: DRAW --> Emolex Model"
   ]
  },
  {
   "cell_type": "code",
   "execution_count": 6,
   "metadata": {
    "collapsed": false
   },
   "outputs": [
    {
     "data": {
      "text/plain": [
       "19"
      ]
     },
     "execution_count": 6,
     "metadata": {},
     "output_type": "execute_result"
    }
   ],
   "source": [
    "df = dfAll[(dfAll['score_ht_home'] == dfAll['score_ht_away'])].copy()\n",
    "\n",
    "len(df[\n",
    "    ((df['pn_home'] > df['pn_away']) &\n",
    "     (df['score_ft_home'] > df['score_ft_away'])) |\n",
    "\n",
    "    ((df['pn_home'] < df['pn_away']) &\n",
    "     (df['score_ft_home'] < df['score_ft_away']))\n",
    "])"
   ]
  },
  {
   "cell_type": "code",
   "execution_count": 7,
   "metadata": {
    "collapsed": true
   },
   "outputs": [],
   "source": [
    "import numpy as np"
   ]
  },
  {
   "cell_type": "code",
   "execution_count": null,
   "metadata": {
    "collapsed": false
   },
   "outputs": [],
   "source": []
  },
  {
   "cell_type": "code",
   "execution_count": 12,
   "metadata": {
    "collapsed": false
   },
   "outputs": [
    {
     "data": {
      "text/plain": [
       "array([ 0.06675464,  0.1241042 ,  0.00867819,  0.09563618,  0.00459159,\n",
       "        0.03993845,  0.00219286,  0.00849842,  0.09491868,  0.01758612,\n",
       "        0.00663493,  0.09423364,  0.07565652,  0.01438646,  0.03119175,\n",
       "        0.12256579,  0.02332789,  0.0786606 ,  0.02857893,  0.09145727,\n",
       "        0.126352  ,  0.07363594,  0.09215792,  0.09960088,  0.03506609,\n",
       "        0.04095093,  0.00201228,  0.00371545,  0.0338307 ,  0.01329762,\n",
       "        0.00130287,  0.05404902,  0.17564661,  0.00791273,  0.03406354,\n",
       "        0.01290698,  0.06266087,  0.06855961,  0.08114994,  0.08132263,\n",
       "        0.03270569,  0.01872136,  0.0966864 ,  0.02918593,  0.07555477,\n",
       "        0.0392293 ,  0.02026776,  0.00424293,  0.0928882 ,  0.02094089,\n",
       "        0.17279581,  0.11064201,  0.09989766,  0.06984188,  0.00619101,\n",
       "        0.03681849,  0.03738071,  0.15069943,  0.05957803,  0.10373296,\n",
       "        0.11015709,  0.12966362,  0.0893546 ,  0.06009754,  0.05203474,\n",
       "        0.00657176,  0.0451688 ,  0.04468705,  0.06043326,  0.1479136 ,\n",
       "        0.00882297,  0.02081845,  0.01807946,  0.00508354,  0.07235017,\n",
       "        0.00117151,  0.01860745,  0.06190275,  0.07705889,  0.10197351,\n",
       "        0.04240545,  0.05755532,  0.05176376,  0.07068088,  0.07354505,\n",
       "        0.0726904 ,  0.07713911,  0.07058547,  0.00211055,  0.04225012,\n",
       "        0.01767611,  0.01169612,  0.01155421,  0.0844423 ,  0.02800645,\n",
       "        0.0054736 ,  0.06845729,  0.06897183,  0.0441548 ,  0.0195484 ,\n",
       "        0.05790013,  0.13674276,  0.1446297 ,  0.11564202,  0.15248462,\n",
       "        0.10029382,  0.01364214,  0.12909824,  0.09491044,  0.06843423,\n",
       "        0.00669332,  0.04800801,  0.05762278,  0.1104512 ,  0.00882829,\n",
       "        0.05032601])"
      ]
     },
     "execution_count": 12,
     "metadata": {},
     "output_type": "execute_result"
    }
   ],
   "source": [
    "nb_home_np.array(abs(dfAll['nb_pos_home'] - dfAll['nb_neg_home']))"
   ]
  }
 ],
 "metadata": {
  "kernelspec": {
   "display_name": "Python 3",
   "language": "python",
   "name": "python3"
  },
  "language_info": {
   "codemirror_mode": {
    "name": "ipython",
    "version": 3
   },
   "file_extension": ".py",
   "mimetype": "text/x-python",
   "name": "python",
   "nbconvert_exporter": "python",
   "pygments_lexer": "ipython3",
   "version": "3.4.3"
  }
 },
 "nbformat": 4,
 "nbformat_minor": 0
}
