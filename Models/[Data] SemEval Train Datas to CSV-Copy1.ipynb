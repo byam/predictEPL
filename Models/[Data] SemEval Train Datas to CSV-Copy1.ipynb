{
 "cells": [
  {
   "cell_type": "code",
   "execution_count": 36,
   "metadata": {
    "collapsed": false
   },
   "outputs": [],
   "source": [
    "import sys\n",
    "import os\n",
    "import time\n",
    "import codecs\n",
    "import pandas as pd\n",
    "\n",
    "sys.path.append(\"/Users/Bya/git/predictEPL/utils/\")\n",
    "sys.path.append(\"/Users/Bya/git/predictEPL/config/\")\n",
    "\n",
    "import paths\n",
    "import tokenizer\n",
    "import useful_methods"
   ]
  },
  {
   "cell_type": "markdown",
   "metadata": {},
   "source": [
    "### SemEval 2015: B Train Cleansed"
   ]
  },
  {
   "cell_type": "code",
   "execution_count": 78,
   "metadata": {
    "collapsed": false
   },
   "outputs": [
    {
     "data": {
      "text/plain": [
       "['264183816548130816',\n",
       " '15140428',\n",
       " 'positive',\n",
       " \"Gas by my house hit $3.39!!!! I'm going to Chapel Hill on Sat. :)\\n\"]"
      ]
     },
     "execution_count": 78,
     "metadata": {},
     "output_type": "execute_result"
    }
   ],
   "source": [
    "os.chdir(\"/Users/Bya/Dropbox/Research/datas/TweetsPN/\")\n",
    "\n",
    "with open(\"B_cleansed.tsv\") as tweet:\n",
    "    tweets = tweet.readlines()\n",
    "\n",
    "tweets[0].split('\\t')"
   ]
  },
  {
   "cell_type": "code",
   "execution_count": 79,
   "metadata": {
    "collapsed": false
   },
   "outputs": [
    {
     "name": "stdout",
     "output_type": "stream",
     "text": [
      "positive:  2844\n",
      "negative:  1073\n",
      "neutral:  3709\n"
     ]
    },
    {
     "data": {
      "text/html": [
       "<div>\n",
       "<table border=\"1\" class=\"dataframe\">\n",
       "  <thead>\n",
       "    <tr style=\"text-align: right;\">\n",
       "      <th></th>\n",
       "      <th>tweet</th>\n",
       "      <th>sentiment</th>\n",
       "    </tr>\n",
       "  </thead>\n",
       "  <tbody>\n",
       "    <tr>\n",
       "      <th>count</th>\n",
       "      <td>7626</td>\n",
       "      <td>7626</td>\n",
       "    </tr>\n",
       "    <tr>\n",
       "      <th>unique</th>\n",
       "      <td>7626</td>\n",
       "      <td>3</td>\n",
       "    </tr>\n",
       "    <tr>\n",
       "      <th>top</th>\n",
       "      <td>watching Kung Fu Panda 2 with the tribe &amp; the ...</td>\n",
       "      <td>neutral</td>\n",
       "    </tr>\n",
       "    <tr>\n",
       "      <th>freq</th>\n",
       "      <td>1</td>\n",
       "      <td>3709</td>\n",
       "    </tr>\n",
       "  </tbody>\n",
       "</table>\n",
       "</div>"
      ],
      "text/plain": [
       "                                                    tweet sentiment\n",
       "count                                                7626      7626\n",
       "unique                                               7626         3\n",
       "top     watching Kung Fu Panda 2 with the tribe & the ...   neutral\n",
       "freq                                                    1      3709"
      ]
     },
     "execution_count": 79,
     "metadata": {},
     "output_type": "execute_result"
    }
   ],
   "source": [
    "# Extract Tweet & Labels\n",
    "labels = []\n",
    "texts = []\n",
    "\n",
    "for tweet in tweets:\n",
    "    label = tweet.split('\\t')[2]\n",
    "    text = tweet.split('\\t')[3]\n",
    "    \n",
    "    if text != 'Not Available\\n' and text not in texts:\n",
    "        labels.append(label)\n",
    "        texts.append(text)\n",
    "\n",
    "# Create Dataframe\n",
    "dfTwitterPn = pd.DataFrame(columns=['tweet', 'sentiment'])\n",
    "dfTwitterPn['tweet'] = texts\n",
    "dfTwitterPn['sentiment'] = labels\n",
    "\n",
    "print(\"positive: \", len(dfTwitterPn[dfTwitterPn.sentiment == 'positive']))\n",
    "print(\"negative: \", len(dfTwitterPn[dfTwitterPn.sentiment == 'negative']))\n",
    "print(\"neutral: \", len(dfTwitterPn[dfTwitterPn.sentiment == 'neutral']))\n",
    "\n",
    "dfTwitterPn.describe()"
   ]
  },
  {
   "cell_type": "code",
   "execution_count": 80,
   "metadata": {
    "collapsed": true
   },
   "outputs": [],
   "source": [
    "useful_methods.DFtoCSV(dfTwitterPn, \"/Users/Bya/Dropbox/Research/datas/TweetsPN/\", \"tweets_pn(SemEval2013Task2)\", index=False)"
   ]
  },
  {
   "cell_type": "markdown",
   "metadata": {},
   "source": [
    "### SemEval 2015: A Train Cleansed"
   ]
  },
  {
   "cell_type": "code",
   "execution_count": 48,
   "metadata": {
    "collapsed": false
   },
   "outputs": [
    {
     "data": {
      "text/plain": [
       "['264183816548130816',\n",
       " '15140428',\n",
       " '13',\n",
       " '13',\n",
       " 'positive',\n",
       " \"Gas by my house hit $3.39!!!! I'm going to Chapel Hill on Sat. :)\\n\"]"
      ]
     },
     "execution_count": 48,
     "metadata": {},
     "output_type": "execute_result"
    }
   ],
   "source": [
    "os.chdir(\"/Users/Bya/Dropbox/Research/datas/TweetsPN/\")\n",
    "\n",
    "with open(\"A_cleansed.tsv\") as tweet:\n",
    "    tweets = tweet.readlines()\n",
    "\n",
    "tweets[0].split('\\t')"
   ]
  },
  {
   "cell_type": "code",
   "execution_count": 64,
   "metadata": {
    "collapsed": false
   },
   "outputs": [
    {
     "data": {
      "text/plain": [
       "'by my'"
      ]
     },
     "execution_count": 64,
     "metadata": {},
     "output_type": "execute_result"
    }
   ],
   "source": [
    "\" \".join(tweets[0].split('\\t')[-1].split()[1:3])"
   ]
  },
  {
   "cell_type": "code",
   "execution_count": 72,
   "metadata": {
    "collapsed": false
   },
   "outputs": [
    {
     "data": {
      "text/html": [
       "<div>\n",
       "<table border=\"1\" class=\"dataframe\">\n",
       "  <thead>\n",
       "    <tr style=\"text-align: right;\">\n",
       "      <th></th>\n",
       "      <th>tweet</th>\n",
       "      <th>word</th>\n",
       "      <th>sentiment</th>\n",
       "    </tr>\n",
       "  </thead>\n",
       "  <tbody>\n",
       "    <tr>\n",
       "      <th>count</th>\n",
       "      <td>7264</td>\n",
       "      <td>7264</td>\n",
       "      <td>7264</td>\n",
       "    </tr>\n",
       "    <tr>\n",
       "      <th>unique</th>\n",
       "      <td>4858</td>\n",
       "      <td>4966</td>\n",
       "      <td>3</td>\n",
       "    </tr>\n",
       "    <tr>\n",
       "      <th>top</th>\n",
       "      <td>Disappointed the Knicks vs Nets game got cance...</td>\n",
       "      <td>:)</td>\n",
       "      <td>positive</td>\n",
       "    </tr>\n",
       "    <tr>\n",
       "      <th>freq</th>\n",
       "      <td>7</td>\n",
       "      <td>95</td>\n",
       "      <td>4555</td>\n",
       "    </tr>\n",
       "  </tbody>\n",
       "</table>\n",
       "</div>"
      ],
      "text/plain": [
       "                                                    tweet  word sentiment\n",
       "count                                                7264  7264      7264\n",
       "unique                                               4858  4966         3\n",
       "top     Disappointed the Knicks vs Nets game got cance...    :)  positive\n",
       "freq                                                    7    95      4555"
      ]
     },
     "execution_count": 72,
     "metadata": {},
     "output_type": "execute_result"
    }
   ],
   "source": [
    "# Extract Tweet & Labels\n",
    "labels = []\n",
    "texts = []\n",
    "start_tokens = []\n",
    "end_tokens = []\n",
    "words = []\n",
    "\n",
    "for tweet in tweets:\n",
    "    start_token = tweet.split('\\t')[2]\n",
    "    end_token = tweet.split('\\t')[3]\n",
    "    label = tweet.split('\\t')[4]\n",
    "    text = tweet.split('\\t')[5]\n",
    "    \n",
    "    if text != 'Not Available\\n':\n",
    "        labels.append(label)\n",
    "        texts.append(text)\n",
    "        start_tokens.append(start_token)\n",
    "        end_tokens.append(end_token)\n",
    "        \n",
    "        word = \" \".join(text.split()[int(start_token):int(end_token) + 1])\n",
    "        words.append(word)\n",
    "\n",
    "# Create Dataframe\n",
    "dfTwitterPnWords = pd.DataFrame(columns=['tweet', 'word', 'sentiment'])\n",
    "dfTwitterPnWords['tweet'] = texts\n",
    "dfTwitterPnWords['word'] = words\n",
    "dfTwitterPnWords['sentiment'] = labels\n",
    "\n",
    "dfTwitterPnWords.describe()"
   ]
  },
  {
   "cell_type": "code",
   "execution_count": 76,
   "metadata": {
    "collapsed": true
   },
   "outputs": [],
   "source": [
    "useful_methods.DFtoCSV(dfTwitterPnWords, \"/Users/Bya/Dropbox/Research/datas/TweetsPN/\", \"tweets_words_pn(SemEval2013Task2)\", index=False)"
   ]
  },
  {
   "cell_type": "markdown",
   "metadata": {},
   "source": [
    "### SemEval 2016: B,D: Train 100 topic * xxx tweets"
   ]
  },
  {
   "cell_type": "code",
   "execution_count": 83,
   "metadata": {
    "collapsed": false
   },
   "outputs": [
    {
     "data": {
      "text/plain": [
       "['628949369883000832',\n",
       " '@microsoft',\n",
       " 'negative',\n",
       " \"dear @Microsoft the newOoffice for Mac is great and all, but no Lync update? C'mon.\\n\"]"
      ]
     },
     "execution_count": 83,
     "metadata": {},
     "output_type": "execute_result"
    }
   ],
   "source": [
    "os.chdir(\"/Users/Bya/Dropbox/Research/datas/TweetsPN/\")\n",
    "\n",
    "with open(\"BD_train.txt\") as tweet:\n",
    "    tweets = tweet.readlines()\n",
    "\n",
    "tweets[0].split('\\t')"
   ]
  },
  {
   "cell_type": "code",
   "execution_count": 94,
   "metadata": {
    "collapsed": false
   },
   "outputs": [
    {
     "data": {
      "text/html": [
       "<div>\n",
       "<table border=\"1\" class=\"dataframe\">\n",
       "  <thead>\n",
       "    <tr style=\"text-align: right;\">\n",
       "      <th></th>\n",
       "      <th>tweet</th>\n",
       "      <th>topic</th>\n",
       "      <th>sentiment</th>\n",
       "    </tr>\n",
       "  </thead>\n",
       "  <tbody>\n",
       "    <tr>\n",
       "      <th>count</th>\n",
       "      <td>3871</td>\n",
       "      <td>3871</td>\n",
       "      <td>3871</td>\n",
       "    </tr>\n",
       "    <tr>\n",
       "      <th>unique</th>\n",
       "      <td>3871</td>\n",
       "      <td>60</td>\n",
       "      <td>2</td>\n",
       "    </tr>\n",
       "    <tr>\n",
       "      <th>top</th>\n",
       "      <td>@SquirrelEvictor CMAT, Mariah Carey is the god...</td>\n",
       "      <td>magic mike xxl</td>\n",
       "      <td>positive</td>\n",
       "    </tr>\n",
       "    <tr>\n",
       "      <th>freq</th>\n",
       "      <td>1</td>\n",
       "      <td>87</td>\n",
       "      <td>3204</td>\n",
       "    </tr>\n",
       "  </tbody>\n",
       "</table>\n",
       "</div>"
      ],
      "text/plain": [
       "                                                    tweet           topic  \\\n",
       "count                                                3871            3871   \n",
       "unique                                               3871              60   \n",
       "top     @SquirrelEvictor CMAT, Mariah Carey is the god...  magic mike xxl   \n",
       "freq                                                    1              87   \n",
       "\n",
       "       sentiment  \n",
       "count       3871  \n",
       "unique         2  \n",
       "top     positive  \n",
       "freq        3204  "
      ]
     },
     "execution_count": 94,
     "metadata": {},
     "output_type": "execute_result"
    }
   ],
   "source": [
    "# Extract Tweet & Labels\n",
    "labels = []\n",
    "texts = []\n",
    "topics = []\n",
    "\n",
    "for tweet in tweets:\n",
    "    topic = tweet.split('\\t')[1]\n",
    "    label = tweet.split('\\t')[2]\n",
    "    text = tweet.split('\\t')[3]\n",
    "    \n",
    "    if text != 'Not Available\\n' and text not in texts:\n",
    "        labels.append(label)\n",
    "        texts.append(text)\n",
    "        topics.append(topic)\n",
    "\n",
    "# Create Dataframe\n",
    "dfTwitterTopicPn = pd.DataFrame(columns=['tweet', 'topic', 'sentiment'])\n",
    "dfTwitterTopicPn['tweet'] = texts\n",
    "dfTwitterTopicPn['sentiment'] = labels\n",
    "dfTwitterTopicPn['topic'] = topics\n",
    "\n",
    "dfTwitterTopicPn.describe()"
   ]
  },
  {
   "cell_type": "code",
   "execution_count": 95,
   "metadata": {
    "collapsed": true
   },
   "outputs": [],
   "source": [
    "useful_methods.DFtoCSV(dfTwitterTopicPn, \"/Users/Bya/Dropbox/Research/datas/TweetsPN/\", \"tweets_topics_pn(SemEval2016)\", index=False)"
   ]
  },
  {
   "cell_type": "markdown",
   "metadata": {},
   "source": [
    "### Tweet PN (SemEval 2013 + SemEval 2016)"
   ]
  },
  {
   "cell_type": "code",
   "execution_count": 89,
   "metadata": {
    "collapsed": false
   },
   "outputs": [
    {
     "name": "stdout",
     "output_type": "stream",
     "text": [
      "positive:  2844\n",
      "negative:  1073\n",
      "neutral:  3709\n"
     ]
    },
    {
     "data": {
      "text/html": [
       "<div>\n",
       "<table border=\"1\" class=\"dataframe\">\n",
       "  <thead>\n",
       "    <tr style=\"text-align: right;\">\n",
       "      <th></th>\n",
       "      <th>tweet</th>\n",
       "      <th>sentiment</th>\n",
       "    </tr>\n",
       "  </thead>\n",
       "  <tbody>\n",
       "    <tr>\n",
       "      <th>count</th>\n",
       "      <td>7626</td>\n",
       "      <td>7626</td>\n",
       "    </tr>\n",
       "    <tr>\n",
       "      <th>unique</th>\n",
       "      <td>7626</td>\n",
       "      <td>3</td>\n",
       "    </tr>\n",
       "    <tr>\n",
       "      <th>top</th>\n",
       "      <td>watching Kung Fu Panda 2 with the tribe &amp; the ...</td>\n",
       "      <td>neutral</td>\n",
       "    </tr>\n",
       "    <tr>\n",
       "      <th>freq</th>\n",
       "      <td>1</td>\n",
       "      <td>3709</td>\n",
       "    </tr>\n",
       "  </tbody>\n",
       "</table>\n",
       "</div>"
      ],
      "text/plain": [
       "                                                    tweet sentiment\n",
       "count                                                7626      7626\n",
       "unique                                               7626         3\n",
       "top     watching Kung Fu Panda 2 with the tribe & the ...   neutral\n",
       "freq                                                    1      3709"
      ]
     },
     "execution_count": 89,
     "metadata": {},
     "output_type": "execute_result"
    }
   ],
   "source": [
    "print(\"positive: \", len(dfTwitterPn[dfTwitterPn.sentiment == 'positive']))\n",
    "print(\"negative: \", len(dfTwitterPn[dfTwitterPn.sentiment == 'negative']))\n",
    "print(\"neutral: \", len(dfTwitterPn[dfTwitterPn.sentiment == 'neutral']))\n",
    "\n",
    "dfTwitterPn.describe()"
   ]
  },
  {
   "cell_type": "code",
   "execution_count": 96,
   "metadata": {
    "collapsed": false
   },
   "outputs": [
    {
     "name": "stdout",
     "output_type": "stream",
     "text": [
      "positive:  3204\n",
      "negative:  667\n"
     ]
    },
    {
     "data": {
      "text/html": [
       "<div>\n",
       "<table border=\"1\" class=\"dataframe\">\n",
       "  <thead>\n",
       "    <tr style=\"text-align: right;\">\n",
       "      <th></th>\n",
       "      <th>tweet</th>\n",
       "      <th>topic</th>\n",
       "      <th>sentiment</th>\n",
       "    </tr>\n",
       "  </thead>\n",
       "  <tbody>\n",
       "    <tr>\n",
       "      <th>count</th>\n",
       "      <td>3871</td>\n",
       "      <td>3871</td>\n",
       "      <td>3871</td>\n",
       "    </tr>\n",
       "    <tr>\n",
       "      <th>unique</th>\n",
       "      <td>3871</td>\n",
       "      <td>60</td>\n",
       "      <td>2</td>\n",
       "    </tr>\n",
       "    <tr>\n",
       "      <th>top</th>\n",
       "      <td>@SquirrelEvictor CMAT, Mariah Carey is the god...</td>\n",
       "      <td>magic mike xxl</td>\n",
       "      <td>positive</td>\n",
       "    </tr>\n",
       "    <tr>\n",
       "      <th>freq</th>\n",
       "      <td>1</td>\n",
       "      <td>87</td>\n",
       "      <td>3204</td>\n",
       "    </tr>\n",
       "  </tbody>\n",
       "</table>\n",
       "</div>"
      ],
      "text/plain": [
       "                                                    tweet           topic  \\\n",
       "count                                                3871            3871   \n",
       "unique                                               3871              60   \n",
       "top     @SquirrelEvictor CMAT, Mariah Carey is the god...  magic mike xxl   \n",
       "freq                                                    1              87   \n",
       "\n",
       "       sentiment  \n",
       "count       3871  \n",
       "unique         2  \n",
       "top     positive  \n",
       "freq        3204  "
      ]
     },
     "execution_count": 96,
     "metadata": {},
     "output_type": "execute_result"
    }
   ],
   "source": [
    "print(\"positive: \", len(dfTwitterTopicPn[dfTwitterTopicPn.sentiment == 'positive']))\n",
    "print(\"negative: \", len(dfTwitterTopicPn[dfTwitterTopicPn.sentiment == 'negative']))\n",
    "\n",
    "dfTwitterTopicPn.describe()"
   ]
  },
  {
   "cell_type": "code",
   "execution_count": 110,
   "metadata": {
    "collapsed": false
   },
   "outputs": [
    {
     "name": "stdout",
     "output_type": "stream",
     "text": [
      "positive:  6048\n",
      "negative:  1740\n",
      "neutral:  3709\n"
     ]
    },
    {
     "data": {
      "text/html": [
       "<div>\n",
       "<table border=\"1\" class=\"dataframe\">\n",
       "  <thead>\n",
       "    <tr style=\"text-align: right;\">\n",
       "      <th></th>\n",
       "      <th>tweet</th>\n",
       "      <th>sentiment</th>\n",
       "    </tr>\n",
       "  </thead>\n",
       "  <tbody>\n",
       "    <tr>\n",
       "      <th>count</th>\n",
       "      <td>11497</td>\n",
       "      <td>11497</td>\n",
       "    </tr>\n",
       "    <tr>\n",
       "      <th>unique</th>\n",
       "      <td>11497</td>\n",
       "      <td>3</td>\n",
       "    </tr>\n",
       "    <tr>\n",
       "      <th>top</th>\n",
       "      <td>same stage as Jay-Z but y'all don't wanna give...</td>\n",
       "      <td>positive</td>\n",
       "    </tr>\n",
       "    <tr>\n",
       "      <th>freq</th>\n",
       "      <td>1</td>\n",
       "      <td>6048</td>\n",
       "    </tr>\n",
       "  </tbody>\n",
       "</table>\n",
       "</div>"
      ],
      "text/plain": [
       "                                                    tweet sentiment\n",
       "count                                               11497     11497\n",
       "unique                                              11497         3\n",
       "top     same stage as Jay-Z but y'all don't wanna give...  positive\n",
       "freq                                                    1      6048"
      ]
     },
     "execution_count": 110,
     "metadata": {},
     "output_type": "execute_result"
    }
   ],
   "source": [
    "texts_pn = list(dfTwitterPn.tweet)\n",
    "labels_pn = list(dfTwitterPn.sentiment)\n",
    "\n",
    "texts_topic_pn = list(dfTwitterTopicPn.tweet)\n",
    "labels_topic_pn = list(dfTwitterTopicPn.sentiment)\n",
    "\n",
    "# Create Dataframe\n",
    "dfTwitter = pd.DataFrame(columns=['tweet', 'sentiment'])\n",
    "dfTwitter['tweet'] = texts_pn + texts_topic_pn\n",
    "dfTwitter['sentiment'] = labels_pn + labels_topic_pn\n",
    "\n",
    "print(\"positive: \", len(dfTwitter[dfTwitter.sentiment == 'positive']))\n",
    "print(\"negative: \", len(dfTwitter[dfTwitter.sentiment == 'negative']))\n",
    "print(\"neutral: \", len(dfTwitter[dfTwitter.sentiment == 'neutral']))\n",
    "\n",
    "dfTwitter.describe()"
   ]
  },
  {
   "cell_type": "code",
   "execution_count": 112,
   "metadata": {
    "collapsed": true
   },
   "outputs": [],
   "source": [
    "useful_methods.DFtoCSV(dfTwitter, \"/Users/Bya/Dropbox/Research/datas/TweetsPN/\", \"tweets_pn\", index=False)"
   ]
  }
 ],
 "metadata": {
  "kernelspec": {
   "display_name": "Python 3",
   "language": "python",
   "name": "python3"
  },
  "language_info": {
   "codemirror_mode": {
    "name": "ipython",
    "version": 3
   },
   "file_extension": ".py",
   "mimetype": "text/x-python",
   "name": "python",
   "nbconvert_exporter": "python",
   "pygments_lexer": "ipython3",
   "version": "3.4.3"
  }
 },
 "nbformat": 4,
 "nbformat_minor": 0
}
