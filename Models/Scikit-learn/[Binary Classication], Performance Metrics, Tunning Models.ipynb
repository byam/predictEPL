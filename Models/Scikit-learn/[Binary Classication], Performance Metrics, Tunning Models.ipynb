{
 "cells": [
  {
   "cell_type": "code",
   "execution_count": 1,
   "metadata": {
    "collapsed": false
   },
   "outputs": [
    {
     "name": "stdout",
     "output_type": "stream",
     "text": [
      "Populating the interactive namespace from numpy and matplotlib\n"
     ]
    }
   ],
   "source": [
    "%pylab inline\n",
    "%matplotlib inline\n",
    "\n",
    "import sys\n",
    "import os\n",
    "import time\n",
    "import codecs\n",
    "import pandas as pd\n",
    "from pprint import pprint\n",
    "import re\n",
    "\n",
    "sys.path.append(\"/Users/Bya/git/predictEPL/utils/\")\n",
    "sys.path.append(\"/Users/Bya/git/predictEPL/config/\")\n",
    "\n",
    "import emolex\n",
    "import paths\n",
    "import tokenizer\n",
    "import useful_methods as my_methods\n",
    "import train_datas"
   ]
  },
  {
   "cell_type": "markdown",
   "metadata": {},
   "source": [
    "### Problem: Spam Filter"
   ]
  },
  {
   "cell_type": "code",
   "execution_count": 18,
   "metadata": {
    "collapsed": true
   },
   "outputs": [],
   "source": [
    "import numpy as np\n",
    "import pandas as pd\n",
    "from sklearn.feature_extraction.text import TfidfVectorizer\n",
    "from sklearn.linear_model.logistic import LogisticRegression\n",
    "from sklearn.cross_validation import train_test_split, cross_val_score\n",
    "from sklearn.metrics import roc_curve, auc"
   ]
  },
  {
   "cell_type": "code",
   "execution_count": 30,
   "metadata": {
    "collapsed": false
   },
   "outputs": [
    {
     "name": "stdout",
     "output_type": "stream",
     "text": [
      "Spam:  747\n",
      "Ham:  4825\n"
     ]
    },
    {
     "data": {
      "text/html": [
       "<div>\n",
       "<table border=\"1\" class=\"dataframe\">\n",
       "  <thead>\n",
       "    <tr style=\"text-align: right;\">\n",
       "      <th></th>\n",
       "      <th>0</th>\n",
       "      <th>1</th>\n",
       "    </tr>\n",
       "  </thead>\n",
       "  <tbody>\n",
       "    <tr>\n",
       "      <th>0</th>\n",
       "      <td>0</td>\n",
       "      <td>Go until jurong point, crazy.. Available only ...</td>\n",
       "    </tr>\n",
       "    <tr>\n",
       "      <th>1</th>\n",
       "      <td>0</td>\n",
       "      <td>Ok lar... Joking wif u oni...</td>\n",
       "    </tr>\n",
       "    <tr>\n",
       "      <th>2</th>\n",
       "      <td>1</td>\n",
       "      <td>Free entry in 2 a wkly comp to win FA Cup fina...</td>\n",
       "    </tr>\n",
       "    <tr>\n",
       "      <th>3</th>\n",
       "      <td>0</td>\n",
       "      <td>U dun say so early hor... U c already then say...</td>\n",
       "    </tr>\n",
       "    <tr>\n",
       "      <th>4</th>\n",
       "      <td>0</td>\n",
       "      <td>Nah I don't think he goes to usf, he lives aro...</td>\n",
       "    </tr>\n",
       "  </tbody>\n",
       "</table>\n",
       "</div>"
      ],
      "text/plain": [
       "   0                                                  1\n",
       "0  0  Go until jurong point, crazy.. Available only ...\n",
       "1  0                      Ok lar... Joking wif u oni...\n",
       "2  1  Free entry in 2 a wkly comp to win FA Cup fina...\n",
       "3  0  U dun say so early hor... U c already then say...\n",
       "4  0  Nah I don't think he goes to usf, he lives aro..."
      ]
     },
     "execution_count": 30,
     "metadata": {},
     "output_type": "execute_result"
    }
   ],
   "source": [
    "###############################################\n",
    "\n",
    "# 1. Data Load\n",
    "os.chdir(\"/Users/Bya/Dropbox/Research/resources/smsspamcollection/\")\n",
    "df = pd.read_csv(\"SMSSpamCollection.txt\", delimiter='\\t', header=None)\n",
    "\n",
    "dic_spam = {\n",
    "    'ham': 0,\n",
    "    'spam': 1\n",
    "}\n",
    "df[0] = [dic_spam[label] for label in df[0]]\n",
    "\n",
    "print(\"Spam: \", df[df[0] == 1][0].count())\n",
    "print(\"Ham: \", df[df[0] == 0][0].count())\n",
    "df.head()"
   ]
  },
  {
   "cell_type": "code",
   "execution_count": 5,
   "metadata": {
    "collapsed": false
   },
   "outputs": [
    {
     "name": "stdout",
     "output_type": "stream",
     "text": [
      "Prediction: 0. \n",
      "Message: Wherre's my boytoy ? :-(\n",
      "\n",
      "\n",
      "Prediction: 0. \n",
      "Message: Sorry, I'll call later\n",
      "\n",
      "\n",
      "Prediction: 0. \n",
      "Message: Me too baby! I promise to treat you well! I bet you will take good care of me...\n",
      "\n",
      "\n",
      "Prediction: 1. \n",
      "Message: Urgent UR awarded a complimentary trip to EuroDisinc Trav, Aco&Entry41 Or £1000. To claim txt DIS to 87121 18+6*£1.50(moreFrmMob. ShrAcomOrSglSuplt)10, LS1 3AJ\n",
      "\n",
      "\n",
      "Prediction: 0. \n",
      "Message: Aldrine, rakhesh ex RTM here.pls call.urgent.\n",
      "\n",
      "\n"
     ]
    }
   ],
   "source": [
    "###############################################\n",
    "\n",
    "# 2. Split data to\n",
    "# Train(0.75), Test(0.25)\n",
    "X_train_raw, X_test_raw, y_train, y_test = train_test_split(\n",
    "    df[1], df[0], test_size = 0.25)\n",
    "\n",
    "# 3. Data to Vector\n",
    "# bag-of-words, tf-idf\n",
    "vectorizer = TfidfVectorizer()\n",
    "X_train = vectorizer.fit_transform(X_train_raw)\n",
    "X_test = vectorizer.transform(X_test_raw)\n",
    "\n",
    "# 4. Logistic Regression\n",
    "classifier = LogisticRegression()\n",
    "classifier.fit(X_train, y_train)\n",
    "predictions = classifier.predict(X_test)\n",
    "\n",
    "# Prediction Examples\n",
    "for i, prediction in enumerate(predictions[:5]):\n",
    "    print('Prediction: %s. \\nMessage: %s\\n\\n' % (prediction, list(X_test_raw)[i]))"
   ]
  },
  {
   "cell_type": "markdown",
   "metadata": {},
   "source": [
    "## Binary classication performance metrics"
   ]
  },
  {
   "cell_type": "markdown",
   "metadata": {},
   "source": [
    "### 1. Confusion Matrix"
   ]
  },
  {
   "cell_type": "code",
   "execution_count": 8,
   "metadata": {
    "collapsed": false
   },
   "outputs": [
    {
     "name": "stdout",
     "output_type": "stream",
     "text": [
      "[[1195    2]\n",
      " [  39  157]]\n"
     ]
    },
    {
     "name": "stderr",
     "output_type": "stream",
     "text": [
      "/Users/Bya/.virtualenvs/py3/lib/python3.4/site-packages/matplotlib/collections.py:590: FutureWarning: elementwise comparison failed; returning scalar instead, but in the future will perform elementwise comparison\n",
      "  if self._edgecolors == str('face'):\n"
     ]
    },
    {
     "data": {
      "image/png": "[encoded data removed]",
      "text/plain": [
       "<matplotlib.figure.Figure at 0x10a2ee160>"
      ]
     },
     "metadata": {},
     "output_type": "display_data"
    }
   ],
   "source": [
    "from sklearn.metrics import confusion_matrix\n",
    "import matplotlib.pyplot as plt\n",
    "\n",
    "confusion_matrix = confusion_matrix(y_test, predictions)\n",
    "print(confusion_matrix)\n",
    "\n",
    "plt.matshow(confusion_matrix, cmap=plt.cm.binary, interpolation='nearest')\n",
    "plt.title('Confusion matrix')\n",
    "plt.colorbar()\n",
    "plt.ylabel('True label')\n",
    "plt.xlabel('Predicted label')\n",
    "plt.show()"
   ]
  },
  {
   "cell_type": "markdown",
   "metadata": {},
   "source": [
    "### 2. Accuracy"
   ]
  },
  {
   "cell_type": "code",
   "execution_count": 9,
   "metadata": {
    "collapsed": false
   },
   "outputs": [
    {
     "name": "stdout",
     "output_type": "stream",
     "text": [
      "Accuracy: 0.970567121321\n"
     ]
    }
   ],
   "source": [
    "from sklearn.metrics import accuracy_score\n",
    "\n",
    "print('Accuracy:', accuracy_score(y_test, predictions))"
   ]
  },
  {
   "cell_type": "code",
   "execution_count": 10,
   "metadata": {
    "collapsed": false
   },
   "outputs": [
    {
     "name": "stdout",
     "output_type": "stream",
     "text": [
      "0.954293587714 [ 0.95459976  0.95813397  0.9569378   0.94730539  0.95449102]\n"
     ]
    }
   ],
   "source": [
    "###################\n",
    "# Spam, Logistic Regression\n",
    "# Accuracy\n",
    "\n",
    "scores = cross_val_score(classifier, X_train, y_train, cv=5)\n",
    "print(np.mean(scores), scores)"
   ]
  },
  {
   "cell_type": "markdown",
   "metadata": {},
   "source": [
    "### 3. Precision & Recall"
   ]
  },
  {
   "cell_type": "code",
   "execution_count": 12,
   "metadata": {
    "collapsed": false
   },
   "outputs": [
    {
     "name": "stdout",
     "output_type": "stream",
     "text": [
      "Precision:  0.986493506494 [ 0.97402597  0.98701299  1.          0.97142857  1.        ]\n",
      "Recalls:  0.662407862408 [ 0.67567568  0.69090909  0.67272727  0.61818182  0.65454545]\n"
     ]
    }
   ],
   "source": [
    "# P = TP / (TP + FP)\n",
    "precisions = cross_val_score(classifier, X_train, y_train,\n",
    "                             cv=5, scoring='precision')\n",
    "\n",
    "print('Precision: ', np.mean(precisions), precisions)\n",
    "\n",
    "# R = TP / (TP + FN)\n",
    "recalls = cross_val_score(classifier, X_train, y_train,\n",
    "                          cv=5, scoring='recall')\n",
    "print('Recalls: ', np.mean(recalls), recalls)"
   ]
  },
  {
   "cell_type": "markdown",
   "metadata": {},
   "source": [
    "### 4. Calculating the F1 measure"
   ]
  },
  {
   "cell_type": "code",
   "execution_count": 16,
   "metadata": {
    "collapsed": false
   },
   "outputs": [
    {
     "name": "stdout",
     "output_type": "stream",
     "text": [
      "F1:  0.792363747575 [ 0.79787234  0.81283422  0.80434783  0.75555556  0.79120879]\n"
     ]
    }
   ],
   "source": [
    "# F1 = 2 * PR / (P + R)\n",
    "\n",
    "f1s = cross_val_score(classifier, X_train, y_train,\n",
    "                      cv=5, scoring='f1')\n",
    "print(\"F1: \", np.mean(f1s), f1s)"
   ]
  },
  {
   "cell_type": "markdown",
   "metadata": {},
   "source": [
    "### 5. ROC AUC "
   ]
  },
  {
   "cell_type": "code",
   "execution_count": 21,
   "metadata": {
    "collapsed": false
   },
   "outputs": [
    {
     "data": {
      "image/png": "[encoded data removed]",
      "text/plain": [
       "<matplotlib.figure.Figure at 0x10a3a1e10>"
      ]
     },
     "metadata": {},
     "output_type": "display_data"
    }
   ],
   "source": [
    "# Receiver Operating Characteristic = ROC curve\n",
    "# Visualizes a classifier's performance\n",
    "# for all values of the discrimination threshold. \n",
    "\n",
    "# fall out: F = FP / (TN + FP)\n",
    "\n",
    "# AUC (area under the curve)\n",
    "\n",
    "predictions_test = classifier.predict_proba(X_test)\n",
    "\n",
    "false_positive_rate, recall, thresholds = roc_curve(\n",
    "    y_test, predictions_test[:, 1])\n",
    "\n",
    "roc_auc = auc(false_positive_rate, recall)\n",
    "\n",
    "# Plot\n",
    "plt.title('Receiver Operating Characteristic')\n",
    "plt.plot(false_positive_rate, recall, 'b', label='AUC = %0.2f' % roc_auc)\n",
    "\n",
    "plt.legend(loc='lower right')\n",
    "plt.plot([0, 1], [0, 1], 'r--')\n",
    "plt.xlim([0.0, 1.0])\n",
    "plt.ylim([0.0, 1.0])\n",
    "plt.ylabel('Recall')\n",
    "plt.xlabel('Fall-out')\n",
    "plt.show()"
   ]
  },
  {
   "cell_type": "markdown",
   "metadata": {},
   "source": [
    "## Tunning Models with Grid Search"
   ]
  },
  {
   "cell_type": "code",
   "execution_count": 34,
   "metadata": {
    "collapsed": false
   },
   "outputs": [],
   "source": [
    "import pandas as pd\n",
    "from sklearn.feature_extraction.text import TfidfVectorizer\n",
    "from sklearn.linear_model.logistic import LogisticRegression\n",
    "from sklearn.grid_search import GridSearchCV\n",
    "from sklearn.pipeline import Pipeline\n",
    "from sklearn.cross_validation import train_test_split\n",
    "from sklearn.metrics import precision_score, recall_score, accuracy_score"
   ]
  },
  {
   "cell_type": "code",
   "execution_count": 35,
   "metadata": {
    "collapsed": true
   },
   "outputs": [],
   "source": [
    "pipeline = Pipeline([\n",
    "   ('vect', TfidfVectorizer(stop_words='english')),\n",
    "   ('clf', LogisticRegression())\n",
    "])\n",
    "parameters = {\n",
    "   'vect__max_df': (0.25, 0.5, 0.75),\n",
    "   'vect__stop_words': ('english', None),\n",
    "   'vect__max_features': (2500, 5000, 10000, None),\n",
    "   'vect__ngram_range': ((1, 1), (1, 2)),\n",
    "   'vect__use_idf': (True, False),\n",
    "   'vect__norm': ('l1', 'l2'),\n",
    "   'clf__penalty': ('l1', 'l2'),\n",
    "   'clf__C': (0.01, 0.1, 1, 10),\n",
    "}"
   ]
  },
  {
   "cell_type": "code",
   "execution_count": 36,
   "metadata": {
    "collapsed": false
   },
   "outputs": [],
   "source": [
    "grid_search = GridSearchCV(\n",
    "    pipeline,\n",
    "    parameters,\n",
    "    n_jobs=-1,\n",
    "    verbose=1,\n",
    "    scoring='accuracy',\n",
    "    cv=3)\n",
    "\n",
    "X, y, = df[1], df[0]\n",
    "X_train, X_test, y_train, y_test = train_test_split(X, y)"
   ]
  },
  {
   "cell_type": "code",
   "execution_count": 37,
   "metadata": {
    "collapsed": false
   },
   "outputs": [
    {
     "name": "stdout",
     "output_type": "stream",
     "text": [
      "Fitting 3 folds for each of 1536 candidates, totalling 4608 fits\n"
     ]
    },
    {
     "name": "stderr",
     "output_type": "stream",
     "text": [
      "[Parallel(n_jobs=-1)]: Done   1 jobs       | elapsed:    0.3s\n",
      "[Parallel(n_jobs=-1)]: Done  50 jobs       | elapsed:    5.0s\n",
      "[Parallel(n_jobs=-1)]: Done 200 jobs       | elapsed:   19.7s\n",
      "[Parallel(n_jobs=-1)]: Done 450 jobs       | elapsed:   45.0s\n",
      "[Parallel(n_jobs=-1)]: Done 800 jobs       | elapsed:  1.3min\n",
      "[Parallel(n_jobs=-1)]: Done 1250 jobs       | elapsed:  2.2min\n",
      "[Parallel(n_jobs=-1)]: Done 1800 jobs       | elapsed:  3.2min\n",
      "[Parallel(n_jobs=-1)]: Done 2450 jobs       | elapsed:  4.3min\n",
      "[Parallel(n_jobs=-1)]: Done 3200 jobs       | elapsed:  5.7min\n",
      "[Parallel(n_jobs=-1)]: Done 4050 jobs       | elapsed:  9.6min\n",
      "[Parallel(n_jobs=-1)]: Done 4602 out of 4608 | elapsed: 10.7min remaining:    0.8s\n",
      "[Parallel(n_jobs=-1)]: Done 4608 out of 4608 | elapsed: 10.7min finished\n"
     ]
    },
    {
     "name": "stdout",
     "output_type": "stream",
     "text": [
      "Best score: 0.984\n",
      "Best parameters set:\n",
      "\tclf__C: 10\n",
      "\tclf__penalty: 'l2'\n",
      "\tvect__max_df: 0.25\n",
      "\tvect__max_features: 5000\n",
      "\tvect__ngram_range: (1, 2)\n",
      "\tvect__norm: 'l2'\n",
      "\tvect__stop_words: None\n",
      "\tvect__use_idf: True\n",
      "Accuracy: 0.986360373295\n",
      "Precision: 1.0\n",
      "Recall: 0.90306122449\n"
     ]
    }
   ],
   "source": [
    "grid_search.fit(X_train, y_train)\n",
    "\n",
    "print('Best score: %0.3f' % grid_search.best_score_)\n",
    "print('Best parameters set:')\n",
    "best_parameters = grid_search.best_estimator_.get_params()\n",
    "\n",
    "for param_name in sorted(parameters.keys()):\n",
    "   print('\\t%s: %r' % (param_name, best_parameters[param_name]))\n",
    "predictions = grid_search.predict(X_test)\n",
    "print('Accuracy:', accuracy_score(y_test, predictions))\n",
    "print('Precision:', precision_score(y_test, predictions))\n",
    "print('Recall:', recall_score(y_test, predictions))"
   ]
  }
 ],
 "metadata": {
  "kernelspec": {
   "display_name": "Python 3",
   "language": "python",
   "name": "python3"
  },
  "language_info": {
   "codemirror_mode": {
    "name": "ipython",
    "version": 3
   },
   "file_extension": ".py",
   "mimetype": "text/x-python",
   "name": "python",
   "nbconvert_exporter": "python",
   "pygments_lexer": "ipython3",
   "version": "3.4.3"
  }
 },
 "nbformat": 4,
 "nbformat_minor": 0
}
