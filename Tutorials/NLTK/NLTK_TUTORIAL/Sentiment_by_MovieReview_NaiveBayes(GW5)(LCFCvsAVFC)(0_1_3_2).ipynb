{
 "cells": [
  {
   "cell_type": "code",
   "execution_count": 1,
   "metadata": {
    "collapsed": false
   },
   "outputs": [
    {
     "name": "stdout",
     "output_type": "stream",
     "text": [
      "Populating the interactive namespace from numpy and matplotlib\n"
     ]
    }
   ],
   "source": [
    "%pylab inline\n",
    "%matplotlib inline"
   ]
  },
  {
   "cell_type": "code",
   "execution_count": 2,
   "metadata": {
    "collapsed": true
   },
   "outputs": [],
   "source": [
    "import json\n",
    "import pandas as pd\n",
    "import matplotlib.pyplot as plt\n",
    "import nltk\n",
    "from nltk.tokenize import word_tokenize, sent_tokenize\n",
    "import codecs\n",
    "import collections\n",
    "import pickle\n",
    "\n",
    "import sentiment_aware as sa"
   ]
  },
  {
   "cell_type": "markdown",
   "metadata": {},
   "source": [
    "### Define variables"
   ]
  },
  {
   "cell_type": "code",
   "execution_count": 3,
   "metadata": {
    "collapsed": true
   },
   "outputs": [],
   "source": [
    "home = \"LCFC\"\n",
    "away = \"AVFC\""
   ]
  },
  {
   "cell_type": "markdown",
   "metadata": {},
   "source": [
    "### Load Data and Preprocessing"
   ]
  },
  {
   "cell_type": "code",
   "execution_count": 4,
   "metadata": {
    "collapsed": false
   },
   "outputs": [],
   "source": [
    "# Read file\n",
    "tweets_file = open(\"../../EPLdata/GW5/15091400_LCFCvsAVFC.txt\", \"r\")"
   ]
  },
  {
   "cell_type": "code",
   "execution_count": 5,
   "metadata": {
    "collapsed": false
   },
   "outputs": [],
   "source": [
    "# Parsing JSON\n",
    "\n",
    "tweets_data = []\n",
    "for line in tweets_file:\n",
    "    try:\n",
    "        tweet = json.loads(line)\n",
    "        if \"text\" in tweet:\n",
    "            tweets_data.append(tweet)\n",
    "    except:\n",
    "        continue"
   ]
  },
  {
   "cell_type": "code",
   "execution_count": 6,
   "metadata": {
    "collapsed": true
   },
   "outputs": [],
   "source": [
    "tweets_file.close()"
   ]
  },
  {
   "cell_type": "code",
   "execution_count": 7,
   "metadata": {
    "collapsed": false
   },
   "outputs": [
    {
     "name": "stdout",
     "output_type": "stream",
     "text": [
      "7072\n"
     ]
    }
   ],
   "source": [
    "print len(tweets_data)"
   ]
  },
  {
   "cell_type": "markdown",
   "metadata": {},
   "source": [
    "### Create DataFrame as tweets"
   ]
  },
  {
   "cell_type": "code",
   "execution_count": 8,
   "metadata": {
    "collapsed": false
   },
   "outputs": [],
   "source": [
    "tweets = pd.DataFrame()\n",
    "tweets['text'] = map(lambda tweet: tweet['text'], tweets_data)\n",
    "tweets['lang'] = map(lambda tweet: tweet['lang'], tweets_data)\n",
    "tweets['hashtags'] = map(lambda tweet: map(lambda tag: tag['text'], tweet['entities']['hashtags']), tweets_data)"
   ]
  },
  {
   "cell_type": "code",
   "execution_count": 9,
   "metadata": {
    "collapsed": false,
    "scrolled": true
   },
   "outputs": [],
   "source": [
    "# 0: no tags, 3: both team tags, 1: only home team tags, 2: only away team tags, 4: other tags\n",
    "def find_tag(tag):\n",
    "    if not tag:\n",
    "        return 0\n",
    "    if home in tag and away in tag:\n",
    "        return 3\n",
    "    if home in tag:\n",
    "        return 1\n",
    "    if away in tag:\n",
    "        return 2\n",
    "    else:\n",
    "        return 4\n",
    "\n",
    "tweets[\"tag_num\"] = map(lambda tags: find_tag(tags), tweets['hashtags'])"
   ]
  },
  {
   "cell_type": "code",
   "execution_count": 10,
   "metadata": {
    "collapsed": false,
    "scrolled": true
   },
   "outputs": [
    {
     "data": {
      "text/html": [
       "<div>\n",
       "<table border=\"1\" class=\"dataframe\">\n",
       "  <thead>\n",
       "    <tr style=\"text-align: right;\">\n",
       "      <th></th>\n",
       "      <th>text</th>\n",
       "      <th>lang</th>\n",
       "      <th>hashtags</th>\n",
       "      <th>tag_num</th>\n",
       "    </tr>\n",
       "  </thead>\n",
       "  <tbody>\n",
       "    <tr>\n",
       "      <th>0</th>\n",
       "      <td>Leicester City VS Aston Villa\\n\\nLive Stream :...</td>\n",
       "      <td>en</td>\n",
       "      <td>[LeiAst, AVFC, LCFC, LEIAVL, MotoGP]</td>\n",
       "      <td>3</td>\n",
       "    </tr>\n",
       "    <tr>\n",
       "      <th>1</th>\n",
       "      <td>RT @LetsRantLcfc: EVERYWHERE WE GO, WE'RE LEIC...</td>\n",
       "      <td>en</td>\n",
       "      <td>[LCFC]</td>\n",
       "      <td>1</td>\n",
       "    </tr>\n",
       "    <tr>\n",
       "      <th>2</th>\n",
       "      <td>Big test for Amavi against Mahrez today! Come ...</td>\n",
       "      <td>en</td>\n",
       "      <td>[AVFC]</td>\n",
       "      <td>2</td>\n",
       "    </tr>\n",
       "    <tr>\n",
       "      <th>3</th>\n",
       "      <td>Leicester City VS Aston Villa\\n\\nLive Stream :...</td>\n",
       "      <td>en</td>\n",
       "      <td>[LeiAst, AVFC, LCFC, LEIAVL, BPL, soccer, foot...</td>\n",
       "      <td>3</td>\n",
       "    </tr>\n",
       "    <tr>\n",
       "      <th>4</th>\n",
       "      <td>KICK-OFF: We are under way at the King Power S...</td>\n",
       "      <td>en</td>\n",
       "      <td>[lcfc, LeiAst]</td>\n",
       "      <td>4</td>\n",
       "    </tr>\n",
       "    <tr>\n",
       "      <th>5</th>\n",
       "      <td>COME ON YOU LIONS! #AVFC</td>\n",
       "      <td>en</td>\n",
       "      <td>[AVFC]</td>\n",
       "      <td>2</td>\n",
       "    </tr>\n",
       "    <tr>\n",
       "      <th>6</th>\n",
       "      <td>worry worry worry ! #avfc</td>\n",
       "      <td>en</td>\n",
       "      <td>[avfc]</td>\n",
       "      <td>4</td>\n",
       "    </tr>\n",
       "    <tr>\n",
       "      <th>7</th>\n",
       "      <td>Leicester City V Aston Villa\\n\\nLive Stream : ...</td>\n",
       "      <td>en</td>\n",
       "      <td>[MatchDay, LetsGetThatWin, foxes, LeicesterCit...</td>\n",
       "      <td>3</td>\n",
       "    </tr>\n",
       "    <tr>\n",
       "      <th>8</th>\n",
       "      <td>RT @AVFCOfficial: It's showtime! Villa to kick...</td>\n",
       "      <td>en</td>\n",
       "      <td>[LEIAVL, AVFC]</td>\n",
       "      <td>2</td>\n",
       "    </tr>\n",
       "    <tr>\n",
       "      <th>9</th>\n",
       "      <td>RT @premierleague: KICK-OFF #AVFC get us under...</td>\n",
       "      <td>en</td>\n",
       "      <td>[AVFC, LCFC, BPL, LEIAVL]</td>\n",
       "      <td>3</td>\n",
       "    </tr>\n",
       "    <tr>\n",
       "      <th>10</th>\n",
       "      <td>RT @LCFC: ARRIVALS: The #lcfc boys are here re...</td>\n",
       "      <td>en</td>\n",
       "      <td>[lcfc, LeiAst]</td>\n",
       "      <td>4</td>\n",
       "    </tr>\n",
       "    <tr>\n",
       "      <th>11</th>\n",
       "      <td>Leicester City VS Aston Villa\\n\\nLive Stream :...</td>\n",
       "      <td>en</td>\n",
       "      <td>[LeiAst, AVFC, LCFC, LEIAVL, MotoGP]</td>\n",
       "      <td>3</td>\n",
       "    </tr>\n",
       "    <tr>\n",
       "      <th>12</th>\n",
       "      <td>RT @premierleague: KICK-OFF #AVFC get us under...</td>\n",
       "      <td>en</td>\n",
       "      <td>[AVFC, LCFC, BPL, LEIAVL]</td>\n",
       "      <td>3</td>\n",
       "    </tr>\n",
       "    <tr>\n",
       "      <th>13</th>\n",
       "      <td>RT @Villafandan: Hey sky. It's a local game.  ...</td>\n",
       "      <td>en</td>\n",
       "      <td>[avfc, lcfc]</td>\n",
       "      <td>4</td>\n",
       "    </tr>\n",
       "    <tr>\n",
       "      <th>14</th>\n",
       "      <td>Wow what a fab atmosphere at the #KingPowerSta...</td>\n",
       "      <td>en</td>\n",
       "      <td>[KingPowerStadium, LCFC]</td>\n",
       "      <td>1</td>\n",
       "    </tr>\n",
       "    <tr>\n",
       "      <th>15</th>\n",
       "      <td>Sinclair, Grealish, Gill as the 3 on the 4-2-3...</td>\n",
       "      <td>en</td>\n",
       "      <td>[avfc, bplonnbc]</td>\n",
       "      <td>4</td>\n",
       "    </tr>\n",
       "    <tr>\n",
       "      <th>16</th>\n",
       "      <td>Kick-Off: #LCFC v #AVFC is underway! #LEIAVL</td>\n",
       "      <td>en</td>\n",
       "      <td>[LCFC, AVFC, LEIAVL]</td>\n",
       "      <td>3</td>\n",
       "    </tr>\n",
       "    <tr>\n",
       "      <th>17</th>\n",
       "      <td>Come on Villa! #avfc</td>\n",
       "      <td>en</td>\n",
       "      <td>[avfc]</td>\n",
       "      <td>4</td>\n",
       "    </tr>\n",
       "    <tr>\n",
       "      <th>18</th>\n",
       "      <td>Leicester City VS Aston Villa\\n\\nLive Stream :...</td>\n",
       "      <td>en</td>\n",
       "      <td>[LCFC, BlueArmy, LTID, COYF, FNQ, LEIAVL, BPL,...</td>\n",
       "      <td>3</td>\n",
       "    </tr>\n",
       "    <tr>\n",
       "      <th>19</th>\n",
       "      <td>Come on then boys #AVFC</td>\n",
       "      <td>en</td>\n",
       "      <td>[AVFC]</td>\n",
       "      <td>2</td>\n",
       "    </tr>\n",
       "  </tbody>\n",
       "</table>\n",
       "</div>"
      ],
      "text/plain": [
       "                                                 text lang  \\\n",
       "0   Leicester City VS Aston Villa\\n\\nLive Stream :...   en   \n",
       "1   RT @LetsRantLcfc: EVERYWHERE WE GO, WE'RE LEIC...   en   \n",
       "2   Big test for Amavi against Mahrez today! Come ...   en   \n",
       "3   Leicester City VS Aston Villa\\n\\nLive Stream :...   en   \n",
       "4   KICK-OFF: We are under way at the King Power S...   en   \n",
       "5                            COME ON YOU LIONS! #AVFC   en   \n",
       "6                           worry worry worry ! #avfc   en   \n",
       "7   Leicester City V Aston Villa\\n\\nLive Stream : ...   en   \n",
       "8   RT @AVFCOfficial: It's showtime! Villa to kick...   en   \n",
       "9   RT @premierleague: KICK-OFF #AVFC get us under...   en   \n",
       "10  RT @LCFC: ARRIVALS: The #lcfc boys are here re...   en   \n",
       "11  Leicester City VS Aston Villa\\n\\nLive Stream :...   en   \n",
       "12  RT @premierleague: KICK-OFF #AVFC get us under...   en   \n",
       "13  RT @Villafandan: Hey sky. It's a local game.  ...   en   \n",
       "14  Wow what a fab atmosphere at the #KingPowerSta...   en   \n",
       "15  Sinclair, Grealish, Gill as the 3 on the 4-2-3...   en   \n",
       "16       Kick-Off: #LCFC v #AVFC is underway! #LEIAVL   en   \n",
       "17                               Come on Villa! #avfc   en   \n",
       "18  Leicester City VS Aston Villa\\n\\nLive Stream :...   en   \n",
       "19                            Come on then boys #AVFC   en   \n",
       "\n",
       "                                             hashtags  tag_num  \n",
       "0                [LeiAst, AVFC, LCFC, LEIAVL, MotoGP]        3  \n",
       "1                                              [LCFC]        1  \n",
       "2                                              [AVFC]        2  \n",
       "3   [LeiAst, AVFC, LCFC, LEIAVL, BPL, soccer, foot...        3  \n",
       "4                                      [lcfc, LeiAst]        4  \n",
       "5                                              [AVFC]        2  \n",
       "6                                              [avfc]        4  \n",
       "7   [MatchDay, LetsGetThatWin, foxes, LeicesterCit...        3  \n",
       "8                                      [LEIAVL, AVFC]        2  \n",
       "9                           [AVFC, LCFC, BPL, LEIAVL]        3  \n",
       "10                                     [lcfc, LeiAst]        4  \n",
       "11               [LeiAst, AVFC, LCFC, LEIAVL, MotoGP]        3  \n",
       "12                          [AVFC, LCFC, BPL, LEIAVL]        3  \n",
       "13                                       [avfc, lcfc]        4  \n",
       "14                           [KingPowerStadium, LCFC]        1  \n",
       "15                                   [avfc, bplonnbc]        4  \n",
       "16                               [LCFC, AVFC, LEIAVL]        3  \n",
       "17                                             [avfc]        4  \n",
       "18  [LCFC, BlueArmy, LTID, COYF, FNQ, LEIAVL, BPL,...        3  \n",
       "19                                             [AVFC]        2  "
      ]
     },
     "execution_count": 10,
     "metadata": {},
     "output_type": "execute_result"
    }
   ],
   "source": [
    "tweets[:20]"
   ]
  },
  {
   "cell_type": "code",
   "execution_count": 11,
   "metadata": {
    "collapsed": false
   },
   "outputs": [
    {
     "name": "stdout",
     "output_type": "stream",
     "text": [
      "Home Team Tags:  190\n",
      "Away Team Tags:  1266\n",
      "Both Team Tags:  3620\n",
      "Other Team Tags:  76\n",
      "No Tags: \t1920\n",
      "All Tweets:  7072\n"
     ]
    }
   ],
   "source": [
    "home_hashtags = len(tweets[tweets[\"tag_num\"] == 1])\n",
    "away_hashtags = len(tweets[tweets[\"tag_num\"] == 2])\n",
    "both_hashtags = len(tweets[tweets[\"tag_num\"] == 3])\n",
    "no_hashtags = len(tweets[tweets[\"tag_num\"] == 4])\n",
    "other_hashtags = len(tweets[tweets[\"tag_num\"] == 0])\n",
    "\n",
    "print \"Home Team Tags: \", home_hashtags\n",
    "print \"Away Team Tags: \", away_hashtags\n",
    "print \"Both Team Tags: \", both_hashtags\n",
    "print \"Other Team Tags: \", other_hashtags\n",
    "print \"No Tags: \\t\", no_hashtags\n",
    "print \"All Tweets: \", len(tweets)"
   ]
  },
  {
   "cell_type": "code",
   "execution_count": 12,
   "metadata": {
    "collapsed": false
   },
   "outputs": [
    {
     "data": {
      "image/png": "[encoded data removed]",
      "text/plain": [
       "<matplotlib.figure.Figure at 0x110a05910>"
      ]
     },
     "metadata": {},
     "output_type": "display_data"
    }
   ],
   "source": [
    "# Plot Hashtags Pie\n",
    "slices = [home_hashtags, both_hashtags, away_hashtags, other_hashtags, no_hashtags]\n",
    "activities = ['home','both','away', 'other', 'no_tag']\n",
    "cols = ['g','orange','b', 'w', 'y']\n",
    "\n",
    "plt.pie(slices,\n",
    "        labels=activities,\n",
    "        colors=cols,\n",
    "        autopct='%1.1f%%')\n",
    "\n",
    "plt.title('Tweets by hashtags\\n')\n",
    "plt.show()"
   ]
  },
  {
   "cell_type": "code",
   "execution_count": 13,
   "metadata": {
    "collapsed": false
   },
   "outputs": [
    {
     "data": {
      "text/html": [
       "<div>\n",
       "<table border=\"1\" class=\"dataframe\">\n",
       "  <thead>\n",
       "    <tr style=\"text-align: right;\">\n",
       "      <th></th>\n",
       "      <th>text</th>\n",
       "      <th>lang</th>\n",
       "      <th>hashtags</th>\n",
       "      <th>tag_num</th>\n",
       "    </tr>\n",
       "  </thead>\n",
       "  <tbody>\n",
       "    <tr>\n",
       "      <th>0</th>\n",
       "      <td>Leicester City VS Aston Villa\\n\\nLive Stream :...</td>\n",
       "      <td>en</td>\n",
       "      <td>[LeiAst, AVFC, LCFC, LEIAVL, MotoGP]</td>\n",
       "      <td>3</td>\n",
       "    </tr>\n",
       "    <tr>\n",
       "      <th>1</th>\n",
       "      <td>RT @LetsRantLcfc: EVERYWHERE WE GO, WE'RE LEIC...</td>\n",
       "      <td>en</td>\n",
       "      <td>[LCFC]</td>\n",
       "      <td>1</td>\n",
       "    </tr>\n",
       "    <tr>\n",
       "      <th>2</th>\n",
       "      <td>Big test for Amavi against Mahrez today! Come ...</td>\n",
       "      <td>en</td>\n",
       "      <td>[AVFC]</td>\n",
       "      <td>2</td>\n",
       "    </tr>\n",
       "    <tr>\n",
       "      <th>3</th>\n",
       "      <td>Leicester City VS Aston Villa\\n\\nLive Stream :...</td>\n",
       "      <td>en</td>\n",
       "      <td>[LeiAst, AVFC, LCFC, LEIAVL, BPL, soccer, foot...</td>\n",
       "      <td>3</td>\n",
       "    </tr>\n",
       "    <tr>\n",
       "      <th>4</th>\n",
       "      <td>KICK-OFF: We are under way at the King Power S...</td>\n",
       "      <td>en</td>\n",
       "      <td>[lcfc, LeiAst]</td>\n",
       "      <td>4</td>\n",
       "    </tr>\n",
       "  </tbody>\n",
       "</table>\n",
       "</div>"
      ],
      "text/plain": [
       "                                                text lang  \\\n",
       "0  Leicester City VS Aston Villa\\n\\nLive Stream :...   en   \n",
       "1  RT @LetsRantLcfc: EVERYWHERE WE GO, WE'RE LEIC...   en   \n",
       "2  Big test for Amavi against Mahrez today! Come ...   en   \n",
       "3  Leicester City VS Aston Villa\\n\\nLive Stream :...   en   \n",
       "4  KICK-OFF: We are under way at the King Power S...   en   \n",
       "\n",
       "                                            hashtags  tag_num  \n",
       "0               [LeiAst, AVFC, LCFC, LEIAVL, MotoGP]        3  \n",
       "1                                             [LCFC]        1  \n",
       "2                                             [AVFC]        2  \n",
       "3  [LeiAst, AVFC, LCFC, LEIAVL, BPL, soccer, foot...        3  \n",
       "4                                     [lcfc, LeiAst]        4  "
      ]
     },
     "execution_count": 13,
     "metadata": {},
     "output_type": "execute_result"
    }
   ],
   "source": [
    "# using only english tweets\n",
    "tweets_eng = tweets[tweets[\"lang\"] == \"en\"]\n",
    "tweets_eng.head()"
   ]
  },
  {
   "cell_type": "code",
   "execution_count": 14,
   "metadata": {
    "collapsed": false
   },
   "outputs": [
    {
     "name": "stdout",
     "output_type": "stream",
     "text": [
      "7072\n"
     ]
    }
   ],
   "source": [
    "print len(tweets_eng)"
   ]
  },
  {
   "cell_type": "markdown",
   "metadata": {
    "collapsed": true
   },
   "source": [
    "### Sentiment of EPL Tweets: Using Saved Classifier (Movie Reviews Naive Bayes)"
   ]
  },
  {
   "cell_type": "code",
   "execution_count": 15,
   "metadata": {
    "collapsed": false
   },
   "outputs": [],
   "source": [
    "# read saved classifier\n",
    "saved_classifier_f = open(\"pickled_algos/naiveBayes_for_short_reviews.pickle\", \"rb\")\n",
    "saved_classifier = pickle.load(saved_classifier_f)\n",
    "saved_classifier_f.close()\n",
    "\n",
    "# read saved word features\n",
    "word_features5k_f = open(\"pickled_algos/word_features5k_shortReviews.pickle\", \"rb\")\n",
    "word_features = pickle.load(word_features5k_f)\n",
    "word_features5k_f.close()\n",
    "\n",
    "# Define Sentiment Tokenizer Class as tok\n",
    "tok = sa.Tokenizer(preserve_case=False)\n",
    "def find_features(document):\n",
    "    words = tok.tokenize(document)\n",
    "    features = {}\n",
    "    for w in word_features:\n",
    "        features[w] = (w in words)\n",
    "\n",
    "    return features\n",
    "\n",
    "# Define Sentiment Analysis function. Using aboves\n",
    "def sentiment(text):\n",
    "    return saved_classifier.classify(find_features(text))"
   ]
  },
  {
   "cell_type": "code",
   "execution_count": 16,
   "metadata": {
    "collapsed": false
   },
   "outputs": [],
   "source": [
    "# Create DataFrames for home and away tweets\n",
    "home_tweets = tweets_eng[tweets_eng[\"tag_num\"] == 1]\n",
    "away_tweets = tweets_eng[tweets_eng[\"tag_num\"] == 2]\n",
    "home_tweets = pd.DataFrame(home_tweets.values, range(len(home_tweets)), home_tweets.columns)\n",
    "away_tweets = pd.DataFrame(away_tweets.values, range(len(away_tweets)), away_tweets.columns)"
   ]
  },
  {
   "cell_type": "markdown",
   "metadata": {},
   "source": [
    "## Sentiment Analysis"
   ]
  },
  {
   "cell_type": "code",
   "execution_count": 17,
   "metadata": {
    "collapsed": false
   },
   "outputs": [
    {
     "name": "stdout",
     "output_type": "stream",
     "text": [
      "Home Team: Counter({'pos': 111, 'neg': 79})\n",
      "Away Team: Counter({'pos': 885, 'neg': 381})\n"
     ]
    }
   ],
   "source": [
    "home_sent = map(lambda tweet: sentiment(tweet), home_tweets[\"text\"])\n",
    "away_sent = map(lambda tweet: sentiment(tweet), away_tweets[\"text\"])\n",
    "print \"Home Team:\", collections.Counter(home_sent)\n",
    "print \"Away Team:\", collections.Counter(away_sent)"
   ]
  },
  {
   "cell_type": "code",
   "execution_count": 18,
   "metadata": {
    "collapsed": true
   },
   "outputs": [],
   "source": [
    "home_sent = collections.Counter(home_sent)\n",
    "away_sent = collections.Counter(away_sent)"
   ]
  },
  {
   "cell_type": "code",
   "execution_count": 19,
   "metadata": {
    "collapsed": false
   },
   "outputs": [
    {
     "name": "stdout",
     "output_type": "stream",
     "text": [
      "Positive Tweets:  111\n",
      "Negative Tweets:  79\n"
     ]
    },
    {
     "data": {
      "image/png": "[encoded data removed]",
      "text/plain": [
       "<matplotlib.figure.Figure at 0x101655e50>"
      ]
     },
     "metadata": {},
     "output_type": "display_data"
    }
   ],
   "source": [
    "# Pie graph for home teams\n",
    "\n",
    "slices = [home_sent['pos'], home_sent['neg']]\n",
    "activities = ['pos', 'neg']\n",
    "cols = ['g','r']\n",
    "\n",
    "plt.pie(slices,\n",
    "        labels=activities,\n",
    "        colors=cols,\n",
    "        autopct='%1.1f%%')\n",
    "\n",
    "plt.title('Home Team Tweets \\n Classification')\n",
    "\n",
    "print \"Positive Tweets: \", home_sent['pos']\n",
    "print \"Negative Tweets: \", home_sent['neg']\n",
    "\n",
    "plt.show()"
   ]
  },
  {
   "cell_type": "code",
   "execution_count": 20,
   "metadata": {
    "collapsed": false
   },
   "outputs": [
    {
     "name": "stdout",
     "output_type": "stream",
     "text": [
      "Positive Tweets:  885\n",
      "Negative Tweets:  381\n"
     ]
    },
    {
     "data": {
      "image/png": "[encoded data removed]",
      "text/plain": [
       "<matplotlib.figure.Figure at 0x110db65d0>"
      ]
     },
     "metadata": {},
     "output_type": "display_data"
    }
   ],
   "source": [
    "slices = [away_sent['pos'], away_sent['neg']]\n",
    "activities = ['pos', 'neg']\n",
    "cols = ['g','r']\n",
    "\n",
    "plt.pie(slices,\n",
    "        labels=activities,\n",
    "        colors=cols,\n",
    "        autopct='%1.1f%%')\n",
    "\n",
    "plt.title('Away Team Tweets \\n Classification')\n",
    "\n",
    "print \"Positive Tweets: \", away_sent['pos']\n",
    "print \"Negative Tweets: \", away_sent['neg']\n",
    "\n",
    "plt.show()"
   ]
  }
 ],
 "metadata": {
  "kernelspec": {
   "display_name": "Python 2",
   "language": "python",
   "name": "python2"
  },
  "language_info": {
   "codemirror_mode": {
    "name": "ipython",
    "version": 2
   },
   "file_extension": ".py",
   "mimetype": "text/x-python",
   "name": "python",
   "nbconvert_exporter": "python",
   "pygments_lexer": "ipython2",
   "version": "2.7.10"
  }
 },
 "nbformat": 4,
 "nbformat_minor": 0
}
