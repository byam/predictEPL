{
 "cells": [
  {
   "cell_type": "code",
   "execution_count": 1,
   "metadata": {
    "collapsed": false
   },
   "outputs": [],
   "source": [
    "from tweepy import Stream\n",
    "from tweepy import OAuthHandler\n",
    "from tweepy.streaming import StreamListener\n",
    "import json\n",
    "import sentiment_mod as s"
   ]
  },
  {
   "cell_type": "code",
   "execution_count": 2,
   "metadata": {
    "collapsed": true
   },
   "outputs": [],
   "source": [
    "#consumer key, consumer secret, access token, access secret.\n",
    "atoken = \"40500912-ivMEtySzHuRndz8aF3Ls0nWJ3s6tMRNrthLZSVbuS\"\n",
    "asecret = \"th5QldUSoMzVFKq06nAXgsgLoo1CcxLMA29JvC9t63Fze\"\n",
    "ckey = \"IsEJvceyWl8ttYklz2gcUIqdb\"\n",
    "csecret = \"UaGjQTTxQ0nL7C8WGTyOZZAfisXBEczabgat2L6He66t9XWxS2\""
   ]
  },
  {
   "cell_type": "code",
   "execution_count": 7,
   "metadata": {
    "collapsed": true
   },
   "outputs": [],
   "source": [
    "class listener(StreamListener):\n",
    "\n",
    "    def on_data(self, data):\n",
    "\n",
    "        all_data = json.loads(data)\n",
    "\n",
    "        tweet = all_data[\"text\"] + all_data[\"created_at\"] + all_data[\"user\"][\"screen_name\"]\n",
    "        sentiment_value, confidence = s.sentiment(tweet)\n",
    "        print(tweet, sentiment_value, confidence)\n",
    "\n",
    "        if confidence*100 >= 80:\n",
    "            output = open(\"twitter-out.txt\",\"a\")\n",
    "            output.write(sentiment_value)\n",
    "            output.write('\\n')\n",
    "            output.close()\n",
    "\n",
    "        return True\n",
    "\n",
    "    def on_error(self, status):\n",
    "        print(status)"
   ]
  },
  {
   "cell_type": "code",
   "execution_count": 4,
   "metadata": {
    "collapsed": true
   },
   "outputs": [],
   "source": [
    "auth = OAuthHandler(ckey, csecret)\n",
    "auth.set_access_token(atoken, asecret)"
   ]
  },
  {
   "cell_type": "code",
   "execution_count": 8,
   "metadata": {
    "collapsed": false,
    "scrolled": true
   },
   "outputs": [
    {
     "name": "stdout",
     "output_type": "stream",
     "text": [
      "(u\"RT @ManUtd: There's a huge game on Sunday with #mufc away to Arsenal. What time's kick-off where you are? Find out... http://t.co/FsJpR0AEdzFri Oct 02 08:21:25 +0000 2015kolkatatheke\", 'pos', 1.0)\n",
      "(u\"@ManUtd 8:45pm in Nepal! Looking forward to the game. C'mon United! #mufcFri Oct 02 08:21:31 +0000 2015ro_onit\", 'neg', 1.0)\n",
      "(u'Talk about net spend https://t.co/bFqbqDgKKLFri Oct 02 08:21:32 +0000 2015grace11_8', 'pos', 1.0)\n",
      "(u'Mata a joy to watch \\u2013 Blind http://t.co/Sj9C8GSFWE #MUFCFri Oct 02 08:21:33 +0000 2015RedDevilsNews_', 'neg', 0.8)\n",
      "(u'Hodgson: No guarantee over Rooney\\u2019s place http://t.co/Sj9C8GSFWE #MUFCFri Oct 02 08:21:33 +0000 2015RedDevilsNews_', 'neg', 0.8)\n",
      "(u'Manchester United greats David Beckham and Sir Alex Ferguson to reunite for Old Trafford Unicef game http://t.co/Sj9C8GSFWE #MUFCFri Oct 02 08:21:33 +0000 2015RedDevilsNews_', 'neg', 0.8)\n",
      "(u'Mata a joy to watch \\u2013 Blind http://t.co/xFGj3V1Iqo #MUFCFri Oct 02 08:21:34 +0000 2015LatestMUFCNews0', 'neg', 0.8)\n",
      "(u'Mata a joy to watch \\u2013 Blind http://t.co/MmnZ3mqUOE #MUFCFri Oct 02 08:21:34 +0000 2015Red_DevilNews', 'neg', 0.8)\n",
      "(u'Monaco: Martial insisted on \\u2018dream\\u2019 United move http://t.co/Sj9C8GSFWE #MUFCFri Oct 02 08:21:34 +0000 2015RedDevilsNews_', 'neg', 0.8)\n",
      "(u'Hodgson: No guarantee over Rooney\\u2019s place http://t.co/xFGj3V1Iqo #MUFCFri Oct 02 08:21:34 +0000 2015LatestMUFCNews0', 'neg', 0.8)\n",
      "(u'Hodgson: No guarantee over Rooney\\u2019s place http://t.co/MmnZ3mqUOE #MUFCFri Oct 02 08:21:34 +0000 2015Red_DevilNews', 'neg', 0.8)\n",
      "(u'Manchester United greats David Beckham and Sir Alex Ferguson to reunite for Old Trafford Unicef game http://t.co/xFGj3V1Iqo #MUFCFri Oct 02 08:21:34 +0000 2015LatestMUFCNews0', 'neg', 0.8)\n",
      "(u'Beckham and Fergie returning to Old Trafford http://t.co/Sj9C8GSFWE #MUFCFri Oct 02 08:21:34 +0000 2015RedDevilsNews_', 'neg', 0.8)\n",
      "(u'Manchester United greats David Beckham and Sir Alex Ferguson to reunite for Old Trafford Unicef game http://t.co/MmnZ3mqUOE #MUFCFri Oct 02 08:21:34 +0000 2015Red_DevilNews', 'neg', 0.8)\n",
      "(u'David Beckham, Alex Ferguson making Man United return for UNICEF game http://t.co/Sj9C8GSFWE #MUFCFri Oct 02 08:21:35 +0000 2015RedDevilsNews_', 'neg', 0.8)\n",
      "(u'A brief guide to \\u2026 the history behind Manchester United and Arsenal\\u2019s rivalry http://t.co/Sj9C8GSFWE #MUFCFri Oct 02 08:21:35 +0000 2015RedDevilsNews_', 'pos', 1.0)\n",
      "(u'Monaco: Martial insisted on \\u2018dream\\u2019 United move http://t.co/xFGj3UK7yQ #MUFCFri Oct 02 08:21:35 +0000 2015LatestMUFCNews0', 'neg', 0.8)\n",
      "(u'Beckham and Fergie returning to Old Trafford http://t.co/xFGj3V1Iqo #MUFCFri Oct 02 08:21:35 +0000 2015LatestMUFCNews0', 'neg', 0.8)\n",
      "(u'Monaco: Martial insisted on \\u2018dream\\u2019 United move http://t.co/MmnZ3mqUOE #MUFCFri Oct 02 08:21:35 +0000 2015Red_DevilNews', 'neg', 0.8)\n",
      "(u'David Beckham, Alex Ferguson making Man United return for UNICEF game http://t.co/xFGj3V1Iqo #MUFCFri Oct 02 08:21:35 +0000 2015LatestMUFCNews0', 'neg', 0.8)\n",
      "(u'Beckham and Fergie returning to Old Trafford http://t.co/MmnZ3mqUOE #MUFCFri Oct 02 08:21:36 +0000 2015Red_DevilNews', 'neg', 0.8)\n",
      "(u'A brief guide to \\u2026 the history behind Manchester United and Arsenal\\u2019s rivalry http://t.co/xFGj3V1Iqo #MUFCFri Oct 02 08:21:36 +0000 2015LatestMUFCNews0', 'pos', 1.0)\n",
      "(u'David Beckham, Alex Ferguson making Man United return for UNICEF game http://t.co/MmnZ3mqUOE #MUFCFri Oct 02 08:21:36 +0000 2015Red_DevilNews', 'neg', 0.8)\n",
      "(u'A brief guide to \\u2026 the history behind Manchester United and Arsenal\\u2019s rivalry http://t.co/MmnZ3mqUOE #MUFCFri Oct 02 08:21:36 +0000 2015Red_DevilNews', 'pos', 1.0)\n",
      "(u'#Arsenal v #ManUtd - Money back if both score @ http://t.co/rmJjfAfnuG #MUFC #AFC #SuperSunday #BPL #PremierLeague http://t.co/mOdOgG8bbFFri Oct 02 08:21:37 +0000 2015bigbonusoffers', 'neg', 1.0)\n",
      "(u\"RT @DuckerTheTimes: Mata's stats obv better at #CFC where he played mainly as No.10. Played on right for most part at #MUFC - odd, still wa\\u2026Fri Oct 02 08:21:40 +0000 2015egs76\", 'pos', 0.8)\n",
      "(u'#Arsenal v #ManUtd - Money back if both score @ http://t.co/O6pUk2Pt4q #MUFC #AFC #SuperSunday #BPL #PremierLeague http://t.co/mPmp5ucJ2TFri Oct 02 08:21:42 +0000 2015bettingday', 'neg', 1.0)\n",
      "(u'LVG: \\u201cI shall retire. I always do what I have said. I have always set my own aims and I think that I have set my last aim also.\\u201d #MUFCFri Oct 02 08:21:44 +0000 2015VanGaalDossier', 'neg', 1.0)\n",
      "(u'#Arsenal v #ManUtd - Money back if both score @ http://t.co/kALZEY0A3l #MUFC #AFC #SuperSunday #BPL #PremierLeague http://t.co/fuyEg4Gw4yFri Oct 02 08:21:46 +0000 2015freebiebet', 'neg', 1.0)\n",
      "(u\"RT @DuckerTheTimes: Difficult tho with Mata - still watch him and think he's slightly constrained and could be even more effective #mufcFri Oct 02 08:21:48 +0000 2015Lawrence_KC\", 'pos', 1.0)\n",
      "(u'Survey reveals which Premier League teams have the most attractive http://t.co/IRnrIHpojy\\n\\n#MUFC #CFC #MCFCFri Oct 02 08:21:48 +0000 2015socialsports360', 'pos', 1.0)\n",
      "(u'A little project I did on @ManUtd_Es @juanmata8 during my commute: http://t.co/GnsdZiGjkP #mufc http://t.co/AVzQotiK4VFri Oct 02 08:21:49 +0000 2015josscook23', 'neg', 1.0)\n",
      "(u\"RT @ManUtd: There's a huge game on Sunday with #mufc away to Arsenal. What time's kick-off where you are? Find out... http://t.co/FsJpR0AEdzFri Oct 02 08:21:49 +0000 2015vinahrnawati\", 'pos', 1.0)\n",
      "(u'RT @UltraSuristic: David Beckham: \"To leave Real Madrid is difficult, but to leave MUFC is even more so.\"\\n\\nThanks to their fax machine?Fri Oct 02 08:21:50 +0000 2015mo7amed7amd74', 'neg', 1.0)\n",
      "(u\"RT @FullTimeDEVILS: We'll have all our usual pre match content up including LVG's presser! #MUFC #Arsenal http://t.co/bQTKbedHYDFri Oct 02 08:21:50 +0000 2015Tobhero1\", 'neg', 1.0)\n",
      "(u'#MUFC Arsenal take on Manchester United tomorrow afternoon in the Barclays Premier League. Check out the complete history of results ...Fri Oct 02 08:21:56 +0000 2015RedUnitedFC', 'neg', 1.0)\n",
      "(u'RT @MuForumsNet: #MUFC #MUFCFAMILY Beckham to return to Old Trafford with Sir Alex for charity match in aid of UNICEF http://t.co/C7pPBJIx0gFri Oct 02 08:21:57 +0000 2015ManUnitedReview', 'neg', 1.0)\n",
      "(u'RT @MuForumsNet: #MUFC #MUFCFAMILY Manchester United greats David Beckham and Sir Alex Ferguson to reunite for Old Trafford Unicef ... http\\u2026Fri Oct 02 08:21:57 +0000 2015ManUnitedReview', 'neg', 0.8)\n",
      "(u\"RT @TeleFootball: Ferguson to manage Beckham at Old Trafford again. No, you've not woken up in 2004. http://t.co/RInsBlpHWo #MUFC http://t.\\u2026Fri Oct 02 08:21:58 +0000 2015hijklmnopqwerty\", 'neg', 0.8)\n",
      "(u\"RT @ManUtdMEN: Manchester United great Sir Alex Ferguson explains 'four world-class players' claim http://t.co/QL6fD6hSga #mufc http://t.co\\u2026Fri Oct 02 08:21:59 +0000 2015iSk3l3_bo\", 'pos', 1.0)\n",
      "(u\"RT @ManUtd: There's a huge game on Sunday with #mufc away to Arsenal. What time's kick-off where you are? Find out... http://t.co/FsJpR0AEdzFri Oct 02 08:21:59 +0000 2015adityachopra\", 'pos', 1.0)\n",
      "(u'Wenger confirms today that Koscielny will be out for 3 weeks. #AFC #MUFCFri Oct 02 08:22:03 +0000 2015partofringu', 'neg', 0.8)\n",
      "(u\"RT @ManUtd: There's a huge game on Sunday with #mufc away to Arsenal. What time's kick-off where you are? Find out... http://t.co/FsJpR0AEdzFri Oct 02 08:22:04 +0000 2015ConaDhixx\", 'pos', 1.0)\n",
      "(u'RT @BSchweinsteiger: Important #UCL win! It is never easy to come back after an early 0-1. Great teamwork! #mufc http://t.co/G0UwuZyHDzFri Oct 02 08:22:12 +0000 2015abubakarzego', 'pos', 1.0)\n",
      "(u'RT @RedDevilTimes: Sir Alex Ferguson | Farewell speech | Full text | #MUFC http://t.co/rf3wVooZeBFri Oct 02 08:22:13 +0000 2015ConaDhixx', 'neg', 0.8)\n",
      "(u'RT @talkSPORT: David Beckham says Ryan Giggs will make the \\u2018perfect\\u2019 Manchester United manager http://t.co/nJvfRBinks #MUFC http://t.co/29J\\u2026Fri Oct 02 08:22:17 +0000 2015EllyCampana', 'neg', 1.0)\n",
      "(u'Manchester United vs. Stoke: Issues and Decisions That Will Shape EPL Game - #MUFC #MANUTD http://t.co/7e7S4SFkjnFri Oct 02 08:22:19 +0000 2015manu_news_feed', 'neg', 0.8)\n",
      "(u'Com on\\nVote @juanmata8 for #UCL player of the week\\n#MUFC \\U0001f44d\\n https://t.co/08HdCaiw54Fri Oct 02 08:22:20 +0000 2015rupeshsah1141', 'neg', 1.0)\n",
      "(u\"RT @RedorDead07: #FF Bringing all #MUFC fans on twitter together\\nRT if you're a fan and follow everyone who RT's including ME #MUFC http://\\u2026Fri Oct 02 08:22:21 +0000 2015HammadBabar\", 'neg', 0.8)\n",
      "(u\"RT @ManUtd: There's a huge game on Sunday with #mufc away to Arsenal. What time's kick-off where you are? Find out... http://t.co/FsJpR0AEdzFri Oct 02 08:22:22 +0000 2015aleeMUFC\", 'pos', 1.0)\n",
      "(u'Some prices for our game with @Arsenal Sunday #bets #betting #footballbetting #mufc http://t.co/cbQpldfsMvFri Oct 02 08:22:22 +0000 2015JonRiley1975', 'neg', 0.8)\n",
      "(u'RT @ESPNUK: #Arsenal are soft and mentally weak, says ex-#MUFC star Roy Keane: https://t.co/ZQUt6mO8sG https://t.co/aUpPwoo7uTFri Oct 02 08:22:23 +0000 2015CFCSamz', 'neg', 1.0)\n",
      "(u'RT @scoutsattending: #mufc scout watched #efc U21 3-1 #ncfc U21 on Tues. Ex United trialist Mason Holgate scored for Everton.Fri Oct 02 08:22:26 +0000 2015Lawrence_KC', 'neg', 0.8)\n",
      "(u'RT @IndyFootball: Sir Alex Ferguson is going to manage David Beckham at Old Trafford again http://t.co/8SD3QbR2g6 #MUFC http://t.co/ToplmAM\\u2026Fri Oct 02 08:22:27 +0000 2015Erentals', 'neg', 0.8)\n",
      "(u'#MUFC handed double midfield boost ahead of crunch #Arsenal clash http://t.co/bUmBbSj1q8 #AFC http://t.co/Sc0Dc9lTVTFri Oct 02 08:22:29 +0000 2015London24Sport', 'pos', 1.0)\n",
      "(u'Premier League: 10 things to look out for this weekend http://t.co/7vemzR4Ry6 #mufcFri Oct 02 08:22:29 +0000 2015mufcfans', 'neg', 0.8)\n",
      "(u\"A brief guide to \\u2026 the history behind Manchester United and Arsenal's rivalry http://t.co/rlDW9SWczj #mufcFri Oct 02 08:22:30 +0000 2015mufcfans\", 'pos', 1.0)\n",
      "(u\"The Guardian: A brief guide to \\u2026 the history behind Manchester United and Arsenal's rivalry http://t.co/zk4gTcyfPJ #MUFCFri Oct 02 08:22:30 +0000 2015dhidhik_iraone\", 'pos', 1.0)\n",
      "(u'The Guardian: Premier League: 10 things to look out for this weekend http://t.co/rEhl0bxWJL #mufcFri Oct 02 08:22:31 +0000 2015ManUtdThe42', 'neg', 0.8)\n",
      "(u\"The Guardian: A brief guide to \\u2026 the history behind Manchester United and Arsenal's rivalry http://t.co/lrChFikJAm #mufcFri Oct 02 08:22:32 +0000 2015ManUtdThe42\", 'pos', 1.0)\n",
      "(u'RT @London24Sport: #MUFC handed double midfield boost ahead of crunch #Arsenal clash http://t.co/bUmBbSj1q8 #AFC http://t.co/Sc0Dc9lTVTFri Oct 02 08:22:34 +0000 2015ArsenalLondon24', 'pos', 1.0)\n",
      "(u\"RT @DuckerTheTimes: Difficult tho with Mata - still watch him and think he's slightly constrained and could be even more effective #mufcFri Oct 02 08:22:40 +0000 2015JokejayTGB\", 'pos', 1.0)\n",
      "(u'RT @ManUtdMEN: Reunited: Sir Alex Ferguson to manage David Beckham at Old Trafford next month http://t.co/pd6THEUiMr #mufc http://t.co/O84P\\u2026Fri Oct 02 08:22:40 +0000 2015Denzil_3', 'neg', 1.0)\n",
      "(u\"RT @FullTimeDEVILS: Can't wait for the Arsenal game on Sunday - looking forward to LVG's presser. Hopefully no unexpected injuries! #MUFCFri Oct 02 08:22:41 +0000 2015irllukeh\", 'pos', 1.0)\n",
      "(u\"Match day live -  can't beat a bit of signed stuff. #MUFC #MUFC_Family http://t.co/OclW6iZZ2GFri Oct 02 08:22:45 +0000 2015ScottWelsbyDJ\", 'neg', 1.0)\n",
      "(u'RT @kpsundayworld: Wenger: \"Man Utd is a special fixture. It has a big meaning now as there is three points between the teams.\" #AFC #MUFCFri Oct 02 08:22:45 +0000 2015HammadBabar', 'neg', 1.0)\n",
      "(u'RT @kpsundayworld: Wenger: \"Man Utd is a special fixture. It has a big meaning now as there is three points between the teams.\" #AFC #MUFCFri Oct 02 08:22:48 +0000 2015sompoch3303', 'neg', 1.0)\n",
      "(u\"RT @ManUtd: There's a huge game on Sunday with #mufc away to Arsenal. What time's kick-off where you are? Find out... http://t.co/FsJpR0AEdzFri Oct 02 08:22:48 +0000 2015ArifCandra_\", 'pos', 1.0)\n",
      "(u\"RT @RedorDead07: #FF Bringing all #MUFC fans on twitter together\\nRT if you're a fan and follow everyone who RT's including ME #MUFC http://\\u2026Fri Oct 02 08:22:52 +0000 2015Soshi_United\", 'neg', 0.8)\n",
      "(u\"RT @DuckerTheTimes: Mata's stats obv better at #CFC where he played mainly as No.10. Played on right for most part at #MUFC - odd, still wa\\u2026Fri Oct 02 08:22:53 +0000 2015HammadBabar\", 'pos', 0.8)\n",
      "(u'A victory at the Emirates will make #Manchester United the #EPL title favourites .. #MUFC http://t.co/5ta1hm6cy3Fri Oct 02 08:22:58 +0000 2015yoursoccergirl', 'neg', 1.0)\n",
      "(u'A victory at the Emirates will make #Manchester United the #EPL title favourites .. #MUFC http://t.co/CW3TzlndlCFri Oct 02 08:22:58 +0000 2015soccertransfers', 'neg', 1.0)\n",
      "(u'A victory at the Emirates will make #Manchester United the #EPL title favourites .. #MUFC http://t.co/McLvsc4gqyFri Oct 02 08:22:58 +0000 2015futbalblog', 'neg', 1.0)\n",
      "(u'Laurent #Koscielny \\u2018certainly out\\u2019 of #Arsenal vs. #MUFC\\u2014looks like missing three weeks, says Arsene Wenger. http://t.co/57JDXuhqpHFri Oct 02 08:23:07 +0000 2015br_uk', 'neg', 0.8)\n",
      "(u'#MUFC handed double midfield boost ahead of \\u2026 http://t.co/upCjO8X25C http://t.co/LQoALitPWn http://t.co/TOk1JRSHUG http://t.co/D7YMmYKVrnFri Oct 02 08:23:09 +0000 2015sompoch3303', 'pos', 1.0)\n"
     ]
    },
    {
     "ename": "KeyboardInterrupt",
     "evalue": "",
     "output_type": "error",
     "traceback": [
      "\u001b[0;31m---------------------------------------------------------------------------\u001b[0m",
      "\u001b[0;31mKeyboardInterrupt\u001b[0m                         Traceback (most recent call last)",
      "\u001b[0;32m<ipython-input-8-ee3d123802f9>\u001b[0m in \u001b[0;36m<module>\u001b[0;34m()\u001b[0m\n\u001b[1;32m      1\u001b[0m \u001b[0mtwitterStream\u001b[0m \u001b[0;34m=\u001b[0m \u001b[0mStream\u001b[0m\u001b[0;34m(\u001b[0m\u001b[0mauth\u001b[0m\u001b[0;34m,\u001b[0m \u001b[0mlistener\u001b[0m\u001b[0;34m(\u001b[0m\u001b[0;34m)\u001b[0m\u001b[0;34m)\u001b[0m\u001b[0;34m\u001b[0m\u001b[0m\n\u001b[0;32m----> 2\u001b[0;31m \u001b[0mtwitterStream\u001b[0m\u001b[0;34m.\u001b[0m\u001b[0mfilter\u001b[0m\u001b[0;34m(\u001b[0m\u001b[0mlanguages\u001b[0m\u001b[0;34m=\u001b[0m\u001b[0;34m[\u001b[0m\u001b[0;34m'en'\u001b[0m\u001b[0;34m]\u001b[0m\u001b[0;34m,\u001b[0m \u001b[0mtrack\u001b[0m\u001b[0;34m=\u001b[0m\u001b[0;34m[\u001b[0m\u001b[0;34m\"MUFC\"\u001b[0m\u001b[0;34m]\u001b[0m\u001b[0;34m)\u001b[0m\u001b[0;34m\u001b[0m\u001b[0m\n\u001b[0m",
      "\u001b[0;32m/Users/Bya/.virtualenvs/research/lib/python2.7/site-packages/tweepy/streaming.pyc\u001b[0m in \u001b[0;36mfilter\u001b[0;34m(self, follow, track, async, locations, stall_warnings, languages, encoding, filter_level)\u001b[0m\n\u001b[1;32m    428\u001b[0m         \u001b[0mself\u001b[0m\u001b[0;34m.\u001b[0m\u001b[0msession\u001b[0m\u001b[0;34m.\u001b[0m\u001b[0mparams\u001b[0m \u001b[0;34m=\u001b[0m \u001b[0;34m{\u001b[0m\u001b[0;34m'delimited'\u001b[0m\u001b[0;34m:\u001b[0m \u001b[0;34m'length'\u001b[0m\u001b[0;34m}\u001b[0m\u001b[0;34m\u001b[0m\u001b[0m\n\u001b[1;32m    429\u001b[0m         \u001b[0mself\u001b[0m\u001b[0;34m.\u001b[0m\u001b[0mhost\u001b[0m \u001b[0;34m=\u001b[0m \u001b[0;34m'stream.twitter.com'\u001b[0m\u001b[0;34m\u001b[0m\u001b[0m\n\u001b[0;32m--> 430\u001b[0;31m         \u001b[0mself\u001b[0m\u001b[0;34m.\u001b[0m\u001b[0m_start\u001b[0m\u001b[0;34m(\u001b[0m\u001b[0masync\u001b[0m\u001b[0;34m)\u001b[0m\u001b[0;34m\u001b[0m\u001b[0m\n\u001b[0m\u001b[1;32m    431\u001b[0m \u001b[0;34m\u001b[0m\u001b[0m\n\u001b[1;32m    432\u001b[0m     def sitestream(self, follow, stall_warnings=False,\n",
      "\u001b[0;32m/Users/Bya/.virtualenvs/research/lib/python2.7/site-packages/tweepy/streaming.pyc\u001b[0m in \u001b[0;36m_start\u001b[0;34m(self, async)\u001b[0m\n\u001b[1;32m    344\u001b[0m             \u001b[0mself\u001b[0m\u001b[0;34m.\u001b[0m\u001b[0m_thread\u001b[0m\u001b[0;34m.\u001b[0m\u001b[0mstart\u001b[0m\u001b[0;34m(\u001b[0m\u001b[0;34m)\u001b[0m\u001b[0;34m\u001b[0m\u001b[0m\n\u001b[1;32m    345\u001b[0m         \u001b[0;32melse\u001b[0m\u001b[0;34m:\u001b[0m\u001b[0;34m\u001b[0m\u001b[0m\n\u001b[0;32m--> 346\u001b[0;31m             \u001b[0mself\u001b[0m\u001b[0;34m.\u001b[0m\u001b[0m_run\u001b[0m\u001b[0;34m(\u001b[0m\u001b[0;34m)\u001b[0m\u001b[0;34m\u001b[0m\u001b[0m\n\u001b[0m\u001b[1;32m    347\u001b[0m \u001b[0;34m\u001b[0m\u001b[0m\n\u001b[1;32m    348\u001b[0m     \u001b[0;32mdef\u001b[0m \u001b[0mon_closed\u001b[0m\u001b[0;34m(\u001b[0m\u001b[0mself\u001b[0m\u001b[0;34m,\u001b[0m \u001b[0mresp\u001b[0m\u001b[0;34m)\u001b[0m\u001b[0;34m:\u001b[0m\u001b[0;34m\u001b[0m\u001b[0m\n",
      "\u001b[0;32m/Users/Bya/.virtualenvs/research/lib/python2.7/site-packages/tweepy/streaming.pyc\u001b[0m in \u001b[0;36m_run\u001b[0;34m(self)\u001b[0m\n\u001b[1;32m    253\u001b[0m                     \u001b[0mself\u001b[0m\u001b[0;34m.\u001b[0m\u001b[0msnooze_time\u001b[0m \u001b[0;34m=\u001b[0m \u001b[0mself\u001b[0m\u001b[0;34m.\u001b[0m\u001b[0msnooze_time_step\u001b[0m\u001b[0;34m\u001b[0m\u001b[0m\n\u001b[1;32m    254\u001b[0m                     \u001b[0mself\u001b[0m\u001b[0;34m.\u001b[0m\u001b[0mlistener\u001b[0m\u001b[0;34m.\u001b[0m\u001b[0mon_connect\u001b[0m\u001b[0;34m(\u001b[0m\u001b[0;34m)\u001b[0m\u001b[0;34m\u001b[0m\u001b[0m\n\u001b[0;32m--> 255\u001b[0;31m                     \u001b[0mself\u001b[0m\u001b[0;34m.\u001b[0m\u001b[0m_read_loop\u001b[0m\u001b[0;34m(\u001b[0m\u001b[0mresp\u001b[0m\u001b[0;34m)\u001b[0m\u001b[0;34m\u001b[0m\u001b[0m\n\u001b[0m\u001b[1;32m    256\u001b[0m             \u001b[0;32mexcept\u001b[0m \u001b[0;34m(\u001b[0m\u001b[0mTimeout\u001b[0m\u001b[0;34m,\u001b[0m \u001b[0mssl\u001b[0m\u001b[0;34m.\u001b[0m\u001b[0mSSLError\u001b[0m\u001b[0;34m)\u001b[0m \u001b[0;32mas\u001b[0m \u001b[0mexc\u001b[0m\u001b[0;34m:\u001b[0m\u001b[0;34m\u001b[0m\u001b[0m\n\u001b[1;32m    257\u001b[0m                 \u001b[0;31m# This is still necessary, as a SSLError can actually be\u001b[0m\u001b[0;34m\u001b[0m\u001b[0;34m\u001b[0m\u001b[0m\n",
      "\u001b[0;32m/Users/Bya/.virtualenvs/research/lib/python2.7/site-packages/tweepy/streaming.pyc\u001b[0m in \u001b[0;36m_read_loop\u001b[0;34m(self, resp)\u001b[0m\n\u001b[1;32m    296\u001b[0m             \u001b[0mlength\u001b[0m \u001b[0;34m=\u001b[0m \u001b[0;36m0\u001b[0m\u001b[0;34m\u001b[0m\u001b[0m\n\u001b[1;32m    297\u001b[0m             \u001b[0;32mwhile\u001b[0m \u001b[0;32mnot\u001b[0m \u001b[0mresp\u001b[0m\u001b[0;34m.\u001b[0m\u001b[0mraw\u001b[0m\u001b[0;34m.\u001b[0m\u001b[0mclosed\u001b[0m\u001b[0;34m:\u001b[0m\u001b[0;34m\u001b[0m\u001b[0m\n\u001b[0;32m--> 298\u001b[0;31m                 \u001b[0mline\u001b[0m \u001b[0;34m=\u001b[0m \u001b[0mbuf\u001b[0m\u001b[0;34m.\u001b[0m\u001b[0mread_line\u001b[0m\u001b[0;34m(\u001b[0m\u001b[0;34m)\u001b[0m\u001b[0;34m.\u001b[0m\u001b[0mstrip\u001b[0m\u001b[0;34m(\u001b[0m\u001b[0;34m)\u001b[0m\u001b[0;34m\u001b[0m\u001b[0m\n\u001b[0m\u001b[1;32m    299\u001b[0m                 \u001b[0;32mif\u001b[0m \u001b[0;32mnot\u001b[0m \u001b[0mline\u001b[0m\u001b[0;34m:\u001b[0m\u001b[0;34m\u001b[0m\u001b[0m\n\u001b[1;32m    300\u001b[0m                     \u001b[0mself\u001b[0m\u001b[0;34m.\u001b[0m\u001b[0mlistener\u001b[0m\u001b[0;34m.\u001b[0m\u001b[0mkeep_alive\u001b[0m\u001b[0;34m(\u001b[0m\u001b[0;34m)\u001b[0m  \u001b[0;31m# keep-alive new lines are expected\u001b[0m\u001b[0;34m\u001b[0m\u001b[0m\n",
      "\u001b[0;32m/Users/Bya/.virtualenvs/research/lib/python2.7/site-packages/tweepy/streaming.pyc\u001b[0m in \u001b[0;36mread_line\u001b[0;34m(self, sep)\u001b[0m\n\u001b[1;32m    169\u001b[0m             \u001b[0;32melse\u001b[0m\u001b[0;34m:\u001b[0m\u001b[0;34m\u001b[0m\u001b[0m\n\u001b[1;32m    170\u001b[0m                 \u001b[0mstart\u001b[0m \u001b[0;34m=\u001b[0m \u001b[0mlen\u001b[0m\u001b[0;34m(\u001b[0m\u001b[0mself\u001b[0m\u001b[0;34m.\u001b[0m\u001b[0m_buffer\u001b[0m\u001b[0;34m)\u001b[0m\u001b[0;34m\u001b[0m\u001b[0m\n\u001b[0;32m--> 171\u001b[0;31m             \u001b[0mself\u001b[0m\u001b[0;34m.\u001b[0m\u001b[0m_buffer\u001b[0m \u001b[0;34m+=\u001b[0m \u001b[0mself\u001b[0m\u001b[0;34m.\u001b[0m\u001b[0m_stream\u001b[0m\u001b[0;34m.\u001b[0m\u001b[0mread\u001b[0m\u001b[0;34m(\u001b[0m\u001b[0mself\u001b[0m\u001b[0;34m.\u001b[0m\u001b[0m_chunk_size\u001b[0m\u001b[0;34m)\u001b[0m\u001b[0;34m\u001b[0m\u001b[0m\n\u001b[0m\u001b[1;32m    172\u001b[0m \u001b[0;34m\u001b[0m\u001b[0m\n\u001b[1;32m    173\u001b[0m     \u001b[0;32mdef\u001b[0m \u001b[0m_pop\u001b[0m\u001b[0;34m(\u001b[0m\u001b[0mself\u001b[0m\u001b[0;34m,\u001b[0m \u001b[0mlength\u001b[0m\u001b[0;34m)\u001b[0m\u001b[0;34m:\u001b[0m\u001b[0;34m\u001b[0m\u001b[0m\n",
      "\u001b[0;32m/Users/Bya/.virtualenvs/research/lib/python2.7/site-packages/requests/packages/urllib3/response.pyc\u001b[0m in \u001b[0;36mread\u001b[0;34m(self, amt, decode_content, cache_content)\u001b[0m\n\u001b[1;32m    241\u001b[0m                 \u001b[0;32melse\u001b[0m\u001b[0;34m:\u001b[0m\u001b[0;34m\u001b[0m\u001b[0m\n\u001b[1;32m    242\u001b[0m                     \u001b[0mcache_content\u001b[0m \u001b[0;34m=\u001b[0m \u001b[0mFalse\u001b[0m\u001b[0;34m\u001b[0m\u001b[0m\n\u001b[0;32m--> 243\u001b[0;31m                     \u001b[0mdata\u001b[0m \u001b[0;34m=\u001b[0m \u001b[0mself\u001b[0m\u001b[0;34m.\u001b[0m\u001b[0m_fp\u001b[0m\u001b[0;34m.\u001b[0m\u001b[0mread\u001b[0m\u001b[0;34m(\u001b[0m\u001b[0mamt\u001b[0m\u001b[0;34m)\u001b[0m\u001b[0;34m\u001b[0m\u001b[0m\n\u001b[0m\u001b[1;32m    244\u001b[0m                     \u001b[0;32mif\u001b[0m \u001b[0mamt\u001b[0m \u001b[0;34m!=\u001b[0m \u001b[0;36m0\u001b[0m \u001b[0;32mand\u001b[0m \u001b[0;32mnot\u001b[0m \u001b[0mdata\u001b[0m\u001b[0;34m:\u001b[0m  \u001b[0;31m# Platform-specific: Buggy versions of Python.\u001b[0m\u001b[0;34m\u001b[0m\u001b[0m\n\u001b[1;32m    245\u001b[0m                         \u001b[0;31m# Close the connection when no data is returned\u001b[0m\u001b[0;34m\u001b[0m\u001b[0;34m\u001b[0m\u001b[0m\n",
      "\u001b[0;32m/System/Library/Frameworks/Python.framework/Versions/2.7/lib/python2.7/httplib.pyc\u001b[0m in \u001b[0;36mread\u001b[0;34m(self, amt)\u001b[0m\n\u001b[1;32m    586\u001b[0m \u001b[0;34m\u001b[0m\u001b[0m\n\u001b[1;32m    587\u001b[0m         \u001b[0;32mif\u001b[0m \u001b[0mself\u001b[0m\u001b[0;34m.\u001b[0m\u001b[0mchunked\u001b[0m\u001b[0;34m:\u001b[0m\u001b[0;34m\u001b[0m\u001b[0m\n\u001b[0;32m--> 588\u001b[0;31m             \u001b[0;32mreturn\u001b[0m \u001b[0mself\u001b[0m\u001b[0;34m.\u001b[0m\u001b[0m_read_chunked\u001b[0m\u001b[0;34m(\u001b[0m\u001b[0mamt\u001b[0m\u001b[0;34m)\u001b[0m\u001b[0;34m\u001b[0m\u001b[0m\n\u001b[0m\u001b[1;32m    589\u001b[0m \u001b[0;34m\u001b[0m\u001b[0m\n\u001b[1;32m    590\u001b[0m         \u001b[0;32mif\u001b[0m \u001b[0mamt\u001b[0m \u001b[0;32mis\u001b[0m \u001b[0mNone\u001b[0m\u001b[0;34m:\u001b[0m\u001b[0;34m\u001b[0m\u001b[0m\n",
      "\u001b[0;32m/System/Library/Frameworks/Python.framework/Versions/2.7/lib/python2.7/httplib.pyc\u001b[0m in \u001b[0;36m_read_chunked\u001b[0;34m(self, amt)\u001b[0m\n\u001b[1;32m    628\u001b[0m         \u001b[0;32mwhile\u001b[0m \u001b[0mTrue\u001b[0m\u001b[0;34m:\u001b[0m\u001b[0;34m\u001b[0m\u001b[0m\n\u001b[1;32m    629\u001b[0m             \u001b[0;32mif\u001b[0m \u001b[0mchunk_left\u001b[0m \u001b[0;32mis\u001b[0m \u001b[0mNone\u001b[0m\u001b[0;34m:\u001b[0m\u001b[0;34m\u001b[0m\u001b[0m\n\u001b[0;32m--> 630\u001b[0;31m                 \u001b[0mline\u001b[0m \u001b[0;34m=\u001b[0m \u001b[0mself\u001b[0m\u001b[0;34m.\u001b[0m\u001b[0mfp\u001b[0m\u001b[0;34m.\u001b[0m\u001b[0mreadline\u001b[0m\u001b[0;34m(\u001b[0m\u001b[0m_MAXLINE\u001b[0m \u001b[0;34m+\u001b[0m \u001b[0;36m1\u001b[0m\u001b[0;34m)\u001b[0m\u001b[0;34m\u001b[0m\u001b[0m\n\u001b[0m\u001b[1;32m    631\u001b[0m                 \u001b[0;32mif\u001b[0m \u001b[0mlen\u001b[0m\u001b[0;34m(\u001b[0m\u001b[0mline\u001b[0m\u001b[0;34m)\u001b[0m \u001b[0;34m>\u001b[0m \u001b[0m_MAXLINE\u001b[0m\u001b[0;34m:\u001b[0m\u001b[0;34m\u001b[0m\u001b[0m\n\u001b[1;32m    632\u001b[0m                     \u001b[0;32mraise\u001b[0m \u001b[0mLineTooLong\u001b[0m\u001b[0;34m(\u001b[0m\u001b[0;34m\"chunk size\"\u001b[0m\u001b[0;34m)\u001b[0m\u001b[0;34m\u001b[0m\u001b[0m\n",
      "\u001b[0;32m/System/Library/Frameworks/Python.framework/Versions/2.7/lib/python2.7/socket.pyc\u001b[0m in \u001b[0;36mreadline\u001b[0;34m(self, size)\u001b[0m\n\u001b[1;32m    478\u001b[0m             \u001b[0;32mwhile\u001b[0m \u001b[0mTrue\u001b[0m\u001b[0;34m:\u001b[0m\u001b[0;34m\u001b[0m\u001b[0m\n\u001b[1;32m    479\u001b[0m                 \u001b[0;32mtry\u001b[0m\u001b[0;34m:\u001b[0m\u001b[0;34m\u001b[0m\u001b[0m\n\u001b[0;32m--> 480\u001b[0;31m                     \u001b[0mdata\u001b[0m \u001b[0;34m=\u001b[0m \u001b[0mself\u001b[0m\u001b[0;34m.\u001b[0m\u001b[0m_sock\u001b[0m\u001b[0;34m.\u001b[0m\u001b[0mrecv\u001b[0m\u001b[0;34m(\u001b[0m\u001b[0mself\u001b[0m\u001b[0;34m.\u001b[0m\u001b[0m_rbufsize\u001b[0m\u001b[0;34m)\u001b[0m\u001b[0;34m\u001b[0m\u001b[0m\n\u001b[0m\u001b[1;32m    481\u001b[0m                 \u001b[0;32mexcept\u001b[0m \u001b[0merror\u001b[0m\u001b[0;34m,\u001b[0m \u001b[0me\u001b[0m\u001b[0;34m:\u001b[0m\u001b[0;34m\u001b[0m\u001b[0m\n\u001b[1;32m    482\u001b[0m                     \u001b[0;32mif\u001b[0m \u001b[0me\u001b[0m\u001b[0;34m.\u001b[0m\u001b[0margs\u001b[0m\u001b[0;34m[\u001b[0m\u001b[0;36m0\u001b[0m\u001b[0;34m]\u001b[0m \u001b[0;34m==\u001b[0m \u001b[0mEINTR\u001b[0m\u001b[0;34m:\u001b[0m\u001b[0;34m\u001b[0m\u001b[0m\n",
      "\u001b[0;32m/System/Library/Frameworks/Python.framework/Versions/2.7/lib/python2.7/ssl.pyc\u001b[0m in \u001b[0;36mrecv\u001b[0;34m(self, buflen, flags)\u001b[0m\n\u001b[1;32m    732\u001b[0m                     \u001b[0;34m\"non-zero flags not allowed in calls to recv() on %s\"\u001b[0m \u001b[0;34m%\u001b[0m\u001b[0;34m\u001b[0m\u001b[0m\n\u001b[1;32m    733\u001b[0m                     self.__class__)\n\u001b[0;32m--> 734\u001b[0;31m             \u001b[0;32mreturn\u001b[0m \u001b[0mself\u001b[0m\u001b[0;34m.\u001b[0m\u001b[0mread\u001b[0m\u001b[0;34m(\u001b[0m\u001b[0mbuflen\u001b[0m\u001b[0;34m)\u001b[0m\u001b[0;34m\u001b[0m\u001b[0m\n\u001b[0m\u001b[1;32m    735\u001b[0m         \u001b[0;32melse\u001b[0m\u001b[0;34m:\u001b[0m\u001b[0;34m\u001b[0m\u001b[0m\n\u001b[1;32m    736\u001b[0m             \u001b[0;32mreturn\u001b[0m \u001b[0mself\u001b[0m\u001b[0;34m.\u001b[0m\u001b[0m_sock\u001b[0m\u001b[0;34m.\u001b[0m\u001b[0mrecv\u001b[0m\u001b[0;34m(\u001b[0m\u001b[0mbuflen\u001b[0m\u001b[0;34m,\u001b[0m \u001b[0mflags\u001b[0m\u001b[0;34m)\u001b[0m\u001b[0;34m\u001b[0m\u001b[0m\n",
      "\u001b[0;32m/System/Library/Frameworks/Python.framework/Versions/2.7/lib/python2.7/ssl.pyc\u001b[0m in \u001b[0;36mread\u001b[0;34m(self, len, buffer)\u001b[0m\n\u001b[1;32m    619\u001b[0m                 \u001b[0mv\u001b[0m \u001b[0;34m=\u001b[0m \u001b[0mself\u001b[0m\u001b[0;34m.\u001b[0m\u001b[0m_sslobj\u001b[0m\u001b[0;34m.\u001b[0m\u001b[0mread\u001b[0m\u001b[0;34m(\u001b[0m\u001b[0mlen\u001b[0m\u001b[0;34m,\u001b[0m \u001b[0mbuffer\u001b[0m\u001b[0;34m)\u001b[0m\u001b[0;34m\u001b[0m\u001b[0m\n\u001b[1;32m    620\u001b[0m             \u001b[0;32melse\u001b[0m\u001b[0;34m:\u001b[0m\u001b[0;34m\u001b[0m\u001b[0m\n\u001b[0;32m--> 621\u001b[0;31m                 \u001b[0mv\u001b[0m \u001b[0;34m=\u001b[0m \u001b[0mself\u001b[0m\u001b[0;34m.\u001b[0m\u001b[0m_sslobj\u001b[0m\u001b[0;34m.\u001b[0m\u001b[0mread\u001b[0m\u001b[0;34m(\u001b[0m\u001b[0mlen\u001b[0m \u001b[0;32mor\u001b[0m \u001b[0;36m1024\u001b[0m\u001b[0;34m)\u001b[0m\u001b[0;34m\u001b[0m\u001b[0m\n\u001b[0m\u001b[1;32m    622\u001b[0m             \u001b[0;32mreturn\u001b[0m \u001b[0mv\u001b[0m\u001b[0;34m\u001b[0m\u001b[0m\n\u001b[1;32m    623\u001b[0m         \u001b[0;32mexcept\u001b[0m \u001b[0mSSLError\u001b[0m \u001b[0;32mas\u001b[0m \u001b[0mx\u001b[0m\u001b[0;34m:\u001b[0m\u001b[0;34m\u001b[0m\u001b[0m\n",
      "\u001b[0;31mKeyboardInterrupt\u001b[0m: "
     ]
    }
   ],
   "source": [
    "twitterStream = Stream(auth, listener())\n",
    "twitterStream.filter(languages=['en'], track=[\"MUFC\"])"
   ]
  },
  {
   "cell_type": "code",
   "execution_count": null,
   "metadata": {
    "collapsed": true
   },
   "outputs": [],
   "source": []
  }
 ],
 "metadata": {
  "kernelspec": {
   "display_name": "Python 2",
   "language": "python",
   "name": "python2"
  },
  "language_info": {
   "codemirror_mode": {
    "name": "ipython",
    "version": 2
   },
   "file_extension": ".py",
   "mimetype": "text/x-python",
   "name": "python",
   "nbconvert_exporter": "python",
   "pygments_lexer": "ipython2",
   "version": "2.7.10"
  }
 },
 "nbformat": 4,
 "nbformat_minor": 0
}
