{
 "cells": [
  {
   "cell_type": "code",
   "execution_count": 1,
   "metadata": {
    "collapsed": false
   },
   "outputs": [
    {
     "name": "stdout",
     "output_type": "stream",
     "text": [
      "Populating the interactive namespace from numpy and matplotlib\n"
     ]
    }
   ],
   "source": [
    "%pylab inline\n",
    "%matplotlib inline"
   ]
  },
  {
   "cell_type": "code",
   "execution_count": 2,
   "metadata": {
    "collapsed": true
   },
   "outputs": [],
   "source": [
    "import json\n",
    "import pandas as pd\n",
    "import matplotlib.pyplot as plt\n",
    "import nltk\n",
    "from nltk.tokenize import word_tokenize, sent_tokenize\n",
    "import codecs\n",
    "import collections"
   ]
  },
  {
   "cell_type": "markdown",
   "metadata": {},
   "source": [
    "### Define"
   ]
  },
  {
   "cell_type": "code",
   "execution_count": 11,
   "metadata": {
    "collapsed": true
   },
   "outputs": [],
   "source": [
    "home = \"saintsfc\"\n",
    "away = \"ncfc\""
   ]
  },
  {
   "cell_type": "markdown",
   "metadata": {},
   "source": [
    "### Load Data and Preprocessing"
   ]
  },
  {
   "cell_type": "code",
   "execution_count": 4,
   "metadata": {
    "collapsed": false
   },
   "outputs": [],
   "source": [
    "# Read file\n",
    "tweets_file = open(\"../../EPLdata/1508302130_SAINTSvsNCFC.txt\", \"r\")"
   ]
  },
  {
   "cell_type": "code",
   "execution_count": 5,
   "metadata": {
    "collapsed": false
   },
   "outputs": [],
   "source": [
    "# Parsing JSON\n",
    "\n",
    "tweets_data = []\n",
    "for line in tweets_file:\n",
    "    try:\n",
    "        tweet = json.loads(line)\n",
    "        tweets_data.append(tweet)\n",
    "    except:\n",
    "        continue"
   ]
  },
  {
   "cell_type": "code",
   "execution_count": 6,
   "metadata": {
    "collapsed": true
   },
   "outputs": [],
   "source": [
    "tweets_file.close()"
   ]
  },
  {
   "cell_type": "code",
   "execution_count": 6,
   "metadata": {
    "collapsed": false
   },
   "outputs": [
    {
     "name": "stdout",
     "output_type": "stream",
     "text": [
      "5346\n"
     ]
    }
   ],
   "source": [
    "print len(tweets_data)"
   ]
  },
  {
   "cell_type": "code",
   "execution_count": 7,
   "metadata": {
    "collapsed": false,
    "scrolled": true
   },
   "outputs": [
    {
     "data": {
      "text/plain": [
       "u'@michaeljbailey if we could have kept it 0-0 at half time may have been different 2nd half. No way back now, needless red card #ncfc'"
      ]
     },
     "execution_count": 7,
     "metadata": {},
     "output_type": "execute_result"
    }
   ],
   "source": [
    "tweets_data[5345]['text']"
   ]
  },
  {
   "cell_type": "markdown",
   "metadata": {},
   "source": [
    "### Create DataFrame as tweets"
   ]
  },
  {
   "cell_type": "code",
   "execution_count": 12,
   "metadata": {
    "collapsed": true
   },
   "outputs": [],
   "source": [
    "tweets = pd.DataFrame()\n",
    "tweets['text'] = map(lambda tweet: tweet['text'], tweets_data)\n",
    "tweets['lang'] = map(lambda tweet: tweet['lang'], tweets_data)\n",
    "tweets['country'] = map(lambda tweet: tweet['place']['country'] if tweet['place'] != None else None, tweets_data)\n",
    "tweets['hashtags'] = map(lambda tweet: map(lambda tag: tag['text'], tweet['entities']['hashtags']), tweets_data)"
   ]
  },
  {
   "cell_type": "code",
   "execution_count": 15,
   "metadata": {
    "collapsed": false,
    "scrolled": true
   },
   "outputs": [],
   "source": [
    "# 0: no tags, 3: both team tags, 1: only home team tags, 2: only away team tags, 4: other tags\n",
    "def find_tag(tag):\n",
    "    tag = map(lambda t: t.lower(), tag)\n",
    "    if not tag:\n",
    "        return 0\n",
    "    if home in tag and away in tag:\n",
    "        return 3\n",
    "    if home in tag:\n",
    "        return 1\n",
    "    if away in tag:\n",
    "        return 2\n",
    "    else:\n",
    "        return 4\n",
    "\n",
    "tweets[\"tag_num\"] = map(lambda tags: find_tag(tags), tweets['hashtags'])"
   ]
  },
  {
   "cell_type": "code",
   "execution_count": 16,
   "metadata": {
    "collapsed": false,
    "scrolled": true
   },
   "outputs": [
    {
     "data": {
      "text/html": [
       "<div>\n",
       "<table border=\"1\" class=\"dataframe\">\n",
       "  <thead>\n",
       "    <tr style=\"text-align: right;\">\n",
       "      <th></th>\n",
       "      <th>text</th>\n",
       "      <th>lang</th>\n",
       "      <th>country</th>\n",
       "      <th>hashtags</th>\n",
       "      <th>tag_num</th>\n",
       "    </tr>\n",
       "  </thead>\n",
       "  <tbody>\n",
       "    <tr>\n",
       "      <th>0</th>\n",
       "      <td>RT @SkyFootball: Wanyama is not included in #S...</td>\n",
       "      <td>en</td>\n",
       "      <td>None</td>\n",
       "      <td>[SaintsFC]</td>\n",
       "      <td>1</td>\n",
       "    </tr>\n",
       "    <tr>\n",
       "      <th>1</th>\n",
       "      <td>#ncfc #BPL</td>\n",
       "      <td>und</td>\n",
       "      <td>None</td>\n",
       "      <td>[ncfc, BPL]</td>\n",
       "      <td>2</td>\n",
       "    </tr>\n",
       "    <tr>\n",
       "      <th>2</th>\n",
       "      <td>I really don't think #SaintsFC have the capabi...</td>\n",
       "      <td>en</td>\n",
       "      <td>None</td>\n",
       "      <td>[SaintsFC]</td>\n",
       "      <td>1</td>\n",
       "    </tr>\n",
       "    <tr>\n",
       "      <th>3</th>\n",
       "      <td>Southampton VS Norwich\\n\\nLive Stream : http:/...</td>\n",
       "      <td>en</td>\n",
       "      <td>None</td>\n",
       "      <td>[saintsfc, NCFC, SOUNOR, SAINTS, CITY, WeMarch...</td>\n",
       "      <td>3</td>\n",
       "    </tr>\n",
       "    <tr>\n",
       "      <th>4</th>\n",
       "      <td>RT @SouthamptonFC: #SaintsFC team against #NCF...</td>\n",
       "      <td>sl</td>\n",
       "      <td>None</td>\n",
       "      <td>[SaintsFC, NCFC]</td>\n",
       "      <td>3</td>\n",
       "    </tr>\n",
       "  </tbody>\n",
       "</table>\n",
       "</div>"
      ],
      "text/plain": [
       "                                                text lang country  \\\n",
       "0  RT @SkyFootball: Wanyama is not included in #S...   en    None   \n",
       "1                                         #ncfc #BPL  und    None   \n",
       "2  I really don't think #SaintsFC have the capabi...   en    None   \n",
       "3  Southampton VS Norwich\\n\\nLive Stream : http:/...   en    None   \n",
       "4  RT @SouthamptonFC: #SaintsFC team against #NCF...   sl    None   \n",
       "\n",
       "                                            hashtags  tag_num  \n",
       "0                                         [SaintsFC]        1  \n",
       "1                                        [ncfc, BPL]        2  \n",
       "2                                         [SaintsFC]        1  \n",
       "3  [saintsfc, NCFC, SOUNOR, SAINTS, CITY, WeMarch...        3  \n",
       "4                                   [SaintsFC, NCFC]        3  "
      ]
     },
     "execution_count": 16,
     "metadata": {},
     "output_type": "execute_result"
    }
   ],
   "source": [
    "tweets.head()"
   ]
  },
  {
   "cell_type": "code",
   "execution_count": 43,
   "metadata": {
    "collapsed": false
   },
   "outputs": [],
   "source": [
    "# tweets[tweets[\"tag_num\"] == 0]\n",
    "# tweets_data[53]"
   ]
  },
  {
   "cell_type": "code",
   "execution_count": null,
   "metadata": {
    "collapsed": true
   },
   "outputs": [],
   "source": []
  },
  {
   "cell_type": "code",
   "execution_count": 44,
   "metadata": {
    "collapsed": false
   },
   "outputs": [
    {
     "name": "stdout",
     "output_type": "stream",
     "text": [
      "Home Team Tags:  1786\n",
      "Away Team Tags:  1617\n",
      "Both Team Tags:  1808\n",
      "Other Team Tags:  115\n",
      "No Tags: \t20\n",
      "All Tweets:  5346\n"
     ]
    }
   ],
   "source": [
    "home_hashtags = len(tweets[tweets[\"tag_num\"] == 1])\n",
    "away_hashtags = len(tweets[tweets[\"tag_num\"] == 2])\n",
    "both_hashtags = len(tweets[tweets[\"tag_num\"] == 3])\n",
    "no_hashtags = len(tweets[tweets[\"tag_num\"] == 4])\n",
    "other_hashtags = len(tweets[tweets[\"tag_num\"] == 0])\n",
    "\n",
    "print \"Home Team Tags: \", home_hashtags\n",
    "print \"Away Team Tags: \", away_hashtags\n",
    "print \"Both Team Tags: \", both_hashtags\n",
    "print \"Other Team Tags: \", other_hashtags\n",
    "print \"No Tags: \\t\", no_hashtags\n",
    "print \"All Tweets: \", len(tweets)"
   ]
  },
  {
   "cell_type": "code",
   "execution_count": 45,
   "metadata": {
    "collapsed": false
   },
   "outputs": [
    {
     "data": {
      "image/png": "[encoded data removed]",
      "text/plain": [
       "<matplotlib.figure.Figure at 0x110181d50>"
      ]
     },
     "metadata": {},
     "output_type": "display_data"
    }
   ],
   "source": [
    "# Plot Hashtags Pie\n",
    "slices = [home_hashtags, both_hashtags, away_hashtags, other_hashtags, no_hashtags]\n",
    "activities = ['home','both','away', 'no_tag', 'other']\n",
    "cols = ['g','orange','b', 'w', 'y']\n",
    "\n",
    "plt.pie(slices,\n",
    "        labels=activities,\n",
    "        colors=cols,\n",
    "        autopct='%1.1f%%')\n",
    "\n",
    "plt.title('Tweets by hashtags\\n')\n",
    "plt.show()"
   ]
  },
  {
   "cell_type": "markdown",
   "metadata": {},
   "source": [
    "### Top 5 languages"
   ]
  },
  {
   "cell_type": "code",
   "execution_count": 46,
   "metadata": {
    "collapsed": false
   },
   "outputs": [
    {
     "data": {
      "text/plain": [
       "en     4467\n",
       "fr      302\n",
       "es      138\n",
       "und     104\n",
       "ja       50\n",
       "dtype: int64"
      ]
     },
     "execution_count": 46,
     "metadata": {},
     "output_type": "execute_result"
    },
    {
     "data": {
      "image/png": "[encoded data removed]",
      "text/plain": [
       "<matplotlib.figure.Figure at 0x11019fb90>"
      ]
     },
     "metadata": {},
     "output_type": "display_data"
    }
   ],
   "source": [
    "tweets_by_lang = tweets['lang'].value_counts()\n",
    "\n",
    "fig, ax = plt.subplots()\n",
    "ax.tick_params(axis='x', labelsize=15)\n",
    "ax.tick_params(axis='y', labelsize=10)\n",
    "ax.set_xlabel('Languages', fontsize=15)\n",
    "ax.set_ylabel('Number of tweets' , fontsize=15)\n",
    "ax.set_title('Top 5 languages', fontsize=15, fontweight='bold')\n",
    "tweets_by_lang[:5].plot(ax=ax, kind='bar', color='red')\n",
    "tweets_by_lang[:5]"
   ]
  },
  {
   "cell_type": "markdown",
   "metadata": {},
   "source": [
    "### Top 5 countries"
   ]
  },
  {
   "cell_type": "code",
   "execution_count": 47,
   "metadata": {
    "collapsed": false
   },
   "outputs": [
    {
     "data": {
      "text/plain": [
       "United Kingdom              174\n",
       "United States                12\n",
       "Italia                        6\n",
       "España                        4\n",
       "المملكة العربية السعودية      4\n",
       "dtype: int64"
      ]
     },
     "execution_count": 47,
     "metadata": {},
     "output_type": "execute_result"
    },
    {
     "data": {
      "image/png": "[encoded data removed]",
      "text/plain": [
       "<matplotlib.figure.Figure at 0x110495150>"
      ]
     },
     "metadata": {},
     "output_type": "display_data"
    }
   ],
   "source": [
    "tweets_by_country = tweets['country'].value_counts()\n",
    "\n",
    "fig, ax = plt.subplots()\n",
    "ax.tick_params(axis='x', labelsize=15)\n",
    "ax.tick_params(axis='y', labelsize=10)\n",
    "ax.set_xlabel('Countries', fontsize=15)\n",
    "ax.set_ylabel('Number of tweets' , fontsize=15)\n",
    "ax.set_title('Top 5 countries', fontsize=15, fontweight='bold')\n",
    "tweets_by_country[:5].plot(ax=ax, kind='bar', color='blue')\n",
    "tweets_by_country[:5]"
   ]
  },
  {
   "cell_type": "code",
   "execution_count": 15,
   "metadata": {
    "collapsed": false,
    "scrolled": true
   },
   "outputs": [],
   "source": [
    "# tweets_by_country"
   ]
  },
  {
   "cell_type": "code",
   "execution_count": 48,
   "metadata": {
    "collapsed": false
   },
   "outputs": [
    {
     "name": "stdout",
     "output_type": "stream",
     "text": [
      "country:  222\n",
      "None:  5124\n"
     ]
    }
   ],
   "source": [
    "print \"country: \", sum(tweets_by_country)\n",
    "print \"None: \", len(tweets_data) - sum(tweets_by_country)"
   ]
  },
  {
   "cell_type": "markdown",
   "metadata": {},
   "source": [
    "### Count All Words"
   ]
  },
  {
   "cell_type": "code",
   "execution_count": 49,
   "metadata": {
    "collapsed": false
   },
   "outputs": [
    {
     "data": {
      "text/html": [
       "<div>\n",
       "<table border=\"1\" class=\"dataframe\">\n",
       "  <thead>\n",
       "    <tr style=\"text-align: right;\">\n",
       "      <th></th>\n",
       "      <th>text</th>\n",
       "      <th>lang</th>\n",
       "      <th>country</th>\n",
       "      <th>hashtags</th>\n",
       "      <th>tag_num</th>\n",
       "    </tr>\n",
       "  </thead>\n",
       "  <tbody>\n",
       "    <tr>\n",
       "      <th>0</th>\n",
       "      <td>RT @SkyFootball: Wanyama is not included in #S...</td>\n",
       "      <td>en</td>\n",
       "      <td>None</td>\n",
       "      <td>[SaintsFC]</td>\n",
       "      <td>1</td>\n",
       "    </tr>\n",
       "    <tr>\n",
       "      <th>2</th>\n",
       "      <td>I really don't think #SaintsFC have the capabi...</td>\n",
       "      <td>en</td>\n",
       "      <td>None</td>\n",
       "      <td>[SaintsFC]</td>\n",
       "      <td>1</td>\n",
       "    </tr>\n",
       "    <tr>\n",
       "      <th>3</th>\n",
       "      <td>Southampton VS Norwich\\n\\nLive Stream : http:/...</td>\n",
       "      <td>en</td>\n",
       "      <td>None</td>\n",
       "      <td>[saintsfc, NCFC, SOUNOR, SAINTS, CITY, WeMarch...</td>\n",
       "      <td>3</td>\n",
       "    </tr>\n",
       "    <tr>\n",
       "      <th>5</th>\n",
       "      <td>RT @SkySportsStatto: #saintsfc &amp;amp; #ncfc met...</td>\n",
       "      <td>en</td>\n",
       "      <td>None</td>\n",
       "      <td>[saintsfc, ncfc]</td>\n",
       "      <td>3</td>\n",
       "    </tr>\n",
       "    <tr>\n",
       "      <th>6</th>\n",
       "      <td>RT @aka_luis_: bamussss #saintsfc</td>\n",
       "      <td>en</td>\n",
       "      <td>None</td>\n",
       "      <td>[saintsfc]</td>\n",
       "      <td>1</td>\n",
       "    </tr>\n",
       "  </tbody>\n",
       "</table>\n",
       "</div>"
      ],
      "text/plain": [
       "                                                text lang country  \\\n",
       "0  RT @SkyFootball: Wanyama is not included in #S...   en    None   \n",
       "2  I really don't think #SaintsFC have the capabi...   en    None   \n",
       "3  Southampton VS Norwich\\n\\nLive Stream : http:/...   en    None   \n",
       "5  RT @SkySportsStatto: #saintsfc &amp; #ncfc met...   en    None   \n",
       "6                  RT @aka_luis_: bamussss #saintsfc   en    None   \n",
       "\n",
       "                                            hashtags  tag_num  \n",
       "0                                         [SaintsFC]        1  \n",
       "2                                         [SaintsFC]        1  \n",
       "3  [saintsfc, NCFC, SOUNOR, SAINTS, CITY, WeMarch...        3  \n",
       "5                                   [saintsfc, ncfc]        3  \n",
       "6                                         [saintsfc]        1  "
      ]
     },
     "execution_count": 49,
     "metadata": {},
     "output_type": "execute_result"
    }
   ],
   "source": [
    "tweets_eng = tweets[tweets[\"lang\"] == \"en\"]\n",
    "tweets_eng.head()"
   ]
  },
  {
   "cell_type": "code",
   "execution_count": 50,
   "metadata": {
    "collapsed": false
   },
   "outputs": [
    {
     "name": "stdout",
     "output_type": "stream",
     "text": [
      "4467\n"
     ]
    }
   ],
   "source": [
    "print len(tweets_eng)"
   ]
  },
  {
   "cell_type": "code",
   "execution_count": 51,
   "metadata": {
    "collapsed": false
   },
   "outputs": [],
   "source": [
    "# create all words lists\n",
    "all_words = []\n",
    "\n",
    "for tweet in tweets_eng[\"text\"]:\n",
    "    tweet_words = word_tokenize(tweet)\n",
    "    for word in tweet_words:\n",
    "        all_words.append(word.lower())"
   ]
  },
  {
   "cell_type": "code",
   "execution_count": 52,
   "metadata": {
    "collapsed": false,
    "scrolled": true
   },
   "outputs": [
    {
     "data": {
      "text/plain": [
       "[(u'#', 9717),\n",
       " (u':', 4654),\n",
       " (u'ncfc', 3006),\n",
       " (u'saintsfc', 2735),\n",
       " (u'.', 2456),\n",
       " (u'@', 2322),\n",
       " (u'the', 1938),\n",
       " (u'http', 1831),\n",
       " (u'rt', 1606),\n",
       " (u'norwich', 1316),\n",
       " (u'southampton', 1239),\n",
       " (u'!', 1182),\n",
       " (u',', 1048),\n",
       " (u'to', 1022),\n",
       " (u'a', 911),\n",
       " (u\"'s\", 893),\n",
       " (u'sounor', 856),\n",
       " (u'live', 800),\n",
       " (u'for', 672),\n",
       " (u'stream', 662)]"
      ]
     },
     "execution_count": 52,
     "metadata": {},
     "output_type": "execute_result"
    }
   ],
   "source": [
    "# count all words\n",
    "counted_all_words = collections.Counter(all_words)\n",
    "counted_all_words.most_common()[:20]"
   ]
  },
  {
   "cell_type": "markdown",
   "metadata": {},
   "source": [
    "### Extract Adjective Words"
   ]
  },
  {
   "cell_type": "code",
   "execution_count": 54,
   "metadata": {
    "collapsed": false
   },
   "outputs": [
    {
     "data": {
      "text/plain": [
       "u\"I really don't think #SaintsFC have the capability of staying above tenth this year.\""
      ]
     },
     "execution_count": 54,
     "metadata": {},
     "output_type": "execute_result"
    }
   ],
   "source": [
    "tweets_eng['text'][2]"
   ]
  },
  {
   "cell_type": "code",
   "execution_count": 55,
   "metadata": {
    "collapsed": false,
    "scrolled": true
   },
   "outputs": [
    {
     "data": {
      "text/plain": [
       "[(u'I', 'PRP'),\n",
       " (u'really', 'RB'),\n",
       " (u'do', 'VBP'),\n",
       " (u\"n't\", 'RB'),\n",
       " (u'think', 'VB'),\n",
       " (u'#', '#'),\n",
       " (u'SaintsFC', 'NNP'),\n",
       " (u'have', 'VBP'),\n",
       " (u'the', 'DT'),\n",
       " (u'capability', 'NN'),\n",
       " (u'of', 'IN'),\n",
       " (u'staying', 'VBG'),\n",
       " (u'above', 'IN'),\n",
       " (u'tenth', 'NN'),\n",
       " (u'this', 'DT'),\n",
       " (u'year', 'NN'),\n",
       " (u'.', '.')]"
      ]
     },
     "execution_count": 55,
     "metadata": {},
     "output_type": "execute_result"
    }
   ],
   "source": [
    "nltk.pos_tag(word_tokenize(tweets_eng['text'][2]))"
   ]
  },
  {
   "cell_type": "code",
   "execution_count": 56,
   "metadata": {
    "collapsed": false
   },
   "outputs": [],
   "source": [
    "# create J all words lists\n",
    "all_J_words = []\n",
    "\n",
    "#  j is adject, r is adverb, and v is verb\n",
    "#allowed_word_types = [\"J\",\"R\",\"V\"]\n",
    "allowed_word_types = [\"J\"]\n",
    "\n",
    "for tweet in tweets_eng[\"text\"]:\n",
    "    \n",
    "    tweet_words = word_tokenize(tweet)\n",
    "    \n",
    "    tweet_words_pos = nltk.pos_tag(tweet_words)\n",
    "    \n",
    "    for word in tweet_words_pos:\n",
    "        if word[1][0] in allowed_word_types and word[0][0] != \"/\":\n",
    "            all_J_words.append(word[0].lower())"
   ]
  },
  {
   "cell_type": "code",
   "execution_count": 57,
   "metadata": {
    "collapsed": false
   },
   "outputs": [
    {
     "data": {
      "text/plain": [
       "[(u'half-time', 276),\n",
       " (u'good', 141),\n",
       " (u'first', 118),\n",
       " (u'late', 103),\n",
       " (u'second', 98),\n",
       " (u'10-man', 98),\n",
       " (u'tadi\\u0107', 62),\n",
       " (u'last', 55),\n",
       " (u'stupid', 52),\n",
       " (u'great', 46),\n",
       " (u'ten-man', 45),\n",
       " (u'poor', 45),\n",
       " (u'live', 43),\n",
       " (u'breakthrough', 39),\n",
       " (u'better', 35),\n",
       " (u'long', 35),\n",
       " (u'best', 35),\n",
       " (u'yellow', 34),\n",
       " (u'ward-prowse', 33),\n",
       " (u'massive', 31)]"
      ]
     },
     "execution_count": 57,
     "metadata": {},
     "output_type": "execute_result"
    }
   ],
   "source": [
    "# count J all words\n",
    "counted_all_J_words = collections.Counter(all_J_words)\n",
    "counted_all_J_words.most_common()[:20]"
   ]
  },
  {
   "cell_type": "code",
   "execution_count": 73,
   "metadata": {
    "collapsed": false
   },
   "outputs": [
    {
     "data": {
      "text/plain": [
       "[(u'half-time', 276),\n",
       " (u'good', 141),\n",
       " (u'first', 118),\n",
       " (u'late', 103),\n",
       " (u'second', 98),\n",
       " (u'10-man', 98),\n",
       " (u'tadi\\u0107', 62),\n",
       " (u'last', 55),\n",
       " (u'stupid', 52),\n",
       " (u'great', 46),\n",
       " (u'ten-man', 45),\n",
       " (u'poor', 45),\n",
       " (u'live', 43),\n",
       " (u'breakthrough', 39),\n",
       " (u'better', 35),\n",
       " (u'long', 35),\n",
       " (u'best', 35),\n",
       " (u'yellow', 34),\n",
       " (u'ward-prowse', 33),\n",
       " (u'massive', 31),\n",
       " (u'more', 30),\n",
       " (u'free-kick', 30),\n",
       " (u'bad', 26),\n",
       " (u'close', 26),\n",
       " (u'top', 25),\n",
       " (u'many', 25),\n",
       " (u'other', 25),\n",
       " (u'early', 25),\n",
       " (u'big', 24),\n",
       " (u'wide', 23),\n",
       " (u'hard', 22),\n",
       " (u'least', 21),\n",
       " (u'commentary', 21),\n",
       " (u'strong', 20),\n",
       " (u'free', 18),\n",
       " (u'much', 16),\n",
       " (u'high', 15),\n",
       " (u'next', 14),\n",
       " (u'offside', 14),\n",
       " (u'such', 13),\n",
       " (u'quick', 12),\n",
       " (u'back-to-back', 12),\n",
       " (u'foul', 11),\n",
       " (u'few', 11),\n",
       " (u'same', 11),\n",
       " (u'awful', 10),\n",
       " (u'public', 10),\n",
       " (u'fantastic', 10),\n",
       " (u'h/t', 10),\n",
       " (u'fit', 10),\n",
       " (u'idiotic', 10),\n",
       " (u'fu***d', 10),\n",
       " (u'unnecessary', 10),\n",
       " (u'italian', 10),\n",
       " (u'new', 9),\n",
       " (u'ultimatefanlive', 9),\n",
       " (u'saint\\u2026', 9),\n",
       " (u'future', 9),\n",
       " (u'sure', 9),\n",
       " (u'comfortable', 9),\n",
       " (u'additional', 9),\n",
       " (u'absolute', 8),\n",
       " (u'terrible', 8),\n",
       " (u'most', 8),\n",
       " (u'brilliant', 8),\n",
       " (u'different', 8),\n",
       " (u'follow', 7),\n",
       " (u'net', 7),\n",
       " (u'goal', 7),\n",
       " (u'wrong', 7),\n",
       " (u'pathetic', 7),\n",
       " (u'only', 7),\n",
       " (u'man\\xe9', 7),\n",
       " (u'old', 7),\n",
       " (u'happy', 7),\n",
       " (u'kick-off', 7),\n",
       " (u'pelle\\u2019s', 6),\n",
       " (u'young', 6),\n",
       " (u'sloppy', 6),\n",
       " (u'full', 6),\n",
       " (u'boy', 6),\n",
       " (u'extra', 6),\n",
       " (u'particular', 6),\n",
       " (u'huge', 6),\n",
       " (u'tried', 6),\n",
       " (u'finish', 6),\n",
       " (u'red', 6),\n",
       " (u'final', 6),\n",
       " (u'ridiculous', 6),\n",
       " (u'bookable', 6),\n",
       " (u'avoidable', 6),\n",
       " (u'previous', 6),\n",
       " (u'sky', 6),\n",
       " (u'easy', 6),\n",
       " (u'real', 6),\n",
       " (u'shitty', 6),\n",
       " (u'soft', 6),\n",
       " (u'deflected', 6),\n",
       " (u'treble', 6),\n",
       " (u'own', 6),\n",
       " (u'nice', 6),\n",
       " (u\"c'mon\", 5),\n",
       " (u'1st', 5),\n",
       " (u'positive', 5),\n",
       " (u'flat', 5),\n",
       " (u'beautiful', 5),\n",
       " (u\"'wee\", 5),\n",
       " (u'gon', 5),\n",
       " (u'saint-etienne', 5),\n",
       " (u'fair', 5),\n",
       " (u'horrible', 5),\n",
       " (u'fai\\u2026', 5),\n",
       " (u'latest', 5),\n",
       " (u'dear', 5),\n",
       " (u'first-time', 5),\n",
       " (u'clinical', 5),\n",
       " (u'low', 5),\n",
       " (u'audacious', 5),\n",
       " (u'dangerous', 5),\n",
       " (u'worst', 4),\n",
       " (u'magic', 4),\n",
       " (u'anniversary', 4),\n",
       " (u'technical', 4),\n",
       " (u'overhead', 4),\n",
       " (u'tadic', 4),\n",
       " (u'easier', 4),\n",
       " (u'little', 4),\n",
       " (u'double', 4),\n",
       " (u'flicked', 4),\n",
       " (u'100pc', 4),\n",
       " (u'outside', 4),\n",
       " (u'unable', 4),\n",
       " (u'ruptured', 4),\n",
       " (u'tough', 4),\n",
       " (u\"'there\", 4),\n",
       " (u'harsh', 4),\n",
       " (u')', 4),\n",
       " (u'self-inflicted', 4),\n",
       " (u'twitter', 4),\n",
       " (u'creative', 4),\n",
       " (u'incredible', 4),\n",
       " (u'serious', 4),\n",
       " (u'sorry', 3),\n",
       " (u'far', 3),\n",
       " (u'total', 3),\n",
       " (u'sent-off', 3),\n",
       " (u'outsung', 3),\n",
       " (u'pre-match', 3),\n",
       " (u'short', 3),\n",
       " (u'bigger', 3),\n",
       " (u'modern', 3),\n",
       " (u'mental', 3),\n",
       " (u'needless', 3),\n",
       " (u'standard', 3),\n",
       " (u'r\\u2026', 3),\n",
       " (u'finest', 3),\n",
       " (u'arsenal', 3),\n",
       " (u'twat', 3),\n",
       " (u'open', 3),\n",
       " (u'predictable', 3),\n",
       " (u'sad', 3),\n",
       " (u'edgy', 3),\n",
       " (u'able', 3),\n",
       " (u'later', 3),\n",
       " (u'atmosphere', 3),\n",
       " (u'doesn\\u2019t', 3),\n",
       " (u'slow', 3),\n",
       " (u'lucky', 3),\n",
       " (u'hopefu\\u2026', 3),\n",
       " (u'dickhead', 3),\n",
       " (u'lethargic', 3),\n",
       " (u'quiet', 3),\n",
       " (u'simple', 3),\n",
       " (u'confident', 3),\n",
       " (u'goal-kick', 3),\n",
       " (u'empty', 3),\n",
       " (u'harder', 3),\n",
       " (u'ready', 3),\n",
       " (u'ball', 3),\n",
       " (u'touch', 3),\n",
       " (u'crutc\\u2026', 3),\n",
       " (u'imaginary', 3),\n",
       " (u'central', 3),\n",
       " (u'crstig', 3),\n",
       " (u'pointless', 3),\n",
       " (u'they\\u2019re', 3),\n",
       " (u'in-between', 3),\n",
       " (u'update', 3),\n",
       " (u'|live', 3),\n",
       " (u'4x400m', 3),\n",
       " (u'dynamic', 2),\n",
       " (u'compact', 2),\n",
       " (u\"'unsettled\", 2),\n",
       " (u'worth', 2),\n",
       " (u'worse', 2),\n",
       " (u'didn\\u2019t', 2),\n",
       " (u'trouble', 2),\n",
       " (u'impressive', 2),\n",
       " (u'japanese', 2),\n",
       " (u'past', 2),\n",
       " (u'blue', 2),\n",
       " (u'weird', 2),\n",
       " (u'game.\\u2026', 2),\n",
       " (u'fellow', 2),\n",
       " (u'hold', 2),\n",
       " (u'glad', 2),\n",
       " (u'atrocious', 2),\n",
       " (u'give', 2),\n",
       " (u'ish', 2),\n",
       " (u'earlier', 2),\n",
       " (u'third', 2),\n",
       " (u'6th', 2),\n",
       " (u'typical', 2),\n",
       " (u'interesting', 2),\n",
       " (u'exiled', 2),\n",
       " (u'static', 2),\n",
       " (u'we\\u2019ve', 2),\n",
       " (u'\\xa32.2m', 2),\n",
       " (u'silent', 2),\n",
       " (u\"'health\", 2),\n",
       " (u'honest', 2),\n",
       " (u'asolute', 2),\n",
       " (u'major', 2),\n",
       " (u'fumble', 2),\n",
       " (u'kid', 2),\n",
       " (u'pelle', 2),\n",
       " (u'danish', 2),\n",
       " (u'likely', 2),\n",
       " (u'outstanding', 2),\n",
       " (u'horrendous', 2),\n",
       " (u'afraid', 2),\n",
       " (u'regular', 2),\n",
       " (u'clear', 2),\n",
       " (u'senior', 2),\n",
       " (u'nervous', 2),\n",
       " (u'international', 2),\n",
       " (u'talksportlive', 2),\n",
       " (u'superb', 2),\n",
       " (u'southampton-norwich', 2),\n",
       " (u'grumble', 2),\n",
       " (u'weak', 2),\n",
       " (u'stupidest', 2),\n",
       " (u'2nd', 2),\n",
       " (u'scottish', 2),\n",
       " (u'expensive', 2),\n",
       " (u'loo\\u2026', 2),\n",
       " (u'decent', 2),\n",
       " (u'due', 2),\n",
       " (u'referee', 2),\n",
       " (u'near', 2),\n",
       " (u'cracked', 2),\n",
       " (u'disappointing', 2),\n",
       " (u'funny', 2),\n",
       " (u'european', 2),\n",
       " (u'line-up', 2),\n",
       " (u'first-half', 2),\n",
       " (u'recent', 2),\n",
       " (u'spectacular', 2),\n",
       " (u'possible', 2),\n",
       " (u'colour-co-ordinated', 2),\n",
       " (u'stylish', 2),\n",
       " (u'foolish', 2),\n",
       " (u'right', 2),\n",
       " (u'diabolical', 2),\n",
       " (u'intact', 2),\n",
       " (u'pen', 2),\n",
       " (u'oh', 2),\n",
       " (u'seven-plus', 2),\n",
       " (u'promise', 2),\n",
       " (u'stumble', 2),\n",
       " (u'average', 2),\n",
       " (u'shit', 2),\n",
       " (u'physical', 2),\n",
       " (u'premier', 2),\n",
       " (u'interested', 2),\n",
       " (u'woeful', 2),\n",
       " (u'accidental', 2),\n",
       " (u'favourite', 2),\n",
       " (u'8th', 2),\n",
       " (u'rubbish', 1),\n",
       " (u'controversial', 1),\n",
       " (u'hate', 1),\n",
       " (u'jos\\xe9fonte', 1),\n",
       " (u'dreadful', 1),\n",
       " (u'finishing\\u2026', 1),\n",
       " (u'wished', 1),\n",
       " (u'footballclich\\xe9', 1),\n",
       " (u'exact', 1),\n",
       " (u'.and', 1),\n",
       " (u'large', 1),\n",
       " (u'added', 1),\n",
       " (u'distasteful', 1),\n",
       " (u'utter', 1),\n",
       " (u'current', 1),\n",
       " (u\"'punished\", 1),\n",
       " (u'.finish', 1),\n",
       " (u'busy', 1),\n",
       " (u'sexy', 1),\n",
       " (u'accomplished', 1),\n",
       " (u'much-improved', 1),\n",
       " (u'settled', 1),\n",
       " (u'golden', 1),\n",
       " (u'\\U0001f3b6he', 1),\n",
       " (u'.oh', 1),\n",
       " (u'defensive', 1),\n",
       " (u'bloody', 1),\n",
       " (u'dogshit', 1),\n",
       " (u'win/win', 1),\n",
       " (u'angry', 1),\n",
       " (u'shite', 1),\n",
       " (u'sitter', 1),\n",
       " (u'i\\u2019ll', 1),\n",
       " (u'gorgeous', 1),\n",
       " (u'indefensible', 1),\n",
       " (u'easiest', 1),\n",
       " (u'thin', 1),\n",
       " (u'closing', 1),\n",
       " (u'c\\xe9dric', 1),\n",
       " (u'afternoon\\u2019s', 1),\n",
       " (u'.pelle', 1),\n",
       " (u'we\\u2019re', 1),\n",
       " (u'critic', 1),\n",
       " (u'minimum', 1),\n",
       " (u'sharp', 1),\n",
       " (u',both', 1),\n",
       " (u'in-play', 1),\n",
       " (u'barrel-load', 1),\n",
       " (u'unlucky', 1),\n",
       " (u'moron', 1),\n",
       " (u'gamble', 1),\n",
       " (u'lanky', 1),\n",
       " (u'stop', 1),\n",
       " (u'dive', 1),\n",
       " (u'unforgivable', 1),\n",
       " (u'near-total', 1),\n",
       " (u'st', 1),\n",
       " (u'unacceptable', 1),\n",
       " (u'whittaker-', 1),\n",
       " (u'cold', 1),\n",
       " (u'somewhere', 1),\n",
       " (u'blatant', 1),\n",
       " (u'mod\\u2026', 1),\n",
       " (u'dad', 1),\n",
       " (u'kasperbeier', 1),\n",
       " (u'bang', 1),\n",
       " (u'sweeping', 1),\n",
       " (u\"'oh\", 1),\n",
       " (u'fantasy', 1),\n",
       " (u\"y'army\", 1),\n",
       " (u'difficult', 1),\n",
       " (u'http', 1),\n",
       " (u'special', 1),\n",
       " (u'borderline', 1),\n",
       " (u'childish', 1),\n",
       " (u'crucial', 1),\n",
       " (u'mate', 1),\n",
       " (u'sluggish', 1),\n",
       " (u\"'must\", 1),\n",
       " (u'norwich', 1),\n",
       " (u'defending-all', 1),\n",
       " (u'small', 1),\n",
       " (u'struggle', 1),\n",
       " (u'one-down', 1),\n",
       " (u\"'mentally\", 1),\n",
       " (u'off-pitch', 1),\n",
       " (u'whittaker.just', 1),\n",
       " (u'.yet', 1),\n",
       " (u'petulant', 1),\n",
       " (u'clumsy', 1),\n",
       " (u'cynical', 1),\n",
       " (u'76minty', 1),\n",
       " (u'p\\xf2or', 1),\n",
       " (u'goalside.your', 1),\n",
       " (u'gear', 1),\n",
       " (u'grabban', 1),\n",
       " (u'lazy', 1),\n",
       " (u'kind', 1),\n",
       " (u'effective', 1),\n",
       " (u'sublime', 1),\n",
       " (u'iamsmithy', 1),\n",
       " (u\"'we\", 1),\n",
       " (u'angle', 1),\n",
       " (u'mic', 1),\n",
       " (u'isolated', 1),\n",
       " (u'lackadaisical', 1),\n",
       " (u'pell\\xe8', 1),\n",
       " (u'squad', 1),\n",
       " (u'objective', 1),\n",
       " (u'normal', 1),\n",
       " (u\"'struggling\", 1),\n",
       " (u'tracking/tackling', 1),\n",
       " (u'surprising', 1),\n",
       " (u'stronger', 1),\n",
       " (u'neutral', 1),\n",
       " (u'clean', 1),\n",
       " (u'precise', 1),\n",
       " (u'bright', 1),\n",
       " (u'queer', 1),\n",
       " (u'lethal', 1),\n",
       " (u'earth', 1),\n",
       " (u'impact', 1),\n",
       " (u'wasteful', 1),\n",
       " (u'hopeful', 1),\n",
       " (u'enough', 1),\n",
       " (u'jan', 1),\n",
       " (u'score', 1),\n",
       " (u'weve', 1),\n",
       " (u'watch', 1),\n",
       " (u'slack', 1),\n",
       " (u'prime', 1),\n",
       " (u'imbecile', 1),\n",
       " (u'wish', 1),\n",
       " (u'w/', 1),\n",
       " (u'peripheral', 1),\n",
       " (u'eleven', 1),\n",
       " (u'individual', 1),\n",
       " (u'seh', 1),\n",
       " (u'closer', 1),\n",
       " (u'season-long', 1),\n",
       " (u'bought', 1),\n",
       " (u'ar\\u2026', 1),\n",
       " (u'nicely-', 1),\n",
       " (u'lay-off', 1),\n",
       " (u'numpty', 1),\n",
       " (u'influential', 1),\n",
       " (u'rope-a-dope', 1),\n",
       " (u'whole', 1),\n",
       " (u'arse-wash', 1),\n",
       " (u'capable', 1),\n",
       " (u'close-range', 1),\n",
       " (u'dependable', 1),\n",
       " (u'basic', 1),\n",
       " (u'website', 1),\n",
       " (u'deeper', 1),\n",
       " (u'former', 1),\n",
       " (u'.pathetic', 1),\n",
       " (u'solid', 1),\n",
       " (u'nocommentary', 1),\n",
       " (u'pessimistic', 1),\n",
       " (u'ive', 1),\n",
       " (u'a.game', 1),\n",
       " (u'optimistic', 1),\n",
       " (u'it.\\u2026', 1),\n",
       " (u'..mindless', 1),\n",
       " (u'strange', 1),\n",
       " (u'silliest', 1),\n",
       " (u'pal', 1),\n",
       " (u\"'them\", 1),\n",
       " (u'purpose', 1),\n",
       " (u'jealous', 1),\n",
       " (u\"'rudd\", 1),\n",
       " (u'no-nonsense', 1),\n",
       " (u'46th', 1),\n",
       " (u'contact', 1),\n",
       " (u'solve', 1),\n",
       " (u'du\\u0161an', 1),\n",
       " (u'dreamy', 1),\n",
       " (u'draw\\u26bd\\ufe0f\\u26bd\\ufe0f', 1),\n",
       " (u'bowthorpecanary', 1),\n",
       " (u'less', 1),\n",
       " (u'ludicrous', 1),\n",
       " (u'mid', 1),\n",
       " (u'sfcpaul', 1),\n",
       " (u'drive', 1),\n",
       " (u'pile', 1),\n",
       " (u'unplayable', 1),\n",
       " (u'.lovely', 1),\n",
       " (u'couple', 1),\n",
       " (u'indicative', 1),\n",
       " (u'gmail.com', 1),\n",
       " (u'advanced', 1),\n",
       " (u'signal', 1),\n",
       " (u'10man', 1),\n",
       " (u\"'ve\", 1),\n",
       " (u'miraculous', 1),\n",
       " (u'want-away', 1),\n",
       " (u'alive', 1),\n",
       " (u'i\\u2019ve', 1),\n",
       " (u'pr\\u2026', 1),\n",
       " (u'shittaker', 1),\n",
       " (u'bottom', 1),\n",
       " (u'phenomenal', 1),\n",
       " (u'jos\\xe9', 1),\n",
       " (u'can\\u2019t', 1),\n",
       " (u'worthy', 1),\n",
       " (u'noisy', 1),\n",
       " (u'st.mary', 1),\n",
       " (u'rushed', 1),\n",
       " (u'stark', 1),\n",
       " (u\"'us\", 1),\n",
       " (u'biggest', 1),\n",
       " (u'redmond', 1),\n",
       " (u'complete', 1),\n",
       " (u'well-taken', 1),\n",
       " (u'amongst', 1),\n",
       " (u'they\\u2026', 1),\n",
       " (u'unreliable', 1),\n",
       " (u'true', 1),\n",
       " (u\"that'smorelikeit\", 1),\n",
       " (u'this\\u2026', 1),\n",
       " (u'chose/approved', 1),\n",
       " (u'well-deserved', 1),\n",
       " (u'russ', 1),\n",
       " (u'proud', 1),\n",
       " (u'horrific', 1),\n",
       " (u\"'commentary\", 1),\n",
       " (u'chat', 1),\n",
       " (u'annoying', 1),\n",
       " (u'43rd', 1),\n",
       " (u\"'ll\", 1),\n",
       " (u'tight', 1),\n",
       " (u'stat', 1),\n",
       " (u'.we', 1),\n",
       " (u'tricky', 1),\n",
       " (u'dabble', 1),\n",
       " (u'head-to-head', 1)]"
      ]
     },
     "execution_count": 73,
     "metadata": {},
     "output_type": "execute_result"
    }
   ],
   "source": [
    "counted_all_J_words.most_common()"
   ]
  },
  {
   "cell_type": "code",
   "execution_count": null,
   "metadata": {
    "collapsed": false
   },
   "outputs": [],
   "source": [
    "# tweets.head()\n",
    "# tweets.tail()\n",
    "# tweets.columns\n",
    "# tweets.values\n",
    "# tweets.values[0]\n",
    "tweets.describe()\n",
    "# tweets.T\n",
    "# tweets.sort_index(axis=1, ascending=False)\n",
    "# tweets.sort(columns='lang')\n",
    "# tweets['lang']\n",
    "# tweets.text\n",
    "# tweets[0:5]\n",
    "# tweets.loc[:,['text','country']]\n",
    "# tweets.loc[1:7,['text','lang']]\n",
    "# tweets.loc[1,['text','lang']]\n",
    "# tweets.iloc[1:3, 0:3]\n",
    "# tweets.groupby(['lang', 'country']).sum()"
   ]
  },
  {
   "cell_type": "markdown",
   "metadata": {
    "collapsed": true
   },
   "source": [
    "### Tweets Sentiment"
   ]
  },
  {
   "cell_type": "code",
   "execution_count": 58,
   "metadata": {
    "collapsed": false
   },
   "outputs": [],
   "source": [
    "# sentiment_mod.py\n",
    "import sentiment_mod as s"
   ]
  },
  {
   "cell_type": "code",
   "execution_count": 59,
   "metadata": {
    "collapsed": false
   },
   "outputs": [
    {
     "name": "stdout",
     "output_type": "stream",
     "text": [
      "I really don't think #SaintsFC have the capability of staying above tenth this year.\n",
      "('pos', 1.0)\n"
     ]
    }
   ],
   "source": [
    "print tweets_eng['text'][2]\n",
    "print s.sentiment(tweets_eng['text'][2])"
   ]
  },
  {
   "cell_type": "code",
   "execution_count": 60,
   "metadata": {
    "collapsed": false
   },
   "outputs": [],
   "source": [
    "home_tweets = tweets_eng[tweets_eng[\"tag_num\"] == 1]\n",
    "away_tweets = tweets_eng[tweets_eng[\"tag_num\"] == 2]"
   ]
  },
  {
   "cell_type": "code",
   "execution_count": 61,
   "metadata": {
    "collapsed": false
   },
   "outputs": [
    {
     "data": {
      "text/html": [
       "<div>\n",
       "<table border=\"1\" class=\"dataframe\">\n",
       "  <thead>\n",
       "    <tr style=\"text-align: right;\">\n",
       "      <th></th>\n",
       "      <th>text</th>\n",
       "      <th>lang</th>\n",
       "      <th>country</th>\n",
       "      <th>hashtags</th>\n",
       "      <th>tag_num</th>\n",
       "    </tr>\n",
       "  </thead>\n",
       "  <tbody>\n",
       "    <tr>\n",
       "      <th>0</th>\n",
       "      <td>RT @SkyFootball: Wanyama is not included in #S...</td>\n",
       "      <td>en</td>\n",
       "      <td>None</td>\n",
       "      <td>[SaintsFC]</td>\n",
       "      <td>1</td>\n",
       "    </tr>\n",
       "    <tr>\n",
       "      <th>2</th>\n",
       "      <td>I really don't think #SaintsFC have the capabi...</td>\n",
       "      <td>en</td>\n",
       "      <td>None</td>\n",
       "      <td>[SaintsFC]</td>\n",
       "      <td>1</td>\n",
       "    </tr>\n",
       "    <tr>\n",
       "      <th>6</th>\n",
       "      <td>RT @aka_luis_: bamussss #saintsfc</td>\n",
       "      <td>en</td>\n",
       "      <td>None</td>\n",
       "      <td>[saintsfc]</td>\n",
       "      <td>1</td>\n",
       "    </tr>\n",
       "    <tr>\n",
       "      <th>11</th>\n",
       "      <td>1: Saints under way and kicking towards the No...</td>\n",
       "      <td>en</td>\n",
       "      <td>None</td>\n",
       "      <td>[SaintsFC]</td>\n",
       "      <td>1</td>\n",
       "    </tr>\n",
       "    <tr>\n",
       "      <th>20</th>\n",
       "      <td>First long ball.... A what point does it becom...</td>\n",
       "      <td>en</td>\n",
       "      <td>None</td>\n",
       "      <td>[saintsfc]</td>\n",
       "      <td>1</td>\n",
       "    </tr>\n",
       "  </tbody>\n",
       "</table>\n",
       "</div>"
      ],
      "text/plain": [
       "                                                 text lang country  \\\n",
       "0   RT @SkyFootball: Wanyama is not included in #S...   en    None   \n",
       "2   I really don't think #SaintsFC have the capabi...   en    None   \n",
       "6                   RT @aka_luis_: bamussss #saintsfc   en    None   \n",
       "11  1: Saints under way and kicking towards the No...   en    None   \n",
       "20  First long ball.... A what point does it becom...   en    None   \n",
       "\n",
       "      hashtags  tag_num  \n",
       "0   [SaintsFC]        1  \n",
       "2   [SaintsFC]        1  \n",
       "6   [saintsfc]        1  \n",
       "11  [SaintsFC]        1  \n",
       "20  [saintsfc]        1  "
      ]
     },
     "execution_count": 61,
     "metadata": {},
     "output_type": "execute_result"
    }
   ],
   "source": [
    "home_tweets.head()"
   ]
  },
  {
   "cell_type": "code",
   "execution_count": 62,
   "metadata": {
    "collapsed": false
   },
   "outputs": [
    {
     "data": {
      "text/html": [
       "<div>\n",
       "<table border=\"1\" class=\"dataframe\">\n",
       "  <thead>\n",
       "    <tr style=\"text-align: right;\">\n",
       "      <th></th>\n",
       "      <th>text</th>\n",
       "      <th>lang</th>\n",
       "      <th>country</th>\n",
       "      <th>hashtags</th>\n",
       "      <th>tag_num</th>\n",
       "    </tr>\n",
       "  </thead>\n",
       "  <tbody>\n",
       "    <tr>\n",
       "      <th>7</th>\n",
       "      <td>RT @BobRutler: #ncfc fans at Southampton. http...</td>\n",
       "      <td>en</td>\n",
       "      <td>None</td>\n",
       "      <td>[ncfc]</td>\n",
       "      <td>2</td>\n",
       "    </tr>\n",
       "    <tr>\n",
       "      <th>14</th>\n",
       "      <td>RT @premierleague: Alex Neil on #NCFC's strong...</td>\n",
       "      <td>en</td>\n",
       "      <td>None</td>\n",
       "      <td>[NCFC, SOUNOR]</td>\n",
       "      <td>2</td>\n",
       "    </tr>\n",
       "    <tr>\n",
       "      <th>15</th>\n",
       "      <td>RT @premierleague: Alex Neil on #NCFC's strong...</td>\n",
       "      <td>en</td>\n",
       "      <td>None</td>\n",
       "      <td>[NCFC, SOUNOR]</td>\n",
       "      <td>2</td>\n",
       "    </tr>\n",
       "    <tr>\n",
       "      <th>24</th>\n",
       "      <td>RT @premierleague: #NCFC are bidding to win ba...</td>\n",
       "      <td>en</td>\n",
       "      <td>None</td>\n",
       "      <td>[NCFC, BPL, SOUNOR]</td>\n",
       "      <td>2</td>\n",
       "    </tr>\n",
       "    <tr>\n",
       "      <th>26</th>\n",
       "      <td>Southampton's line-up against Nowich. #lcfc #m...</td>\n",
       "      <td>en</td>\n",
       "      <td>None</td>\n",
       "      <td>[lcfc, mufc, mcfc, cpfc, lfc, scfc, efc, ncfc,...</td>\n",
       "      <td>2</td>\n",
       "    </tr>\n",
       "  </tbody>\n",
       "</table>\n",
       "</div>"
      ],
      "text/plain": [
       "                                                 text lang country  \\\n",
       "7   RT @BobRutler: #ncfc fans at Southampton. http...   en    None   \n",
       "14  RT @premierleague: Alex Neil on #NCFC's strong...   en    None   \n",
       "15  RT @premierleague: Alex Neil on #NCFC's strong...   en    None   \n",
       "24  RT @premierleague: #NCFC are bidding to win ba...   en    None   \n",
       "26  Southampton's line-up against Nowich. #lcfc #m...   en    None   \n",
       "\n",
       "                                             hashtags  tag_num  \n",
       "7                                              [ncfc]        2  \n",
       "14                                     [NCFC, SOUNOR]        2  \n",
       "15                                     [NCFC, SOUNOR]        2  \n",
       "24                                [NCFC, BPL, SOUNOR]        2  \n",
       "26  [lcfc, mufc, mcfc, cpfc, lfc, scfc, efc, ncfc,...        2  "
      ]
     },
     "execution_count": 62,
     "metadata": {},
     "output_type": "execute_result"
    }
   ],
   "source": [
    "away_tweets.head()"
   ]
  },
  {
   "cell_type": "code",
   "execution_count": 63,
   "metadata": {
    "collapsed": false
   },
   "outputs": [],
   "source": [
    "import pandas as pd"
   ]
  },
  {
   "cell_type": "code",
   "execution_count": 64,
   "metadata": {
    "collapsed": false
   },
   "outputs": [],
   "source": [
    "home_tweets = pd.DataFrame(home_tweets.values, range(len(home_tweets)), home_tweets.columns)\n",
    "away_tweets = pd.DataFrame(away_tweets.values, range(len(away_tweets)), away_tweets.columns)"
   ]
  },
  {
   "cell_type": "code",
   "execution_count": 65,
   "metadata": {
    "collapsed": false
   },
   "outputs": [
    {
     "data": {
      "text/html": [
       "<div>\n",
       "<table border=\"1\" class=\"dataframe\">\n",
       "  <thead>\n",
       "    <tr style=\"text-align: right;\">\n",
       "      <th></th>\n",
       "      <th>text</th>\n",
       "      <th>lang</th>\n",
       "      <th>country</th>\n",
       "      <th>hashtags</th>\n",
       "      <th>tag_num</th>\n",
       "    </tr>\n",
       "  </thead>\n",
       "  <tbody>\n",
       "    <tr>\n",
       "      <th>0</th>\n",
       "      <td>RT @SkyFootball: Wanyama is not included in #S...</td>\n",
       "      <td>en</td>\n",
       "      <td>None</td>\n",
       "      <td>[SaintsFC]</td>\n",
       "      <td>1</td>\n",
       "    </tr>\n",
       "    <tr>\n",
       "      <th>1</th>\n",
       "      <td>I really don't think #SaintsFC have the capabi...</td>\n",
       "      <td>en</td>\n",
       "      <td>None</td>\n",
       "      <td>[SaintsFC]</td>\n",
       "      <td>1</td>\n",
       "    </tr>\n",
       "    <tr>\n",
       "      <th>2</th>\n",
       "      <td>RT @aka_luis_: bamussss #saintsfc</td>\n",
       "      <td>en</td>\n",
       "      <td>None</td>\n",
       "      <td>[saintsfc]</td>\n",
       "      <td>1</td>\n",
       "    </tr>\n",
       "    <tr>\n",
       "      <th>3</th>\n",
       "      <td>1: Saints under way and kicking towards the No...</td>\n",
       "      <td>en</td>\n",
       "      <td>None</td>\n",
       "      <td>[SaintsFC]</td>\n",
       "      <td>1</td>\n",
       "    </tr>\n",
       "    <tr>\n",
       "      <th>4</th>\n",
       "      <td>First long ball.... A what point does it becom...</td>\n",
       "      <td>en</td>\n",
       "      <td>None</td>\n",
       "      <td>[saintsfc]</td>\n",
       "      <td>1</td>\n",
       "    </tr>\n",
       "  </tbody>\n",
       "</table>\n",
       "</div>"
      ],
      "text/plain": [
       "                                                text lang country    hashtags  \\\n",
       "0  RT @SkyFootball: Wanyama is not included in #S...   en    None  [SaintsFC]   \n",
       "1  I really don't think #SaintsFC have the capabi...   en    None  [SaintsFC]   \n",
       "2                  RT @aka_luis_: bamussss #saintsfc   en    None  [saintsfc]   \n",
       "3  1: Saints under way and kicking towards the No...   en    None  [SaintsFC]   \n",
       "4  First long ball.... A what point does it becom...   en    None  [saintsfc]   \n",
       "\n",
       "  tag_num  \n",
       "0       1  \n",
       "1       1  \n",
       "2       1  \n",
       "3       1  \n",
       "4       1  "
      ]
     },
     "execution_count": 65,
     "metadata": {},
     "output_type": "execute_result"
    }
   ],
   "source": [
    "home_tweets.head()"
   ]
  },
  {
   "cell_type": "code",
   "execution_count": 66,
   "metadata": {
    "collapsed": false
   },
   "outputs": [
    {
     "data": {
      "text/html": [
       "<div>\n",
       "<table border=\"1\" class=\"dataframe\">\n",
       "  <thead>\n",
       "    <tr style=\"text-align: right;\">\n",
       "      <th></th>\n",
       "      <th>text</th>\n",
       "      <th>lang</th>\n",
       "      <th>country</th>\n",
       "      <th>hashtags</th>\n",
       "      <th>tag_num</th>\n",
       "    </tr>\n",
       "  </thead>\n",
       "  <tbody>\n",
       "    <tr>\n",
       "      <th>0</th>\n",
       "      <td>RT @BobRutler: #ncfc fans at Southampton. http...</td>\n",
       "      <td>en</td>\n",
       "      <td>None</td>\n",
       "      <td>[ncfc]</td>\n",
       "      <td>2</td>\n",
       "    </tr>\n",
       "    <tr>\n",
       "      <th>1</th>\n",
       "      <td>RT @premierleague: Alex Neil on #NCFC's strong...</td>\n",
       "      <td>en</td>\n",
       "      <td>None</td>\n",
       "      <td>[NCFC, SOUNOR]</td>\n",
       "      <td>2</td>\n",
       "    </tr>\n",
       "    <tr>\n",
       "      <th>2</th>\n",
       "      <td>RT @premierleague: Alex Neil on #NCFC's strong...</td>\n",
       "      <td>en</td>\n",
       "      <td>None</td>\n",
       "      <td>[NCFC, SOUNOR]</td>\n",
       "      <td>2</td>\n",
       "    </tr>\n",
       "    <tr>\n",
       "      <th>3</th>\n",
       "      <td>RT @premierleague: #NCFC are bidding to win ba...</td>\n",
       "      <td>en</td>\n",
       "      <td>None</td>\n",
       "      <td>[NCFC, BPL, SOUNOR]</td>\n",
       "      <td>2</td>\n",
       "    </tr>\n",
       "    <tr>\n",
       "      <th>4</th>\n",
       "      <td>Southampton's line-up against Nowich. #lcfc #m...</td>\n",
       "      <td>en</td>\n",
       "      <td>None</td>\n",
       "      <td>[lcfc, mufc, mcfc, cpfc, lfc, scfc, efc, ncfc,...</td>\n",
       "      <td>2</td>\n",
       "    </tr>\n",
       "  </tbody>\n",
       "</table>\n",
       "</div>"
      ],
      "text/plain": [
       "                                                text lang country  \\\n",
       "0  RT @BobRutler: #ncfc fans at Southampton. http...   en    None   \n",
       "1  RT @premierleague: Alex Neil on #NCFC's strong...   en    None   \n",
       "2  RT @premierleague: Alex Neil on #NCFC's strong...   en    None   \n",
       "3  RT @premierleague: #NCFC are bidding to win ba...   en    None   \n",
       "4  Southampton's line-up against Nowich. #lcfc #m...   en    None   \n",
       "\n",
       "                                            hashtags tag_num  \n",
       "0                                             [ncfc]       2  \n",
       "1                                     [NCFC, SOUNOR]       2  \n",
       "2                                     [NCFC, SOUNOR]       2  \n",
       "3                                [NCFC, BPL, SOUNOR]       2  \n",
       "4  [lcfc, mufc, mcfc, cpfc, lfc, scfc, efc, ncfc,...       2  "
      ]
     },
     "execution_count": 66,
     "metadata": {},
     "output_type": "execute_result"
    }
   ],
   "source": [
    "away_tweets.head()"
   ]
  },
  {
   "cell_type": "markdown",
   "metadata": {},
   "source": [
    "## Sentiment Analysis"
   ]
  },
  {
   "cell_type": "code",
   "execution_count": 67,
   "metadata": {
    "collapsed": true
   },
   "outputs": [],
   "source": [
    "home_sent = map(lambda tweet: s.sentiment(tweet)[0], home_tweets[\"text\"])"
   ]
  },
  {
   "cell_type": "code",
   "execution_count": 68,
   "metadata": {
    "collapsed": true
   },
   "outputs": [],
   "source": [
    "away_sent = map(lambda tweet: s.sentiment(tweet)[0], away_tweets[\"text\"])"
   ]
  },
  {
   "cell_type": "code",
   "execution_count": 69,
   "metadata": {
    "collapsed": false
   },
   "outputs": [
    {
     "name": "stdout",
     "output_type": "stream",
     "text": [
      "Home Team: Counter({'neg': 899, 'pos': 414})\n",
      "Away Team: Counter({'neg': 1276, 'pos': 265})\n"
     ]
    }
   ],
   "source": [
    "print \"Home Team:\", collections.Counter(home_sent)\n",
    "print \"Away Team:\", collections.Counter(away_sent)"
   ]
  },
  {
   "cell_type": "code",
   "execution_count": 70,
   "metadata": {
    "collapsed": false
   },
   "outputs": [],
   "source": [
    "home_sent = collections.Counter(home_sent)\n",
    "away_sent = collections.Counter(away_sent)"
   ]
  },
  {
   "cell_type": "code",
   "execution_count": 71,
   "metadata": {
    "collapsed": false
   },
   "outputs": [
    {
     "name": "stdout",
     "output_type": "stream",
     "text": [
      "Positive Tweets:  414\n",
      "Negative Tweets:  899\n"
     ]
    },
    {
     "data": {
      "image/png": "[encoded data removed]",
      "text/plain": [
       "<matplotlib.figure.Figure at 0x103729b10>"
      ]
     },
     "metadata": {},
     "output_type": "display_data"
    }
   ],
   "source": [
    "slices = [home_sent['pos'], home_sent['neg']]\n",
    "activities = ['pos', 'neg']\n",
    "cols = ['g','r']\n",
    "\n",
    "plt.pie(slices,\n",
    "        labels=activities,\n",
    "        colors=cols,\n",
    "        autopct='%1.1f%%')\n",
    "\n",
    "plt.title('Home Team Tweets \\n Classification')\n",
    "\n",
    "print \"Positive Tweets: \", home_sent['pos']\n",
    "print \"Negative Tweets: \", home_sent['neg']\n",
    "\n",
    "plt.show()"
   ]
  },
  {
   "cell_type": "code",
   "execution_count": 72,
   "metadata": {
    "collapsed": false
   },
   "outputs": [
    {
     "name": "stdout",
     "output_type": "stream",
     "text": [
      "Positive Tweets:  265\n",
      "Negative Tweets:  1276\n"
     ]
    },
    {
     "data": {
      "image/png": "[encoded data removed]",
      "text/plain": [
       "<matplotlib.figure.Figure at 0x103729f90>"
      ]
     },
     "metadata": {},
     "output_type": "display_data"
    }
   ],
   "source": [
    "slices = [away_sent['pos'], away_sent['neg']]\n",
    "activities = ['pos', 'neg']\n",
    "cols = ['g','r']\n",
    "\n",
    "plt.pie(slices,\n",
    "        labels=activities,\n",
    "        colors=cols,\n",
    "        autopct='%1.1f%%')\n",
    "\n",
    "plt.title('Away Team Tweets \\n Classification')\n",
    "\n",
    "print \"Positive Tweets: \", away_sent['pos']\n",
    "print \"Negative Tweets: \", away_sent['neg']\n",
    "\n",
    "plt.show()"
   ]
  },
  {
   "cell_type": "code",
   "execution_count": 74,
   "metadata": {
    "collapsed": true
   },
   "outputs": [],
   "source": [
    "import sentiment_aware\n",
    "tok = sentiment_aware.Tokenizer(preserve_case=False)"
   ]
  },
  {
   "cell_type": "code",
   "execution_count": 79,
   "metadata": {
    "collapsed": false
   },
   "outputs": [
    {
     "name": "stdout",
     "output_type": "stream",
     "text": [
      "@sentimentsymp\n",
      ":\n",
      "can't\n",
      "wait\n",
      "for\n",
      "the\n",
      "nov\n",
      "9\n",
      "#sentiment\n",
      "talks\n",
      "!\n",
      "yaaaaaay\n",
      "!\n",
      "!\n",
      "!\n",
      ">:-D\n",
      "http\n",
      ":/\n",
      "/\n",
      "sentimentsymposium\n",
      ".\n",
      "com\n",
      "/\n",
      ".\n"
     ]
    }
   ],
   "source": [
    "print \"\\n\".join(tok.tokenize(\"\"\"\n",
    "@SentimentSymp:  can't wait for the Nov 9 #Sentiment talks! \n",
    "YAAAAAAY!!! >:-D http://sentimentsymposium.com/.\n",
    "\"\"\"))"
   ]
  },
  {
   "cell_type": "code",
   "execution_count": 78,
   "metadata": {
    "collapsed": false
   },
   "outputs": [
    {
     "name": "stdout",
     "output_type": "stream",
     "text": [
      "RT @SkyFootball: Wanyama is not included in #SaintsFC's squad as speculation continues to mount over his future http://t.co/gLeppjHr96 http…\n",
      "rt\n",
      "@skyfootball\n",
      ":\n",
      "wanyama\n",
      "is\n",
      "not\n",
      "included\n",
      "in\n",
      "#saintsfc's\n",
      "squad\n",
      "as\n",
      "speculation\n",
      "continues\n",
      "to\n",
      "mount\n",
      "over\n",
      "his\n",
      "future\n",
      "http\n",
      ":/\n",
      "/\n",
      "t\n",
      ".\n",
      "co\n",
      "/\n",
      "gleppjhr\n",
      "96\n",
      "http\n",
      "…\n"
     ]
    }
   ],
   "source": [
    "print home_tweets['text'][0]\n",
    "tokenized = tok.tokenize(home_tweets['text'][0])\n",
    "print \"\\n\".join(tokenized)"
   ]
  }
 ],
 "metadata": {
  "kernelspec": {
   "display_name": "Python 2",
   "language": "python",
   "name": "python2"
  },
  "language_info": {
   "codemirror_mode": {
    "name": "ipython",
    "version": 2
   },
   "file_extension": ".py",
   "mimetype": "text/x-python",
   "name": "python",
   "nbconvert_exporter": "python",
   "pygments_lexer": "ipython2",
   "version": "2.7.10"
  }
 },
 "nbformat": 4,
 "nbformat_minor": 0
}
