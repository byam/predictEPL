{
 "cells": [
  {
   "cell_type": "code",
   "execution_count": 52,
   "metadata": {
    "collapsed": false
   },
   "outputs": [
    {
     "name": "stdout",
     "output_type": "stream",
     "text": [
      "Populating the interactive namespace from numpy and matplotlib\n"
     ]
    }
   ],
   "source": [
    "%pylab inline\n",
    "%matplotlib inline"
   ]
  },
  {
   "cell_type": "code",
   "execution_count": 2,
   "metadata": {
    "collapsed": true
   },
   "outputs": [],
   "source": [
    "import json\n",
    "import pandas as pd\n",
    "import matplotlib.pyplot as plt\n",
    "import nltk\n",
    "from nltk.tokenize import word_tokenize, sent_tokenize\n",
    "import codecs\n",
    "import collections"
   ]
  },
  {
   "cell_type": "markdown",
   "metadata": {},
   "source": [
    "### Define"
   ]
  },
  {
   "cell_type": "code",
   "execution_count": 3,
   "metadata": {
    "collapsed": true
   },
   "outputs": [],
   "source": [
    "home = \"NUFC\"\n",
    "away = \"Arsenal\""
   ]
  },
  {
   "cell_type": "markdown",
   "metadata": {},
   "source": [
    "### Load Data and Preprocessing"
   ]
  },
  {
   "cell_type": "code",
   "execution_count": 4,
   "metadata": {
    "collapsed": false
   },
   "outputs": [],
   "source": [
    "# Read file\n",
    "tweets_file = open(\"../../EPLdata/1508292045_NUFCvsARSENAL.txt\", \"r\")"
   ]
  },
  {
   "cell_type": "code",
   "execution_count": 5,
   "metadata": {
    "collapsed": false
   },
   "outputs": [],
   "source": [
    "# Parsing JSON\n",
    "\n",
    "tweets_data = []\n",
    "for line in tweets_file:\n",
    "    try:\n",
    "        tweet = json.loads(line)\n",
    "        tweets_data.append(tweet)\n",
    "    except:\n",
    "        continue"
   ]
  },
  {
   "cell_type": "code",
   "execution_count": 6,
   "metadata": {
    "collapsed": true
   },
   "outputs": [],
   "source": [
    "tweets_file.close()"
   ]
  },
  {
   "cell_type": "code",
   "execution_count": 7,
   "metadata": {
    "collapsed": false
   },
   "outputs": [
    {
     "name": "stdout",
     "output_type": "stream",
     "text": [
      "16831\n"
     ]
    }
   ],
   "source": [
    "print len(tweets_data)"
   ]
  },
  {
   "cell_type": "code",
   "execution_count": 8,
   "metadata": {
    "collapsed": false,
    "scrolled": true
   },
   "outputs": [],
   "source": [
    "# tweets_data[100]"
   ]
  },
  {
   "cell_type": "markdown",
   "metadata": {},
   "source": [
    "### Create DataFrame as tweets"
   ]
  },
  {
   "cell_type": "code",
   "execution_count": 8,
   "metadata": {
    "collapsed": false
   },
   "outputs": [],
   "source": [
    "tweets = pd.DataFrame()\n",
    "tweets['text'] = map(lambda tweet: tweet['text'], tweets_data)\n",
    "tweets['lang'] = map(lambda tweet: tweet['lang'], tweets_data)\n",
    "tweets['country'] = map(lambda tweet: tweet['place']['country'] if tweet['place'] != None else None, tweets_data)\n",
    "tweets['hashtags'] = map(lambda tweet: map(lambda tag: tag['text'], tweet['entities']['hashtags']), tweets_data)"
   ]
  },
  {
   "cell_type": "code",
   "execution_count": 9,
   "metadata": {
    "collapsed": false,
    "scrolled": true
   },
   "outputs": [],
   "source": [
    "# 0: no tags, 3: both team tags, 1: only home team tags, 2: only away team tags, 4: other tags\n",
    "def find_tag(tag):\n",
    "    if not tag:\n",
    "        return 0\n",
    "    if home in tag and away in tag:\n",
    "        return 3\n",
    "    if home in tag:\n",
    "        return 1\n",
    "    if away in tag:\n",
    "        return 2\n",
    "    else:\n",
    "        return 4\n",
    "\n",
    "tweets[\"tag_num\"] = map(lambda tags: find_tag(tags), tweets['hashtags'])"
   ]
  },
  {
   "cell_type": "code",
   "execution_count": 10,
   "metadata": {
    "collapsed": false,
    "scrolled": true
   },
   "outputs": [
    {
     "data": {
      "text/html": [
       "<div>\n",
       "<table border=\"1\" class=\"dataframe\">\n",
       "  <thead>\n",
       "    <tr style=\"text-align: right;\">\n",
       "      <th></th>\n",
       "      <th>text</th>\n",
       "      <th>lang</th>\n",
       "      <th>country</th>\n",
       "      <th>hashtags</th>\n",
       "      <th>tag_num</th>\n",
       "    </tr>\n",
       "  </thead>\n",
       "  <tbody>\n",
       "    <tr>\n",
       "      <th>0</th>\n",
       "      <td>Newcastle XI v Arsenal: Krul, Janmaat, Mbemba,...</td>\n",
       "      <td>ro</td>\n",
       "      <td>None</td>\n",
       "      <td>[NUFC, AFC]</td>\n",
       "      <td>1</td>\n",
       "    </tr>\n",
       "    <tr>\n",
       "      <th>1</th>\n",
       "      <td>RT @spe_football: { #BPL } Coup d'envoi Newcas...</td>\n",
       "      <td>en</td>\n",
       "      <td>None</td>\n",
       "      <td>[BPL, NEWARS, NUFC, Arsenal]</td>\n",
       "      <td>3</td>\n",
       "    </tr>\n",
       "    <tr>\n",
       "      <th>2</th>\n",
       "      <td>Arranca el partido entre #NUFC y #Arsenal ¡Gun...</td>\n",
       "      <td>es</td>\n",
       "      <td>None</td>\n",
       "      <td>[NUFC, Arsenal]</td>\n",
       "      <td>3</td>\n",
       "    </tr>\n",
       "    <tr>\n",
       "      <th>3</th>\n",
       "      <td>RT @CabinaDeporte: ya estamos en directo en ht...</td>\n",
       "      <td>es</td>\n",
       "      <td>None</td>\n",
       "      <td>[NUFCvAFC, arsenal, NUFC, BPL]</td>\n",
       "      <td>1</td>\n",
       "    </tr>\n",
       "    <tr>\n",
       "      <th>4</th>\n",
       "      <td>I'd take another draw this week #NUFC</td>\n",
       "      <td>en</td>\n",
       "      <td>None</td>\n",
       "      <td>[NUFC]</td>\n",
       "      <td>1</td>\n",
       "    </tr>\n",
       "  </tbody>\n",
       "</table>\n",
       "</div>"
      ],
      "text/plain": [
       "                                                text lang country  \\\n",
       "0  Newcastle XI v Arsenal: Krul, Janmaat, Mbemba,...   ro    None   \n",
       "1  RT @spe_football: { #BPL } Coup d'envoi Newcas...   en    None   \n",
       "2  Arranca el partido entre #NUFC y #Arsenal ¡Gun...   es    None   \n",
       "3  RT @CabinaDeporte: ya estamos en directo en ht...   es    None   \n",
       "4              I'd take another draw this week #NUFC   en    None   \n",
       "\n",
       "                         hashtags  tag_num  \n",
       "0                     [NUFC, AFC]        1  \n",
       "1    [BPL, NEWARS, NUFC, Arsenal]        3  \n",
       "2                 [NUFC, Arsenal]        3  \n",
       "3  [NUFCvAFC, arsenal, NUFC, BPL]        1  \n",
       "4                          [NUFC]        1  "
      ]
     },
     "execution_count": 10,
     "metadata": {},
     "output_type": "execute_result"
    }
   ],
   "source": [
    "tweets.head()"
   ]
  },
  {
   "cell_type": "code",
   "execution_count": 11,
   "metadata": {
    "collapsed": false
   },
   "outputs": [
    {
     "name": "stdout",
     "output_type": "stream",
     "text": [
      "Home Team Tags:  5110\n",
      "Away Team Tags:  5597\n",
      "Both Team Tags:  2222\n",
      "Other Team Tags:  529\n",
      "No Tags: \t3373\n",
      "All Tweets:  16831\n"
     ]
    }
   ],
   "source": [
    "home_hashtags = len(tweets[tweets[\"tag_num\"] == 1])\n",
    "away_hashtags = len(tweets[tweets[\"tag_num\"] == 2])\n",
    "both_hashtags = len(tweets[tweets[\"tag_num\"] == 3])\n",
    "no_hashtags = len(tweets[tweets[\"tag_num\"] == 4])\n",
    "other_hashtags = len(tweets[tweets[\"tag_num\"] == 0])\n",
    "\n",
    "print \"Home Team Tags: \", home_hashtags\n",
    "print \"Away Team Tags: \", away_hashtags\n",
    "print \"Both Team Tags: \", both_hashtags\n",
    "print \"Other Team Tags: \", other_hashtags\n",
    "print \"No Tags: \\t\", no_hashtags\n",
    "print \"All Tweets: \", len(tweets)"
   ]
  },
  {
   "cell_type": "code",
   "execution_count": 12,
   "metadata": {
    "collapsed": false
   },
   "outputs": [
    {
     "data": {
      "image/png": "[encoded data removed]",
      "text/plain": [
       "<matplotlib.figure.Figure at 0x1247aab10>"
      ]
     },
     "metadata": {},
     "output_type": "display_data"
    }
   ],
   "source": [
    "# Plot Hashtags Pie\n",
    "slices = [home_hashtags, both_hashtags, away_hashtags, other_hashtags, no_hashtags]\n",
    "activities = ['home','both','away', 'no_tag', 'other']\n",
    "cols = ['g','orange','b', 'w', 'y']\n",
    "\n",
    "plt.pie(slices,\n",
    "        labels=activities,\n",
    "        colors=cols,\n",
    "        autopct='%1.1f%%')\n",
    "\n",
    "plt.title('Tweets by hashtags\\n')\n",
    "plt.show()"
   ]
  },
  {
   "cell_type": "markdown",
   "metadata": {},
   "source": [
    "### Top 5 languages"
   ]
  },
  {
   "cell_type": "code",
   "execution_count": 13,
   "metadata": {
    "collapsed": false
   },
   "outputs": [
    {
     "data": {
      "text/plain": [
       "en     13620\n",
       "es       659\n",
       "und      608\n",
       "in       388\n",
       "fr       285\n",
       "dtype: int64"
      ]
     },
     "execution_count": 13,
     "metadata": {},
     "output_type": "execute_result"
    },
    {
     "data": {
      "image/png": "[encoded data removed]",
      "text/plain": [
       "<matplotlib.figure.Figure at 0x124a2fd50>"
      ]
     },
     "metadata": {},
     "output_type": "display_data"
    }
   ],
   "source": [
    "tweets_by_lang = tweets['lang'].value_counts()\n",
    "\n",
    "fig, ax = plt.subplots()\n",
    "ax.tick_params(axis='x', labelsize=15)\n",
    "ax.tick_params(axis='y', labelsize=10)\n",
    "ax.set_xlabel('Languages', fontsize=15)\n",
    "ax.set_ylabel('Number of tweets' , fontsize=15)\n",
    "ax.set_title('Top 5 languages', fontsize=15, fontweight='bold')\n",
    "tweets_by_lang[:5].plot(ax=ax, kind='bar', color='red')\n",
    "tweets_by_lang[:5]"
   ]
  },
  {
   "cell_type": "markdown",
   "metadata": {},
   "source": [
    "### Top 5 countries"
   ]
  },
  {
   "cell_type": "code",
   "execution_count": 14,
   "metadata": {
    "collapsed": false
   },
   "outputs": [
    {
     "data": {
      "text/plain": [
       "United Kingdom    339\n",
       "Algeria           137\n",
       "United States      93\n",
       "Indonesia          34\n",
       "France             21\n",
       "dtype: int64"
      ]
     },
     "execution_count": 14,
     "metadata": {},
     "output_type": "execute_result"
    },
    {
     "data": {
      "image/png": "[encoded data removed]",
      "text/plain": [
       "<matplotlib.figure.Figure at 0x1109d3350>"
      ]
     },
     "metadata": {},
     "output_type": "display_data"
    }
   ],
   "source": [
    "tweets_by_country = tweets['country'].value_counts()\n",
    "\n",
    "fig, ax = plt.subplots()\n",
    "ax.tick_params(axis='x', labelsize=15)\n",
    "ax.tick_params(axis='y', labelsize=10)\n",
    "ax.set_xlabel('Countries', fontsize=15)\n",
    "ax.set_ylabel('Number of tweets' , fontsize=15)\n",
    "ax.set_title('Top 5 countries', fontsize=15, fontweight='bold')\n",
    "tweets_by_country[:5].plot(ax=ax, kind='bar', color='blue')\n",
    "tweets_by_country[:5]"
   ]
  },
  {
   "cell_type": "code",
   "execution_count": 15,
   "metadata": {
    "collapsed": false,
    "scrolled": true
   },
   "outputs": [],
   "source": [
    "# tweets_by_country"
   ]
  },
  {
   "cell_type": "code",
   "execution_count": 16,
   "metadata": {
    "collapsed": false
   },
   "outputs": [
    {
     "name": "stdout",
     "output_type": "stream",
     "text": [
      "country:  860\n",
      "None:  15971\n"
     ]
    }
   ],
   "source": [
    "print \"country: \", sum(tweets_by_country)\n",
    "print \"None: \", len(tweets_data) - sum(tweets_by_country)"
   ]
  },
  {
   "cell_type": "markdown",
   "metadata": {},
   "source": [
    "### Count All Words"
   ]
  },
  {
   "cell_type": "code",
   "execution_count": 17,
   "metadata": {
    "collapsed": false
   },
   "outputs": [
    {
     "data": {
      "text/html": [
       "<div>\n",
       "<table border=\"1\" class=\"dataframe\">\n",
       "  <thead>\n",
       "    <tr style=\"text-align: right;\">\n",
       "      <th></th>\n",
       "      <th>text</th>\n",
       "      <th>lang</th>\n",
       "      <th>country</th>\n",
       "      <th>hashtags</th>\n",
       "      <th>tag_num</th>\n",
       "    </tr>\n",
       "  </thead>\n",
       "  <tbody>\n",
       "    <tr>\n",
       "      <th>1</th>\n",
       "      <td>RT @spe_football: { #BPL } Coup d'envoi Newcas...</td>\n",
       "      <td>en</td>\n",
       "      <td>None</td>\n",
       "      <td>[BPL, NEWARS, NUFC, Arsenal]</td>\n",
       "      <td>3</td>\n",
       "    </tr>\n",
       "    <tr>\n",
       "      <th>4</th>\n",
       "      <td>I'd take another draw this week #NUFC</td>\n",
       "      <td>en</td>\n",
       "      <td>None</td>\n",
       "      <td>[NUFC]</td>\n",
       "      <td>1</td>\n",
       "    </tr>\n",
       "    <tr>\n",
       "      <th>5</th>\n",
       "      <td>Yeay Walcott 👍 #NUFC v #Arsenal</td>\n",
       "      <td>en</td>\n",
       "      <td>None</td>\n",
       "      <td>[NUFC, Arsenal]</td>\n",
       "      <td>3</td>\n",
       "    </tr>\n",
       "    <tr>\n",
       "      <th>6</th>\n",
       "      <td>RT @spe_football: { #BPL } Coup d'envoi Newcas...</td>\n",
       "      <td>en</td>\n",
       "      <td>None</td>\n",
       "      <td>[BPL, NEWARS, NUFC, Arsenal]</td>\n",
       "      <td>3</td>\n",
       "    </tr>\n",
       "    <tr>\n",
       "      <th>7</th>\n",
       "      <td>RT @NUFC: #NUFC get us underway here at St. Ja...</td>\n",
       "      <td>en</td>\n",
       "      <td>None</td>\n",
       "      <td>[NUFC]</td>\n",
       "      <td>1</td>\n",
       "    </tr>\n",
       "  </tbody>\n",
       "</table>\n",
       "</div>"
      ],
      "text/plain": [
       "                                                text lang country  \\\n",
       "1  RT @spe_football: { #BPL } Coup d'envoi Newcas...   en    None   \n",
       "4              I'd take another draw this week #NUFC   en    None   \n",
       "5                   Yeay Walcott 👍 #NUFC v #Arsenal   en    None   \n",
       "6  RT @spe_football: { #BPL } Coup d'envoi Newcas...   en    None   \n",
       "7  RT @NUFC: #NUFC get us underway here at St. Ja...   en    None   \n",
       "\n",
       "                       hashtags  tag_num  \n",
       "1  [BPL, NEWARS, NUFC, Arsenal]        3  \n",
       "4                        [NUFC]        1  \n",
       "5               [NUFC, Arsenal]        3  \n",
       "6  [BPL, NEWARS, NUFC, Arsenal]        3  \n",
       "7                        [NUFC]        1  "
      ]
     },
     "execution_count": 17,
     "metadata": {},
     "output_type": "execute_result"
    }
   ],
   "source": [
    "tweets_eng = tweets[tweets[\"lang\"] == \"en\"]\n",
    "tweets_eng.head()"
   ]
  },
  {
   "cell_type": "code",
   "execution_count": 18,
   "metadata": {
    "collapsed": false
   },
   "outputs": [
    {
     "name": "stdout",
     "output_type": "stream",
     "text": [
      "13620\n"
     ]
    }
   ],
   "source": [
    "print len(tweets_eng)"
   ]
  },
  {
   "cell_type": "code",
   "execution_count": 19,
   "metadata": {
    "collapsed": false
   },
   "outputs": [],
   "source": [
    "# create all words lists\n",
    "all_words = []\n",
    "\n",
    "for tweet in tweets_eng[\"text\"]:\n",
    "    tweet_words = word_tokenize(tweet)\n",
    "    for word in tweet_words:\n",
    "        all_words.append(word.lower())"
   ]
  },
  {
   "cell_type": "code",
   "execution_count": 20,
   "metadata": {
    "collapsed": false,
    "scrolled": true
   },
   "outputs": [
    {
     "data": {
      "text/plain": [
       "[(u'#', 22837),\n",
       " (u':', 13132),\n",
       " (u'arsenal', 8964),\n",
       " (u'nufc', 8662),\n",
       " (u'@', 7794),\n",
       " (u'.', 7750),\n",
       " (u'rt', 5785),\n",
       " (u'a', 4902),\n",
       " (u'the', 4832),\n",
       " (u'http', 4556),\n",
       " (u'!', 4065),\n",
       " (u'to', 3203),\n",
       " (u',', 2861),\n",
       " (u'mitrovic', 2500),\n",
       " (u'for', 2415),\n",
       " (u'on', 2298),\n",
       " (u'red', 2232),\n",
       " (u'is', 2140),\n",
       " (u\"'s\", 1938),\n",
       " (u'newcastle', 1903)]"
      ]
     },
     "execution_count": 20,
     "metadata": {},
     "output_type": "execute_result"
    }
   ],
   "source": [
    "# count all words\n",
    "counted_all_words = collections.Counter(all_words)\n",
    "counted_all_words.most_common()[:20]"
   ]
  },
  {
   "cell_type": "markdown",
   "metadata": {},
   "source": [
    "### Extract Adjective Words"
   ]
  },
  {
   "cell_type": "code",
   "execution_count": 22,
   "metadata": {
    "collapsed": false
   },
   "outputs": [
    {
     "data": {
      "text/plain": [
       "u\"Arsenal are so soft that they couldn't even be called a soap, they are a fuckin handwash. #NUFC #NUFCvAFC #Arsenal #AFC\""
      ]
     },
     "execution_count": 22,
     "metadata": {},
     "output_type": "execute_result"
    }
   ],
   "source": [
    "tweets_eng['text'][16794]"
   ]
  },
  {
   "cell_type": "code",
   "execution_count": 23,
   "metadata": {
    "collapsed": false,
    "scrolled": true
   },
   "outputs": [
    {
     "data": {
      "text/plain": [
       "[(u'Arsenal', 'NNP'),\n",
       " (u'are', 'VBP'),\n",
       " (u'so', 'RB'),\n",
       " (u'soft', 'JJ'),\n",
       " (u'that', 'IN'),\n",
       " (u'they', 'PRP'),\n",
       " (u'could', 'MD'),\n",
       " (u\"n't\", 'RB'),\n",
       " (u'even', 'RB'),\n",
       " (u'be', 'VB'),\n",
       " (u'called', 'VBN'),\n",
       " (u'a', 'DT'),\n",
       " (u'soap', 'NN'),\n",
       " (u',', ','),\n",
       " (u'they', 'PRP'),\n",
       " (u'are', 'VBP'),\n",
       " (u'a', 'DT'),\n",
       " (u'fuckin', 'NN'),\n",
       " (u'handwash', 'NN'),\n",
       " (u'.', '.'),\n",
       " (u'#', '#'),\n",
       " (u'NUFC', 'NNP'),\n",
       " (u'#', '#'),\n",
       " (u'NUFCvAFC', 'NNP'),\n",
       " (u'#', '#'),\n",
       " (u'Arsenal', 'NNP'),\n",
       " (u'#', '#'),\n",
       " (u'AFC', 'NNP')]"
      ]
     },
     "execution_count": 23,
     "metadata": {},
     "output_type": "execute_result"
    }
   ],
   "source": [
    "nltk.pos_tag(word_tokenize(tweets_eng['text'][16794]))"
   ]
  },
  {
   "cell_type": "code",
   "execution_count": 79,
   "metadata": {
    "collapsed": false
   },
   "outputs": [],
   "source": [
    "# create J all words lists\n",
    "all_J_words = []\n",
    "\n",
    "#  j is adject, r is adverb, and v is verb\n",
    "#allowed_word_types = [\"J\",\"R\",\"V\"]\n",
    "allowed_word_types = [\"J\"]\n",
    "\n",
    "for tweet in tweets_eng[\"text\"]:\n",
    "    \n",
    "    tweet_words = word_tokenize(tweet)\n",
    "    \n",
    "    tweet_words_pos = nltk.pos_tag(tweet_words)\n",
    "    \n",
    "    for word in tweet_words_pos:\n",
    "        if word[1][0] in allowed_word_types and word[0][0] != \"/\":\n",
    "            all_J_words.append(word[0].lower())"
   ]
  },
  {
   "cell_type": "code",
   "execution_count": 80,
   "metadata": {
    "collapsed": false
   },
   "outputs": [
    {
     "data": {
      "text/plain": [
       "[(u'arsenal', 1077),\n",
       " (u'late', 440),\n",
       " (u'live', 376),\n",
       " (u'newcastle-united', 277),\n",
       " (u'first', 264),\n",
       " (u'yellow', 252),\n",
       " (u'ht\\u2026', 249),\n",
       " (u'red', 246),\n",
       " (u'colourful', 166),\n",
       " (u'great', 156),\n",
       " (u'foul', 151),\n",
       " (u'massive', 150),\n",
       " (u'good', 135),\n",
       " (u'heavier', 126),\n",
       " (u'more', 121),\n",
       " (u'last', 118),\n",
       " (u'clinical', 106),\n",
       " (u'mitrovic', 103),\n",
       " (u'best', 103),\n",
       " (u'florian', 97)]"
      ]
     },
     "execution_count": 80,
     "metadata": {},
     "output_type": "execute_result"
    }
   ],
   "source": [
    "# count J all words\n",
    "counted_all_J_words = collections.Counter(all_J_words)\n",
    "counted_all_J_words.most_common()[:20]"
   ]
  },
  {
   "cell_type": "code",
   "execution_count": 81,
   "metadata": {
    "collapsed": false
   },
   "outputs": [
    {
     "data": {
      "text/plain": [
       "[(u'arsenal', 1077),\n",
       " (u'late', 440),\n",
       " (u'live', 376),\n",
       " (u'newcastle-united', 277),\n",
       " (u'first', 264),\n",
       " (u'yellow', 252),\n",
       " (u'ht\\u2026', 249),\n",
       " (u'red', 246),\n",
       " (u'colourful', 166),\n",
       " (u'great', 156),\n",
       " (u'foul', 151),\n",
       " (u'massive', 150),\n",
       " (u'good', 135),\n",
       " (u'heavier', 126),\n",
       " (u'more', 121),\n",
       " (u'last', 118),\n",
       " (u'clinical', 106),\n",
       " (u'mitrovic', 103),\n",
       " (u'best', 103),\n",
       " (u'florian', 97),\n",
       " (u'big', 90),\n",
       " (u'new', 86),\n",
       " (u'harsh', 86),\n",
       " (u'pen', 85),\n",
       " (u'easier', 78),\n",
       " (u'studs-up', 74),\n",
       " (u'few', 71),\n",
       " (u'bad', 71),\n",
       " (u'real', 70),\n",
       " (u'like\\u2026', 69),\n",
       " (u'17th', 66),\n",
       " (u'mitrovic\\u2019s', 64),\n",
       " (u'other', 63),\n",
       " (u'incredible', 58),\n",
       " (u'many', 57),\n",
       " (u'early', 57),\n",
       " (u'old', 57),\n",
       " (u'least', 56),\n",
       " (u'clear', 56),\n",
       " (u'top', 53),\n",
       " (u'wrong', 50),\n",
       " (u'ridiculous', 49),\n",
       " (u'full-time', 49),\n",
       " (u'terrible', 47),\n",
       " (u'sure', 46),\n",
       " (u'same', 46),\n",
       " (u'poor', 46),\n",
       " (u'kick-off', 45),\n",
       " (u'extra', 41),\n",
       " (u'most', 38),\n",
       " (u'horrible', 37),\n",
       " (u'huge', 36),\n",
       " (u'devastated', 36),\n",
       " (u'absolute', 35),\n",
       " (u'second', 34),\n",
       " (u'only', 33),\n",
       " (u'fair', 33),\n",
       " (u'soft', 33),\n",
       " (u'straight', 32),\n",
       " (u'better', 31),\n",
       " (u'one-man', 29),\n",
       " (u'worst', 28),\n",
       " (u'ars\\xe8ne', 27),\n",
       " (u'high', 27),\n",
       " (u'long', 27),\n",
       " (u'oxlade-chamberlain', 27),\n",
       " (u'much', 27),\n",
       " (u'referee', 27),\n",
       " (u'modern', 26),\n",
       " (u'lucky', 25),\n",
       " (u'such', 25),\n",
       " (u'free', 25),\n",
       " (u'own', 25),\n",
       " (u'booked', 25),\n",
       " (u'mitrovi\\u0107', 24),\n",
       " (u'next', 24),\n",
       " (u'pathetic', 24),\n",
       " (u'stupid', 24),\n",
       " (u'dangerous', 24),\n",
       " (u'28th', 24),\n",
       " (u'final', 23),\n",
       " (u'biggest', 23),\n",
       " (u'awful', 22),\n",
       " (u'half-time', 22),\n",
       " (u'obvious', 22),\n",
       " (u'dive', 22),\n",
       " (u'full', 21),\n",
       " (u'score', 21),\n",
       " (u'true', 21),\n",
       " (u'\\xf6zil', 20),\n",
       " (u'senior', 20),\n",
       " (u'available', 20),\n",
       " (u'shite', 19),\n",
       " (u'dirty', 18),\n",
       " (u'serious', 18),\n",
       " (u'quick', 17),\n",
       " (u'wide', 17),\n",
       " (u'2nd', 17),\n",
       " (u'third', 16),\n",
       " (u'able', 16),\n",
       " (u'later', 16),\n",
       " (u'close', 16),\n",
       " (u'consistent', 15),\n",
       " (u'typical', 15),\n",
       " (u'blatant', 15),\n",
       " (u'let\\u2019s', 15),\n",
       " (u'little', 15),\n",
       " (u'less', 15),\n",
       " (u'happy', 15),\n",
       " (u'brilliant', 14),\n",
       " (u'arrive', 14),\n",
       " (u'open', 14),\n",
       " (u'black', 14),\n",
       " (u'touch', 14),\n",
       " (u'interested', 14),\n",
       " (u'defensive', 14),\n",
       " (u'easy', 13),\n",
       " (u'solid', 13),\n",
       " (u'tumble', 13),\n",
       " (u'slow', 12),\n",
       " (u\"c'mon\", 12),\n",
       " (u'total', 12),\n",
       " (u'heavy', 12),\n",
       " (u'hard', 12),\n",
       " (u'challenge\\u2026', 12),\n",
       " (u'tactic', 12),\n",
       " (u'whole', 12),\n",
       " (u'free-kick', 12),\n",
       " (u'dear', 12),\n",
       " (u'single', 12),\n",
       " (u'nice', 12),\n",
       " (u'entire', 11),\n",
       " (u'fantastic', 11),\n",
       " (u'mean', 11),\n",
       " (u'commentary', 11),\n",
       " (u'aggressive', 11),\n",
       " (u'alive', 11),\n",
       " (u'worthy', 11),\n",
       " (u'ten-yard', 10),\n",
       " (u'bloody', 10),\n",
       " (u'unlucky', 10),\n",
       " (u'clumsy', 10),\n",
       " (u'outrageous', 10),\n",
       " (u'exactly\\u2026', 10),\n",
       " (u\"'make\", 10),\n",
       " (u'beast', 10),\n",
       " (u'possible', 10),\n",
       " (u'goal\\u2026', 10),\n",
       " (u'complete', 10),\n",
       " (u'positive', 9),\n",
       " (u'long-range', 9),\n",
       " (u'double', 9),\n",
       " (u'average', 9),\n",
       " (u'earth', 9),\n",
       " (u'weak', 9),\n",
       " (u'due', 9),\n",
       " (u'low', 9),\n",
       " (u'physical', 9),\n",
       " (u'10-man', 9),\n",
       " (u'important', 9),\n",
       " (u'worth', 8),\n",
       " (u'ultimatefanlive', 8),\n",
       " (u'hot', 8),\n",
       " (u'short', 8),\n",
       " (u'mitro\\u2019s', 8),\n",
       " (u'lunatic', 8),\n",
       " (u'notable', 8),\n",
       " (u'mental', 8),\n",
       " (u'gon', 8),\n",
       " (u'correct', 8),\n",
       " (u'hurtful', 8),\n",
       " (u'predictable', 8),\n",
       " (u'usual', 8),\n",
       " (u'funny', 8),\n",
       " (u'english', 8),\n",
       " (u'careful', 7),\n",
       " (u'embarrassing', 7),\n",
       " (u'give', 7),\n",
       " (u'vicious', 7),\n",
       " (u'150th', 7),\n",
       " (u'inevitable', 7),\n",
       " (u'wenger', 7),\n",
       " (u'all-studs', 7),\n",
       " (u'nasty', 7),\n",
       " (u'common', 7),\n",
       " (u'key', 7),\n",
       " (u'tough', 7),\n",
       " (u'microscopic', 7),\n",
       " (u'different', 7),\n",
       " (u'finish', 7),\n",
       " (u'latest', 7),\n",
       " (u'malicious', 7),\n",
       " (u'previous', 7),\n",
       " (u'newcastle', 7),\n",
       " (u'imaginary', 7),\n",
       " (u'dreadful', 6),\n",
       " (u'unspectacular', 6),\n",
       " (u'trouble', 6),\n",
       " (u'past', 6),\n",
       " (u'net', 6),\n",
       " (u'giroud', 6),\n",
       " (u'strong', 6),\n",
       " (u'angry', 6),\n",
       " (u'beautiful', 6),\n",
       " (u'sharp', 6),\n",
       " (u'unbelievable', 6),\n",
       " (u'small', 6),\n",
       " (u'blind', 6),\n",
       " (u'major', 6),\n",
       " (u'to\\u2026', 6),\n",
       " (u'definite', 6),\n",
       " (u'horrendous', 6),\n",
       " (u'outside', 6),\n",
       " (u'harder', 6),\n",
       " (u'nufcsean', 6),\n",
       " (u'offside', 6),\n",
       " (u'certain', 6),\n",
       " (u'shit', 6),\n",
       " (u'creative', 5),\n",
       " (u'ten-man', 5),\n",
       " (u'worse', 5),\n",
       " (u'glad', 5),\n",
       " (u'proof', 5),\n",
       " (u'atrocious', 5),\n",
       " (u'fouls\\u2026', 5),\n",
       " (u'interesting', 5),\n",
       " (u'90th', 5),\n",
       " (u'ian', 5),\n",
       " (u'premier', 5),\n",
       " (u'idiotic', 5),\n",
       " (u'england-premierleague', 5),\n",
       " (u'tactical', 5),\n",
       " (u'cant', 5),\n",
       " (u'wasteful', 5),\n",
       " (u'virtual', 5),\n",
       " (u'fanrant', 5),\n",
       " (u'fanny', 5),\n",
       " (u'fast', 5),\n",
       " (u'wish', 5),\n",
       " (u'woeful', 5),\n",
       " (u'intentional', 5),\n",
       " (u'cool', 4),\n",
       " (u'impressive', 4),\n",
       " (u'direct', 4),\n",
       " (u'rough', 4),\n",
       " (u'nufc\\u201d', 4),\n",
       " (u'hold', 4),\n",
       " (u'mitrivic', 4),\n",
       " (u'dirtiest', 4),\n",
       " (u'keithtrezayoung', 4),\n",
       " (u'front', 4),\n",
       " (u'bigger', 4),\n",
       " (u'3rd', 4),\n",
       " (u'honest', 4),\n",
       " (u'difficult', 4),\n",
       " (u'surprising', 4),\n",
       " (u'clean', 4),\n",
       " (u'nervous', 4),\n",
       " (u'famous', 4),\n",
       " (u'agree', 4),\n",
       " (u'shin', 4),\n",
       " (u'confident', 4),\n",
       " (u'disciplinary', 4),\n",
       " (u'can\\u2019t', 4),\n",
       " (u'sensible', 4),\n",
       " (u'sad', 4),\n",
       " (u'dead', 4),\n",
       " (u'similar', 4),\n",
       " (u'mile', 3),\n",
       " (u'controversial', 3),\n",
       " (u'hate', 3),\n",
       " (u'young', 3),\n",
       " (u'sorry', 3),\n",
       " (u'@', 3),\n",
       " (u'poor\\u2026', 3),\n",
       " (u'newcastle-arsenal', 3),\n",
       " (u'sigh', 3),\n",
       " (u'further', 3),\n",
       " (u'cynical', 3),\n",
       " (u'current', 3),\n",
       " (u'survive', 3),\n",
       " (u'flat', 3),\n",
       " (u'rubbish', 3),\n",
       " (u'actual', 3),\n",
       " (u'crazy', 3),\n",
       " (u'we\\u2019re', 3),\n",
       " (u'minimum', 3),\n",
       " (u'earlier', 3),\n",
       " (u'it\\u2019s', 3),\n",
       " (u'the\\u2026', 3),\n",
       " (u'unacceptable', 3),\n",
       " (u'main', 3),\n",
       " (u'fantasy', 3),\n",
       " (u'en', 3),\n",
       " (u'resolute', 3),\n",
       " (u'disappointing', 3),\n",
       " (u'mate', 3),\n",
       " (u'hilarious', 3),\n",
       " (u'ref', 3),\n",
       " (u'impossible', 3),\n",
       " (u'likely', 3),\n",
       " (u'white', 3),\n",
       " (u'.walcott', 3),\n",
       " (u'carded', 3),\n",
       " (u'romariotoxic', 3),\n",
       " (u'comfortable', 3),\n",
       " (u'cockwomble', 3),\n",
       " (u'busy', 3),\n",
       " (u'enough', 3),\n",
       " (u\"'til\", 3),\n",
       " (u\"'walcott\", 3),\n",
       " (u'expensive', 3),\n",
       " (u'.the', 3),\n",
       " (u'identical', 3),\n",
       " (u'ready', 3),\n",
       " (u'anymore', 3),\n",
       " (u'ex-marseille', 3),\n",
       " (u'greatest', 3),\n",
       " (u'ludicrous', 3),\n",
       " (u'right', 3),\n",
       " (u'curious', 3),\n",
       " (u'central', 3),\n",
       " (u'favorite', 3),\n",
       " (u'yellow/red', 3),\n",
       " (u'premierleague', 3),\n",
       " (u'.x', 3),\n",
       " (u'aerial', 3),\n",
       " (u'mediocre', 3),\n",
       " (u'reckless', 3),\n",
       " (u'tackle', 3),\n",
       " (u'faster', 3),\n",
       " (u'underrated', 3),\n",
       " (u'excellent', 2),\n",
       " (u'dynamic', 2),\n",
       " (u'animal', 2),\n",
       " (u'dribble', 2),\n",
       " (u'wtf..come', 2),\n",
       " (u'topic', 2),\n",
       " (u'deeper', 2),\n",
       " (u'exact', 2),\n",
       " (u'managerial', 2),\n",
       " (u'heaven', 2),\n",
       " (u'stiff', 2),\n",
       " (u'trending', 2),\n",
       " (u'fragile', 2),\n",
       " (u'\\U0001f534aleksandar', 2),\n",
       " (u'deliberate', 2),\n",
       " (u'19th', 2),\n",
       " (u'let', 2),\n",
       " (u'greedy', 2),\n",
       " (u'f*****g', 2),\n",
       " (u'changed', 2),\n",
       " (u'narrow', 2),\n",
       " (u'brightest', 2),\n",
       " (u'kid', 2),\n",
       " (u'panicked', 2),\n",
       " (u'love', 2),\n",
       " (u'win', 2),\n",
       " (u'private', 2),\n",
       " (u'negative', 2),\n",
       " (u'minor', 2),\n",
       " (u'aware', 2),\n",
       " (u'fuck', 2),\n",
       " (u'pre-match', 2),\n",
       " (u'goal', 2),\n",
       " (u'very', 2),\n",
       " (u'vital', 2),\n",
       " (u'lad', 2),\n",
       " (u'beller\\xecn', 2),\n",
       " (u'4th', 2),\n",
       " (u'filthy', 2),\n",
       " (u'wind', 2),\n",
       " (u'cute', 2),\n",
       " (u'arrogant', 2),\n",
       " (u'..not', 2),\n",
       " (u'safe', 2),\n",
       " (u'impartial', 2),\n",
       " (u'standard', 2),\n",
       " (u'now.our', 2),\n",
       " (u'british', 2),\n",
       " (u'twat', 2),\n",
       " (u\"'em\", 2),\n",
       " (u'width', 2),\n",
       " (u'wonderful', 2),\n",
       " (u'gear', 2),\n",
       " (u'\\u0627\\u0631\\u0633\\u0646\\u0627\\u0644_\\u0646\\u064a\\u0648\\u0643\\u0627\\u0633\\u0644',\n",
       "  2),\n",
       " (u'future', 2),\n",
       " (u'stale', 2),\n",
       " (u'risky', 2),\n",
       " (u'bookable', 2),\n",
       " (u'mind', 2),\n",
       " (u'miserable', 2),\n",
       " (u'mint', 2),\n",
       " (u'bastard', 2),\n",
       " (u'afraid', 2),\n",
       " (u'responsible', 2),\n",
       " (u'potential', 2),\n",
       " (u'useless', 2),\n",
       " (u'play', 2),\n",
       " (u'multiple', 2),\n",
       " (u'opposite', 2),\n",
       " (u'regular', 2),\n",
       " (u'waste', 2),\n",
       " (u'international', 2),\n",
       " (u'inconsistent', 2),\n",
       " (u'hopeful', 2),\n",
       " (u'fickle', 2),\n",
       " (u'assistant', 2),\n",
       " (u'dominate', 2),\n",
       " (u'letsh', 2),\n",
       " (u'celebrate', 2),\n",
       " (u'european', 2),\n",
       " (u\"'park\", 2),\n",
       " (u'welbeck', 2),\n",
       " (u'league', 2),\n",
       " (u'quiet', 2),\n",
       " (u'atleast', 2),\n",
       " (u'long-term', 2),\n",
       " (u'simple', 2),\n",
       " (u'laugh', 2),\n",
       " (u'he\\u2019s', 2),\n",
       " (u'decent', 2),\n",
       " (u'literal', 2),\n",
       " (u'red-carded', 2),\n",
       " (u'pic', 2),\n",
       " (u'toothless', 2),\n",
       " (u'ive', 2),\n",
       " (u'middle', 2),\n",
       " (u'tempestuous', 2),\n",
       " (u'spot-on', 2),\n",
       " (u'higher', 2),\n",
       " (u'line-up', 2),\n",
       " (u'pathetic.ramsey', 2),\n",
       " (u'purposeful', 2),\n",
       " (u'spent', 2),\n",
       " (u\"dom't\", 2),\n",
       " (u'season..lack', 2),\n",
       " (u'aresenal', 2),\n",
       " (u'formative', 2),\n",
       " (u'advanced', 2),\n",
       " (u'f*cking', 2),\n",
       " (u'marian', 2),\n",
       " (u'pillar', 2),\n",
       " (u'unnecessary', 2),\n",
       " (u'disgraceful', 2),\n",
       " (u'popular', 2),\n",
       " (u'clich\\xe9', 2),\n",
       " (u'strongest', 2),\n",
       " (u'prolific', 2),\n",
       " (u'normal', 2),\n",
       " (u'legal', 2),\n",
       " (u'patient', 2),\n",
       " (u\"'d\", 2),\n",
       " (u'agreshive', 2),\n",
       " (u'overhead', 2),\n",
       " (u'questionable', 2),\n",
       " (u\"'incredible\", 2),\n",
       " (u'horrific', 2),\n",
       " (u'classic', 2),\n",
       " (u'deep', 2),\n",
       " (u'bitch', 2),\n",
       " (u'impossi\\u2026', 2),\n",
       " (u'nah', 2),\n",
       " (u'mis-timed', 2),\n",
       " (u'striker\\u2026', 2),\n",
       " (u'accidental', 2),\n",
       " (u'theatrical', 2),\n",
       " (u'football', 2),\n",
       " (u'\\xa315m', 2),\n",
       " (u'sent-off', 2),\n",
       " (u'ars\\u2026', 2),\n",
       " (u\"'missed\", 1),\n",
       " (u'sameoldshite', 1),\n",
       " (u'difficlt', 1),\n",
       " (u'ouch', 1),\n",
       " (u'\\u201caccident\\u201d', 1),\n",
       " (u'messy', 1),\n",
       " (u'huge/', 1),\n",
       " (u'-e', 1),\n",
       " (u'comeonarsenal', 1),\n",
       " (u'red-hot', 1),\n",
       " (u'watch', 1),\n",
       " (u'watchable', 1),\n",
       " (u'v.problematic', 1),\n",
       " (u'-p', 1),\n",
       " (u'5-a-side', 1),\n",
       " (u'-ve', 1),\n",
       " (u'song', 1),\n",
       " (u'far', 1),\n",
       " (u'void', 1),\n",
       " (u'we\\u2019ve', 1),\n",
       " (u'didn\\u2019t', 1),\n",
       " (u'.come', 1),\n",
       " (u'atrotious', 1),\n",
       " (u'fast-paced', 1),\n",
       " (u'newcastlevsarsenal', 1),\n",
       " (u'manager', 1),\n",
       " (u'knock-out', 1),\n",
       " (u'try', 1),\n",
       " (u'guy', 1),\n",
       " (u'build-up', 1),\n",
       " (u'.piss', 1),\n",
       " (u'ten', 1),\n",
       " (u'intricate', 1),\n",
       " (u'sterile', 1),\n",
       " (u'quite', 1),\n",
       " (u'ramsey-an', 1),\n",
       " (u'blue', 1),\n",
       " (u'unavailable', 1),\n",
       " (u'deluded', 1),\n",
       " (u\"'he\", 1),\n",
       " (u'suspect', 1),\n",
       " (u'basic', 1),\n",
       " (u\"mad'ed\", 1),\n",
       " (u'assertive', 1),\n",
       " (u'exuberant', 1),\n",
       " (u'arsenal\\u201d', 1),\n",
       " (u'punch', 1),\n",
       " (u'favourable', 1),\n",
       " (u'disastrous', 1),\n",
       " (u'treble', 1),\n",
       " (u'cock-o-man', 1),\n",
       " (u'ordinary', 1),\n",
       " (u'brutal', 1),\n",
       " (u\"'victim\", 1),\n",
       " (u'ox-chamberlain', 1),\n",
       " (u'ohdear', 1),\n",
       " (u'reputation/ref', 1),\n",
       " (u'kos-gabriel', 1),\n",
       " (u\"qur'an\", 1),\n",
       " (u'inexplicable', 1),\n",
       " (u'moral', 1),\n",
       " (u'1st', 1),\n",
       " (u'perfectly-cushioned', 1),\n",
       " (u'wen', 1),\n",
       " (u'number-crunch', 1),\n",
       " (u'everybody', 1),\n",
       " (u'pansy', 1),\n",
       " (u'conventional', 1),\n",
       " (u'63rd', 1),\n",
       " (u'\\u201chappy', 1),\n",
       " (u'sitter', 1),\n",
       " (u'music', 1),\n",
       " (u'cheeky', 1),\n",
       " (u'toothbrush', 1),\n",
       " (u'sexy', 1),\n",
       " (u'care', 1),\n",
       " (u'yall', 1),\n",
       " (u'distinct', 1),\n",
       " (u'stancollynore', 1),\n",
       " (u'faith', 1),\n",
       " (u'successful', 1),\n",
       " (u'naive', 1),\n",
       " (u'apparent', 1),\n",
       " (u'card-yellow', 1),\n",
       " (u'one-sided', 1),\n",
       " (u'real-time', 1),\n",
       " (u'tad', 1),\n",
       " (u\"a'telling\", 1),\n",
       " (u'..won', 1),\n",
       " (u'and\\u2026', 1),\n",
       " (u\"l'equipe\", 1),\n",
       " (u'nostalgic', 1),\n",
       " (u'knocked', 1),\n",
       " (u'far\\u2026', 1),\n",
       " (u'penalty\\U0001f44aref', 1),\n",
       " (u'gunners\\u2026', 1),\n",
       " (u'overzealous', 1),\n",
       " (u'centre-back', 1),\n",
       " (u'want', 1),\n",
       " (u'manhandle', 1),\n",
       " (u'keep', 1),\n",
       " (u'w/help', 1),\n",
       " (u'native', 1),\n",
       " (u'yeah', 1),\n",
       " (u'gotongroyong', 1),\n",
       " (u'septic', 1),\n",
       " (u\"'if\", 1),\n",
       " (u'..although', 1),\n",
       " (u'fourth', 1),\n",
       " (u'together..fuck', 1),\n",
       " (u'card-foul-foul', 1),\n",
       " (u'panic', 1),\n",
       " (u's\\u2026', 1),\n",
       " (u'kung', 1),\n",
       " (u'man..we', 1),\n",
       " (u'machete', 1),\n",
       " (u'mad', 1),\n",
       " (u'natural', 1),\n",
       " (u'light', 1),\n",
       " (u'appreciate', 1),\n",
       " (u'out-', 1),\n",
       " (u'18th', 1),\n",
       " (u'green', 1),\n",
       " (u'arsenal\\u2661', 1),\n",
       " (u'furious', 1),\n",
       " (u'eatlier', 1),\n",
       " (u'innocuous', 1),\n",
       " (u'played', 1),\n",
       " (u\"'bad\", 1),\n",
       " (u'radar', 1),\n",
       " (u'fouls-', 1),\n",
       " (u'.newcastle-', 1),\n",
       " (u'beinsportspremier', 1),\n",
       " (u'level', 1),\n",
       " (u'perfect', 1),\n",
       " (u'hat-trick', 1),\n",
       " (u'winning', 1),\n",
       " (u\"'amazing\", 1),\n",
       " (u'9-man', 1),\n",
       " (u'..mitrovic', 1),\n",
       " (u'break', 1),\n",
       " (u'18yard', 1),\n",
       " (u'legendary', 1),\n",
       " (u'.hit', 1),\n",
       " (u'wont', 1),\n",
       " (u'suicide', 1),\n",
       " (u'comedy', 1),\n",
       " (u'robbie', 1),\n",
       " (u'conspicuous', 1),\n",
       " (u'-in', 1),\n",
       " (u'shite\\U0001f602', 1),\n",
       " (u'careless', 1),\n",
       " (u'na\\xefve', 1),\n",
       " (u'activity.then', 1),\n",
       " (u'needless', 1),\n",
       " (u'foul-foul-red', 1),\n",
       " (u'waaayyyyy', 1),\n",
       " (u'hectic', 1),\n",
       " (u'extended', 1),\n",
       " (u'wat', 1),\n",
       " (u'2day', 1),\n",
       " (u'\\u201cwhat', 1),\n",
       " (u'26th', 1),\n",
       " (u'penalty\\u201d', 1),\n",
       " (u'deary', 1),\n",
       " (u'classy', 1),\n",
       " (u'man-marking', 1),\n",
       " (u'paddypower', 1),\n",
       " (u'acting', 1),\n",
       " (u'dear\\U0001f648', 1),\n",
       " (u'mong.ever', 1),\n",
       " (u'whiff', 1),\n",
       " (u'hefty', 1),\n",
       " (u'press\\u2026', 1),\n",
       " (u'pleasant', 1),\n",
       " (u'arse\\u2026', 1),\n",
       " (u'struggle', 1),\n",
       " (u'laughable', 1),\n",
       " (u'ominous', 1),\n",
       " (u'heroic', 1),\n",
       " (u'inadvertent', 1),\n",
       " (u'american', 1),\n",
       " (u're\\u2026', 1),\n",
       " (u'idiothic', 1),\n",
       " (u'they\\u2019ll', 1),\n",
       " (u'tippy', 1),\n",
       " (u'fight', 1),\n",
       " (u'piersmorgan', 1),\n",
       " (u'\\u201cit\\u2019s', 1),\n",
       " (u'..but', 1),\n",
       " (u'intense', 1),\n",
       " (u'belgian', 1),\n",
       " (u'tragic', 1),\n",
       " (u'smile', 1),\n",
       " (u'6yard', 1),\n",
       " (u'i\\u2026', 1),\n",
       " (u'pena\\u2026', 1),\n",
       " (u'coqulian', 1),\n",
       " (u'ironic', 1),\n",
       " (u'on\\u2026', 1),\n",
       " (u'surprised', 1),\n",
       " (u'dirtyarsenal', 1),\n",
       " (u'chugfest', 1),\n",
       " (u'started.\\U0001f62d\\U0001f62d\\U0001f62d', 1),\n",
       " (u'kind', 1),\n",
       " (u'effective', 1),\n",
       " (u'loss..stupid', 1),\n",
       " (u'striker\\U0001f621\\U0001f621', 1),\n",
       " (u'shower', 1),\n",
       " (u'frugal', 1),\n",
       " (u'1mransiddique', 1),\n",
       " (u'a.marriner|', 1),\n",
       " (u'silky', 1),\n",
       " (u'mariner', 1),\n",
       " (u'bet', 1),\n",
       " (u'troublesome', 1),\n",
       " (u'tht', 1),\n",
       " (u'ill-disciplined', 1),\n",
       " (u'goal..what', 1),\n",
       " (u'masfmmamgm/arsnew.md', 1),\n",
       " (u'anger', 1),\n",
       " (u'retweet\\U0001f606', 1),\n",
       " (u'breakfast', 1),\n",
       " (u'hellish', 1),\n",
       " (u'vulnerable', 1),\n",
       " (u'sat', 1),\n",
       " (u'lid', 1),\n",
       " (u'unbearable', 1),\n",
       " (u'newcastle.\\U0001f602', 1),\n",
       " (u'f***ed', 1),\n",
       " (u's\\xe1nchez', 1),\n",
       " (u'.that', 1),\n",
       " (u'punish', 1),\n",
       " (u'wreckless', 1),\n",
       " (u'even', 1),\n",
       " (u'electric', 1),\n",
       " (u'yellows\\u2714\\ufe0f\\u2714\\ufe0f', 1),\n",
       " (u'park', 1),\n",
       " (u'dutch', 1),\n",
       " (u'wasn\\u2019t', 1),\n",
       " (u'amongst', 1),\n",
       " (u'pair', 1),\n",
       " (u'camped', 1),\n",
       " (u'007magpie', 1),\n",
       " (u'6_lkoscielny', 1),\n",
       " (u\"'bayereen\", 1),\n",
       " (u'ridculous', 1),\n",
       " (u'cazorla-', 1),\n",
       " (u'upset', 1),\n",
       " (u'3-point', 1),\n",
       " (u'morons.hope', 1),\n",
       " (u'absurd', 1),\n",
       " (u'professional', 1),\n",
       " (u'technical', 1),\n",
       " (u\"'newcastle\", 1),\n",
       " (u'precise', 1),\n",
       " (u'shot', 1),\n",
       " (u'c*nt', 1),\n",
       " (u'stunned', 1),\n",
       " (u'hunger', 1),\n",
       " (u\"with'em\", 1),\n",
       " (u'may\\u2026', 1),\n",
       " (u'16th-minute', 1),\n",
       " (u'far\\u26bd\\ufe0f', 1),\n",
       " (u'aint', 1),\n",
       " (u'technic', 1),\n",
       " (u'unable', 1),\n",
       " (u'forfeited.\\u2026', 1),\n",
       " (u'constant', 1),\n",
       " (u'crackittoby', 1),\n",
       " (u'arsenal\\u2014in', 1),\n",
       " (u'unsure', 1),\n",
       " (u'beat', 1),\n",
       " (u'fluid', 1),\n",
       " (u'bean', 1),\n",
       " (u'thauvin-mitrovic-wijnaldum', 1),\n",
       " (u'prime', 1),\n",
       " (u'..definite', 1),\n",
       " (u'1man', 1),\n",
       " (u'instant', 1),\n",
       " (u'frustrated', 1),\n",
       " (u'\\u0627\\u0644\\u0646\\u0635\\u0631_\\u0627\\u0644\\u0642\\u0627\\u062f\\u0633\\u064a\\u0647',\n",
       "  1),\n",
       " (u'muhdmyrul', 1),\n",
       " (u'3d', 1),\n",
       " (u'automatic', 1),\n",
       " (u'16th', 1),\n",
       " (u\"y'all\", 1),\n",
       " (u'non-pk', 1),\n",
       " (u'.in', 1),\n",
       " (u'human', 1),\n",
       " (u'desperate', 1),\n",
       " (u'11th', 1),\n",
       " (u'.newcastle', 1),\n",
       " (u'danger', 1),\n",
       " (u'nuclear', 1),\n",
       " (u'ugly', 1),\n",
       " (u\"'wenger\", 1),\n",
       " (u'superkid', 1),\n",
       " (u'consecutive', 1),\n",
       " (u'bramble', 1),\n",
       " (u\"'mare\", 1),\n",
       " (u'numerous', 1),\n",
       " (u'15th', 1),\n",
       " (u'useful', 1),\n",
       " (u'superior', 1),\n",
       " (u'feisty', 1),\n",
       " (u'handful', 1),\n",
       " (u'willing', 1),\n",
       " (u'shittiest', 1),\n",
       " (u'jog', 1),\n",
       " (u'official', 1),\n",
       " (u'sending-off', 1),\n",
       " (u'.how', 1),\n",
       " (u'ill', 1),\n",
       " (u'selective', 1),\n",
       " (u'argue', 1),\n",
       " (u'old-fashioned', 1),\n",
       " (u'volcanic', 1),\n",
       " (u'drunk', 1),\n",
       " (u'sweet', 1),\n",
       " (u'\\xf6zil-less', 1),\n",
       " (u\"'goal\", 1),\n",
       " (u'ozil', 1),\n",
       " (u'theater', 1),\n",
       " (u'\\u0646\\u064a\\u0648\\u0643\\u0627\\u0633\\u0644_\\u0627\\u0631\\u0633\\u0646\\u0627\\u0644',\n",
       "  1),\n",
       " (u'seyewest', 1),\n",
       " (u\"'yellow\", 1),\n",
       " (u'ballsied-up', 1),\n",
       " (u'eventful', 1),\n",
       " (u'jimmystagger', 1),\n",
       " (u'two-year', 1),\n",
       " (u'neat', 1),\n",
       " (u'\\u0645\\u0628\\u0627\\u0631\\u064a\\u0627\\u062a_\\u0627\\u0644\\u064a\\u0648\\u0645',\n",
       "  1),\n",
       " (u'unusual', 1),\n",
       " (u'walcott', 1),\n",
       " (u'filth', 1),\n",
       " (u'capable', 1),\n",
       " (u'tremendous', 1),\n",
       " (u'.but', 1),\n",
       " (u'tiny', 1),\n",
       " (u\"'another\", 1),\n",
       " (u'inadequate', 1),\n",
       " (u'magical', 1),\n",
       " (u'empty', 1),\n",
       " (u'arsenal.that', 1),\n",
       " (u'dry', 1),\n",
       " (u'general', 1),\n",
       " (u'boy', 1),\n",
       " (u'something.am', 1),\n",
       " (u'sufficient', 1),\n",
       " (u'crappy', 1),\n",
       " (u'off.gave', 1),\n",
       " (u'dramatic', 1),\n",
       " (u'fucked.same', 1),\n",
       " (u'abled', 1),\n",
       " (u'rugby', 1),\n",
       " (u'mitro-glycerin', 1),\n",
       " (u'former', 1),\n",
       " (u'banish', 1),\n",
       " (u'up.funny', 1),\n",
       " (u'anti-newcastle', 1),\n",
       " (u'plain', 1),\n",
       " (u'tea-lady', 1),\n",
       " (u'air', 1),\n",
       " (u'receive', 1),\n",
       " (u'suppose', 1),\n",
       " (u'match', 1),\n",
       " (u'familiar', 1),\n",
       " (u'tasty', 1),\n",
       " (u'mad\\U0001f602', 1),\n",
       " (u'shitrovic', 1),\n",
       " (u'already.getting', 1),\n",
       " (u'vest', 1),\n",
       " (u'arenal', 1),\n",
       " (u'cast', 1),\n",
       " (u'squad\\U0001f612', 1),\n",
       " (u'nutter', 1),\n",
       " (u'non-save', 1),\n",
       " (u'rid', 1),\n",
       " (u'10-12th', 1),\n",
       " (u'away\\u2026', 1),\n",
       " (u'compact', 1),\n",
       " (u\"'kill\", 1),\n",
       " (u'mitrovic..only', 1),\n",
       " (u'several', 1),\n",
       " (u'non-contact', 1),\n",
       " (u'conveient', 1),\n",
       " (u'f****n', 1),\n",
       " (u'http', 1),\n",
       " (u'decision-making', 1),\n",
       " (u'logo\\U0001f60d\\U0001f44d\\U0001f61d', 1),\n",
       " (u'under-fire', 1),\n",
       " (u'time/soon', 1),\n",
       " (u'fucked', 1),\n",
       " (u'recent', 1),\n",
       " (u'off', 1),\n",
       " (u'rakeshkothary', 1),\n",
       " (u'matthirtyfive', 1),\n",
       " (u'melodramatic', 1),\n",
       " (u'contact', 1),\n",
       " (u'thorpe_tholar', 1),\n",
       " (u'.huge', 1),\n",
       " (u'spastic', 1),\n",
       " (u'ongoing', 1),\n",
       " (u'unfair', 1),\n",
       " (u'm\\xedtrovic', 1),\n",
       " (u'ping-pong', 1),\n",
       " (u'rivi\\xe8re', 1),\n",
       " (u'lackadaisical', 1),\n",
       " (u'sweary', 1),\n",
       " (u'happiness', 1),\n",
       " (u'generous', 1),\n",
       " (u'icelandic', 1),\n",
       " (u'coquelin..maybe', 1),\n",
       " (u'mitrovi\\u0107\\U0001f602\\U0001f602', 1),\n",
       " (u'missed\\u2026', 1),\n",
       " (u'mid-lower', 1),\n",
       " (u'nastier', 1),\n",
       " (u'eager', 1),\n",
       " (u'add', 1),\n",
       " (u'dare', 1),\n",
       " (u'beloved', 1),\n",
       " (u'yeesh', 1),\n",
       " (u'halftime', 1),\n",
       " (u'stagnant', 1),\n",
       " (u'pitiful', 1),\n",
       " (u'east', 1),\n",
       " (u'hat', 1),\n",
       " (u'kick', 1),\n",
       " (u'stoke-esque', 1),\n",
       " (u'cell-c', 1),\n",
       " (u'olivier', 1),\n",
       " (u\"could'nt\", 1),\n",
       " (u'shitty', 1),\n",
       " (u'historic', 1),\n",
       " (u'indicative', 1),\n",
       " (u'burnt', 1),\n",
       " (u'sensational', 1),\n",
       " (u\"'get\", 1),\n",
       " (u'helpful', 1),\n",
       " (u'england\\u2026', 1),\n",
       " (u'vibrant', 1),\n",
       " (u'incidental', 1),\n",
       " (u'manual', 1),\n",
       " (u'benefit', 1),\n",
       " (u'unstable', 1),\n",
       " (u'serbian', 1),\n",
       " (u'card-foul-yellow', 1),\n",
       " (u'foolish', 1),\n",
       " (u'hom\\u2026', 1),\n",
       " (u'italian', 1),\n",
       " (u'3point', 1),\n",
       " (u'fucking', 1),\n",
       " (u'8.historical', 1),\n",
       " (u'mid-table', 1),\n",
       " (u'i\\u2019ve', 1),\n",
       " (u'hassle', 1),\n",
       " (u'table', 1),\n",
       " (u'.multiple', 1),\n",
       " (u'hasn\\u2019t', 1),\n",
       " (u'tutorial', 1),\n",
       " (u'davidmneary', 1),\n",
       " (u'mid', 1),\n",
       " (u'mortuary', 1),\n",
       " (u'broad', 1),\n",
       " (u\"'uncompromising\", 1),\n",
       " (u'favourite', 1),\n",
       " (u'.or', 1),\n",
       " (u'talkshite', 1),\n",
       " (u'either', 1),\n",
       " (u\"linesman's\\u2026\", 1),\n",
       " (u'knew', 1),\n",
       " (u'bold', 1),\n",
       " (u'posh', 1),\n",
       " (u'tut-tut', 1),\n",
       " (u'filthier', 1),\n",
       " (u'any\\u2026', 1),\n",
       " (u'9.dare', 1),\n",
       " (u'memorable', 1),\n",
       " (u'exciting', 1),\n",
       " (u'super', 1),\n",
       " (u'pathic', 1),\n",
       " (u'chilean', 1),\n",
       " (u'compact\\u2026need', 1),\n",
       " (u\"'parked\", 1),\n",
       " (u'walcott\\U0001f60a', 1),\n",
       " (u'in-play', 1),\n",
       " (u'compatible', 1),\n",
       " (u'unintentional', 1),\n",
       " (u'arsvsnew', 1),\n",
       " (u'perky', 1),\n",
       " (u\"'let\", 1),\n",
       " (u'crouch', 1),\n",
       " (u'arsenal..to', 1),\n",
       " (u'stop', 1),\n",
       " (u'thankful', 1),\n",
       " (u'studs-up\\u2026', 1),\n",
       " (u'denying..we', 1),\n",
       " (u'pointless', 1),\n",
       " (u'coquelin', 1),\n",
       " (u'delusional', 1),\n",
       " (u'eh', 1),\n",
       " (u'wan', 1),\n",
       " (u'additional', 1),\n",
       " (u'quid', 1),\n",
       " (u'initial', 1),\n",
       " (u'illustrious', 1),\n",
       " (u'unfocused', 1),\n",
       " (u'imperial', 1),\n",
       " (u'stuck', 1),\n",
       " (u'gratef', 1),\n",
       " (u'decisive', 1),\n",
       " (u'viscous', 1),\n",
       " (u'multi-millionaire', 1),\n",
       " (u'.wing', 1),\n",
       " (u'stupid/bad', 1),\n",
       " (u'abysmal', 1),\n",
       " (u'furthest', 1),\n",
       " (u\"'dangerous\", 1),\n",
       " (u'striker', 1),\n",
       " (u'heinous', 1),\n",
       " (u'neutral', 1),\n",
       " (u'ortiezy', 1),\n",
       " (u'good-bye', 1),\n",
       " (u'boat', 1),\n",
       " (u'highest', 1),\n",
       " (u'dull', 1),\n",
       " (u'they\\u2019re', 1),\n",
       " (u'pull', 1),\n",
       " ...]"
      ]
     },
     "execution_count": 81,
     "metadata": {},
     "output_type": "execute_result"
    }
   ],
   "source": [
    "counted_all_J_words.most_common()"
   ]
  },
  {
   "cell_type": "code",
   "execution_count": null,
   "metadata": {
    "collapsed": false
   },
   "outputs": [],
   "source": [
    "# tweets.head()\n",
    "# tweets.tail()\n",
    "# tweets.columns\n",
    "# tweets.values\n",
    "# tweets.values[0]\n",
    "tweets.describe()\n",
    "# tweets.T\n",
    "# tweets.sort_index(axis=1, ascending=False)\n",
    "# tweets.sort(columns='lang')\n",
    "# tweets['lang']\n",
    "# tweets.text\n",
    "# tweets[0:5]\n",
    "# tweets.loc[:,['text','country']]\n",
    "# tweets.loc[1:7,['text','lang']]\n",
    "# tweets.loc[1,['text','lang']]\n",
    "# tweets.iloc[1:3, 0:3]\n",
    "# tweets.groupby(['lang', 'country']).sum()"
   ]
  },
  {
   "cell_type": "markdown",
   "metadata": {
    "collapsed": true
   },
   "source": [
    "### Tweets Sentiment"
   ]
  },
  {
   "cell_type": "code",
   "execution_count": 25,
   "metadata": {
    "collapsed": false
   },
   "outputs": [],
   "source": [
    "# sentiment_mod.py\n",
    "import sentiment_mod as s"
   ]
  },
  {
   "cell_type": "code",
   "execution_count": 28,
   "metadata": {
    "collapsed": false
   },
   "outputs": [
    {
     "name": "stdout",
     "output_type": "stream",
     "text": [
      "Arsenal are so soft that they couldn't even be called a soap, they are a fuckin handwash. #NUFC #NUFCvAFC #Arsenal #AFC\n",
      "('neg', 0.8)\n"
     ]
    }
   ],
   "source": [
    "print tweets_eng['text'][16794]\n",
    "print s.sentiment(tweets_eng['text'][16794])"
   ]
  },
  {
   "cell_type": "code",
   "execution_count": 45,
   "metadata": {
    "collapsed": false
   },
   "outputs": [],
   "source": [
    "home_tweets = tweets_eng[tweets_eng[\"tag_num\"] == 1]\n",
    "away_tweets = tweets_eng[tweets_eng[\"tag_num\"] == 2]"
   ]
  },
  {
   "cell_type": "code",
   "execution_count": 46,
   "metadata": {
    "collapsed": false
   },
   "outputs": [
    {
     "data": {
      "text/html": [
       "<div>\n",
       "<table border=\"1\" class=\"dataframe\">\n",
       "  <thead>\n",
       "    <tr style=\"text-align: right;\">\n",
       "      <th></th>\n",
       "      <th>text</th>\n",
       "      <th>lang</th>\n",
       "      <th>country</th>\n",
       "      <th>hashtags</th>\n",
       "      <th>tag_num</th>\n",
       "    </tr>\n",
       "  </thead>\n",
       "  <tbody>\n",
       "    <tr>\n",
       "      <th>4</th>\n",
       "      <td>I'd take another draw this week #NUFC</td>\n",
       "      <td>en</td>\n",
       "      <td>None</td>\n",
       "      <td>[NUFC]</td>\n",
       "      <td>1</td>\n",
       "    </tr>\n",
       "    <tr>\n",
       "      <th>7</th>\n",
       "      <td>RT @NUFC: #NUFC get us underway here at St. Ja...</td>\n",
       "      <td>en</td>\n",
       "      <td>None</td>\n",
       "      <td>[NUFC]</td>\n",
       "      <td>1</td>\n",
       "    </tr>\n",
       "    <tr>\n",
       "      <th>14</th>\n",
       "      <td>All three points, lets go lads! #NUFC</td>\n",
       "      <td>en</td>\n",
       "      <td>None</td>\n",
       "      <td>[NUFC]</td>\n",
       "      <td>1</td>\n",
       "    </tr>\n",
       "    <tr>\n",
       "      <th>20</th>\n",
       "      <td>Kick off \\n\\n#NUFC VS #ARSENAL</td>\n",
       "      <td>en</td>\n",
       "      <td>None</td>\n",
       "      <td>[NUFC, ARSENAL]</td>\n",
       "      <td>1</td>\n",
       "    </tr>\n",
       "    <tr>\n",
       "      <th>22</th>\n",
       "      <td>RT @Sporting_AND: #NUFC take on Arsenal today,...</td>\n",
       "      <td>en</td>\n",
       "      <td>None</td>\n",
       "      <td>[NUFC, rsca, newars]</td>\n",
       "      <td>1</td>\n",
       "    </tr>\n",
       "  </tbody>\n",
       "</table>\n",
       "</div>"
      ],
      "text/plain": [
       "                                                 text lang country  \\\n",
       "4               I'd take another draw this week #NUFC   en    None   \n",
       "7   RT @NUFC: #NUFC get us underway here at St. Ja...   en    None   \n",
       "14              All three points, lets go lads! #NUFC   en    None   \n",
       "20                     Kick off \\n\\n#NUFC VS #ARSENAL   en    None   \n",
       "22  RT @Sporting_AND: #NUFC take on Arsenal today,...   en    None   \n",
       "\n",
       "                hashtags  tag_num  \n",
       "4                 [NUFC]        1  \n",
       "7                 [NUFC]        1  \n",
       "14                [NUFC]        1  \n",
       "20       [NUFC, ARSENAL]        1  \n",
       "22  [NUFC, rsca, newars]        1  "
      ]
     },
     "execution_count": 46,
     "metadata": {},
     "output_type": "execute_result"
    }
   ],
   "source": [
    "home_tweets.head()"
   ]
  },
  {
   "cell_type": "code",
   "execution_count": 47,
   "metadata": {
    "collapsed": false
   },
   "outputs": [
    {
     "data": {
      "text/html": [
       "<div>\n",
       "<table border=\"1\" class=\"dataframe\">\n",
       "  <thead>\n",
       "    <tr style=\"text-align: right;\">\n",
       "      <th></th>\n",
       "      <th>text</th>\n",
       "      <th>lang</th>\n",
       "      <th>country</th>\n",
       "      <th>hashtags</th>\n",
       "      <th>tag_num</th>\n",
       "    </tr>\n",
       "  </thead>\n",
       "  <tbody>\n",
       "    <tr>\n",
       "      <th>8</th>\n",
       "      <td>Newcastle 0:0 #Arsenal in motion.</td>\n",
       "      <td>en</td>\n",
       "      <td>None</td>\n",
       "      <td>[Arsenal]</td>\n",
       "      <td>2</td>\n",
       "    </tr>\n",
       "    <tr>\n",
       "      <th>19</th>\n",
       "      <td>Kick Off #Arsenal vs #NCUTD</td>\n",
       "      <td>en</td>\n",
       "      <td>None</td>\n",
       "      <td>[Arsenal, NCUTD]</td>\n",
       "      <td>2</td>\n",
       "    </tr>\n",
       "    <tr>\n",
       "      <th>38</th>\n",
       "      <td>Well done Mo #Farah. Now to the #Arsenal game.</td>\n",
       "      <td>en</td>\n",
       "      <td>None</td>\n",
       "      <td>[Farah, Arsenal]</td>\n",
       "      <td>2</td>\n",
       "    </tr>\n",
       "    <tr>\n",
       "      <th>40</th>\n",
       "      <td>We by far the greatest team the world have eve...</td>\n",
       "      <td>en</td>\n",
       "      <td>None</td>\n",
       "      <td>[Arsenal]</td>\n",
       "      <td>2</td>\n",
       "    </tr>\n",
       "    <tr>\n",
       "      <th>45</th>\n",
       "      <td>Oxlade-Chamberlain and Walcott are on at the s...</td>\n",
       "      <td>en</td>\n",
       "      <td>United States</td>\n",
       "      <td>[Arsenal]</td>\n",
       "      <td>2</td>\n",
       "    </tr>\n",
       "  </tbody>\n",
       "</table>\n",
       "</div>"
      ],
      "text/plain": [
       "                                                 text lang        country  \\\n",
       "8                   Newcastle 0:0 #Arsenal in motion.   en           None   \n",
       "19                        Kick Off #Arsenal vs #NCUTD   en           None   \n",
       "38     Well done Mo #Farah. Now to the #Arsenal game.   en           None   \n",
       "40  We by far the greatest team the world have eve...   en           None   \n",
       "45  Oxlade-Chamberlain and Walcott are on at the s...   en  United States   \n",
       "\n",
       "            hashtags  tag_num  \n",
       "8          [Arsenal]        2  \n",
       "19  [Arsenal, NCUTD]        2  \n",
       "38  [Farah, Arsenal]        2  \n",
       "40         [Arsenal]        2  \n",
       "45         [Arsenal]        2  "
      ]
     },
     "execution_count": 47,
     "metadata": {},
     "output_type": "execute_result"
    }
   ],
   "source": [
    "away_tweets.head()"
   ]
  },
  {
   "cell_type": "code",
   "execution_count": 57,
   "metadata": {
    "collapsed": false
   },
   "outputs": [
    {
     "data": {
      "text/plain": [
       "pandas.core.frame.DataFrame"
      ]
     },
     "execution_count": 57,
     "metadata": {},
     "output_type": "execute_result"
    }
   ],
   "source": [
    "type(home_tweets)"
   ]
  },
  {
   "cell_type": "code",
   "execution_count": 56,
   "metadata": {
    "collapsed": false
   },
   "outputs": [
    {
     "data": {
      "text/plain": [
       "('neg', 0.8)"
      ]
     },
     "execution_count": 56,
     "metadata": {},
     "output_type": "execute_result"
    }
   ],
   "source": [
    "s.sentiment(home_tweets[\"text\"][4])"
   ]
  },
  {
   "cell_type": "code",
   "execution_count": 67,
   "metadata": {
    "collapsed": false
   },
   "outputs": [],
   "source": [
    "# map(lambda tweet: s.sentiment(tweet), home_tweets[\"text\"])"
   ]
  },
  {
   "cell_type": "code",
   "execution_count": 65,
   "metadata": {
    "collapsed": false
   },
   "outputs": [],
   "source": [
    "import pandas as pd"
   ]
  },
  {
   "cell_type": "code",
   "execution_count": 69,
   "metadata": {
    "collapsed": false
   },
   "outputs": [],
   "source": [
    "home_tweets = pd.DataFrame(home_tweets.values, range(len(home_tweets)), home_tweets.columns)\n",
    "away_tweets = pd.DataFrame(away_tweets.values, range(len(away_tweets)), away_tweets.columns)"
   ]
  },
  {
   "cell_type": "code",
   "execution_count": 70,
   "metadata": {
    "collapsed": false
   },
   "outputs": [
    {
     "data": {
      "text/html": [
       "<div>\n",
       "<table border=\"1\" class=\"dataframe\">\n",
       "  <thead>\n",
       "    <tr style=\"text-align: right;\">\n",
       "      <th></th>\n",
       "      <th>text</th>\n",
       "      <th>lang</th>\n",
       "      <th>country</th>\n",
       "      <th>hashtags</th>\n",
       "      <th>tag_num</th>\n",
       "    </tr>\n",
       "  </thead>\n",
       "  <tbody>\n",
       "    <tr>\n",
       "      <th>0</th>\n",
       "      <td>I'd take another draw this week #NUFC</td>\n",
       "      <td>en</td>\n",
       "      <td>None</td>\n",
       "      <td>[NUFC]</td>\n",
       "      <td>1</td>\n",
       "    </tr>\n",
       "    <tr>\n",
       "      <th>1</th>\n",
       "      <td>RT @NUFC: #NUFC get us underway here at St. Ja...</td>\n",
       "      <td>en</td>\n",
       "      <td>None</td>\n",
       "      <td>[NUFC]</td>\n",
       "      <td>1</td>\n",
       "    </tr>\n",
       "    <tr>\n",
       "      <th>2</th>\n",
       "      <td>All three points, lets go lads! #NUFC</td>\n",
       "      <td>en</td>\n",
       "      <td>None</td>\n",
       "      <td>[NUFC]</td>\n",
       "      <td>1</td>\n",
       "    </tr>\n",
       "    <tr>\n",
       "      <th>3</th>\n",
       "      <td>Kick off \\n\\n#NUFC VS #ARSENAL</td>\n",
       "      <td>en</td>\n",
       "      <td>None</td>\n",
       "      <td>[NUFC, ARSENAL]</td>\n",
       "      <td>1</td>\n",
       "    </tr>\n",
       "    <tr>\n",
       "      <th>4</th>\n",
       "      <td>RT @Sporting_AND: #NUFC take on Arsenal today,...</td>\n",
       "      <td>en</td>\n",
       "      <td>None</td>\n",
       "      <td>[NUFC, rsca, newars]</td>\n",
       "      <td>1</td>\n",
       "    </tr>\n",
       "  </tbody>\n",
       "</table>\n",
       "</div>"
      ],
      "text/plain": [
       "                                                text lang country  \\\n",
       "0              I'd take another draw this week #NUFC   en    None   \n",
       "1  RT @NUFC: #NUFC get us underway here at St. Ja...   en    None   \n",
       "2              All three points, lets go lads! #NUFC   en    None   \n",
       "3                     Kick off \\n\\n#NUFC VS #ARSENAL   en    None   \n",
       "4  RT @Sporting_AND: #NUFC take on Arsenal today,...   en    None   \n",
       "\n",
       "               hashtags tag_num  \n",
       "0                [NUFC]       1  \n",
       "1                [NUFC]       1  \n",
       "2                [NUFC]       1  \n",
       "3       [NUFC, ARSENAL]       1  \n",
       "4  [NUFC, rsca, newars]       1  "
      ]
     },
     "execution_count": 70,
     "metadata": {},
     "output_type": "execute_result"
    }
   ],
   "source": [
    "home_tweets.head()"
   ]
  },
  {
   "cell_type": "code",
   "execution_count": 71,
   "metadata": {
    "collapsed": false
   },
   "outputs": [
    {
     "data": {
      "text/html": [
       "<div>\n",
       "<table border=\"1\" class=\"dataframe\">\n",
       "  <thead>\n",
       "    <tr style=\"text-align: right;\">\n",
       "      <th></th>\n",
       "      <th>text</th>\n",
       "      <th>lang</th>\n",
       "      <th>country</th>\n",
       "      <th>hashtags</th>\n",
       "      <th>tag_num</th>\n",
       "    </tr>\n",
       "  </thead>\n",
       "  <tbody>\n",
       "    <tr>\n",
       "      <th>0</th>\n",
       "      <td>Newcastle 0:0 #Arsenal in motion.</td>\n",
       "      <td>en</td>\n",
       "      <td>None</td>\n",
       "      <td>[Arsenal]</td>\n",
       "      <td>2</td>\n",
       "    </tr>\n",
       "    <tr>\n",
       "      <th>1</th>\n",
       "      <td>Kick Off #Arsenal vs #NCUTD</td>\n",
       "      <td>en</td>\n",
       "      <td>None</td>\n",
       "      <td>[Arsenal, NCUTD]</td>\n",
       "      <td>2</td>\n",
       "    </tr>\n",
       "    <tr>\n",
       "      <th>2</th>\n",
       "      <td>Well done Mo #Farah. Now to the #Arsenal game.</td>\n",
       "      <td>en</td>\n",
       "      <td>None</td>\n",
       "      <td>[Farah, Arsenal]</td>\n",
       "      <td>2</td>\n",
       "    </tr>\n",
       "    <tr>\n",
       "      <th>3</th>\n",
       "      <td>We by far the greatest team the world have eve...</td>\n",
       "      <td>en</td>\n",
       "      <td>None</td>\n",
       "      <td>[Arsenal]</td>\n",
       "      <td>2</td>\n",
       "    </tr>\n",
       "    <tr>\n",
       "      <th>4</th>\n",
       "      <td>Oxlade-Chamberlain and Walcott are on at the s...</td>\n",
       "      <td>en</td>\n",
       "      <td>United States</td>\n",
       "      <td>[Arsenal]</td>\n",
       "      <td>2</td>\n",
       "    </tr>\n",
       "  </tbody>\n",
       "</table>\n",
       "</div>"
      ],
      "text/plain": [
       "                                                text lang        country  \\\n",
       "0                  Newcastle 0:0 #Arsenal in motion.   en           None   \n",
       "1                        Kick Off #Arsenal vs #NCUTD   en           None   \n",
       "2     Well done Mo #Farah. Now to the #Arsenal game.   en           None   \n",
       "3  We by far the greatest team the world have eve...   en           None   \n",
       "4  Oxlade-Chamberlain and Walcott are on at the s...   en  United States   \n",
       "\n",
       "           hashtags tag_num  \n",
       "0         [Arsenal]       2  \n",
       "1  [Arsenal, NCUTD]       2  \n",
       "2  [Farah, Arsenal]       2  \n",
       "3         [Arsenal]       2  \n",
       "4         [Arsenal]       2  "
      ]
     },
     "execution_count": 71,
     "metadata": {},
     "output_type": "execute_result"
    }
   ],
   "source": [
    "away_tweets.head()"
   ]
  },
  {
   "cell_type": "markdown",
   "metadata": {},
   "source": [
    "## Sentiment Analysis"
   ]
  },
  {
   "cell_type": "code",
   "execution_count": 89,
   "metadata": {
    "collapsed": true
   },
   "outputs": [],
   "source": [
    "home_sent = map(lambda tweet: s.sentiment(tweet)[0], home_tweets[\"text\"])"
   ]
  },
  {
   "cell_type": "code",
   "execution_count": 93,
   "metadata": {
    "collapsed": true
   },
   "outputs": [],
   "source": [
    "away_sent = map(lambda tweet: s.sentiment(tweet)[0], away_tweets[\"text\"])"
   ]
  },
  {
   "cell_type": "code",
   "execution_count": 96,
   "metadata": {
    "collapsed": false
   },
   "outputs": [
    {
     "name": "stdout",
     "output_type": "stream",
     "text": [
      "Home Team: Counter({'neg': 3642, 'pos': 702})\n",
      "Away Team: Counter({'neg': 3735, 'pos': 783})\n"
     ]
    }
   ],
   "source": [
    "print \"Home Team:\", collections.Counter(home_sent)\n",
    "print \"Away Team:\", collections.Counter(away_sent)"
   ]
  },
  {
   "cell_type": "code",
   "execution_count": 99,
   "metadata": {
    "collapsed": false
   },
   "outputs": [],
   "source": [
    "home_sent = collections.Counter(home_sent)\n",
    "away_sent = collections.Counter(away_sent)"
   ]
  },
  {
   "cell_type": "code",
   "execution_count": 100,
   "metadata": {
    "collapsed": false
   },
   "outputs": [
    {
     "data": {
      "text/plain": [
       "<function values>"
      ]
     },
     "execution_count": 100,
     "metadata": {},
     "output_type": "execute_result"
    }
   ],
   "source": [
    "home_sent.values"
   ]
  },
  {
   "cell_type": "code",
   "execution_count": 105,
   "metadata": {
    "collapsed": false
   },
   "outputs": [
    {
     "name": "stdout",
     "output_type": "stream",
     "text": [
      "Positive Tweets:  702\n",
      "Negative Tweets:  3642\n"
     ]
    },
    {
     "data": {
      "image/png": "[encoded data removed]",
      "text/plain": [
       "<matplotlib.figure.Figure at 0x12b702c10>"
      ]
     },
     "metadata": {},
     "output_type": "display_data"
    }
   ],
   "source": [
    "slices = [home_sent['pos'], home_sent['neg']]\n",
    "activities = ['pos', 'neg']\n",
    "cols = ['g','r']\n",
    "\n",
    "plt.pie(slices,\n",
    "        labels=activities,\n",
    "        colors=cols,\n",
    "        autopct='%1.1f%%')\n",
    "\n",
    "plt.title('Home Team Tweets \\n Classification')\n",
    "\n",
    "print \"Positive Tweets: \", home_sent['pos']\n",
    "print \"Negative Tweets: \", home_sent['neg']\n",
    "\n",
    "plt.show()"
   ]
  },
  {
   "cell_type": "code",
   "execution_count": 104,
   "metadata": {
    "collapsed": false
   },
   "outputs": [
    {
     "name": "stdout",
     "output_type": "stream",
     "text": [
      "Positive Tweets:  783\n",
      "Negative Tweets:  3735\n"
     ]
    },
    {
     "data": {
      "image/png": "[encoded data removed]",
      "text/plain": [
       "<matplotlib.figure.Figure at 0x12bf16a90>"
      ]
     },
     "metadata": {},
     "output_type": "display_data"
    }
   ],
   "source": [
    "slices = [away_sent['pos'], away_sent['neg']]\n",
    "activities = ['pos', 'neg']\n",
    "cols = ['g','r']\n",
    "\n",
    "plt.pie(slices,\n",
    "        labels=activities,\n",
    "        colors=cols,\n",
    "        autopct='%1.1f%%')\n",
    "\n",
    "plt.title('Away Team Tweets \\n Classification')\n",
    "\n",
    "print \"Positive Tweets: \", away_sent['pos']\n",
    "print \"Negative Tweets: \", away_sent['neg']\n",
    "\n",
    "plt.show()"
   ]
  },
  {
   "cell_type": "code",
   "execution_count": 2,
   "metadata": {
    "collapsed": true
   },
   "outputs": [],
   "source": [
    "import sentiment_aware\n",
    "tok = sentiment_aware.Tokenizer(preserve_case=False)"
   ]
  },
  {
   "cell_type": "code",
   "execution_count": 6,
   "metadata": {
    "collapsed": false
   },
   "outputs": [
    {
     "name": "stdout",
     "output_type": "stream",
     "text": [
      "======================================================================\n",
      "RT @ #happyfuncoding#: this is a typical Twitter tweet :-)\n",
      "[u'rt', u'@', u'#happyfuncoding', u'#', u':', u'this', u'is', u'a', u'typical', u'twitter', u'tweet', u':-)']\n",
      "rt\n",
      "@\n",
      "#happyfuncoding\n",
      "#\n",
      ":\n",
      "this\n",
      "is\n",
      "a\n",
      "typical\n",
      "twitter\n",
      "tweet\n",
      ":-)\n",
      "======================================================================\n",
      "HTML entities &amp; other Web oddities can be an &aacute;cute <em class='grumpy'>pain</em> >:(\n",
      "[u'html', u'entities', u'and', u'other', u'web', u'oddities', u'can', u'be', u'an', u'\\xe1cute', u\"<em class='grumpy'>\", u'pain', u'</em>', u'>:(']\n",
      "html\n",
      "entities\n",
      "and\n",
      "other\n",
      "web\n",
      "oddities\n",
      "can\n",
      "be\n",
      "an\n",
      "ácute\n",
      "<em class='grumpy'>\n",
      "pain\n",
      "</em>\n",
      ">:(\n",
      "======================================================================\n",
      "It's perhaps noteworthy that phone numbers like +1 (800) 123-4567, (800) 123-4567, and 123-4567 are treated as words despite their whitespace.\n",
      "[u\"it's\", u'perhaps', u'noteworthy', u'that', u'phone', u'numbers', u'like', u'+1 (800) 123-4567', u',', u'(800) 123-4567', u',', u'and', u'123-4567', u'are', u'treated', u'as', u'words', u'despite', u'their', u'whitespace', u'.']\n",
      "it's\n",
      "perhaps\n",
      "noteworthy\n",
      "that\n",
      "phone\n",
      "numbers\n",
      "like\n",
      "+1 (800) 123-4567\n",
      ",\n",
      "(800) 123-4567\n",
      ",\n",
      "and\n",
      "123-4567\n",
      "are\n",
      "treated\n",
      "as\n",
      "words\n",
      "despite\n",
      "their\n",
      "whitespace\n",
      ".\n"
     ]
    }
   ],
   "source": [
    "tok = sentiment_aware.Tokenizer(preserve_case=False)\n",
    "samples = (\n",
    "        u\"RT @ #happyfuncoding#: this is a typical Twitter tweet :-)\",\n",
    "        u\"HTML entities &amp; other Web oddities can be an &aacute;cute <em class='grumpy'>pain</em> >:(\",\n",
    "        u\"It's perhaps noteworthy that phone numbers like +1 (800) 123-4567, (800) 123-4567, and 123-4567 are treated as words despite their whitespace.\"\n",
    "        )\n",
    "\n",
    "for s in samples:\n",
    "    print \"======================================================================\"\n",
    "    print s\n",
    "    tokenized = tok.tokenize(s)\n",
    "    print tokenized\n",
    "    print \"\\n\".join(tokenized)"
   ]
  }
 ],
 "metadata": {
  "kernelspec": {
   "display_name": "Python 2",
   "language": "python",
   "name": "python2"
  },
  "language_info": {
   "codemirror_mode": {
    "name": "ipython",
    "version": 2
   },
   "file_extension": ".py",
   "mimetype": "text/x-python",
   "name": "python",
   "nbconvert_exporter": "python",
   "pygments_lexer": "ipython2",
   "version": "2.7.10"
  }
 },
 "nbformat": 4,
 "nbformat_minor": 0
}
