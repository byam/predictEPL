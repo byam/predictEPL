{
 "cells": [
  {
   "cell_type": "code",
   "execution_count": 22,
   "metadata": {
    "collapsed": false
   },
   "outputs": [
    {
     "data": {
      "text/plain": [
       "\"Mr. Obama planned to promote the effort on Monday during a visit to Camden, N.J. The ban is part of Mr. Obama's push to ease tensions between law enforcement and minority \\\\communities in reaction to the crises in Baltimore; Ferguson, Mo. We are, without a doubt, sitting at a defining moment in American policing, Ronald L. Davis, the director of the Office of Community Oriented Policing Services at the Department of Justice, told reporters in a conference call organized by the White House\""
      ]
     },
     "execution_count": 22,
     "metadata": {},
     "output_type": "execute_result"
    }
   ],
   "source": [
    "import sys\n",
    "\n",
    "f = open('nyt.txt', 'r')\n",
    "\n",
    "news_content=f.read()\n",
    "news_content"
   ]
  },
  {
   "cell_type": "code",
   "execution_count": 27,
   "metadata": {
    "collapsed": false
   },
   "outputs": [],
   "source": [
    "import nltk\n",
    "\n",
    "results=[]\n",
    "\n",
    "for sent_no,sentence in enumerate(nltk.sent_tokenize(news_content)):\n",
    "    no_of_tokens = len(nltk.word_tokenize(sentence))\n",
    "    \n",
    "    # Let's do POS tagging\n",
    "    tagged = nltk.pos_tag(nltk.word_tokenize(sentence))\n",
    "\n",
    "    # Count the no of Nouns in the sentence\n",
    "    no_of_nouns=len([word for word, pos in tagged if pos in [\"NN\",\"NNP\"] ])\n",
    "\n",
    "    #Use NER to tag the named entities.\n",
    "    ners = nltk.ne_chunk(nltk.pos_tag(nltk.word_tokenize(sentence)), binary=False)\n",
    "    no_of_ners= len([chunk for chunk in ners if hasattr(chunk, 'node')])\n",
    "    \n",
    "    score=(no_of_ners + no_of_nouns) / float(no_of_tokens)\n",
    "\n",
    "    results.append((sent_no, no_of_tokens, no_of_ners, no_of_nouns,\n",
    "                    score,\n",
    "                    sentence))"
   ]
  },
  {
   "cell_type": "code",
   "execution_count": 26,
   "metadata": {
    "collapsed": false
   },
   "outputs": [
    {
     "data": {
      "text/plain": [
       "[(0,\n",
       "  17,\n",
       "  0,\n",
       "  7,\n",
       "  0.4117647058823529,\n",
       "  'Mr. Obama planned to promote the effort on Monday during a visit to Camden, N.J.'),\n",
       " (1,\n",
       "  30,\n",
       "  0,\n",
       "  12,\n",
       "  0.4,\n",
       "  \"The ban is part of Mr. Obama's push to ease tensions between law enforcement and minority \\\\communities in reaction to the crises in Baltimore; Ferguson, Mo.\"),\n",
       " (2,\n",
       "  47,\n",
       "  0,\n",
       "  18,\n",
       "  0.3829787234042553,\n",
       "  'We are, without a doubt, sitting at a defining moment in American policing, Ronald L. Davis, the director of the Office of Community Oriented Policing Services at the Department of Justice, told reporters in a conference call organized by the White House')]"
      ]
     },
     "execution_count": 26,
     "metadata": {},
     "output_type": "execute_result"
    }
   ],
   "source": [
    "results"
   ]
  },
  {
   "cell_type": "code",
   "execution_count": 29,
   "metadata": {
    "collapsed": false
   },
   "outputs": [
    {
     "name": "stdout",
     "output_type": "stream",
     "text": [
      "Mr. Obama planned to promote the effort on Monday during a visit to Camden, N.J.\n",
      "\n",
      "The ban is part of Mr. Obama's push to ease tensions between law enforcement and minority \\communities in reaction to the crises in Baltimore; Ferguson, Mo.\n",
      "\n",
      "We are, without a doubt, sitting at a defining moment in American policing, Ronald L. Davis, the director of the Office of Community Oriented Policing Services at the Department of Justice, told reporters in a conference call organized by the White House\n",
      "\n"
     ]
    }
   ],
   "source": [
    "for sent in sorted(results, key=lambda x: x[4],reverse=True):\n",
    "    print sent[5]\n",
    "    print"
   ]
  },
  {
   "cell_type": "markdown",
   "metadata": {},
   "source": [
    "### TF-IDF "
   ]
  },
  {
   "cell_type": "code",
   "execution_count": 41,
   "metadata": {
    "collapsed": false
   },
   "outputs": [
    {
     "name": "stdout",
     "output_type": "stream",
     "text": [
      "[u'american', u'and', u'are', u'at', u'baltimore', u'ban', u'between', u'by', u'call', u'camden', u'communities', u'community', u'conference', u'crises', u'davis', u'defining', u'department', u'director', u'doubt', u'during', u'ease', u'effort', u'enforcement', u'ferguson', u'house', u'in', u'is', u'justice', u'law', u'minority', u'mo', u'moment', u'monday', u'mr', u'obama', u'of', u'office', u'on', u'organized', u'oriented', u'part', u'planned', u'policing', u'promote', u'push', u'reaction', u'reporters', u'ronald', u'services', u'sitting', u'tensions', u'the', u'to', u'told', u'visit', u'we', u'white', u'without']\n",
      "[[ 0.          0.          0.          0.          0.          0.          0.\n",
      "   0.          0.          0.30993994  0.          0.          0.          0.\n",
      "   0.          0.          0.          0.          0.          0.30993994\n",
      "   0.          0.30993994  0.          0.          0.          0.          0.\n",
      "   0.          0.          0.          0.          0.          0.30993994\n",
      "   0.20757039  0.20757039  0.          0.          0.30993994  0.          0.\n",
      "   0.          0.30993994  0.          0.30993994  0.          0.          0.\n",
      "   0.          0.          0.          0.          0.14768804  0.35144723\n",
      "   0.          0.30993994  0.          0.          0.        ]\n",
      " [ 0.          0.21532526  0.          0.          0.21532526  0.21532526\n",
      "   0.21532526  0.          0.          0.          0.21532526  0.          0.\n",
      "   0.21532526  0.          0.          0.          0.          0.          0.\n",
      "   0.21532526  0.          0.21532526  0.21532526  0.          0.24416171\n",
      "   0.21532526  0.          0.21532526  0.21532526  0.21532526  0.          0.\n",
      "   0.14420584  0.14420584  0.14420584  0.          0.          0.          0.\n",
      "   0.21532526  0.          0.          0.          0.21532526  0.21532526\n",
      "   0.          0.          0.          0.          0.21532526  0.17372306\n",
      "   0.24416171  0.          0.          0.          0.          0.        ]\n",
      " [ 0.16834073  0.          0.16834073  0.28502563  0.          0.          0.\n",
      "   0.16834073  0.16834073  0.          0.          0.16834073  0.16834073\n",
      "   0.          0.16834073  0.16834073  0.16834073  0.16834073  0.16834073\n",
      "   0.          0.          0.          0.          0.          0.16834073\n",
      "   0.19088498  0.          0.16834073  0.          0.          0.\n",
      "   0.16834073  0.          0.          0.          0.23659702  0.16834073\n",
      "   0.          0.16834073  0.16834073  0.          0.          0.28502563\n",
      "   0.          0.          0.          0.16834073  0.16834073  0.16834073\n",
      "   0.16834073  0.          0.19141722  0.          0.16834073  0.\n",
      "   0.16834073  0.16834073  0.16834073]]\n"
     ]
    },
    {
     "data": {
      "text/plain": [
       "[0.28281630091973642, 0.20674753944674082, 0.17991562138192305]"
      ]
     },
     "execution_count": 41,
     "metadata": {},
     "output_type": "execute_result"
    }
   ],
   "source": [
    "import nltk\n",
    "from sklearn.feature_extraction.text import TfidfVectorizer, CountVectorizer\n",
    "results = []\n",
    "\n",
    "news_content = \"\"\"Mr. Obama planned to promote the effort on Monday during\n",
    "a visit to Camden, N.J. The ban is part of Mr. Obama's push to ease\n",
    "tensions between law enforcement and minority \\communities in reaction to\n",
    "the crises in Baltimore; Ferguson, Mo. We are, without a doubt, sitting\n",
    "at a defining moment in American policing, Ronald L. Davis, the director\n",
    "of the Office of Community Oriented Policing Services at the Department\n",
    "of Justice, told reporters in a conference call organized by the White\n",
    "House\"\"\"\n",
    "\n",
    "# sentence tokenize\n",
    "sentences = nltk.sent_tokenize(news_content)\n",
    "\n",
    "vectorizer = TfidfVectorizer(norm='l2',min_df=0, use_idf=True, smooth_idf=False, sublinear_tf=True)\n",
    "\n",
    "sklearn_binary = vectorizer.fit_transform(sentences)\n",
    "print vectorizer.get_feature_names()\n",
    "print sklearn_binary.toarray()\n",
    "for i in sklearn_binary.toarray():\n",
    "    results.append(i.sum()/float(len(i.nonzero()[0])))\n",
    "\n",
    "results"
   ]
  }
 ],
 "metadata": {
  "kernelspec": {
   "display_name": "Python 2",
   "language": "python",
   "name": "python2"
  },
  "language_info": {
   "codemirror_mode": {
    "name": "ipython",
    "version": 2
   },
   "file_extension": ".py",
   "mimetype": "text/x-python",
   "name": "python",
   "nbconvert_exporter": "python",
   "pygments_lexer": "ipython2",
   "version": "2.7.10"
  }
 },
 "nbformat": 4,
 "nbformat_minor": 0
}
