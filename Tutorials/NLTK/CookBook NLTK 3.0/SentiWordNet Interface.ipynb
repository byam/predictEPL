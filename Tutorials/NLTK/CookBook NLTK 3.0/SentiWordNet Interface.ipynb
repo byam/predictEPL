{
 "cells": [
  {
   "cell_type": "code",
   "execution_count": 1,
   "metadata": {
    "collapsed": true
   },
   "outputs": [],
   "source": [
    "from nltk.corpus import sentiwordnet as swn"
   ]
  },
  {
   "cell_type": "markdown",
   "metadata": {},
   "source": [
    "# SentiSynsets"
   ]
  },
  {
   "cell_type": "code",
   "execution_count": 13,
   "metadata": {
    "collapsed": false
   },
   "outputs": [
    {
     "name": "stdout",
     "output_type": "stream",
     "text": [
      "<hunt.v.01: PosScore=0.0 NegScore=0.0>\n",
      "<hound.v.01: PosScore=0.0 NegScore=0.0>\n",
      "<hunt.v.03: PosScore=0.0 NegScore=0.0>\n",
      "<hunt.v.04: PosScore=0.0 NegScore=0.0>\n",
      "<hunt.v.05: PosScore=0.0 NegScore=0.0>\n",
      "<hunt.v.06: PosScore=0.0 NegScore=0.0>\n",
      "<hunt.v.07: PosScore=0.0 NegScore=0.0>\n",
      "pos: 0.0, neg: 0.0, obj: 1.0\n"
     ]
    }
   ],
   "source": [
    "wordList = list(swn.senti_synsets('hunting', 'v'))\n",
    "\n",
    "word_num = len(wordList)\n",
    "pos_score = 0.0\n",
    "neg_score = 0.0\n",
    "obj_score = 0.0\n",
    "\n",
    "try:\n",
    "    for word in wordList:\n",
    "        print(word)\n",
    "        pos_score += word.pos_score()\n",
    "        neg_score += word.neg_score()\n",
    "        obj_score += word.obj_score()\n",
    "\n",
    "    print(\"pos: %s, neg: %s, obj: %s\" % (pos_score / word_num, \n",
    "                                         neg_score / word_num, \n",
    "                                         obj_score / word_num))\n",
    "except:\n",
    "    print(\"pos: %s, neg: %s, obj: %s\" % (pos_score, \n",
    "                                         neg_score, \n",
    "                                         obj_score))"
   ]
  }
 ],
 "metadata": {
  "kernelspec": {
   "display_name": "Python 3",
   "language": "python",
   "name": "python3"
  },
  "language_info": {
   "codemirror_mode": {
    "name": "ipython",
    "version": 3
   },
   "file_extension": ".py",
   "mimetype": "text/x-python",
   "name": "python",
   "nbconvert_exporter": "python",
   "pygments_lexer": "ipython3",
   "version": "3.4.3"
  }
 },
 "nbformat": 4,
 "nbformat_minor": 0
}
