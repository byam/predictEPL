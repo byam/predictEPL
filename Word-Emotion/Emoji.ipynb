{
 "cells": [
  {
   "cell_type": "code",
   "execution_count": 1,
   "metadata": {
    "collapsed": false
   },
   "outputs": [
    {
     "name": "stdout",
     "output_type": "stream",
     "text": [
      "Populating the interactive namespace from numpy and matplotlib\n"
     ]
    }
   ],
   "source": [
    "%pylab inline\n",
    "%matplotlib inline\n",
    "\n",
    "import os\n",
    "import time\n",
    "import collections\n",
    "from pprint import pprint\n",
    "import pandas as pd\n",
    "import numpy as np\n",
    "import matplotlib.pyplot as plt\n",
    "import emoji\n",
    "\n",
    "sys.path.append(\"/Users/Bya/git/predictEPL/utils/\")\n",
    "sys.path.append(\"/Users/Bya/git/predictEPL/config/\")\n",
    "\n",
    "import paths\n",
    "import emolex\n",
    "import tokenizer\n",
    "import useful_methods"
   ]
  },
  {
   "cell_type": "markdown",
   "metadata": {},
   "source": [
    "## All Game Emojis"
   ]
  },
  {
   "cell_type": "code",
   "execution_count": null,
   "metadata": {
    "collapsed": true
   },
   "outputs": [],
   "source": [
    "# read Game Infos\n",
    "dfGameInfo = useful_methods.ReadGameInfoDfDropNan()"
   ]
  },
  {
   "cell_type": "code",
   "execution_count": null,
   "metadata": {
    "collapsed": false
   },
   "outputs": [],
   "source": [
    "# extract emojis as list\n",
    "def EmojisSingleGame(week, home_team, away_team):\n",
    "    # single game\n",
    "    df = useful_methods.SingleGameDf(week, home_team, away_team, filtering=True, retweet=False)\n",
    "\n",
    "    # add emoji column\n",
    "    df['emoji'] = [tokenizer.EmojiText(text) for text in df.text]\n",
    "\n",
    "    # extract emoji\n",
    "    emoji_list = list(df[df['emoji'] != \"\"]['emoji'])\n",
    "\n",
    "    all_emoji = []\n",
    "    for emoji in emoji_list:\n",
    "        emojis = emoji.split(',')\n",
    "        all_emoji += emojis\n",
    "\n",
    "    return all_emoji"
   ]
  },
  {
   "cell_type": "code",
   "execution_count": null,
   "metadata": {
    "collapsed": false,
    "scrolled": true
   },
   "outputs": [],
   "source": [
    "all_game_emoji = []\n",
    "\n",
    "for ith_row in range(len(dfGameInfo)):\n",
    "    week = dfGameInfo.loc[ith_row]['GW']\n",
    "    home_team = dfGameInfo.loc[ith_row]['home_team']\n",
    "    away_team = dfGameInfo.loc[ith_row]['away_team']\n",
    "    \n",
    "    # emoji list\n",
    "    emoji_list = EmojisSingleGame(week, home_team, away_team)\n",
    "    \n",
    "    all_game_emoji += emoji_list"
   ]
  },
  {
   "cell_type": "code",
   "execution_count": null,
   "metadata": {
    "collapsed": false
   },
   "outputs": [],
   "source": [
    "# Emoji Info\n",
    "print(\"All Emoji: \", len(all_game_emoji))\n",
    "print(\"All Unique emoji: \", len(set(all_game_emoji)))"
   ]
  },
  {
   "cell_type": "code",
   "execution_count": null,
   "metadata": {
    "collapsed": false
   },
   "outputs": [],
   "source": [
    "counted = collections.Counter(all_game_emoji)\n",
    "counted.most_common(10)"
   ]
  },
  {
   "cell_type": "markdown",
   "metadata": {},
   "source": [
    "## Count Emoji Single Game"
   ]
  },
  {
   "cell_type": "code",
   "execution_count": 8,
   "metadata": {
    "collapsed": true
   },
   "outputs": [],
   "source": [
    "week = 13\n",
    "home_team = 'City'\n",
    "away_team = 'Liverpool'\n",
    "FILTER_STATUS = True\n",
    "RETWEET_STATUS = False\n",
    "START_TIME = 1\n",
    "END_TIME = 63\n",
    "TIME_LIMIT = 63"
   ]
  },
  {
   "cell_type": "code",
   "execution_count": 3,
   "metadata": {
    "collapsed": false
   },
   "outputs": [],
   "source": [
    "# read single game\n",
    "df = useful_methods.SingleGameDf(week, home_team, away_team, filtering=FILTER_STATUS, retweet=RETWEET_STATUS)\n",
    "df['ith_minute'] = [int(item) for item in df['ith_minute']]"
   ]
  },
  {
   "cell_type": "code",
   "execution_count": 10,
   "metadata": {
    "collapsed": false
   },
   "outputs": [],
   "source": [
    "# Count Home, Away Emolex\n",
    "def CountGameEmolexEmoji(week, team_home, team_away):\n",
    "\n",
    "    # Read Single as DF\n",
    "    dfGame = useful_methods.SingleGameDf(week, team_home, team_away, filtering=FILTER_STATUS, retweet=RETWEET_STATUS)\n",
    "    if dfGame is None:\n",
    "        return (None, None)\n",
    "\n",
    "    dfGame.ith_minute = [int(ith_minute) for ith_minute in list(dfGame.ith_minute)]\n",
    "\n",
    "\n",
    "    # Count Emoji Sentiment Count\n",
    "    dic_emoji_sent_home = useful_methods.EmojiSentimentCount(dfGame, 'home', START_TIME, END_TIME)\n",
    "    dic_emoji_sent_away = useful_methods.EmojiSentimentCount(dfGame, 'away', START_TIME, END_TIME)\n",
    "\n",
    "    return (dic_emoji_sent_home, dic_emoji_sent_away)"
   ]
  },
  {
   "cell_type": "code",
   "execution_count": 11,
   "metadata": {
    "collapsed": false
   },
   "outputs": [
    {
     "data": {
      "text/plain": [
       "({'neg': 65, 'neut': 15, 'pos': 290}, {'neg': 198, 'neut': 500, 'pos': 2868})"
      ]
     },
     "execution_count": 11,
     "metadata": {},
     "output_type": "execute_result"
    }
   ],
   "source": [
    "CountGameEmolexEmoji(week, home_team, away_team)"
   ]
  },
  {
   "cell_type": "code",
   "execution_count": 12,
   "metadata": {
    "collapsed": true
   },
   "outputs": [],
   "source": [
    "\n",
    "# coding: utf-8\n",
    "import os\n",
    "import sys\n",
    "import time\n",
    "import datetime\n",
    "import pandas as pd\n",
    "import numpy as np\n",
    "from joblib import Parallel, delayed\n",
    "import multiprocessing\n",
    "\n",
    "\n",
    "# Local Imports\n",
    "path = str(os.path.expanduser('~')) + '/git/predictEPL/config'\n",
    "sys.path.append(path)\n",
    "import paths\n",
    "\n",
    "sys.path.append(paths.UTILS)\n",
    "import emolex\n",
    "import useful_methods\n",
    "\n",
    "\n",
    "# *******************************************************\n",
    "# *******************************************************\n",
    "\n",
    "# Limitations\n",
    "TIME_LIMIT = 63\n",
    "RETWEET_STATUS = False\n",
    "FILTER_STATUS = True\n",
    "START_TIME = 1\n",
    "END_TIME = 63\n",
    "\n",
    "\n",
    "# *******************************************************\n",
    "# *******************************************************\n",
    "\n",
    "# Game Infos\n",
    "os.chdir(paths.READ_PATH_GAME_INFO)\n",
    "dfGameInfos = useful_methods.csv_dic_df('game_infos.csv')\n",
    "dfGameInfos = useful_methods.DropNanGames(dfGameInfos)\n",
    "\n",
    "\n",
    "# Convert number strings to integers\n",
    "dfGameInfos['GW'] = [int(GW) for GW in dfGameInfos['GW']]\n",
    "dfGameInfos['score_ht_home'] = [int(number) for number in dfGameInfos['score_ht_home']]\n",
    "dfGameInfos['score_ht_away'] = [int(number) for number in dfGameInfos['score_ht_away']]\n",
    "dfGameInfos['score_ft_home'] = [int(number) for number in dfGameInfos['score_ft_home']]\n",
    "dfGameInfos['score_ft_away'] = [int(number) for number in dfGameInfos['score_ft_away']]\n",
    "\n",
    "\n",
    "# Read Emotion-Lexicon-Soccer as Dictionary\n",
    "dic_emolex_soccer = emolex.EmolexSoccerDic()\n",
    "\n",
    "\n",
    "# *******************************************************\n",
    "# *******************************************************\n",
    "\n",
    "# ### Emolex Count Functions\n",
    "\n",
    "\n",
    "# Summing counted emolex\n",
    "def EmolexSumList(dfEmolex, start=1, end=60):\n",
    "    # Time Interval\n",
    "    dfEmolex.ith_minute = [int(ith_minute) for ith_minute in list(dfEmolex.ith_minute)]\n",
    "    dfEmolex = dfEmolex[(dfEmolex.ith_minute >= start) & (dfEmolex.ith_minute <= end)]\n",
    "\n",
    "    # Sum Emolex Count\n",
    "    anger = dfEmolex.anger.sum()\n",
    "    fear = dfEmolex.fear.sum()\n",
    "    disgust = dfEmolex.disgust.sum()\n",
    "    sadness = dfEmolex.sadness.sum()\n",
    "    surprise = dfEmolex.surprise.sum()\n",
    "    trust = dfEmolex.trust.sum()\n",
    "    joy = dfEmolex.joy.sum()\n",
    "    anticipation = dfEmolex.anticipation.sum()\n",
    "    positive = dfEmolex.positive.sum()\n",
    "    negative = dfEmolex.negative.sum()\n",
    "\n",
    "    return np.array([anger, fear, disgust, sadness,\n",
    "            surprise,\n",
    "            trust, joy, anticipation,\n",
    "            positive, negative])\n",
    "\n",
    "\n",
    "# Count Home, Away Emolex\n",
    "def CountGameEmolex(week, team_home, team_away):\n",
    "\n",
    "    # Read Single as DF\n",
    "    dfGame = useful_methods.SingleGameDf(week, team_home, team_away, filtering=FILTER_STATUS, retweet=RETWEET_STATUS)\n",
    "    if dfGame is None:\n",
    "        return (None, None)\n",
    "\n",
    "    dfGame.ith_minute = [int(ith_minute) for ith_minute in list(dfGame.ith_minute)]\n",
    "\n",
    "    # Count Emolex Words\n",
    "    dfEmolexHome = emolex.CreateEmolexDF(dfGame[(dfGame.side == 'home') & (dfGame.ith_minute <= TIME_LIMIT)], dic_emolex_soccer)\n",
    "    dfEmolexAway = emolex.CreateEmolexDF(dfGame[(dfGame.side == 'away') & (dfGame.ith_minute <= TIME_LIMIT)], dic_emolex_soccer)\n",
    "\n",
    "    # Sum Emolex\n",
    "    dic_emolex_home = EmolexSumList(dfEmolexHome, start=START_TIME, end=END_TIME)\n",
    "    dic_emolex_away = EmolexSumList(dfEmolexAway, start=START_TIME, end=END_TIME)\n",
    "\n",
    "    return (dic_emolex_home, dic_emolex_away)\n",
    "\n",
    "\n",
    "# *******************************************************\n",
    "# *******************************************************\n",
    "def EmolexCountSingleMatch(ith_row):\n",
    "    # Team names\n",
    "    week = dfGameInfos.iloc[ith_row]['GW']\n",
    "    team_home = dfGameInfos.iloc[ith_row]['home_team']\n",
    "    team_away = dfGameInfos.iloc[ith_row]['away_team']\n",
    "\n",
    "    # Count Emolex Word\n",
    "    emolex_count = CountGameEmolex(week, team_home, team_away)\n",
    "\n",
    "    # print each rows\n",
    "    print('%s, %s, %s, %s, %s' %\n",
    "        (week, team_home, team_away, emolex_count[0], emolex_count[1]))\n",
    "\n",
    "    result = (week, team_home, team_away, emolex_count[0], emolex_count[1])\n",
    "\n",
    "    return result"
   ]
  },
  {
   "cell_type": "code",
   "execution_count": 21,
   "metadata": {
    "collapsed": true
   },
   "outputs": [],
   "source": [
    "# Count Home, Away Emolex\n",
    "def CountGameEmolexEmoji(week, team_home, team_away):\n",
    "\n",
    "    # Read Single as DF\n",
    "    dfGame = useful_methods.SingleGameDf(week, team_home, team_away, filtering=FILTER_STATUS, retweet=RETWEET_STATUS)\n",
    "    if dfGame is None:\n",
    "        return (None, None)\n",
    "\n",
    "    dfGame.ith_minute = [int(ith_minute) for ith_minute in list(dfGame.ith_minute)]\n",
    "\n",
    "    # Count Emolex Words\n",
    "    dfEmolexHome = emolex.CreateEmolexDF(dfGame[(dfGame.side == 'home') & (dfGame.ith_minute <= TIME_LIMIT)], dic_emolex_soccer)\n",
    "    dfEmolexAway = emolex.CreateEmolexDF(dfGame[(dfGame.side == 'away') & (dfGame.ith_minute <= TIME_LIMIT)], dic_emolex_soccer)\n",
    "\n",
    "    # Sum Emolex\n",
    "    dic_emolex_home = EmolexSumList(dfEmolexHome, start=START_TIME, end=END_TIME)\n",
    "    dic_emolex_away = EmolexSumList(dfEmolexAway, start=START_TIME, end=END_TIME)\n",
    "\n",
    "    # Count Emoji Sentiment Count\n",
    "    dic_emoji_sent_home = useful_methods.EmojiSentimentCount(dfGame, 'home', START_TIME, END_TIME)\n",
    "    dic_emoji_sent_away = useful_methods.EmojiSentimentCount(dfGame, 'away', START_TIME, END_TIME)\n",
    "\n",
    "    # Merge: Emolex & Emoji Sentiment\n",
    "    dic_emolex_home[-2] += dic_emoji_sent_home['pos']\n",
    "    dic_emolex_home[-1] += dic_emoji_sent_home['neg']\n",
    "\n",
    "    dic_emolex_away[-2] += dic_emoji_sent_away['pos']\n",
    "    dic_emolex_away[-1] += dic_emoji_sent_away['neg']\n",
    "\n",
    "    return (dic_emolex_home, dic_emolex_away)"
   ]
  },
  {
   "cell_type": "code",
   "execution_count": 25,
   "metadata": {
    "collapsed": false
   },
   "outputs": [
    {
     "data": {
      "text/plain": [
       "{'neg': 198, 'neut': 500, 'pos': 2868}"
      ]
     },
     "execution_count": 25,
     "metadata": {},
     "output_type": "execute_result"
    }
   ],
   "source": [
    "useful_methods.EmojiSentimentCount(df, 'away', START_TIME, END_TIME)"
   ]
  },
  {
   "cell_type": "code",
   "execution_count": 15,
   "metadata": {
    "collapsed": false
   },
   "outputs": [],
   "source": [
    "dic1, dic2 = CountGameEmolex(week, 'City', 'Liverpool')"
   ]
  },
  {
   "cell_type": "code",
   "execution_count": 19,
   "metadata": {
    "collapsed": false
   },
   "outputs": [
    {
     "data": {
      "text/plain": [
       "array([ 421.,  402.,  353.,  403.,  282.,  418.,  335.,  399.,  799.,  819.])"
      ]
     },
     "execution_count": 19,
     "metadata": {},
     "output_type": "execute_result"
    }
   ],
   "source": [
    "dic1"
   ]
  },
  {
   "cell_type": "code",
   "execution_count": 20,
   "metadata": {
    "collapsed": false
   },
   "outputs": [
    {
     "data": {
      "text/plain": [
       "array([ 1040.,  1065.,   787.,  1008.,  1363.,  2659.,  2857.,  2334.,\n",
       "        4939.,  2174.])"
      ]
     },
     "execution_count": 20,
     "metadata": {},
     "output_type": "execute_result"
    }
   ],
   "source": [
    "dic2"
   ]
  },
  {
   "cell_type": "code",
   "execution_count": 23,
   "metadata": {
    "collapsed": false
   },
   "outputs": [
    {
     "data": {
      "text/plain": [
       "(array([  421.,   402.,   353.,   403.,   282.,   418.,   335.,   399.,\n",
       "         1089.,   884.]),\n",
       " array([ 1040.,  1065.,   787.,  1008.,  1363.,  2659.,  2857.,  2334.,\n",
       "         7807.,  2372.]))"
      ]
     },
     "execution_count": 23,
     "metadata": {},
     "output_type": "execute_result"
    }
   ],
   "source": [
    "CountGameEmolexEmoji(week, 'City', 'Liverpool')"
   ]
  }
 ],
 "metadata": {
  "kernelspec": {
   "display_name": "Python 3",
   "language": "python",
   "name": "python3"
  },
  "language_info": {
   "codemirror_mode": {
    "name": "ipython",
    "version": 3
   },
   "file_extension": ".py",
   "mimetype": "text/x-python",
   "name": "python",
   "nbconvert_exporter": "python",
   "pygments_lexer": "ipython3",
   "version": "3.4.3"
  }
 },
 "nbformat": 4,
 "nbformat_minor": 0
}
