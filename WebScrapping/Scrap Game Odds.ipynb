{
 "cells": [
  {
   "cell_type": "code",
   "execution_count": 1,
   "metadata": {
    "collapsed": true
   },
   "outputs": [],
   "source": [
    "import pandas as pd\n",
    "import math\n",
    "import os\n",
    "import sys\n",
    "import time\n",
    "\n",
    "sys.path.append(\"/Users/Bya/git/predictEPL/config/\")\n",
    "sys.path.append(\"/Users/Bya/git/predictEPL/utils/\")\n",
    "\n",
    "import paths\n",
    "import useful_methods\n",
    "import names"
   ]
  },
  {
   "cell_type": "code",
   "execution_count": 4,
   "metadata": {
    "collapsed": false,
    "scrolled": true
   },
   "outputs": [
    {
     "data": {
      "text/html": [
       "<div>\n",
       "<table border=\"1\" class=\"dataframe\">\n",
       "  <thead>\n",
       "    <tr style=\"text-align: right;\">\n",
       "      <th></th>\n",
       "      <th>GW</th>\n",
       "      <th>time</th>\n",
       "      <th>team_home</th>\n",
       "      <th>team_away</th>\n",
       "      <th>score_ft_home</th>\n",
       "      <th>score_ft_away</th>\n",
       "      <th>odds_home</th>\n",
       "      <th>odds_away</th>\n",
       "      <th>odds_draw</th>\n",
       "    </tr>\n",
       "  </thead>\n",
       "  <tbody>\n",
       "    <tr>\n",
       "      <th>195</th>\n",
       "      <td>20</td>\n",
       "      <td>15:00</td>\n",
       "      <td>Leicester</td>\n",
       "      <td>Bournemouth</td>\n",
       "      <td>0</td>\n",
       "      <td>0</td>\n",
       "      <td>1.92</td>\n",
       "      <td>4.07</td>\n",
       "      <td>3.58</td>\n",
       "    </tr>\n",
       "    <tr>\n",
       "      <th>196</th>\n",
       "      <td>20</td>\n",
       "      <td>15:00</td>\n",
       "      <td>Arsenal</td>\n",
       "      <td>Newcastle</td>\n",
       "      <td>1</td>\n",
       "      <td>0</td>\n",
       "      <td>1.24</td>\n",
       "      <td>11.81</td>\n",
       "      <td>6.63</td>\n",
       "    </tr>\n",
       "    <tr>\n",
       "      <th>197</th>\n",
       "      <td>20</td>\n",
       "      <td>17:30</td>\n",
       "      <td>Watford</td>\n",
       "      <td>City</td>\n",
       "      <td>1</td>\n",
       "      <td>2</td>\n",
       "      <td>4.88</td>\n",
       "      <td>1.71</td>\n",
       "      <td>3.91</td>\n",
       "    </tr>\n",
       "    <tr>\n",
       "      <th>198</th>\n",
       "      <td>20</td>\n",
       "      <td>13:30</td>\n",
       "      <td>Crystal</td>\n",
       "      <td>Chelsea</td>\n",
       "      <td>0</td>\n",
       "      <td>3</td>\n",
       "      <td>3.95</td>\n",
       "      <td>2.00</td>\n",
       "      <td>3.43</td>\n",
       "    </tr>\n",
       "    <tr>\n",
       "      <th>199</th>\n",
       "      <td>20</td>\n",
       "      <td>16:00</td>\n",
       "      <td>Everton</td>\n",
       "      <td>Tottenham</td>\n",
       "      <td>1</td>\n",
       "      <td>1</td>\n",
       "      <td>2.55</td>\n",
       "      <td>2.81</td>\n",
       "      <td>3.39</td>\n",
       "    </tr>\n",
       "  </tbody>\n",
       "</table>\n",
       "</div>"
      ],
      "text/plain": [
       "     GW   time  team_home    team_away score_ft_home score_ft_away odds_home  \\\n",
       "195  20  15:00  Leicester  Bournemouth             0             0      1.92   \n",
       "196  20  15:00    Arsenal    Newcastle             1             0      1.24   \n",
       "197  20  17:30    Watford         City             1             2      4.88   \n",
       "198  20  13:30    Crystal      Chelsea             0             3      3.95   \n",
       "199  20  16:00    Everton    Tottenham             1             1      2.55   \n",
       "\n",
       "    odds_away odds_draw  \n",
       "195      4.07      3.58  \n",
       "196     11.81      6.63  \n",
       "197      1.71      3.91  \n",
       "198      2.00      3.43  \n",
       "199      2.81      3.39  "
      ]
     },
     "execution_count": 4,
     "metadata": {},
     "output_type": "execute_result"
    }
   ],
   "source": [
    "dfOdds = useful_methods.OddsPortalDf()\n",
    "dfOdds.tail()"
   ]
  },
  {
   "cell_type": "code",
   "execution_count": 5,
   "metadata": {
    "collapsed": false
   },
   "outputs": [],
   "source": [
    "# Convert to Int or Float\n",
    "dfOdds['GW'] = [int(number) for number in dfOdds['GW']]\n",
    "dfOdds['score_ft_home'] = [int(number) for number in dfOdds['score_ft_home']]\n",
    "dfOdds['score_ft_away'] = [int(number) for number in dfOdds['score_ft_away']]\n",
    "dfOdds['odds_home'] = [float(number) for number in dfOdds['odds_home']]\n",
    "dfOdds['odds_away'] = [float(number) for number in dfOdds['odds_away']]\n",
    "dfOdds['odds_draw'] = [float(number) for number in dfOdds['odds_draw']]"
   ]
  },
  {
   "cell_type": "code",
   "execution_count": 6,
   "metadata": {
    "collapsed": false,
    "scrolled": true
   },
   "outputs": [
    {
     "data": {
      "text/html": [
       "<div>\n",
       "<table border=\"1\" class=\"dataframe\">\n",
       "  <thead>\n",
       "    <tr style=\"text-align: right;\">\n",
       "      <th></th>\n",
       "      <th>GW</th>\n",
       "      <th>time</th>\n",
       "      <th>team_home</th>\n",
       "      <th>team_away</th>\n",
       "      <th>score_ft_home</th>\n",
       "      <th>score_ft_away</th>\n",
       "      <th>odds_home</th>\n",
       "      <th>odds_away</th>\n",
       "      <th>odds_draw</th>\n",
       "    </tr>\n",
       "  </thead>\n",
       "  <tbody>\n",
       "    <tr>\n",
       "      <th>37</th>\n",
       "      <td>4</td>\n",
       "      <td>16:30</td>\n",
       "      <td>Tottenham</td>\n",
       "      <td>Everton</td>\n",
       "      <td>0</td>\n",
       "      <td>0</td>\n",
       "      <td>2.07</td>\n",
       "      <td>3.75</td>\n",
       "      <td>3.50</td>\n",
       "    </tr>\n",
       "    <tr>\n",
       "      <th>68</th>\n",
       "      <td>7</td>\n",
       "      <td>15:00</td>\n",
       "      <td>Watford</td>\n",
       "      <td>Crystal</td>\n",
       "      <td>0</td>\n",
       "      <td>1</td>\n",
       "      <td>2.57</td>\n",
       "      <td>2.90</td>\n",
       "      <td>3.31</td>\n",
       "    </tr>\n",
       "    <tr>\n",
       "      <th>120</th>\n",
       "      <td>13</td>\n",
       "      <td>12:45</td>\n",
       "      <td>Watford</td>\n",
       "      <td>United</td>\n",
       "      <td>1</td>\n",
       "      <td>2</td>\n",
       "      <td>4.00</td>\n",
       "      <td>2.07</td>\n",
       "      <td>3.31</td>\n",
       "    </tr>\n",
       "    <tr>\n",
       "      <th>159</th>\n",
       "      <td>16</td>\n",
       "      <td>20:00</td>\n",
       "      <td>Leicester</td>\n",
       "      <td>Chelsea</td>\n",
       "      <td>2</td>\n",
       "      <td>1</td>\n",
       "      <td>3.38</td>\n",
       "      <td>2.23</td>\n",
       "      <td>3.48</td>\n",
       "    </tr>\n",
       "  </tbody>\n",
       "</table>\n",
       "</div>"
      ],
      "text/plain": [
       "     GW   time  team_home team_away  score_ft_home  score_ft_away  odds_home  \\\n",
       "37    4  16:30  Tottenham   Everton              0              0       2.07   \n",
       "68    7  15:00    Watford   Crystal              0              1       2.57   \n",
       "120  13  12:45    Watford    United              1              2       4.00   \n",
       "159  16  20:00  Leicester   Chelsea              2              1       3.38   \n",
       "\n",
       "     odds_away  odds_draw  \n",
       "37        3.75       3.50  \n",
       "68        2.90       3.31  \n",
       "120       2.07       3.31  \n",
       "159       2.23       3.48  "
      ]
     },
     "execution_count": 6,
     "metadata": {},
     "output_type": "execute_result"
    }
   ],
   "source": [
    "dfOdds[(dfOdds.index == 37) | (dfOdds.index == 68) | (dfOdds.index == 120) | (dfOdds.index == 159)]"
   ]
  },
  {
   "cell_type": "code",
   "execution_count": 11,
   "metadata": {
    "collapsed": false
   },
   "outputs": [],
   "source": [
    "def OddsAnalysis(dfOdds):\n",
    "    # Odds: GOOD\n",
    "    odds_good = len(dfOdds[\n",
    "        # GW != [1, 2, 3, 12, 17], index != [37, 68, 120, 159]\n",
    "        (dfOdds['GW'] >= 4) & (dfOdds['GW'] != 12) &\n",
    "        (dfOdds.index != 37) & (dfOdds.index != 68) & (dfOdds.index != 120) & (dfOdds.index != 159) &\n",
    "\n",
    "        # Odds: home < away & FT: home > away\n",
    "        (((dfOdds['odds_home'] < dfOdds['odds_away']) & (dfOdds['score_ft_home'] > dfOdds['score_ft_away'])) |\n",
    "        # Odds: home > away & FT: home < away\n",
    "        ((dfOdds['odds_home'] > dfOdds['odds_away']) & (dfOdds['score_ft_home'] < dfOdds['score_ft_away'])))\n",
    "    ])\n",
    "\n",
    "    # Odds: NG\n",
    "    odds_ng = len(dfOdds[\n",
    "        # GW != [1, 2, 3, 12]\n",
    "        (dfOdds['GW'] >= 4) & (dfOdds['GW'] != 12) &\n",
    "        (dfOdds.index != 37) & (dfOdds.index != 68) & (dfOdds.index != 120) & (dfOdds.index != 159) &\n",
    "\n",
    "        # Odds: home > away & FT: home > away\n",
    "        (((dfOdds['odds_home'] > dfOdds['odds_away']) & (dfOdds['score_ft_home'] > dfOdds['score_ft_away'])) |\n",
    "        # Odds: home < away & FT: home < away\n",
    "        ((dfOdds['odds_home'] < dfOdds['odds_away']) & (dfOdds['score_ft_home'] < dfOdds['score_ft_away'])))\n",
    "    ])\n",
    "\n",
    "    # FT: DRAW\n",
    "    ft_draw = len(dfOdds[\n",
    "        # GW != [1, 2, 3, 12]\n",
    "        (dfOdds['GW'] >= 4) & (dfOdds['GW'] != 12) &\n",
    "        (dfOdds.index != 37) & (dfOdds.index != 68) & (dfOdds.index != 120) & (dfOdds.index != 159) &\n",
    "\n",
    "        # FT: home == away\n",
    "        (dfOdds['score_ft_home'] == dfOdds['score_ft_away'])\n",
    "    ])\n",
    "\n",
    "    print(\"[Odds GOOD]: %s\" %(odds_good))\n",
    "    print(\"[Odds NG]: %s\" %(odds_ng))\n",
    "    print(\"[Full-Time DRAW]: %s\" %(ft_draw))"
   ]
  },
  {
   "cell_type": "code",
   "execution_count": 12,
   "metadata": {
    "collapsed": false
   },
   "outputs": [
    {
     "name": "stdout",
     "output_type": "stream",
     "text": [
      "[Odds GOOD]: 73\n",
      "[Odds NG]: 42\n",
      "[Full-Time DRAW]: 41\n"
     ]
    }
   ],
   "source": [
    "OddsAnalysis(dfOdds)"
   ]
  }
 ],
 "metadata": {
  "kernelspec": {
   "display_name": "Python 3",
   "language": "python",
   "name": "python3"
  },
  "language_info": {
   "codemirror_mode": {
    "name": "ipython",
    "version": 3
   },
   "file_extension": ".py",
   "mimetype": "text/x-python",
   "name": "python",
   "nbconvert_exporter": "python",
   "pygments_lexer": "ipython3",
   "version": "3.4.3"
  }
 },
 "nbformat": 4,
 "nbformat_minor": 0
}
