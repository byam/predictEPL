{
 "cells": [
  {
   "cell_type": "code",
   "execution_count": 1,
   "metadata": {
    "collapsed": true
   },
   "outputs": [],
   "source": [
    "import pandas as pd\n",
    "import math\n",
    "import os\n",
    "import sys\n",
    "import time\n",
    "\n",
    "sys.path.append(\"/Users/Bya/git/predictEPL/config/\")\n",
    "sys.path.append(\"/Users/Bya/git/predictEPL/utils/\")\n",
    "\n",
    "import paths\n",
    "import useful_methods\n",
    "import names"
   ]
  },
  {
   "cell_type": "code",
   "execution_count": 2,
   "metadata": {
    "collapsed": false,
    "scrolled": true
   },
   "outputs": [
    {
     "data": {
      "text/html": [
       "<div>\n",
       "<table border=\"1\" class=\"dataframe\">\n",
       "  <thead>\n",
       "    <tr style=\"text-align: right;\">\n",
       "      <th></th>\n",
       "      <th>GW</th>\n",
       "      <th>time</th>\n",
       "      <th>team_home</th>\n",
       "      <th>team_away</th>\n",
       "      <th>score_ft_home</th>\n",
       "      <th>score_ft_away</th>\n",
       "      <th>odds_home</th>\n",
       "      <th>odds_away</th>\n",
       "      <th>odds_draw</th>\n",
       "    </tr>\n",
       "  </thead>\n",
       "  <tbody>\n",
       "    <tr>\n",
       "      <th>0</th>\n",
       "      <td>1</td>\n",
       "      <td>11:45</td>\n",
       "      <td>United</td>\n",
       "      <td>Tottenham</td>\n",
       "      <td>1</td>\n",
       "      <td>0</td>\n",
       "      <td>1.64</td>\n",
       "      <td>5.79</td>\n",
       "      <td>3.98</td>\n",
       "    </tr>\n",
       "    <tr>\n",
       "      <th>1</th>\n",
       "      <td>1</td>\n",
       "      <td>14:00</td>\n",
       "      <td>Norwich</td>\n",
       "      <td>Crystal</td>\n",
       "      <td>1</td>\n",
       "      <td>3</td>\n",
       "      <td>2.48</td>\n",
       "      <td>3.02</td>\n",
       "      <td>3.32</td>\n",
       "    </tr>\n",
       "    <tr>\n",
       "      <th>2</th>\n",
       "      <td>1</td>\n",
       "      <td>14:00</td>\n",
       "      <td>Leicester</td>\n",
       "      <td>Sunderland</td>\n",
       "      <td>4</td>\n",
       "      <td>2</td>\n",
       "      <td>1.80</td>\n",
       "      <td>4.78</td>\n",
       "      <td>3.67</td>\n",
       "    </tr>\n",
       "    <tr>\n",
       "      <th>3</th>\n",
       "      <td>1</td>\n",
       "      <td>14:00</td>\n",
       "      <td>Everton</td>\n",
       "      <td>Watford</td>\n",
       "      <td>2</td>\n",
       "      <td>2</td>\n",
       "      <td>1.80</td>\n",
       "      <td>4.88</td>\n",
       "      <td>3.64</td>\n",
       "    </tr>\n",
       "    <tr>\n",
       "      <th>4</th>\n",
       "      <td>1</td>\n",
       "      <td>14:00</td>\n",
       "      <td>Bournemouth</td>\n",
       "      <td>Villa</td>\n",
       "      <td>0</td>\n",
       "      <td>1</td>\n",
       "      <td>1.84</td>\n",
       "      <td>4.43</td>\n",
       "      <td>3.73</td>\n",
       "    </tr>\n",
       "  </tbody>\n",
       "</table>\n",
       "</div>"
      ],
      "text/plain": [
       "   GW   time    team_home   team_away score_ft_home score_ft_away odds_home  \\\n",
       "0   1  11:45       United   Tottenham             1             0      1.64   \n",
       "1   1  14:00      Norwich     Crystal             1             3      2.48   \n",
       "2   1  14:00    Leicester  Sunderland             4             2      1.80   \n",
       "3   1  14:00      Everton     Watford             2             2      1.80   \n",
       "4   1  14:00  Bournemouth       Villa             0             1      1.84   \n",
       "\n",
       "  odds_away odds_draw  \n",
       "0      5.79      3.98  \n",
       "1      3.02      3.32  \n",
       "2      4.78      3.67  \n",
       "3      4.88      3.64  \n",
       "4      4.43      3.73  "
      ]
     },
     "execution_count": 2,
     "metadata": {},
     "output_type": "execute_result"
    }
   ],
   "source": [
    "dfOdds = useful_methods.OddsPortalDf()\n",
    "dfOdds.head()"
   ]
  },
  {
   "cell_type": "code",
   "execution_count": 3,
   "metadata": {
    "collapsed": false
   },
   "outputs": [],
   "source": [
    "# Convert to Int or Float\n",
    "dfOdds['GW'] = [int(number) for number in dfOdds['GW']]\n",
    "dfOdds['score_ft_home'] = [int(number) for number in dfOdds['score_ft_home']]\n",
    "dfOdds['score_ft_away'] = [int(number) for number in dfOdds['score_ft_away']]\n",
    "dfOdds['odds_home'] = [float(number) for number in dfOdds['odds_home']]\n",
    "dfOdds['odds_away'] = [float(number) for number in dfOdds['odds_away']]\n",
    "dfOdds['odds_draw'] = [float(number) for number in dfOdds['odds_draw']]"
   ]
  },
  {
   "cell_type": "code",
   "execution_count": 16,
   "metadata": {
    "collapsed": false,
    "scrolled": true
   },
   "outputs": [
    {
     "data": {
      "text/html": [
       "<div>\n",
       "<table border=\"1\" class=\"dataframe\">\n",
       "  <thead>\n",
       "    <tr style=\"text-align: right;\">\n",
       "      <th></th>\n",
       "      <th>GW</th>\n",
       "      <th>time</th>\n",
       "      <th>team_home</th>\n",
       "      <th>team_away</th>\n",
       "      <th>score_ft_home</th>\n",
       "      <th>score_ft_away</th>\n",
       "      <th>odds_home</th>\n",
       "      <th>odds_away</th>\n",
       "      <th>odds_draw</th>\n",
       "    </tr>\n",
       "  </thead>\n",
       "  <tbody>\n",
       "    <tr>\n",
       "      <th>37</th>\n",
       "      <td>4</td>\n",
       "      <td>16:30</td>\n",
       "      <td>Tottenham</td>\n",
       "      <td>Everton</td>\n",
       "      <td>0</td>\n",
       "      <td>0</td>\n",
       "      <td>2.07</td>\n",
       "      <td>3.75</td>\n",
       "      <td>3.50</td>\n",
       "    </tr>\n",
       "    <tr>\n",
       "      <th>68</th>\n",
       "      <td>7</td>\n",
       "      <td>15:00</td>\n",
       "      <td>Watford</td>\n",
       "      <td>Crystal</td>\n",
       "      <td>0</td>\n",
       "      <td>1</td>\n",
       "      <td>2.57</td>\n",
       "      <td>2.90</td>\n",
       "      <td>3.31</td>\n",
       "    </tr>\n",
       "    <tr>\n",
       "      <th>120</th>\n",
       "      <td>13</td>\n",
       "      <td>12:45</td>\n",
       "      <td>Watford</td>\n",
       "      <td>United</td>\n",
       "      <td>1</td>\n",
       "      <td>2</td>\n",
       "      <td>4.00</td>\n",
       "      <td>2.07</td>\n",
       "      <td>3.31</td>\n",
       "    </tr>\n",
       "    <tr>\n",
       "      <th>159</th>\n",
       "      <td>16</td>\n",
       "      <td>20:00</td>\n",
       "      <td>Leicester</td>\n",
       "      <td>Chelsea</td>\n",
       "      <td>2</td>\n",
       "      <td>1</td>\n",
       "      <td>3.38</td>\n",
       "      <td>2.23</td>\n",
       "      <td>3.48</td>\n",
       "    </tr>\n",
       "  </tbody>\n",
       "</table>\n",
       "</div>"
      ],
      "text/plain": [
       "     GW   time  team_home team_away  score_ft_home  score_ft_away  odds_home  \\\n",
       "37    4  16:30  Tottenham   Everton              0              0       2.07   \n",
       "68    7  15:00    Watford   Crystal              0              1       2.57   \n",
       "120  13  12:45    Watford    United              1              2       4.00   \n",
       "159  16  20:00  Leicester   Chelsea              2              1       3.38   \n",
       "\n",
       "     odds_away  odds_draw  \n",
       "37        3.75       3.50  \n",
       "68        2.90       3.31  \n",
       "120       2.07       3.31  \n",
       "159       2.23       3.48  "
      ]
     },
     "execution_count": 16,
     "metadata": {},
     "output_type": "execute_result"
    }
   ],
   "source": [
    "dfOdds[(dfOdds.index == 37) | (dfOdds.index == 68) | (dfOdds.index == 120) | (dfOdds.index == 159)]"
   ]
  },
  {
   "cell_type": "code",
   "execution_count": 21,
   "metadata": {
    "collapsed": false
   },
   "outputs": [],
   "source": [
    "def OddsAnalysis(dfOdds):\n",
    "    # Odds: GOOD\n",
    "    odds_good = len(dfOdds[\n",
    "        # GW != [1, 2, 3, 12, 17], index != [37, 68, 120, 159]\n",
    "        (dfOdds['GW'] >= 4) & (dfOdds['GW'] != 12) & (dfOdds['GW'] != 17) &\n",
    "        (dfOdds.index != 37) & (dfOdds.index != 68) & (dfOdds.index != 120) & (dfOdds.index != 159) &\n",
    "\n",
    "        # Odds: home < away & FT: home > away\n",
    "        (((dfOdds['odds_home'] < dfOdds['odds_away']) & (dfOdds['score_ft_home'] > dfOdds['score_ft_away'])) |\n",
    "        # Odds: home > away & FT: home < away\n",
    "        ((dfOdds['odds_home'] > dfOdds['odds_away']) & (dfOdds['score_ft_home'] < dfOdds['score_ft_away'])))\n",
    "    ])\n",
    "\n",
    "    # Odds: NG\n",
    "    odds_ng = len(dfOdds[\n",
    "        # GW != [1, 2, 3, 12]\n",
    "        (dfOdds['GW'] >= 4) & (dfOdds['GW'] != 12) & (dfOdds['GW'] != 17) &\n",
    "        (dfOdds.index != 37) & (dfOdds.index != 68) & (dfOdds.index != 120) & (dfOdds.index != 159) &\n",
    "\n",
    "        # Odds: home > away & FT: home > away\n",
    "        (((dfOdds['odds_home'] > dfOdds['odds_away']) & (dfOdds['score_ft_home'] > dfOdds['score_ft_away'])) |\n",
    "        # Odds: home < away & FT: home < away\n",
    "        ((dfOdds['odds_home'] < dfOdds['odds_away']) & (dfOdds['score_ft_home'] < dfOdds['score_ft_away'])))\n",
    "    ])\n",
    "\n",
    "    # FT: DRAW\n",
    "    ft_draw = len(dfOdds[\n",
    "        # GW != [1, 2, 3, 12]\n",
    "        (dfOdds['GW'] >= 4) & (dfOdds['GW'] != 12) & (dfOdds['GW'] != 17) &\n",
    "        (dfOdds.index != 37) & (dfOdds.index != 68) & (dfOdds.index != 120) & (dfOdds.index != 159) &\n",
    "\n",
    "        # FT: home == away\n",
    "        (dfOdds['score_ft_home'] == dfOdds['score_ft_away'])\n",
    "    ])\n",
    "\n",
    "    print(\"[Odds GOOD]: %s\" %(odds_good))\n",
    "    print(\"[Odds NG]: %s\" %(odds_ng))\n",
    "    print(\"[Full-Time DRAW]: %s\" %(ft_draw))"
   ]
  },
  {
   "cell_type": "code",
   "execution_count": 22,
   "metadata": {
    "collapsed": false
   },
   "outputs": [
    {
     "name": "stdout",
     "output_type": "stream",
     "text": [
      "[Odds GOOD]: 55\n",
      "[Odds NG]: 30\n",
      "[Full-Time DRAW]: 31\n"
     ]
    }
   ],
   "source": [
    "OddsAnalysis(dfOdds)"
   ]
  }
 ],
 "metadata": {
  "kernelspec": {
   "display_name": "Python 3",
   "language": "python",
   "name": "python3"
  },
  "language_info": {
   "codemirror_mode": {
    "name": "ipython",
    "version": 3
   },
   "file_extension": ".py",
   "mimetype": "text/x-python",
   "name": "python",
   "nbconvert_exporter": "python",
   "pygments_lexer": "ipython3",
   "version": "3.4.3"
  }
 },
 "nbformat": 4,
 "nbformat_minor": 0
}
