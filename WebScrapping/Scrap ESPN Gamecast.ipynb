{
 "cells": [
  {
   "cell_type": "code",
   "execution_count": 3,
   "metadata": {
    "collapsed": true
   },
   "outputs": [],
   "source": [
    "from bs4 import BeautifulSoup\n",
    "import requests\n",
    "import pandas as pd\n",
    "import time\n",
    "import sys\n",
    "\n",
    "sys.path.append(\"/Users/Bya/git/predictEPL/config/\")\n",
    "import names\n",
    "import espn_urls"
   ]
  },
  {
   "cell_type": "code",
   "execution_count": 2,
   "metadata": {
    "collapsed": true
   },
   "outputs": [],
   "source": [
    "# Scrap ESPN's soccer live commentary report\n",
    "# input: url\n",
    "# output: Comment Status DF\n",
    "# see the matches: http://www.espnfc.us/barclays-premier-league/23/scores\n",
    "# output: dataframe, columns: ['minute', 'comment', 'side', 'comment_status']\n",
    "# side : 'home', 'away', 'both', 'neutral'\n",
    "# comment_status : 'corner', 'foul', 'goal', 'attemp', 'freekick', 'delay'\n",
    "#                  'offside', 'substitution', 'yellow_card', 'red_card', 'neutral'\n",
    "\n",
    "# input: url\n",
    "# output: home & away team names, HTML text file\n",
    "def ScrapEspnMatch(url):\n",
    "    # time measure\n",
    "    start_time = time.time()\n",
    "\n",
    "    # Request to URL\n",
    "    # if failed return nothing\n",
    "    res = requests.get(url)\n",
    "    if res.status_code != 200:\n",
    "        print(\"[Scrap Failed]: %s\" % (res.status_code))\n",
    "        return\n",
    "\n",
    "    # parse to html text\n",
    "    soup = BeautifulSoup(res.text, 'html.parser')\n",
    "\n",
    "    # Extract Home & Away team names, and change them\n",
    "    title = soup.title.string\n",
    "    home_team = title.split(' v ')[0]\n",
    "    away_team = title.split(' v ')[1].split(' live ')[0]\n",
    "    home_team = names.ChangeESPNTeamName(home_team)\n",
    "    away_team = names.ChangeESPNTeamName(away_team)\n",
    "    print(\"[Match]: %s VS %s\" % (home_team, away_team))\n",
    "\n",
    "    # print passes time\n",
    "    print(\"[Scrap Done]: %.2f sec\" % (time.time() - start_time))\n",
    "\n",
    "    return home_team, away_team, soup\n",
    "\n",
    "\n",
    "# check text include team's names\n",
    "def WhichSide(text, home_team, away_team):\n",
    "    text = text.lower()\n",
    "    home_team = home_team.lower()\n",
    "    away_team = away_team.lower()\n",
    "\n",
    "    if home_team in text and away_team in text:\n",
    "        return 'both'\n",
    "    elif home_team in text:\n",
    "        return 'home'\n",
    "    elif away_team in text:\n",
    "        return 'away'\n",
    "    else:\n",
    "        return 'neutral'\n",
    "\n",
    "\n",
    "# check text's meaning\n",
    "def CommentStatus(text):\n",
    "    text = text.lower()\n",
    "\n",
    "    if text[0:6] == 'corner':\n",
    "        return 'corner'\n",
    "    elif text[0:4] == 'foul':\n",
    "        return 'foul'\n",
    "    elif text[0:4] == 'goal' or text[0:8] == 'own goal':\n",
    "        return 'goal'\n",
    "    elif text[0:6] == 'attemp':\n",
    "        return 'attemp'\n",
    "    elif \"wins a free kick\" in text:\n",
    "        return 'freekick'\n",
    "    elif text[0:7] == 'offside':\n",
    "        return 'offside'\n",
    "    elif text[0:12] == 'substitution':\n",
    "        return 'substitution'\n",
    "    elif 'yellow card' in text:\n",
    "        return 'yellow_card'\n",
    "    elif 'red card' in text:\n",
    "        return 'red_card'\n",
    "    elif text[0:5] == 'delay':\n",
    "        return 'delay'\n",
    "    else:\n",
    "        return 'neutral'\n",
    "\n",
    "\n",
    "# Scrap ESPN's soccer live commentary report\n",
    "# input: url\n",
    "# output: Comment Status DF\n",
    "def CreateEspnLiveCommentDF(url):\n",
    "\n",
    "    home_team, away_team, soup = ScrapEspnMatch(url)\n",
    "\n",
    "    timestamps = soup.findAll(\"div\", {\"class\": \"timestamp\"})\n",
    "    comments = soup.findAll(\"div\", {\"class\": \"comment\"})\n",
    "\n",
    "    dfComments = pd.DataFrame()\n",
    "    dfComments['minute'] = [timestamps[-i-1].string[:-1] for i in range(len(timestamps))]\n",
    "    dfComments['comment'] = [comments[-i-1].string for i in range(len(comments))]\n",
    "\n",
    "    dfComments['side'] = [WhichSide(comment, home_team, away_team) for comment in dfComments['comment']]\n",
    "    dfComments['comment_status'] = [CommentStatus(comment) for comment in dfComments['comment']]\n",
    "\n",
    "    return dfComments"
   ]
  },
  {
   "cell_type": "markdown",
   "metadata": {},
   "source": [
    "# Example Usage:"
   ]
  },
  {
   "cell_type": "code",
   "execution_count": 4,
   "metadata": {
    "collapsed": false
   },
   "outputs": [
    {
     "name": "stdout",
     "output_type": "stream",
     "text": [
      "[Match]: Manchester City VS Liverpool\n",
      "[Scrap Done]: 1.25 sec\n"
     ]
    }
   ],
   "source": [
    "url = espn_urls.MatchUrl('GW13', 'City_vs_Liverpool.csv')\n",
    "df = CreateEspnLiveCommentDF(url)"
   ]
  },
  {
   "cell_type": "code",
   "execution_count": 5,
   "metadata": {
    "collapsed": false
   },
   "outputs": [
    {
     "data": {
      "text/html": [
       "<div>\n",
       "<table border=\"1\" class=\"dataframe\">\n",
       "  <thead>\n",
       "    <tr style=\"text-align: right;\">\n",
       "      <th></th>\n",
       "      <th>minute</th>\n",
       "      <th>comment</th>\n",
       "      <th>side</th>\n",
       "      <th>comment_status</th>\n",
       "    </tr>\n",
       "  </thead>\n",
       "  <tbody>\n",
       "    <tr>\n",
       "      <th>6</th>\n",
       "      <td>7</td>\n",
       "      <td>Own Goal by Eliaquim Mangala, Manchester City....</td>\n",
       "      <td>both</td>\n",
       "      <td>goal</td>\n",
       "    </tr>\n",
       "    <tr>\n",
       "      <th>14</th>\n",
       "      <td>23</td>\n",
       "      <td>Goal!  Manchester City 0, Liverpool 2. Philipp...</td>\n",
       "      <td>both</td>\n",
       "      <td>goal</td>\n",
       "    </tr>\n",
       "    <tr>\n",
       "      <th>22</th>\n",
       "      <td>32</td>\n",
       "      <td>Goal!  Manchester City 0, Liverpool 3. Roberto...</td>\n",
       "      <td>both</td>\n",
       "      <td>goal</td>\n",
       "    </tr>\n",
       "    <tr>\n",
       "      <th>31</th>\n",
       "      <td>44</td>\n",
       "      <td>Goal!  Manchester City 1, Liverpool 3. Sergio ...</td>\n",
       "      <td>both</td>\n",
       "      <td>goal</td>\n",
       "    </tr>\n",
       "    <tr>\n",
       "      <th>82</th>\n",
       "      <td>81</td>\n",
       "      <td>Goal!  Manchester City 1, Liverpool 4. Martin ...</td>\n",
       "      <td>both</td>\n",
       "      <td>goal</td>\n",
       "    </tr>\n",
       "  </tbody>\n",
       "</table>\n",
       "</div>"
      ],
      "text/plain": [
       "   minute                                            comment  side  \\\n",
       "6       7  Own Goal by Eliaquim Mangala, Manchester City....  both   \n",
       "14     23  Goal!  Manchester City 0, Liverpool 2. Philipp...  both   \n",
       "22     32  Goal!  Manchester City 0, Liverpool 3. Roberto...  both   \n",
       "31     44  Goal!  Manchester City 1, Liverpool 3. Sergio ...  both   \n",
       "82     81  Goal!  Manchester City 1, Liverpool 4. Martin ...  both   \n",
       "\n",
       "   comment_status  \n",
       "6            goal  \n",
       "14           goal  \n",
       "22           goal  \n",
       "31           goal  \n",
       "82           goal  "
      ]
     },
     "execution_count": 5,
     "metadata": {},
     "output_type": "execute_result"
    }
   ],
   "source": [
    "df[df['comment_status'] == 'goal']"
   ]
  }
 ],
 "metadata": {
  "kernelspec": {
   "display_name": "Python 3",
   "language": "python",
   "name": "python3"
  },
  "language_info": {
   "codemirror_mode": {
    "name": "ipython",
    "version": 3
   },
   "file_extension": ".py",
   "mimetype": "text/x-python",
   "name": "python",
   "nbconvert_exporter": "python",
   "pygments_lexer": "ipython3",
   "version": "3.4.3"
  }
 },
 "nbformat": 4,
 "nbformat_minor": 0
}
