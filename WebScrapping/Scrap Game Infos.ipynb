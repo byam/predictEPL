{
 "cells": [
  {
   "cell_type": "code",
   "execution_count": 27,
   "metadata": {
    "collapsed": true
   },
   "outputs": [],
   "source": [
    "from bs4 import BeautifulSoup\n",
    "import requests\n",
    "import pandas as pd\n",
    "import math\n",
    "import os\n",
    "import sys\n",
    "import time\n",
    "\n",
    "sys.path.append(\"/Users/Bya/git/predictEPL/config/\")\n",
    "sys.path.append(\"/Users/Bya/git/predictEPL/utils/\")\n",
    "\n",
    "import paths\n",
    "import useful_methods\n",
    "import names"
   ]
  },
  {
   "cell_type": "code",
   "execution_count": 4,
   "metadata": {
    "collapsed": false
   },
   "outputs": [
    {
     "name": "stdout",
     "output_type": "stream",
     "text": [
      "Status Code:  200 \n",
      "\n",
      "Page Title:  Premier League \n",
      "\n",
      "All Games:  380 \n",
      "\n",
      "[Done]: 38.744604.2\n"
     ]
    }
   ],
   "source": [
    "start_time = time.time()\n",
    "\n",
    "# All Games Results's URL\n",
    "url = \"http://www.soccerstats.com/results.asp?league=england\"\n",
    "res = requests.get(url)\n",
    "print(\"Status Code: \", res.status_code, \"\\n\")\n",
    "\n",
    "# Parse to Text\n",
    "soup = BeautifulSoup(res.text, 'html.parser')\n",
    "print(\"Page Title: \", soup.title.string, \"\\n\")\n",
    "\n",
    "# Extract all Gaems row\n",
    "games = soup.findAll(\"tr\", { \"class\" : \"odd\" })\n",
    "print(\"All Games: \", len(games), \"\\n\")\n",
    "\n",
    "# Print Time\n",
    "print(\"[Done]: %f.2\" % (time.time() - start_time))"
   ]
  },
  {
   "cell_type": "code",
   "execution_count": 28,
   "metadata": {
    "collapsed": false
   },
   "outputs": [],
   "source": [
    "def ExtractGameInfo(game):\n",
    "    tds = game.findAll(\"td\")\n",
    "    \n",
    "    # extract infos from html text\n",
    "    date = tds[0].font.string\n",
    "    time = tds[1].font.string\n",
    "\n",
    "    teams = tds[2].string.strip()\n",
    "    home_team = teams.split('-')[0].strip()\n",
    "    away_team = teams.split('-')[1].strip()\n",
    "    \n",
    "    # change team names\n",
    "    home_team = names.ChangeTeamName(home_team)\n",
    "    away_team = names.ChangeTeamName(away_team)\n",
    "\n",
    "    score_ft = tds[3].font.string\n",
    "    score_ft_home = score_ft.split('-')[0].strip()\n",
    "    score_ft_away = score_ft.split('-')[1].strip()\n",
    "\n",
    "    score_ht = tds[4].string.strip()\n",
    "    score_ht_home = score_ht.split('-')[0].strip()[1::]\n",
    "    score_ht_away = score_ht.split('-')[1].strip()[0:-1]\n",
    "    \n",
    "    game_infos = {\n",
    "        'date': date,\n",
    "        'time': time,\n",
    "        'home_team': home_team,\n",
    "        'away_team': away_team,\n",
    "        'score_ft_home': score_ft_home,\n",
    "        'score_ft_away': score_ft_away,\n",
    "        'score_ht_home': score_ht_home,\n",
    "        'score_ht_away': score_ht_away,\n",
    "    }\n",
    "    \n",
    "    return game_infos"
   ]
  },
  {
   "cell_type": "code",
   "execution_count": 29,
   "metadata": {
    "collapsed": false
   },
   "outputs": [
    {
     "name": "stdout",
     "output_type": "stream",
     "text": [
      "GW 17 's data is not yet \n",
      "\n",
      "[Saved in]: /Users/Bya/Dropbox/Research/datas/EPL/game_infos.csv\n"
     ]
    }
   ],
   "source": [
    "columns = ['GW', 'date', 'time',\n",
    "           'home_team', 'away_team',\n",
    "           'score_ht_home', 'score_ht_away',\n",
    "           'score_ft_home', 'score_ft_away',\n",
    "          ]\n",
    "\n",
    "df = pd.DataFrame(columns=columns)\n",
    "\n",
    "for g_i in range(len(games)):\n",
    "    try:\n",
    "        # extract infos\n",
    "        game_infos = ExtractGameInfo(games[g_i])\n",
    "\n",
    "        # add GW\n",
    "        game_infos['GW'] = str(math.floor(g_i / 10 + 1))\n",
    "\n",
    "        # add row to df\n",
    "        df.loc[g_i] = pd.Series(game_infos)\n",
    "    except:\n",
    "        print('GW', math.floor(g_i / 10 + 1), \"'s data is not yet \\n\")\n",
    "        break\n",
    "        \n",
    "\n",
    "# Save as CSV\n",
    "useful_methods.DFtoCSV(df, paths.READ_PATH_GAME_INFO, 'game_infos', index=False)\n",
    "print(\"[Saved in]: %s\" % (paths.READ_PATH_GAME_INFO + 'game_infos.csv'))"
   ]
  }
 ],
 "metadata": {
  "kernelspec": {
   "display_name": "Python 3",
   "language": "python",
   "name": "python3"
  },
  "language_info": {
   "codemirror_mode": {
    "name": "ipython",
    "version": 3
   },
   "file_extension": ".py",
   "mimetype": "text/x-python",
   "name": "python",
   "nbconvert_exporter": "python",
   "pygments_lexer": "ipython3",
   "version": "3.4.3"
  }
 },
 "nbformat": 4,
 "nbformat_minor": 0
}
