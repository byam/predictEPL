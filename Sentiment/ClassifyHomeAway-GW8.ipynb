{
 "cells": [
  {
   "cell_type": "code",
   "execution_count": 1,
   "metadata": {
    "collapsed": false
   },
   "outputs": [],
   "source": [
    "import os\n",
    "import csv\n",
    "from pprint import pprint\n",
    "import pandas as pd\n",
    "import pickle\n",
    "import collections"
   ]
  },
  {
   "cell_type": "code",
   "execution_count": 2,
   "metadata": {
    "collapsed": true
   },
   "outputs": [],
   "source": [
    "hashPath = \"/Users/Bya/git/EPLdata/\"\n",
    "dataPath = \"/Users/Bya/Dropbox/Research/datas/\"\n",
    "modelPath = \"/Users/Bya/Dropbox/Research/datas/Pickles/Models/\"\n",
    "tokenizerPath = \"/Users/Bya/git/predictEPL/Tokenizers/\"\n",
    "\n",
    "os.chdir(tokenizerPath)\n",
    "import sentiment_aware as sa\n",
    "os.chdir(hashPath)\n",
    "from config import Hashtags"
   ]
  },
  {
   "cell_type": "code",
   "execution_count": 3,
   "metadata": {
    "collapsed": false
   },
   "outputs": [],
   "source": [
    "model = \"MovieShortReview\"\n",
    "\n",
    "# read saved classifier\n",
    "saved_classifier_f = open(modelPath + model + \"/naiveBayes.pickle\", \"rb\")\n",
    "saved_classifier = pickle.load(saved_classifier_f)\n",
    "saved_classifier_f.close()\n",
    "\n",
    "# read saved word features\n",
    "word_features5k_f = open(modelPath + model + \"/word_features5k.pickle\", \"rb\")\n",
    "word_features = pickle.load(word_features5k_f)\n",
    "word_features5k_f.close()\n",
    "\n",
    "# Define Sentiment Tokenizer Class as tok\n",
    "tok = sa.Tokenizer(preserve_case=False)\n",
    "def find_features(document):\n",
    "    words = tok.tokenize(document)\n",
    "    features = {}\n",
    "    for w in word_features:\n",
    "        features[w] = (w in words)\n",
    "\n",
    "    return features\n",
    "\n",
    "# Define Sentiment Analysis function. Using aboves\n",
    "def sentiment(text):\n",
    "    return saved_classifier.classify(find_features(text))"
   ]
  },
  {
   "cell_type": "code",
   "execution_count": 4,
   "metadata": {
    "collapsed": false
   },
   "outputs": [],
   "source": [
    "def whichSide(tags, tags_home, tags_away):\n",
    "    tags = map(lambda tag: '#' + tag.lower(), tags)\n",
    "    if set(tags).intersection(tags_home) and set(tags).intersection(tags_away):\n",
    "        return 'both'\n",
    "    elif set(tags).intersection(tags_home):\n",
    "        return 'home'\n",
    "    elif set(tags).intersection(tags_away):\n",
    "        return 'away'\n",
    "    else:\n",
    "        return 'nothing'"
   ]
  },
  {
   "cell_type": "code",
   "execution_count": 17,
   "metadata": {
    "collapsed": false,
    "scrolled": true
   },
   "outputs": [],
   "source": [
    "# create home & away team only dataframe\n",
    "def ReadFileAsDF(fileName, saveFileName, home_team, away_team):\n",
    "    # both team hashtags\n",
    "    tags_home = Hashtags.dic[home_team]\n",
    "    tags_away = Hashtags.dic[away_team]\n",
    "\n",
    "    # read file as dataframe, and add 'side' column that shows which team's tweet it is \n",
    "    dfTweets = pd.read_csv(fileName, header=None, names=['date', 'text', 'user', 'tags'])\n",
    "    dfTweets['side'] = map(lambda tags: whichSide(tags, tags_home, tags_away), map(lambda tag: tag.split(','), dfTweets['tags']))\n",
    "    \n",
    "    # count tweets\n",
    "    sides = ['home', 'away', 'both', 'nothing']\n",
    "    numSides =  map(lambda side: (side, len(dfTweets[dfTweets[\"side\"] == side])), sides)\n",
    "    ListNumSides = [home_team, away_team, numSides[0][1], numSides[1][1], numSides[2][1], numSides[3][1]]\n",
    "    \n",
    "    # save tweets ratio\n",
    "    os.chdir(\"/Users/Bya/Dropbox/Research/datas/Results/\")\n",
    "    listSaveTweetRatioFileName = saveFileName + '_tweet_ratio'\n",
    "    ListSaveToCSV(listSaveTweetRatioFileName, ListNumSides)\n",
    "    \n",
    "    dfHomeTweets = dfTweets[dfTweets[\"side\"] == 'home']\n",
    "    dfAwayTweets = dfTweets[dfTweets[\"side\"] == 'away']\n",
    "    dfHomeTweets = pd.DataFrame(dfHomeTweets.values, range(len(dfHomeTweets)), dfHomeTweets.columns)\n",
    "    dfAwayTweets = pd.DataFrame(dfAwayTweets.values, range(len(dfAwayTweets)), dfAwayTweets.columns)\n",
    "    \n",
    "    return dfHomeTweets, dfAwayTweets"
   ]
  },
  {
   "cell_type": "code",
   "execution_count": 6,
   "metadata": {
    "collapsed": false
   },
   "outputs": [],
   "source": [
    "# Tweeter date to Seconds\n",
    "# ex: 'Sun Aug 30 12:31:11 +0000 2015' --> 12:31:11\n",
    "def DateConverterToSeconds(tweetTimeStr):\n",
    "    hour = int(tweetTimeStr[11:13]) * 3600\n",
    "    minute = int(tweetTimeStr[14:16]) * 60\n",
    "    second = int(tweetTimeStr[17:19]) * 1\n",
    "   \n",
    "    return hour + minute + second"
   ]
  },
  {
   "cell_type": "code",
   "execution_count": 7,
   "metadata": {
    "collapsed": false,
    "scrolled": true
   },
   "outputs": [],
   "source": [
    "# Create DataFrames for home and away tweets\n",
    "def SentimentHomeAway(dfHomeTweets, dfAwayTweets, sentSaveFileName):\n",
    "    home_sent = map(lambda tweet: sentiment(tweet), dfHomeTweets[\"text\"])\n",
    "    away_sent = map(lambda tweet: sentiment(tweet), dfAwayTweets[\"text\"])\n",
    "    \n",
    "    home_date = map(lambda date: DateConverterToSeconds(date), dfHomeTweets[\"date\"])\n",
    "    away_date = map(lambda date: DateConverterToSeconds(date), dfAwayTweets[\"date\"])\n",
    "    \n",
    "    for i in range(len(home_sent)):\n",
    "        os.chdir(\"/Users/Bya/Dropbox/Research/datas/Results/\")\n",
    "        listTimeSent = [home_date[i], home_sent[i]]\n",
    "        ListSaveToCSV(sentSaveFileName, listTimeSent)\n",
    "    \n",
    "    for i in range(len(away_sent)):\n",
    "        os.chdir(\"/Users/Bya/Dropbox/Research/datas/Results/\")\n",
    "        listTimeSent = [away_date[i], away_sent[i]]\n",
    "        ListSaveToCSV(sentSaveFileName, listTimeSent)\n",
    "    \n",
    "    return [collections.Counter(home_sent)['pos'], \n",
    "            collections.Counter(home_sent)['neg'],\n",
    "            collections.Counter(away_sent)['pos'],\n",
    "            collections.Counter(away_sent)['neg']]"
   ]
  },
  {
   "cell_type": "code",
   "execution_count": 8,
   "metadata": {
    "collapsed": true
   },
   "outputs": [],
   "source": [
    "# Save the dictionary values to file\n",
    "def ListSaveToCSV(fileName, myList):\n",
    "    with open(fileName + '.csv', 'a') as f:\n",
    "        writer = csv.writer(f, quoting=csv.QUOTE_ALL)\n",
    "        writer.writerow(myList)"
   ]
  },
  {
   "cell_type": "code",
   "execution_count": 9,
   "metadata": {
    "collapsed": false
   },
   "outputs": [],
   "source": [
    "# classify game tweets as pos & neg\n",
    "def GameNegPos(game, loadFileName, saveFileName):\n",
    "    \n",
    "    home_team = game[0]\n",
    "    away_team = game[1]\n",
    "\n",
    "    dfHome, dfAway = ReadFileAsDF(loadFileName, saveFileName, home_team, away_team)\n",
    "    \n",
    "    sentSaveFileName = 'sent_' + saveFileName + '_' + home_team + '_' + away_team\n",
    "    \n",
    "    listResSent = SentimentHomeAway(dfHome, dfAway, sentSaveFileName)\n",
    "    listResGame = [home_team, away_team] + listResSent\n",
    "\n",
    "    os.chdir(\"/Users/Bya/Dropbox/Research/datas/Results/\")\n",
    "    ListSaveToCSV(saveFileName, listResGame)"
   ]
  },
  {
   "cell_type": "code",
   "execution_count": 11,
   "metadata": {
    "collapsed": true
   },
   "outputs": [],
   "source": [
    "Bournemouth = 'Bournemouth'\n",
    "Arsenal = 'Arsenal'\n",
    "Villa = 'Villa'\n",
    "Chelsea = 'Chelsea'\n",
    "Crystal = 'Crystal'\n",
    "Everton = 'Everton'\n",
    "Leicester = 'Leicester'\n",
    "Liverpool = 'Liverpool'\n",
    "City = 'City'\n",
    "United = 'United'\n",
    "Newcastle = 'Newcastle'\n",
    "Norwich = 'Norwich'\n",
    "Southampton = 'Southampton'\n",
    "Stoke = 'Stoke'\n",
    "Sunderland = 'Sunderland'\n",
    "Swansea = 'Swansea'\n",
    "Tottenham = 'Tottenham'\n",
    "Watford = 'Watford'\n",
    "WestBromwich = 'WestBromwich'\n",
    "WestHam = 'WestHam'"
   ]
  },
  {
   "cell_type": "code",
   "execution_count": 19,
   "metadata": {
    "collapsed": false
   },
   "outputs": [],
   "source": [
    "listGamesW8 = [(Crystal, WestBromwich),\n",
    "               \n",
    "               (Villa, Stoke),\n",
    "               (Bournemouth, Watford),\n",
    "               (City, Newcastle),\n",
    "               (Norwich, Leicester),\n",
    "               (Sunderland, WestHam),\n",
    "               \n",
    "               (Chelsea, Southampton),\n",
    "               \n",
    "               (Everton, Liverpool),\n",
    "               \n",
    "               (Arsenal, United),\n",
    "               (Swansea, Tottenham)]\n",
    "\n",
    "loadFileNameGW8 = [\"/Users/Bya/Dropbox/Research/datas/GW8/game1_json.txt.csv\",\n",
    "                   \n",
    "                   \"/Users/Bya/Dropbox/Research/datas/GW8/game2_6_json.txt.csv\",\n",
    "                   \"/Users/Bya/Dropbox/Research/datas/GW8/game2_6_json.txt.csv\",\n",
    "                   \"/Users/Bya/Dropbox/Research/datas/GW8/game2_6_json.txt.csv\",\n",
    "                   \"/Users/Bya/Dropbox/Research/datas/GW8/game2_6_json.txt.csv\",\n",
    "                   \"/Users/Bya/Dropbox/Research/datas/GW8/game2_6_json.txt.csv\",\n",
    "                   \n",
    "                   \"/Users/Bya/Dropbox/Research/datas/GW8/game7_json.txt.csv\",\n",
    "                   \n",
    "                   \"/Users/Bya/Dropbox/Research/datas/GW8/game8_json.txt.csv\",\n",
    "                   \n",
    "                   \"/Users/Bya/Dropbox/Research/datas/GW8/game9_10_json.txt.csv\",\n",
    "                   \"/Users/Bya/Dropbox/Research/datas/GW8/game9_10_json.txt.csv\"]\n",
    "\n",
    "saveFileNameGW8 = 'GW8'\n",
    "\n",
    "for i in range(len(listGamesW8)):\n",
    "#     print(listGamesW8[i], loadFileNameGW8[i], saveFileNameGW8)\n",
    "    GameNegPos(listGamesW8[i], loadFileNameGW8[i], saveFileNameGW8)\n"
   ]
  }
 ],
 "metadata": {
  "kernelspec": {
   "display_name": "Python 2",
   "language": "python",
   "name": "python2"
  },
  "language_info": {
   "codemirror_mode": {
    "name": "ipython",
    "version": 2
   },
   "file_extension": ".py",
   "mimetype": "text/x-python",
   "name": "python",
   "nbconvert_exporter": "python",
   "pygments_lexer": "ipython2",
   "version": "2.7.10"
  }
 },
 "nbformat": 4,
 "nbformat_minor": 0
}
