{
 "cells": [
  {
   "cell_type": "code",
   "execution_count": 1,
   "metadata": {
    "collapsed": false
   },
   "outputs": [],
   "source": [
    "import os\n",
    "os.chdir('/Users/Bya/git/predictEPL/MyFunctions/')\n",
    "\n",
    "from classifiers import nb_swn, createTuples, Teams\n",
    "import dataIO\n",
    "import pandas as pd\n",
    "import time"
   ]
  },
  {
   "cell_type": "code",
   "execution_count": 2,
   "metadata": {
    "collapsed": false,
    "scrolled": false
   },
   "outputs": [],
   "source": [
    "def preprocess(x):\n",
    "    # 不要な行, 列のフィルタなど、データサイズを削減する処理\n",
    "    return x\n",
    "\n",
    "def tweetSentiment(home_team, away_team, GW):\n",
    "    filePath = '/Users/Bya/Dropbox/Research/datas/' + GW +'/SingleGames/' + home_team + '_vs_' + away_team + '.csv'\n",
    "    \n",
    "    reader = pd.read_csv(filePath, chunksize=1000)\n",
    "    dfHA = pd.concat((preprocess(r) for r in reader), ignore_index=True)\n",
    "\n",
    "    dfHA['nb'] = None\n",
    "    dfHA['nb_pos'] = None\n",
    "    dfHA['nb_neg'] = None\n",
    "    \n",
    "    dfHA['swn'] = None\n",
    "    dfHA['swn_pos'] = None\n",
    "    dfHA['swn_neg'] = None\n",
    "    dfHA['swn_obj'] = None\n",
    "    \n",
    "    for row in dfHA.iterrows():\n",
    "        tweet = row[1]['text']\n",
    "        \n",
    "        try:\n",
    "            nb, nb_pos, nb_neg, swn, swn_pos, swn_neg, swn_obj = nb_swn(tweet)\n",
    "        except:\n",
    "            nb, nb_pos, nb_neg, swn, swn_pos, swn_neg, swn_obj = 0, 0, 0, 0, 0, 0, 0\n",
    "\n",
    "\n",
    "        row[1]['nb'] = nb\n",
    "        row[1]['nb_pos'] = nb_pos\n",
    "        row[1]['nb_neg'] = nb_neg\n",
    "        row[1]['swn'] = swn\n",
    "        row[1]['swn_pos'] = swn_pos\n",
    "        row[1]['swn_neg'] = swn_neg\n",
    "        row[1]['swn_obj'] = swn_obj\n",
    "    \n",
    "    savePath = '/Users/Bya/Dropbox/Research/datas/Results/NB_SWN/' + GW\n",
    "    dataIO.DFtoCSV(dfHA, savePath, home_team + \"_vs_\" + away_team, False)"
   ]
  },
  {
   "cell_type": "code",
   "execution_count": 3,
   "metadata": {
    "collapsed": false
   },
   "outputs": [],
   "source": [
    "team = Teams()\n",
    "weekGames = [\n",
    "    team.Tottenham, team.City,\n",
    "    \n",
    "    team.Leicester, team.Arsenal,\n",
    "    team.Liverpool, team.Villa,\n",
    "    team.United, team.Sunderland,\n",
    "    team.Southampton, team.Swansea,\n",
    "    team.Stoke, team.Bournemouth,\n",
    "    team.WestHam, team.Norwich,\n",
    "    \n",
    "    team.Newcastle, team.Chelsea,\n",
    "    \n",
    "    team.Watford, team.Crystal,\n",
    "    \n",
    "    team.WestBromwich, team.Everton,\n",
    "            ]"
   ]
  },
  {
   "cell_type": "code",
   "execution_count": null,
   "metadata": {
    "collapsed": false
   },
   "outputs": [],
   "source": [
    "weekGames = createTuples(weekGames)\n",
    "\n",
    "GW = 'GW7'\n",
    "\n",
    "t1 = time.time()\n",
    "\n",
    "for game in weekGames:\n",
    "    t2 = time.time()\n",
    "    home_team = game[0]\n",
    "    away_team = game[1]\n",
    "\n",
    "    tweetSentiment(home_team, away_team, GW)\n",
    "    print(\"%s Time: %s\" % (game, time.time() - t2))\n",
    "\n",
    "print(\"Time: %s\" % (time.time() - t1))"
   ]
  },
  {
   "cell_type": "code",
   "execution_count": null,
   "metadata": {
    "collapsed": true
   },
   "outputs": [],
   "source": []
  }
 ],
 "metadata": {
  "kernelspec": {
   "display_name": "Python 3",
   "language": "python",
   "name": "python3"
  },
  "language_info": {
   "codemirror_mode": {
    "name": "ipython",
    "version": 3
   },
   "file_extension": ".py",
   "mimetype": "text/x-python",
   "name": "python",
   "nbconvert_exporter": "python",
   "pygments_lexer": "ipython3",
   "version": "3.4.3"
  }
 },
 "nbformat": 4,
 "nbformat_minor": 0
}
