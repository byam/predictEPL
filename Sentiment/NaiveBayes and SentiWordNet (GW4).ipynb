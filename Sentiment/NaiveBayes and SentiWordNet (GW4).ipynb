{
 "cells": [
  {
   "cell_type": "code",
   "execution_count": 1,
   "metadata": {
    "collapsed": false
   },
   "outputs": [],
   "source": [
    "import os\n",
    "os.chdir('/Users/Bya/git/predictEPL/MyFunctions/')\n",
    "\n",
    "from classifiers import nb_swn, createTuples, Teams\n",
    "import dataIO\n",
    "import pandas as pd\n",
    "import time"
   ]
  },
  {
   "cell_type": "code",
   "execution_count": 2,
   "metadata": {
    "collapsed": false,
    "scrolled": false
   },
   "outputs": [],
   "source": [
    "def tweetSentiment(home_team, away_team, GW):\n",
    "    filePath = '/Users/Bya/Dropbox/Research/datas/' + GW +'/SingleGames/' + home_team + '_vs_' + away_team + '.csv'\n",
    "    dfHA = pd.read_csv(filePath)\n",
    "\n",
    "    dfHA['nb'] = None\n",
    "    dfHA['nb_pos'] = None\n",
    "    dfHA['nb_neg'] = None\n",
    "    \n",
    "    dfHA['swn'] = None\n",
    "    dfHA['swn_pos'] = None\n",
    "    dfHA['swn_neg'] = None\n",
    "    dfHA['swn_obj'] = None\n",
    "    \n",
    "    for row in dfHA.iterrows():\n",
    "        tweet = row[1]['text']\n",
    "        \n",
    "        try:\n",
    "            nb, nb_pos, nb_neg, swn, swn_pos, swn_neg, swn_obj = nb_swn(tweet)\n",
    "        except:\n",
    "            nb, nb_pos, nb_neg, swn, swn_pos, swn_neg, swn_obj = 0, 0, 0, 0, 0, 0, 0\n",
    "\n",
    "\n",
    "        row[1]['nb'] = nb\n",
    "        row[1]['nb_pos'] = nb_pos\n",
    "        row[1]['nb_neg'] = nb_neg\n",
    "        row[1]['swn'] = swn\n",
    "        row[1]['swn_pos'] = swn_pos\n",
    "        row[1]['swn_neg'] = swn_neg\n",
    "        row[1]['swn_obj'] = swn_obj\n",
    "    \n",
    "    savePath = '/Users/Bya/Dropbox/Research/datas/Results/NB_SWN/' + GW\n",
    "    dataIO.DFtoCSV(dfHA, savePath, home_team + \"_vs_\" + away_team, False)"
   ]
  },
  {
   "cell_type": "code",
   "execution_count": 3,
   "metadata": {
    "collapsed": false
   },
   "outputs": [],
   "source": [
    "team = Teams()\n",
    "weekGames = [\n",
    "    team.Newcastle, team.Arsenal,\n",
    "    \n",
    "    team.Villa, team.Sunderland,\n",
    "    team.Bournemouth, team.Leicester,\n",
    "    team.Chelsea, team.Crystal,\n",
    "    team.Liverpool, team.WestHam,\n",
    "    team.City, team.Watford,\n",
    "    team.Stoke, team.WestBromwich,\n",
    "    \n",
    "#     team.Tottenham, team.Everton,\n",
    "    team.Southampton, team.Norwich,\n",
    "    team.Swansea, team.United,\n",
    "            ]"
   ]
  },
  {
   "cell_type": "code",
   "execution_count": 4,
   "metadata": {
    "collapsed": false
   },
   "outputs": [
    {
     "name": "stdout",
     "output_type": "stream",
     "text": [
      "('Newcastle', 'Arsenal') Time: 33.53845691680908\n",
      "('Villa', 'Sunderland') Time: 3.701535940170288\n",
      "('Bournemouth', 'Leicester') Time: 3.0506131649017334\n",
      "('Chelsea', 'Crystal') Time: 10.10579800605774\n",
      "('Liverpool', 'WestHam') Time: 25.26260209083557\n",
      "('City', 'Watford') Time: 9.148452043533325\n",
      "('Stoke', 'WestBromwich') Time: 5.399432897567749\n",
      "('Southampton', 'Norwich') Time: 11.143220901489258\n",
      "('Swansea', 'United') Time: 52.58170485496521\n",
      "Time: 153.9379382133484\n"
     ]
    }
   ],
   "source": [
    "weekGames = createTuples(weekGames)\n",
    "\n",
    "GW = 'GW4'\n",
    "\n",
    "t1 = time.time()\n",
    "\n",
    "for game in weekGames:\n",
    "    t2 = time.time()\n",
    "    home_team = game[0]\n",
    "    away_team = game[1]\n",
    "\n",
    "    tweetSentiment(home_team, away_team, GW)\n",
    "    print(\"%s Time: %s\" % (game, time.time() - t2))\n",
    "\n",
    "print(\"Time: %s\" % (time.time() - t1))"
   ]
  }
 ],
 "metadata": {
  "kernelspec": {
   "display_name": "Python 3",
   "language": "python",
   "name": "python3"
  },
  "language_info": {
   "codemirror_mode": {
    "name": "ipython",
    "version": 3
   },
   "file_extension": ".py",
   "mimetype": "text/x-python",
   "name": "python",
   "nbconvert_exporter": "python",
   "pygments_lexer": "ipython3",
   "version": "3.4.3"
  }
 },
 "nbformat": 4,
 "nbformat_minor": 0
}
