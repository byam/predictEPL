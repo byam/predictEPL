{
 "cells": [
  {
   "cell_type": "code",
   "execution_count": 1,
   "metadata": {
    "collapsed": false
   },
   "outputs": [],
   "source": [
    "import os\n",
    "import csv\n",
    "from pprint import pprint\n",
    "import pandas as pd\n",
    "import pickle\n",
    "import collections"
   ]
  },
  {
   "cell_type": "code",
   "execution_count": 2,
   "metadata": {
    "collapsed": true
   },
   "outputs": [],
   "source": [
    "hashPath = \"/Users/Bya/git/EPLdata/\"\n",
    "dataPath = \"/Users/Bya/Dropbox/Research/datas/\"\n",
    "modelPath = \"/Users/Bya/Dropbox/Research/datas/Pickles/Models/\"\n",
    "tokenizerPath = \"/Users/Bya/git/predictEPL/Tokenizers/\"\n",
    "\n",
    "os.chdir(tokenizerPath)\n",
    "import sentiment_aware as sa\n",
    "os.chdir(hashPath)\n",
    "from config import Hashtags"
   ]
  },
  {
   "cell_type": "code",
   "execution_count": 3,
   "metadata": {
    "collapsed": false
   },
   "outputs": [],
   "source": [
    "model = \"MovieShortReview\"\n",
    "\n",
    "# read saved classifier\n",
    "saved_classifier_f = open(modelPath + model + \"/naiveBayes.pickle\", \"rb\")\n",
    "saved_classifier = pickle.load(saved_classifier_f)\n",
    "saved_classifier_f.close()\n",
    "\n",
    "# read saved word features\n",
    "word_features5k_f = open(modelPath + model + \"/word_features5k.pickle\", \"rb\")\n",
    "word_features = pickle.load(word_features5k_f)\n",
    "word_features5k_f.close()\n",
    "\n",
    "# Define Sentiment Tokenizer Class as tok\n",
    "tok = sa.Tokenizer(preserve_case=False)\n",
    "def find_features(document):\n",
    "    words = tok.tokenize(document)\n",
    "    features = {}\n",
    "    for w in word_features:\n",
    "        features[w] = (w in words)\n",
    "\n",
    "    return features\n",
    "\n",
    "# Define Sentiment Analysis function. Using aboves\n",
    "def sentiment(text):\n",
    "    return saved_classifier.classify(find_features(text))"
   ]
  },
  {
   "cell_type": "code",
   "execution_count": 4,
   "metadata": {
    "collapsed": false
   },
   "outputs": [],
   "source": [
    "def whichSide(tags, tags_home, tags_away):\n",
    "    tags = map(lambda tag: '#' + tag.lower(), tags)\n",
    "    if set(tags).intersection(tags_home) and set(tags).intersection(tags_away):\n",
    "        return 'both'\n",
    "    elif set(tags).intersection(tags_home):\n",
    "        return 'home'\n",
    "    elif set(tags).intersection(tags_away):\n",
    "        return 'away'\n",
    "    else:\n",
    "        return 'nothing'"
   ]
  },
  {
   "cell_type": "code",
   "execution_count": 5,
   "metadata": {
    "collapsed": false,
    "scrolled": true
   },
   "outputs": [],
   "source": [
    "def ReadFileAsDF(fileName, home_team, away_team):\n",
    "    # both team hashtags\n",
    "    tags_home = Hashtags.dic[home_team]\n",
    "    tags_away = Hashtags.dic[away_team]\n",
    "\n",
    "    # read file as dataframe, and add 'side' column that shows which team's tweet it is \n",
    "    dfTweets = pd.read_csv(fileName, header=None, names=['date', 'text', 'user', 'tags'])\n",
    "    dfTweets['side'] = map(lambda tags: whichSide(tags, tags_home, tags_away), map(lambda tag: tag.split(','), dfTweets['tags']))\n",
    "    \n",
    "    # count tweets\n",
    "    sides = ['home', 'away', 'both', 'nothing']\n",
    "    numSides =  map(lambda side: (side, len(dfTweets[dfTweets[\"side\"] == side])), sides)\n",
    "    print numSides\n",
    "    \n",
    "    dfHomeTweets = dfTweets[dfTweets[\"side\"] == 'home']\n",
    "    dfAwayTweets = dfTweets[dfTweets[\"side\"] == 'away']\n",
    "    dfHomeTweets = pd.DataFrame(dfHomeTweets.values, range(len(dfHomeTweets)), dfHomeTweets.columns)\n",
    "    dfAwayTweets = pd.DataFrame(dfAwayTweets.values, range(len(dfAwayTweets)), dfAwayTweets.columns)\n",
    "    \n",
    "    return dfHomeTweets, dfAwayTweets"
   ]
  },
  {
   "cell_type": "code",
   "execution_count": 6,
   "metadata": {
    "collapsed": false,
    "scrolled": true
   },
   "outputs": [],
   "source": [
    "# Create DataFrames for home and away tweets\n",
    "def SentimentHomeAway(dfHomeTweets, dfAwayTweets):\n",
    "    home_sent = map(lambda tweet: sentiment(tweet), dfHomeTweets[\"text\"])\n",
    "    away_sent = map(lambda tweet: sentiment(tweet), dfAwayTweets[\"text\"])\n",
    "    \n",
    "    return [collections.Counter(home_sent)['pos'], \n",
    "            collections.Counter(home_sent)['neg'],\n",
    "            collections.Counter(away_sent)['pos'],\n",
    "            collections.Counter(away_sent)['neg']]"
   ]
  },
  {
   "cell_type": "code",
   "execution_count": 7,
   "metadata": {
    "collapsed": true
   },
   "outputs": [],
   "source": [
    "# Save the dictionary values to file\n",
    "def ListSaveToCSV(fileName, myList):\n",
    "    with open(fileName + '.csv', 'a') as f:\n",
    "        writer = csv.writer(f, quoting=csv.QUOTE_ALL)\n",
    "        writer.writerow(myList)"
   ]
  },
  {
   "cell_type": "code",
   "execution_count": 8,
   "metadata": {
    "collapsed": false
   },
   "outputs": [],
   "source": [
    "def GameNegPos(game, loadFileName, saveFileName):\n",
    "    \n",
    "    home_team = game[0]\n",
    "    away_team = game[1]\n",
    "\n",
    "    dfHome, dfAway = ReadFileAsDF(loadFileName, home_team, away_team)\n",
    "    \n",
    "    listResSent = SentimentHomeAway(dfHome, dfAway)\n",
    "    listResGame = [home_team, away_team] + listResSent\n",
    "\n",
    "    os.chdir(\"/Users/Bya/Dropbox/Research/datas/Results/\")\n",
    "    ListSaveToCSV(saveFileName, listResGame)"
   ]
  },
  {
   "cell_type": "code",
   "execution_count": 10,
   "metadata": {
    "collapsed": false
   },
   "outputs": [
    {
     "name": "stdout",
     "output_type": "stream",
     "text": [
      "[('home', 7120), ('away', 5435), ('both', 6989), ('nothing', 44)]\n",
      "[('home', 766), ('away', 459), ('both', 1092), ('nothing', 11446)]\n",
      "[('home', 1065), ('away', 1261), ('both', 858), ('nothing', 10579)]\n",
      "[('home', 3962), ('away', 1178), ('both', 504), ('nothing', 8119)]\n",
      "[('home', 506), ('away', 639), ('both', 1254), ('nothing', 11364)]\n",
      "[('home', 146), ('away', 593), ('both', 396), ('nothing', 12628)]\n",
      "[('home', 6579), ('away', 4148), ('both', 2062), ('nothing', 24)]\n",
      "[('home', 2323), ('away', 41), ('both', 623), ('nothing', 2)]\n",
      "[('home', 7869), ('away', 430), ('both', 2091), ('nothing', 43548)]\n",
      "[('home', 1018), ('away', 38673), ('both', 3825), ('nothing', 10422)]\n"
     ]
    }
   ],
   "source": [
    "listGamesW6 = [('Chelsea', 'Arsenal'),\n",
    "               \n",
    "               ('Villa', 'WestBromwich'),\n",
    "               ('Bournemouth', 'Sunderland'),\n",
    "               ('Newcastle', 'Watford'),\n",
    "               ('Stoke', 'Leicester'),\n",
    "               ('Swansea', 'Everton'),\n",
    "               \n",
    "               ('City', 'WestHam'),\n",
    "               \n",
    "               ('Tottenham', 'Crystal'),\n",
    "               \n",
    "               ('Liverpool', 'Norwich'),\n",
    "               ('Southampton', 'United')]\n",
    "\n",
    "loadFileNameGW6 = [\"/Users/Bya/Dropbox/Research/datas/GW6/1509192045_CFCvsARSENAL_json.txt.csv\",\n",
    "                   \n",
    "                   \"/Users/Bya/Dropbox/Research/datas/GW6/1509192300_5matches_json.txt.csv\",\n",
    "                   \"/Users/Bya/Dropbox/Research/datas/GW6/1509192300_5matches_json.txt.csv\",\n",
    "                   \"/Users/Bya/Dropbox/Research/datas/GW6/1509192300_5matches_json.txt.csv\",\n",
    "                   \"/Users/Bya/Dropbox/Research/datas/GW6/1509192300_5matches_json.txt.csv\",\n",
    "                   \"/Users/Bya/Dropbox/Research/datas/GW6/1509192300_5matches_json.txt.csv\",\n",
    "\n",
    "                   \"/Users/Bya/Dropbox/Research/datas/GW6/1509200130_MCFCvsWHU_json.txt.csv\",\n",
    "                   \n",
    "                   \"/Users/Bya/Dropbox/Research/datas/GW6/1509202130_COYSvsCPFC_json.txt.csv\",\n",
    "                   \n",
    "                   \"/Users/Bya/Dropbox/Research/datas/GW6/1509210000_2matches_json.txt.csv\",\n",
    "                   \"/Users/Bya/Dropbox/Research/datas/GW6/1509210000_2matches_json.txt.csv\",]\n",
    "\n",
    "saveFileNameGW6 = 'GW6'\n",
    "\n",
    "for i in range(len(listGamesW6)):\n",
    "#     print(listGamesW6[i], loadFileNameGW6[i], saveFileNameGW6)\n",
    "    GameNegPos(listGamesW6[i], loadFileNameGW6[i], saveFileNameGW6)"
   ]
  },
  {
   "cell_type": "code",
   "execution_count": 84,
   "metadata": {
    "collapsed": false
   },
   "outputs": [],
   "source": [
    "# 'Bournemouth'\n",
    "# 'Arsenal'\n",
    "# 'Villa'\n",
    "# 'Chelsea'\n",
    "# 'Crystal'\n",
    "# 'Everton'\n",
    "# 'Leicester'\n",
    "# 'Liverpool'\n",
    "# 'City'\n",
    "# 'United'\n",
    "# 'Newcastle'\n",
    "# 'Norwich'\n",
    "# 'Southampton'\n",
    "# 'Stoke'\n",
    "# 'Sunderland'\n",
    "# 'Swansea'\n",
    "# 'Tottenham'\n",
    "# 'Watford'\n",
    "# 'WestBromwich'\n",
    "# 'WestHam'"
   ]
  }
 ],
 "metadata": {
  "kernelspec": {
   "display_name": "Python 2",
   "language": "python",
   "name": "python2"
  },
  "language_info": {
   "codemirror_mode": {
    "name": "ipython",
    "version": 2
   },
   "file_extension": ".py",
   "mimetype": "text/x-python",
   "name": "python",
   "nbconvert_exporter": "python",
   "pygments_lexer": "ipython2",
   "version": "2.7.10"
  }
 },
 "nbformat": 4,
 "nbformat_minor": 0
}
