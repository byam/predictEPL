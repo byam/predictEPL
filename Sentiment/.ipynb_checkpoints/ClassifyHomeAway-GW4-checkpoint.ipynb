{
 "cells": [
  {
   "cell_type": "code",
   "execution_count": 1,
   "metadata": {
    "collapsed": false
   },
   "outputs": [],
   "source": [
    "import os\n",
    "import csv\n",
    "from pprint import pprint\n",
    "import pandas as pd\n",
    "import pickle\n",
    "import collections"
   ]
  },
  {
   "cell_type": "code",
   "execution_count": 2,
   "metadata": {
    "collapsed": true
   },
   "outputs": [],
   "source": [
    "hashPath = \"/Users/Bya/git/EPLdata/\"\n",
    "dataPath = \"/Users/Bya/Dropbox/Research/datas/\"\n",
    "modelPath = \"/Users/Bya/Dropbox/Research/datas/Pickles/Models/\"\n",
    "tokenizerPath = \"/Users/Bya/git/predictEPL/Tokenizers/\"\n",
    "\n",
    "os.chdir(tokenizerPath)\n",
    "import sentiment_aware as sa\n",
    "os.chdir(hashPath)\n",
    "from config import Hashtags"
   ]
  },
  {
   "cell_type": "code",
   "execution_count": 3,
   "metadata": {
    "collapsed": false
   },
   "outputs": [],
   "source": [
    "def whichSide(tags, tags_home, tags_away):\n",
    "    tags = map(lambda tag: '#' + tag.lower(), tags)\n",
    "    if set(tags).intersection(tags_home) and set(tags).intersection(tags_away):\n",
    "        return 'both'\n",
    "    elif set(tags).intersection(tags_home):\n",
    "        return 'home'\n",
    "    elif set(tags).intersection(tags_away):\n",
    "        return 'away'\n",
    "    else:\n",
    "        return 'nothing'"
   ]
  },
  {
   "cell_type": "code",
   "execution_count": 7,
   "metadata": {
    "collapsed": false,
    "scrolled": true
   },
   "outputs": [],
   "source": [
    "def ReadFileAsDF(fileName, home_team, away_team):\n",
    "    # both team hashtags\n",
    "    tags_home = Hashtags.dic[home_team]\n",
    "    tags_away = Hashtags.dic[away_team]\n",
    "\n",
    "    # read file as dataframe, and add 'side' column that shows which team's tweet it is \n",
    "    dfTweets = pd.read_csv(fileName, header=None, names=['date', 'text', 'user', 'tags'])\n",
    "    dfTweets['side'] = map(lambda tags: whichSide(tags, tags_home, tags_away), map(lambda tag: tag.split(','), dfTweets['tags']))\n",
    "    \n",
    "    # count tweets\n",
    "    sides = ['home', 'away', 'both', 'nothing']\n",
    "    numSides =  map(lambda side: (side, len(dfTweets[dfTweets[\"side\"] == side])), sides)\n",
    "    print numSides\n",
    "    \n",
    "    return dfTweets"
   ]
  },
  {
   "cell_type": "code",
   "execution_count": 14,
   "metadata": {
    "collapsed": false
   },
   "outputs": [],
   "source": [
    "home = 'Southampton'\n",
    "away = 'Norwich'\n",
    "fname = \"/Users/Bya/Dropbox/Research/datas/sample.csv\"\n",
    "model = \"MovieShortReview\""
   ]
  },
  {
   "cell_type": "code",
   "execution_count": 19,
   "metadata": {
    "collapsed": false
   },
   "outputs": [],
   "source": [
    "# read saved classifier\n",
    "saved_classifier_f = open(modelPath + model + \"/naiveBayes.pickle\", \"rb\")\n",
    "saved_classifier = pickle.load(saved_classifier_f)\n",
    "saved_classifier_f.close()\n",
    "\n",
    "# read saved word features\n",
    "word_features5k_f = open(modelPath + model + \"/word_features5k.pickle\", \"rb\")\n",
    "word_features = pickle.load(word_features5k_f)\n",
    "word_features5k_f.close()\n",
    "\n",
    "# Define Sentiment Tokenizer Class as tok\n",
    "tok = sa.Tokenizer(preserve_case=False)\n",
    "def find_features(document):\n",
    "    words = tok.tokenize(document)\n",
    "    features = {}\n",
    "    for w in word_features:\n",
    "        features[w] = (w in words)\n",
    "\n",
    "    return features\n",
    "\n",
    "# Define Sentiment Analysis function. Using aboves\n",
    "def sentiment(text):\n",
    "    return saved_classifier.classify(find_features(text))"
   ]
  },
  {
   "cell_type": "code",
   "execution_count": 20,
   "metadata": {
    "collapsed": false,
    "scrolled": true
   },
   "outputs": [],
   "source": [
    "# Create DataFrames for home and away tweets\n",
    "def SentimentHomeAway(dfTweets):\n",
    "    dfHomeTweets = dfTweets[dfTweets[\"side\"] == 'home']\n",
    "    dfAwayTweets = dfTweets[dfTweets[\"side\"] == 'away']\n",
    "    dfHomeTweets = pd.DataFrame(dfHomeTweets.values, range(len(dfHomeTweets)), dfHomeTweets.columns)\n",
    "    dfAwayTweets = pd.DataFrame(dfAwayTweets.values, range(len(dfAwayTweets)), dfAwayTweets.columns)\n",
    "    \n",
    "    home_sent = map(lambda tweet: sentiment(tweet), dfHomeTweets[\"text\"])\n",
    "    away_sent = map(lambda tweet: sentiment(tweet), dfAwayTweets[\"text\"])\n",
    "    \n",
    "    print \"Home Team:\", collections.Counter(home_sent)\n",
    "    print \"Away Team:\", collections.Counter(away_sent)"
   ]
  },
  {
   "cell_type": "code",
   "execution_count": 21,
   "metadata": {
    "collapsed": false
   },
   "outputs": [
    {
     "name": "stdout",
     "output_type": "stream",
     "text": [
      "['#saintsfc', '#southamptonfc']\n",
      "['#ncfc', '#norwichcity']\n",
      "[('home', 13), ('away', 11), ('both', 26), ('nothing', 0)]\n",
      "Home Team: Counter({'pos': 9, 'neg': 4})\n",
      "Away Team: Counter({'pos': 7, 'neg': 4})\n"
     ]
    }
   ],
   "source": [
    "SentimentHomeAway(ReadFileAsDF(fname, home, away))"
   ]
  }
 ],
 "metadata": {
  "kernelspec": {
   "display_name": "Python 2",
   "language": "python",
   "name": "python2"
  },
  "language_info": {
   "codemirror_mode": {
    "name": "ipython",
    "version": 2
   },
   "file_extension": ".py",
   "mimetype": "text/x-python",
   "name": "python",
   "nbconvert_exporter": "python",
   "pygments_lexer": "ipython2",
   "version": "2.7.10"
  }
 },
 "nbformat": 4,
 "nbformat_minor": 0
}
