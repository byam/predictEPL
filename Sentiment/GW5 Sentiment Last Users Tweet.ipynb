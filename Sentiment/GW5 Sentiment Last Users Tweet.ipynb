{
 "cells": [
  {
   "cell_type": "code",
   "execution_count": 1,
   "metadata": {
    "collapsed": true
   },
   "outputs": [],
   "source": [
    "import os\n",
    "import csv\n",
    "from pprint import pprint\n",
    "import pandas as pd\n",
    "import pickle\n",
    "import collections"
   ]
  },
  {
   "cell_type": "code",
   "execution_count": 2,
   "metadata": {
    "collapsed": true
   },
   "outputs": [],
   "source": [
    "hashPath = \"/Users/Bya/git/EPLdata/\"\n",
    "dataPath = \"/Users/Bya/Dropbox/Research/datas/\"\n",
    "modelPath = \"/Users/Bya/Dropbox/Research/datas/Pickles/Models/\"\n",
    "tokenizerPath = \"/Users/Bya/git/predictEPL/Tokenizers/\"\n",
    "\n",
    "\n",
    "# Custom Library\n",
    "os.chdir(tokenizerPath)\n",
    "import sentiment_aware as sa\n",
    "os.chdir(hashPath)\n",
    "from config import Hashtags\n",
    "os.chdir('/Users/Bya/git/predictEPL/')\n",
    "from MyFunctions import dataIO\n",
    "from MyFunctions import plotPie"
   ]
  },
  {
   "cell_type": "code",
   "execution_count": 3,
   "metadata": {
    "collapsed": true
   },
   "outputs": [],
   "source": [
    "model = \"MovieShortReview\"\n",
    "\n",
    "# read saved classifier\n",
    "saved_classifier_f = open(modelPath + model + \"/naiveBayes.pickle\", \"rb\")\n",
    "saved_classifier = pickle.load(saved_classifier_f)\n",
    "saved_classifier_f.close()\n",
    "\n",
    "# read saved word features\n",
    "word_features5k_f = open(modelPath + model + \"/word_features5k.pickle\", \"rb\")\n",
    "word_features = pickle.load(word_features5k_f)\n",
    "word_features5k_f.close()\n",
    "\n",
    "# Define Sentiment Tokenizer Class as tok\n",
    "tok = sa.Tokenizer(preserve_case=False)\n",
    "def find_features(document):\n",
    "    words = tok.tokenize(document)\n",
    "    features = {}\n",
    "    for w in word_features:\n",
    "        features[w] = (w in words)\n",
    "\n",
    "    return features\n",
    "\n",
    "# Define Sentiment Analysis function. Using aboves\n",
    "def sentiment(text):\n",
    "    return saved_classifier.classify(find_features(text))"
   ]
  },
  {
   "cell_type": "code",
   "execution_count": 9,
   "metadata": {
    "collapsed": true
   },
   "outputs": [],
   "source": [
    "def SentimentUsersLastTweet(GW, home_team, away_team):\n",
    "    filePath = '/Users/Bya/Dropbox/Research/datas/Tweet2Sides/' + GW +'/'+ home_team + '_' + away_team + '.csv'\n",
    "    print filePath\n",
    "#     dfHA = dataIO.CSVtoDF(filePath + home_team + '_' + away_team + '.csv')\n",
    "    dfHA = pd.read_csv(filePath)\n",
    "    dic_users_last_tweet = {}\n",
    "\n",
    "    for row in dfHA.iterrows():\n",
    "        user = row[1]['user']\n",
    "        side = row[1]['side']\n",
    "        text = row[1]['text']\n",
    "\n",
    "        dic_users_last_tweet[user] = (side, text)\n",
    "\n",
    "    list_home_users_name_last = filter(lambda key: dic_users_last_tweet[key][0] == 'home', dic_users_last_tweet)\n",
    "    list_away_users_name_last = filter(lambda key: dic_users_last_tweet[key][0] == 'away', dic_users_last_tweet)\n",
    "\n",
    "    list_home_text = map(lambda user: dic_users_last_tweet[user][1], list_home_users_name_last)\n",
    "    list_away_text = map(lambda user: dic_users_last_tweet[user][1], list_away_users_name_last)\n",
    "    \n",
    "    home_sent = map(lambda tweet: sentiment(tweet), list_home_text)\n",
    "    away_sent = map(lambda tweet: sentiment(tweet), list_away_text)\n",
    "    \n",
    "    listInfo = [home_team, away_team,\n",
    "                collections.Counter(home_sent)['pos'], \n",
    "                collections.Counter(home_sent)['neg'],\n",
    "                collections.Counter(away_sent)['pos'],\n",
    "                collections.Counter(away_sent)['neg']]\n",
    "    dataIO.ListSaveToCSVappend(listInfo, GW + '_UsersLastTweet', '/Users/Bya/Dropbox/Research/datas/Results/')"
   ]
  },
  {
   "cell_type": "code",
   "execution_count": 11,
   "metadata": {
    "collapsed": false,
    "scrolled": true
   },
   "outputs": [
    {
     "name": "stdout",
     "output_type": "stream",
     "text": [
      "('GW5', 'Arsenal', 'Stoke')\n",
      "/Users/Bya/Dropbox/Research/datas/Tweet2Sides/GW5/Arsenal_Stoke.csv\n",
      "('GW5', 'Crystal', 'City')\n",
      "/Users/Bya/Dropbox/Research/datas/Tweet2Sides/GW5/Crystal_City.csv\n",
      "('GW5', 'Norwich', 'Bournemouth')\n",
      "/Users/Bya/Dropbox/Research/datas/Tweet2Sides/GW5/Norwich_Bournemouth.csv\n",
      "('GW5', 'Watford', 'Swansea')\n",
      "/Users/Bya/Dropbox/Research/datas/Tweet2Sides/GW5/Watford_Swansea.csv\n",
      "('GW5', 'WestBromwich', 'Southampton')\n",
      "/Users/Bya/Dropbox/Research/datas/Tweet2Sides/GW5/WestBromwich_Southampton.csv\n",
      "('GW5', 'United', 'Liverpool')\n",
      "/Users/Bya/Dropbox/Research/datas/Tweet2Sides/GW5/United_Liverpool.csv\n",
      "('GW5', 'Sunderland', 'Tottenham')\n",
      "/Users/Bya/Dropbox/Research/datas/Tweet2Sides/GW5/Sunderland_Tottenham.csv\n",
      "('GW5', 'Leicester', 'Villa')\n",
      "/Users/Bya/Dropbox/Research/datas/Tweet2Sides/GW5/Leicester_Villa.csv\n",
      "('GW5', 'WestHam', 'Newcastle')\n",
      "/Users/Bya/Dropbox/Research/datas/Tweet2Sides/GW5/WestHam_Newcastle.csv\n"
     ]
    }
   ],
   "source": [
    "listGamesGW5 = [\n",
    "#                 ('Everton', 'Chelsea'),\n",
    "    \n",
    "               ('Arsenal', 'Stoke'),\n",
    "               ('Crystal', 'City'),\n",
    "               ('Norwich', 'Bournemouth'),\n",
    "               ('Watford', 'Swansea'),\n",
    "               ('WestBromwich', 'Southampton'),\n",
    "               \n",
    "               ('United', 'Liverpool'),\n",
    "\n",
    "               ('Sunderland', 'Tottenham'),\n",
    "\n",
    "               ('Leicester', 'Villa'),\n",
    "\n",
    "               ('WestHam', 'Newcastle')]\n",
    "\n",
    "GW = 'GW5'\n",
    "for i in range(len(listGamesGW5)):\n",
    "    print(GW, listGamesGW5[i][0], listGamesGW5[i][1])\n",
    "    SentimentUsersLastTweet(GW, listGamesGW5[i][0], listGamesGW5[i][1])"
   ]
  },
  {
   "cell_type": "code",
   "execution_count": null,
   "metadata": {
    "collapsed": true
   },
   "outputs": [],
   "source": []
  }
 ],
 "metadata": {
  "kernelspec": {
   "display_name": "Python 2",
   "language": "python",
   "name": "python2"
  },
  "language_info": {
   "codemirror_mode": {
    "name": "ipython",
    "version": 2
   },
   "file_extension": ".py",
   "mimetype": "text/x-python",
   "name": "python",
   "nbconvert_exporter": "python",
   "pygments_lexer": "ipython2",
   "version": "2.7.10"
  }
 },
 "nbformat": 4,
 "nbformat_minor": 0
}
