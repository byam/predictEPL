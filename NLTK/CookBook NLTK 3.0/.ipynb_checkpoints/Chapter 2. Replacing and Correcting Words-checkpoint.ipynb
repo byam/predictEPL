{
 "cells": [
  {
   "cell_type": "markdown",
   "metadata": {},
   "source": [
    "## In this chapter, Bya will cover the following recipes:\n",
    "1. Stemming words\n",
    "2. Lemmatizing words with WordNet\n",
    "3. Replacing words matching regular expressions\n",
    "4. Removing repeating characters\n",
    "5. Spelling correction with Enchant\n",
    "6. Replacing synonyms\n",
    "7. Replacing negations with antonyms"
   ]
  },
  {
   "cell_type": "markdown",
   "metadata": {},
   "source": [
    "# 1. Stemming words"
   ]
  },
  {
   "cell_type": "code",
   "execution_count": 1,
   "metadata": {
    "collapsed": false
   },
   "outputs": [],
   "source": [
    "# Libraries\n",
    "from nltk.stem import PorterStemmer\n",
    "from nltk.stem import LancasterStemmer\n",
    "from nltk.stem import RegexpStemmer"
   ]
  },
  {
   "cell_type": "code",
   "execution_count": 2,
   "metadata": {
    "collapsed": false,
    "scrolled": true
   },
   "outputs": [
    {
     "name": "stdout",
     "output_type": "stream",
     "text": [
      "Word:  cook\n",
      "Text:  Stem is funnier than a bummer say the sushi love comput scientist\n"
     ]
    }
   ],
   "source": [
    "# PorterStemmer\n",
    "stemmer = PorterStemmer()\n",
    "print \"Word: \", stemmer.stem('cooking')\n",
    "text = 'Stemming is funnier than a bummer says the sushi loving computer scientist'\n",
    "print \"Text: \", \" \".join(map(lambda word: stemmer.stem(word), text.split()))"
   ]
  },
  {
   "cell_type": "code",
   "execution_count": 3,
   "metadata": {
    "collapsed": false
   },
   "outputs": [
    {
     "name": "stdout",
     "output_type": "stream",
     "text": [
      "Word:  cook\n",
      "Text:  stem is funny than a bum say the sush lov comput sci\n"
     ]
    }
   ],
   "source": [
    "# LancasterStemmer\n",
    "stemmer = LancasterStemmer()\n",
    "print \"Word: \", stemmer.stem('cooking')\n",
    "text = 'Stemming is funnier than a bummer says the sushi loving computer scientist'\n",
    "print \"Text: \", \" \".join(map(lambda word: stemmer.stem(word), text.split()))"
   ]
  },
  {
   "cell_type": "code",
   "execution_count": 4,
   "metadata": {
    "collapsed": false
   },
   "outputs": [
    {
     "name": "stdout",
     "output_type": "stream",
     "text": [
      "cook\n",
      "cookery\n",
      "leside\n",
      "mongolia\n"
     ]
    }
   ],
   "source": [
    "# RegexpStemmer\n",
    "stemmer = RegexpStemmer('ing')\n",
    "print stemmer.stem('cooking')\n",
    "print stemmer.stem('cookery')\n",
    "print stemmer.stem('ingleside')\n",
    "stemmer = RegexpStemmer('@')\n",
    "print stemmer.stem('@mongolia@')"
   ]
  },
  {
   "cell_type": "markdown",
   "metadata": {},
   "source": [
    "# 2. Lemmatizing words with WordNet"
   ]
  },
  {
   "cell_type": "code",
   "execution_count": 5,
   "metadata": {
    "collapsed": true
   },
   "outputs": [],
   "source": [
    "# Libraries\n",
    "from nltk.stem import PorterStemmer\n",
    "from nltk.stem import WordNetLemmatizer"
   ]
  },
  {
   "cell_type": "code",
   "execution_count": 6,
   "metadata": {
    "collapsed": false
   },
   "outputs": [
    {
     "name": "stdout",
     "output_type": "stream",
     "text": [
      "cooking\n",
      "cookbook\n"
     ]
    }
   ],
   "source": [
    "# WordNetLemmatizer\n",
    "lemmatizer = WordNetLemmatizer()\n",
    "print lemmatizer.lemmatize('cooking')\n",
    "lemmatizer.lemmatize('cooking', pos='v')\n",
    "print lemmatizer.lemmatize('cookbooks')"
   ]
  },
  {
   "cell_type": "code",
   "execution_count": 7,
   "metadata": {
    "collapsed": false
   },
   "outputs": [
    {
     "name": "stdout",
     "output_type": "stream",
     "text": [
      "Stemmer:  believ\n",
      "Lemma:  belief\n"
     ]
    }
   ],
   "source": [
    "# Instead of just chopping off the es like the PorterStemmer\n",
    "# class, the WordNetLemmatizer class finds a valid root word. \n",
    "# Where a stemmer only looks at the form of the word,\n",
    "# the lemmatizer looks at the meaning of the word. \n",
    "# By returning a lemma, you will always get a valid word.\n",
    "stemmer = PorterStemmer()\n",
    "print \"Stemmer: \", stemmer.stem('believes')\n",
    "\n",
    "print \"Lemma: \", lemmatizer.lemmatize('believes')"
   ]
  },
  {
   "cell_type": "markdown",
   "metadata": {},
   "source": [
    "# 3. Replacing words matching regular expressions"
   ]
  },
  {
   "cell_type": "code",
   "execution_count": 8,
   "metadata": {
    "collapsed": false
   },
   "outputs": [],
   "source": [
    "# Defining RegexpReplacer\n",
    "\n",
    "# save this as 'replacers.py' \n",
    "# then use like \"from replacers import RegexpReplacer\"\n",
    "\n",
    "import re\n",
    "\n",
    "replacement_patterns = [\n",
    "     (r'won\\'t', 'will not'),\n",
    "     (r'can\\'t', 'cannot'),\n",
    "     (r'i\\'m', 'i am'),\n",
    "     (r'ain\\'t', 'is not'),\n",
    "     (r'(\\w+)\\'ll', '\\g<1> will'),\n",
    "     (r'(\\w+)n\\'t', '\\g<1> not'),\n",
    "     (r'(\\w+)\\'ve', '\\g<1> have'),\n",
    "     (r'(\\w+)\\'s', '\\g<1> is'),\n",
    "     (r'(\\w+)\\'re', '\\g<1> are'),\n",
    "     (r'(\\w+)\\'d', '\\g<1> would')\n",
    "]\n",
    "\n",
    "class RegexpReplacer(object):\n",
    "    def __init__(self, patterns=replacement_patterns):\n",
    "        self.patterns = [(re.compile(regex), repl) for (regex, repl) in patterns]\n",
    "    \n",
    "    def replace(self, text):\n",
    "        s = text\n",
    "        for (pattern, repl) in self.patterns:\n",
    "            s = re.sub(pattern, repl, s)\n",
    "        return s"
   ]
  },
  {
   "cell_type": "code",
   "execution_count": 9,
   "metadata": {
    "collapsed": false
   },
   "outputs": [
    {
     "name": "stdout",
     "output_type": "stream",
     "text": [
      "cannot is a contraction\n",
      "I should have done that thing I did not do\n"
     ]
    }
   ],
   "source": [
    "# Usage of RegexpReplacer\n",
    "\n",
    "# if 'replacers.py' file was saved:\n",
    "# from replacers import RegexpReplacer\"\n",
    "\n",
    "replacer = RegexpReplacer()\n",
    "print replacer.replace(\"can't is a contraction\")\n",
    "print replacer.replace(\"I should've done that thing I didn't do\")"
   ]
  },
  {
   "cell_type": "markdown",
   "metadata": {},
   "source": [
    "### Replacement before tokenization"
   ]
  },
  {
   "cell_type": "code",
   "execution_count": 10,
   "metadata": {
    "collapsed": false
   },
   "outputs": [
    {
     "name": "stdout",
     "output_type": "stream",
     "text": [
      "Before RegexpReplacer: \n",
      "['ca', \"n't\", 'is', 'a', 'contraction']\n",
      "After RegexpReplacer: \n",
      "['can', 'not', 'is', 'a', 'contraction']\n"
     ]
    }
   ],
   "source": [
    "# if 'replacers.py' file was saved:\n",
    "# from replacers import RegexpReplacer\"\n",
    "\n",
    "from nltk.tokenize import word_tokenize\n",
    "replacer = RegexpReplacer()\n",
    "\n",
    "print \"Before RegexpReplacer: \\n\", word_tokenize(\"can't is a contraction\")\n",
    "print \"After RegexpReplacer: \\n\", word_tokenize(replacer.replace(\"can't is a contraction\"))"
   ]
  },
  {
   "cell_type": "markdown",
   "metadata": {},
   "source": [
    "# 4. Removing repeating characters"
   ]
  },
  {
   "cell_type": "code",
   "execution_count": 11,
   "metadata": {
    "collapsed": true
   },
   "outputs": [],
   "source": [
    "# Defining RepeatReplacer object\n",
    "\n",
    "# save this as 'replacers.py' \n",
    "# then use like \"from replacers import RepeatReplacer\"\n",
    "\n",
    "import re\n",
    "class RepeatReplacer(object):\n",
    "    def __init__(self):\n",
    "        self.repeat_regexp = re.compile(r'(\\w*)(\\w)\\2(\\w*)')\n",
    "        self.repl = r'\\1\\2\\3'\n",
    "    def replace(self, word):\n",
    "        repl_word = self.repeat_regexp.sub(self.repl, word)\n",
    "        if repl_word != word:\n",
    "            return self.replace(repl_word)\n",
    "        else:\n",
    "            return repl_word"
   ]
  },
  {
   "cell_type": "code",
   "execution_count": 12,
   "metadata": {
    "collapsed": false
   },
   "outputs": [
    {
     "name": "stdout",
     "output_type": "stream",
     "text": [
      "love\n",
      "oh\n",
      "gose\n",
      "fel\n"
     ]
    }
   ],
   "source": [
    "# Usage of RepeatReplacer\n",
    "\n",
    "# from replacers import RepeatReplacer\n",
    "\n",
    "replacer = RepeatReplacer()\n",
    "print replacer.replace('looooove')\n",
    "print replacer.replace('oooooh')\n",
    "print replacer.replace('goose')\n",
    "print replacer.replace('feel')"
   ]
  },
  {
   "cell_type": "markdown",
   "metadata": {},
   "source": [
    "### The ```replace()``` function with a `WordNet` lookup"
   ]
  },
  {
   "cell_type": "code",
   "execution_count": 13,
   "metadata": {
    "collapsed": true
   },
   "outputs": [],
   "source": [
    "import re\n",
    "from nltk.corpus import wordnet\n",
    "\n",
    "class RepeatReplacer(object):\n",
    "    def __init__(self):\n",
    "        self.repeat_regexp = re.compile(r'(\\w*)(\\w)\\2(\\w*)')\n",
    "        self.repl = r'\\1\\2\\3'\n",
    "    def replace(self, word):\n",
    "        if wordnet.synsets(word):\n",
    "            return word\n",
    "        repl_word = self.repeat_regexp.sub(self.repl, word)\n",
    "        if repl_word != word:\n",
    "            return self.replace(repl_word)\n",
    "        else:\n",
    "            return repl_word"
   ]
  },
  {
   "cell_type": "code",
   "execution_count": 14,
   "metadata": {
    "collapsed": false
   },
   "outputs": [
    {
     "name": "stdout",
     "output_type": "stream",
     "text": [
      "love\n",
      "ooh\n",
      "goose\n",
      "feel\n"
     ]
    }
   ],
   "source": [
    "replacer = RepeatReplacer()\n",
    "print replacer.replace('looooove')\n",
    "print replacer.replace('oooooh')\n",
    "print replacer.replace('goose')\n",
    "print replacer.replace('feel')"
   ]
  },
  {
   "cell_type": "markdown",
   "metadata": {},
   "source": [
    "# 5. Spelling correction with Enchant"
   ]
  },
  {
   "cell_type": "code",
   "execution_count": 15,
   "metadata": {
    "collapsed": false
   },
   "outputs": [
    {
     "name": "stdout",
     "output_type": "stream",
     "text": [
      "True\n",
      "False\n",
      "['He lo', 'Hole', 'Hello', 'Helot', 'Halo', 'Hero', 'Hell', 'Held', 'Helm', 'Help', 'Helios', 'Helyn', 'Helsa', 'Helli']\n",
      "False\n",
      "['Bay', 'Ya', 'Ba', 'Bea', 'B ya', 'By', 'Baa', 'Bra', 'Boa', 'Bye', 'By a']\n"
     ]
    }
   ],
   "source": [
    "import enchant\n",
    "d = enchant.Dict(\"en_US\")\n",
    "print d.check(\"Hello\")\n",
    "print d.check(\"Helo\")\n",
    "print d.suggest(\"Helo\")\n",
    "print d.check(\"Bya\")\n",
    "print d.suggest(\"Bya\")"
   ]
  },
  {
   "cell_type": "markdown",
   "metadata": {},
   "source": [
    "### New class called  `SpellingReplacer` in `replacers.py`"
   ]
  },
  {
   "cell_type": "code",
   "execution_count": 16,
   "metadata": {
    "collapsed": false
   },
   "outputs": [],
   "source": [
    "# the replace() method will check Enchant \n",
    "# to see whether the word is valid. \n",
    "# If not, we will look up the suggested alternatives \n",
    "# and return the best match using nltk.metrics.edit_distance():\n",
    "\n",
    "import enchant\n",
    "from nltk.metrics import edit_distance\n",
    "\n",
    "class SpellingReplacer(object):\n",
    "    def __init__(self, dict_name='en', max_dist=2):\n",
    "        self.spell_dict = enchant.Dict(dict_name)\n",
    "        self.max_dist = max_dist\n",
    "    def replace(self, word):\n",
    "        if self.spell_dict.check(word):\n",
    "            return word\n",
    "        suggestions = self.spell_dict.suggest(word)\n",
    "        if suggestions and edit_distance(word, suggestions[0]) <= self.max_dist:\n",
    "            return suggestions[0]\n",
    "        else:\n",
    "            return word"
   ]
  },
  {
   "cell_type": "code",
   "execution_count": 17,
   "metadata": {
    "collapsed": false
   },
   "outputs": [
    {
     "name": "stdout",
     "output_type": "stream",
     "text": [
      "cookbook\n",
      "bay\n"
     ]
    }
   ],
   "source": [
    "# Usage of SpellingReplacer\n",
    "\n",
    "# from replacers import SpellingReplacer\n",
    "replacer = SpellingReplacer()\n",
    "print replacer.replace('cookbok')\n",
    "print replacer.replace('bya')"
   ]
  },
  {
   "cell_type": "markdown",
   "metadata": {},
   "source": [
    "### Dictionaries"
   ]
  },
  {
   "cell_type": "code",
   "execution_count": 18,
   "metadata": {
    "collapsed": false
   },
   "outputs": [
    {
     "data": {
      "text/plain": [
       "['de_DE', 'en_AU', 'en_GB', 'en_US', 'fr_FR']"
      ]
     },
     "execution_count": 18,
     "metadata": {},
     "output_type": "execute_result"
    }
   ],
   "source": [
    "# check other languages\n",
    "enchant.list_languages()"
   ]
  },
  {
   "cell_type": "code",
   "execution_count": 19,
   "metadata": {
    "collapsed": false
   },
   "outputs": [
    {
     "name": "stdout",
     "output_type": "stream",
     "text": [
      "True\n",
      "False\n"
     ]
    }
   ],
   "source": [
    "import enchant\n",
    "\n",
    "dUS = enchant.Dict('en_US')\n",
    "print dUS.check('theater')\n",
    "\n",
    "dGB = enchant.Dict('en_GB')\n",
    "print dGB.check('theater')"
   ]
  },
  {
   "cell_type": "code",
   "execution_count": 20,
   "metadata": {
    "collapsed": false
   },
   "outputs": [
    {
     "name": "stdout",
     "output_type": "stream",
     "text": [
      "theater\n",
      "theatre\n"
     ]
    }
   ],
   "source": [
    "# from replacers import SpellingReplacer\n",
    "us_replacer = SpellingReplacer('en_US')\n",
    "print us_replacer.replace('theater')\n",
    "\n",
    "gb_replacer = SpellingReplacer('en_GB')\n",
    "print gb_replacer.replace('theater')"
   ]
  },
  {
   "cell_type": "markdown",
   "metadata": {},
   "source": [
    "### Personal word lists"
   ]
  },
  {
   "cell_type": "code",
   "execution_count": 21,
   "metadata": {
    "collapsed": false
   },
   "outputs": [
    {
     "name": "stdout",
     "output_type": "stream",
     "text": [
      "bay\n"
     ]
    }
   ],
   "source": [
    "replacer = SpellingReplacer()\n",
    "print replacer.replace('bya')"
   ]
  },
  {
   "cell_type": "code",
   "execution_count": 22,
   "metadata": {
    "collapsed": true
   },
   "outputs": [],
   "source": [
    "# add class to 'replacers.py'\n",
    "\n",
    "class CustomSpellingReplacer(SpellingReplacer):\n",
    "    def __init__(self, spell_dict, max_dist=2):\n",
    "        self.spell_dict = spell_dict\n",
    "        self.max_dist = max_dist"
   ]
  },
  {
   "cell_type": "code",
   "execution_count": 23,
   "metadata": {
    "collapsed": false
   },
   "outputs": [
    {
     "name": "stdout",
     "output_type": "stream",
     "text": [
      "True\n",
      "bya\n"
     ]
    }
   ],
   "source": [
    "# from replacers import CustomSpellingReplacer\n",
    "d = enchant.DictWithPWL('en_US', '/Users/Bya/git/wordle-me/WordExtract/mywords.txt')\n",
    "print  d.check('bya')\n",
    "replacer = CustomSpellingReplacer(d)\n",
    "print replacer.replace('bya')"
   ]
  },
  {
   "cell_type": "markdown",
   "metadata": {},
   "source": [
    "# 6. Replacing synonyms"
   ]
  },
  {
   "cell_type": "code",
   "execution_count": 24,
   "metadata": {
    "collapsed": true
   },
   "outputs": [],
   "source": [
    "# create a WordReplacer class in replacers.py \n",
    "# that takes a word replacement mapping:\n",
    "\n",
    "class WordReplacer(object):\n",
    "    def __init__(self, word_map):\n",
    "        self.word_map = word_map\n",
    "    def replace(self, word):\n",
    "        return self.word_map.get(word, word)"
   ]
  },
  {
   "cell_type": "code",
   "execution_count": 25,
   "metadata": {
    "collapsed": false
   },
   "outputs": [
    {
     "name": "stdout",
     "output_type": "stream",
     "text": [
      "birthday\n",
      "byambasuren\n"
     ]
    }
   ],
   "source": [
    "# from replacers import WordReplacer\n",
    "replacer = WordReplacer({'bday': 'birthday',\n",
    "                         'bya': 'byambasuren'\n",
    "                        })\n",
    "\n",
    "print replacer.replace('bday')\n",
    "\n",
    "print replacer.replace('bya')"
   ]
  },
  {
   "cell_type": "markdown",
   "metadata": {},
   "source": [
    "### CSV synonym replacement"
   ]
  },
  {
   "cell_type": "code",
   "execution_count": 26,
   "metadata": {
    "collapsed": false
   },
   "outputs": [],
   "source": [
    "# The CsvWordReplacer class extends WordReplacer in replacers.py \n",
    "# in order to construct the word_map dictionary from a CSV file:\n",
    "import csv\n",
    "\n",
    "class CsvWordReplacer(WordReplacer):\n",
    "    def __init__(self, fname):\n",
    "        word_map = {}\n",
    "        for line in csv.reader(open(fname)):\n",
    "            word, syn = line\n",
    "            word_map[word] = syn\n",
    "        super(CsvWordReplacer, self).__init__(word_map)"
   ]
  },
  {
   "cell_type": "code",
   "execution_count": 27,
   "metadata": {
    "collapsed": false
   },
   "outputs": [
    {
     "name": "stdout",
     "output_type": "stream",
     "text": [
      " birthday\n",
      " byambasuren\n"
     ]
    }
   ],
   "source": [
    "# from replacers import CsvWordReplacer\n",
    "replacer = CsvWordReplacer('/Users/Bya/git/wordle-me/WordExtract/synonyms.csv')\n",
    "print replacer.replace('bday')\n",
    "print replacer.replace('bya')"
   ]
  },
  {
   "cell_type": "markdown",
   "metadata": {},
   "source": [
    "# 7. Replacing negations with antonyms"
   ]
  },
  {
   "cell_type": "markdown",
   "metadata": {},
   "source": [
    "### `class: AntonymReplacer`"
   ]
  },
  {
   "cell_type": "code",
   "execution_count": 28,
   "metadata": {
    "collapsed": true
   },
   "outputs": [],
   "source": [
    "# create an AntonymReplacer class in replacers.py:\n",
    "\n",
    "from nltk.corpus import wordnet\n",
    "\n",
    "class AntonymReplacer(object):\n",
    "    def replace(self, word, pos=None):\n",
    "        antonyms = set()\n",
    "        for syn in wordnet.synsets(word, pos=pos):\n",
    "            for lemma in syn.lemmas():\n",
    "                for antonym in lemma.antonyms():\n",
    "                    antonyms.add(antonym.name())\n",
    "        if len(antonyms) == 1:\n",
    "            return antonyms.pop()\n",
    "        else:\n",
    "            return None\n",
    "    \n",
    "    def replace_negations(self, sent):\n",
    "        i, l = 0, len(sent)\n",
    "        words = []\n",
    "        while i < l:\n",
    "            word = sent[i]\n",
    "            if word == 'not' and i+1 < l:\n",
    "                ant = self.replace(sent[i+1])\n",
    "                if ant:\n",
    "                    words.append(ant)\n",
    "                    i += 2\n",
    "                    continue\n",
    "            words.append(word)\n",
    "            i += 1\n",
    "        return words"
   ]
  },
  {
   "cell_type": "code",
   "execution_count": 29,
   "metadata": {
    "collapsed": false
   },
   "outputs": [
    {
     "name": "stdout",
     "output_type": "stream",
     "text": [
      "None\n",
      "beautify\n",
      "[\"let's\", u'beautify', 'our', 'code']\n"
     ]
    }
   ],
   "source": [
    "# Usage of AntonymReplacer\n",
    "\n",
    "# from replacers import AntonymReplacer\n",
    "replacer = AntonymReplacer()\n",
    "print replacer.replace('good')\n",
    "print replacer.replace('uglify')\n",
    "\n",
    "sent = [\"let's\", 'not', 'uglify', 'our', 'code']\n",
    "print replacer.replace_negations(sent)"
   ]
  },
  {
   "cell_type": "markdown",
   "metadata": {
    "collapsed": true
   },
   "source": [
    "### `class: AntonymWordReplacer`"
   ]
  },
  {
   "cell_type": "code",
   "execution_count": 30,
   "metadata": {
    "collapsed": true
   },
   "outputs": [],
   "source": [
    "# create an AntonymWordReplacer class in replacers.py:\n",
    "\n",
    "class AntonymWordReplacer(WordReplacer, AntonymReplacer):\n",
    "    pass"
   ]
  },
  {
   "cell_type": "code",
   "execution_count": 31,
   "metadata": {
    "collapsed": false
   },
   "outputs": [
    {
     "name": "stdout",
     "output_type": "stream",
     "text": [
      "['good', 'is', 'good']\n"
     ]
    }
   ],
   "source": [
    "# usage of AntonymWordReplacer\n",
    "\n",
    "# from replacers import AntonymWordReplacer\n",
    "replacer = AntonymWordReplacer({'evil': 'good'})\n",
    "print replacer.replace_negations(['good', 'is', 'not', 'evil'])"
   ]
  }
 ],
 "metadata": {
  "kernelspec": {
   "display_name": "Python 2",
   "language": "python",
   "name": "python2"
  },
  "language_info": {
   "codemirror_mode": {
    "name": "ipython",
    "version": 2
   },
   "file_extension": ".py",
   "mimetype": "text/x-python",
   "name": "python",
   "nbconvert_exporter": "python",
   "pygments_lexer": "ipython2",
   "version": "2.7.10"
  }
 },
 "nbformat": 4,
 "nbformat_minor": 0
}
