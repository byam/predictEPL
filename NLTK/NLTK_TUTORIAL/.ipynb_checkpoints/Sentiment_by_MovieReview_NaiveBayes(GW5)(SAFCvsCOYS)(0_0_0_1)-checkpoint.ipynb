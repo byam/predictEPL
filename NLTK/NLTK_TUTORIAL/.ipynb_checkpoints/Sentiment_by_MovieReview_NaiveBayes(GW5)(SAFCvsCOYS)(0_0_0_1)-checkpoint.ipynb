{
 "cells": [
  {
   "cell_type": "code",
   "execution_count": 1,
   "metadata": {
    "collapsed": false
   },
   "outputs": [
    {
     "name": "stdout",
     "output_type": "stream",
     "text": [
      "Populating the interactive namespace from numpy and matplotlib\n"
     ]
    }
   ],
   "source": [
    "%pylab inline\n",
    "%matplotlib inline"
   ]
  },
  {
   "cell_type": "code",
   "execution_count": 19,
   "metadata": {
    "collapsed": true
   },
   "outputs": [],
   "source": [
    "import json\n",
    "import pandas as pd\n",
    "import matplotlib.pyplot as plt\n",
    "import nltk\n",
    "from nltk.tokenize import word_tokenize, sent_tokenize\n",
    "import codecs\n",
    "import collections\n",
    "import pickle\n",
    "\n",
    "import sentiment_aware as sa"
   ]
  },
  {
   "cell_type": "markdown",
   "metadata": {},
   "source": [
    "### Define variables"
   ]
  },
  {
   "cell_type": "code",
   "execution_count": 3,
   "metadata": {
    "collapsed": true
   },
   "outputs": [],
   "source": [
    "home = \"NUFC\"\n",
    "away = \"Arsenal\""
   ]
  },
  {
   "cell_type": "markdown",
   "metadata": {},
   "source": [
    "### Load Data and Preprocessing"
   ]
  },
  {
   "cell_type": "code",
   "execution_count": 5,
   "metadata": {
    "collapsed": false
   },
   "outputs": [],
   "source": [
    "# Read file\n",
    "tweets_file = open(\"../../EPLdata/GW4/1508292045_NUFCvsARSENAL.txt\", \"r\")"
   ]
  },
  {
   "cell_type": "code",
   "execution_count": 6,
   "metadata": {
    "collapsed": false
   },
   "outputs": [],
   "source": [
    "# Parsing JSON\n",
    "\n",
    "tweets_data = []\n",
    "for line in tweets_file:\n",
    "    try:\n",
    "        tweet = json.loads(line)\n",
    "        tweets_data.append(tweet)\n",
    "    except:\n",
    "        continue"
   ]
  },
  {
   "cell_type": "code",
   "execution_count": 7,
   "metadata": {
    "collapsed": true
   },
   "outputs": [],
   "source": [
    "tweets_file.close()"
   ]
  },
  {
   "cell_type": "code",
   "execution_count": 8,
   "metadata": {
    "collapsed": false
   },
   "outputs": [
    {
     "name": "stdout",
     "output_type": "stream",
     "text": [
      "16831\n"
     ]
    }
   ],
   "source": [
    "print len(tweets_data)"
   ]
  },
  {
   "cell_type": "markdown",
   "metadata": {},
   "source": [
    "### Create DataFrame as tweets"
   ]
  },
  {
   "cell_type": "code",
   "execution_count": 9,
   "metadata": {
    "collapsed": false
   },
   "outputs": [],
   "source": [
    "tweets = pd.DataFrame()\n",
    "tweets['text'] = map(lambda tweet: tweet['text'], tweets_data)\n",
    "tweets['lang'] = map(lambda tweet: tweet['lang'], tweets_data)\n",
    "tweets['hashtags'] = map(lambda tweet: map(lambda tag: tag['text'], tweet['entities']['hashtags']), tweets_data)"
   ]
  },
  {
   "cell_type": "code",
   "execution_count": 10,
   "metadata": {
    "collapsed": false,
    "scrolled": true
   },
   "outputs": [],
   "source": [
    "# 0: no tags, 3: both team tags, 1: only home team tags, 2: only away team tags, 4: other tags\n",
    "def find_tag(tag):\n",
    "    if not tag:\n",
    "        return 0\n",
    "    if home in tag and away in tag:\n",
    "        return 3\n",
    "    if home in tag:\n",
    "        return 1\n",
    "    if away in tag:\n",
    "        return 2\n",
    "    else:\n",
    "        return 4\n",
    "\n",
    "tweets[\"tag_num\"] = map(lambda tags: find_tag(tags), tweets['hashtags'])"
   ]
  },
  {
   "cell_type": "code",
   "execution_count": 36,
   "metadata": {
    "collapsed": false,
    "scrolled": true
   },
   "outputs": [
    {
     "data": {
      "text/html": [
       "<div>\n",
       "<table border=\"1\" class=\"dataframe\">\n",
       "  <thead>\n",
       "    <tr style=\"text-align: right;\">\n",
       "      <th></th>\n",
       "      <th>text</th>\n",
       "      <th>lang</th>\n",
       "      <th>hashtags</th>\n",
       "      <th>tag_num</th>\n",
       "    </tr>\n",
       "  </thead>\n",
       "  <tbody>\n",
       "    <tr>\n",
       "      <th>0</th>\n",
       "      <td>Newcastle XI v Arsenal: Krul, Janmaat, Mbemba,...</td>\n",
       "      <td>ro</td>\n",
       "      <td>[NUFC, AFC]</td>\n",
       "      <td>1</td>\n",
       "    </tr>\n",
       "    <tr>\n",
       "      <th>1</th>\n",
       "      <td>RT @spe_football: { #BPL } Coup d'envoi Newcas...</td>\n",
       "      <td>en</td>\n",
       "      <td>[BPL, NEWARS, NUFC, Arsenal]</td>\n",
       "      <td>3</td>\n",
       "    </tr>\n",
       "    <tr>\n",
       "      <th>2</th>\n",
       "      <td>Arranca el partido entre #NUFC y #Arsenal ¡Gun...</td>\n",
       "      <td>es</td>\n",
       "      <td>[NUFC, Arsenal]</td>\n",
       "      <td>3</td>\n",
       "    </tr>\n",
       "    <tr>\n",
       "      <th>3</th>\n",
       "      <td>RT @CabinaDeporte: ya estamos en directo en ht...</td>\n",
       "      <td>es</td>\n",
       "      <td>[NUFCvAFC, arsenal, NUFC, BPL]</td>\n",
       "      <td>1</td>\n",
       "    </tr>\n",
       "    <tr>\n",
       "      <th>4</th>\n",
       "      <td>I'd take another draw this week #NUFC</td>\n",
       "      <td>en</td>\n",
       "      <td>[NUFC]</td>\n",
       "      <td>1</td>\n",
       "    </tr>\n",
       "    <tr>\n",
       "      <th>5</th>\n",
       "      <td>Yeay Walcott 👍 #NUFC v #Arsenal</td>\n",
       "      <td>en</td>\n",
       "      <td>[NUFC, Arsenal]</td>\n",
       "      <td>3</td>\n",
       "    </tr>\n",
       "    <tr>\n",
       "      <th>6</th>\n",
       "      <td>RT @spe_football: { #BPL } Coup d'envoi Newcas...</td>\n",
       "      <td>en</td>\n",
       "      <td>[BPL, NEWARS, NUFC, Arsenal]</td>\n",
       "      <td>3</td>\n",
       "    </tr>\n",
       "    <tr>\n",
       "      <th>7</th>\n",
       "      <td>RT @NUFC: #NUFC get us underway here at St. Ja...</td>\n",
       "      <td>en</td>\n",
       "      <td>[NUFC]</td>\n",
       "      <td>1</td>\n",
       "    </tr>\n",
       "    <tr>\n",
       "      <th>8</th>\n",
       "      <td>Newcastle 0:0 #Arsenal in motion.</td>\n",
       "      <td>en</td>\n",
       "      <td>[Arsenal]</td>\n",
       "      <td>2</td>\n",
       "    </tr>\n",
       "    <tr>\n",
       "      <th>9</th>\n",
       "      <td>Maç başladı.Saldır Toon! #NUFC</td>\n",
       "      <td>tr</td>\n",
       "      <td>[NUFC]</td>\n",
       "      <td>1</td>\n",
       "    </tr>\n",
       "    <tr>\n",
       "      <th>10</th>\n",
       "      <td>¡Comienza el partido!\\n\\n#NUFC - #Arsenal</td>\n",
       "      <td>es</td>\n",
       "      <td>[NUFC, Arsenal]</td>\n",
       "      <td>3</td>\n",
       "    </tr>\n",
       "    <tr>\n",
       "      <th>11</th>\n",
       "      <td>Amo los escudos de la Premier que aparecen #Ar...</td>\n",
       "      <td>es</td>\n",
       "      <td>[Arsenal, Chelsea]</td>\n",
       "      <td>2</td>\n",
       "    </tr>\n",
       "    <tr>\n",
       "      <th>12</th>\n",
       "      <td>#Arsenal</td>\n",
       "      <td>und</td>\n",
       "      <td>[Arsenal]</td>\n",
       "      <td>2</td>\n",
       "    </tr>\n",
       "    <tr>\n",
       "      <th>13</th>\n",
       "      <td>Come on #arsenal</td>\n",
       "      <td>en</td>\n",
       "      <td>[arsenal]</td>\n",
       "      <td>4</td>\n",
       "    </tr>\n",
       "    <tr>\n",
       "      <th>14</th>\n",
       "      <td>All three points, lets go lads! #NUFC</td>\n",
       "      <td>en</td>\n",
       "      <td>[NUFC]</td>\n",
       "      <td>1</td>\n",
       "    </tr>\n",
       "    <tr>\n",
       "      <th>15</th>\n",
       "      <td>RT @lee_ryder: Reports in Turkey say that #nuf...</td>\n",
       "      <td>en</td>\n",
       "      <td>[nufc]</td>\n",
       "      <td>4</td>\n",
       "    </tr>\n",
       "    <tr>\n",
       "      <th>16</th>\n",
       "      <td>#COYG #arsenal</td>\n",
       "      <td>und</td>\n",
       "      <td>[COYG, arsenal]</td>\n",
       "      <td>4</td>\n",
       "    </tr>\n",
       "    <tr>\n",
       "      <th>17</th>\n",
       "      <td>#NUFC</td>\n",
       "      <td>und</td>\n",
       "      <td>[NUFC]</td>\n",
       "      <td>1</td>\n",
       "    </tr>\n",
       "    <tr>\n",
       "      <th>18</th>\n",
       "      <td>RT @spe_football: { #BPL } Coup d'envoi Newcas...</td>\n",
       "      <td>en</td>\n",
       "      <td>[BPL, NEWARS, NUFC, Arsenal]</td>\n",
       "      <td>3</td>\n",
       "    </tr>\n",
       "    <tr>\n",
       "      <th>19</th>\n",
       "      <td>Kick Off #Arsenal vs #NCUTD</td>\n",
       "      <td>en</td>\n",
       "      <td>[Arsenal, NCUTD]</td>\n",
       "      <td>2</td>\n",
       "    </tr>\n",
       "  </tbody>\n",
       "</table>\n",
       "</div>"
      ],
      "text/plain": [
       "                                                 text lang  \\\n",
       "0   Newcastle XI v Arsenal: Krul, Janmaat, Mbemba,...   ro   \n",
       "1   RT @spe_football: { #BPL } Coup d'envoi Newcas...   en   \n",
       "2   Arranca el partido entre #NUFC y #Arsenal ¡Gun...   es   \n",
       "3   RT @CabinaDeporte: ya estamos en directo en ht...   es   \n",
       "4               I'd take another draw this week #NUFC   en   \n",
       "5                    Yeay Walcott 👍 #NUFC v #Arsenal   en   \n",
       "6   RT @spe_football: { #BPL } Coup d'envoi Newcas...   en   \n",
       "7   RT @NUFC: #NUFC get us underway here at St. Ja...   en   \n",
       "8                   Newcastle 0:0 #Arsenal in motion.   en   \n",
       "9                      Maç başladı.Saldır Toon! #NUFC   tr   \n",
       "10          ¡Comienza el partido!\\n\\n#NUFC - #Arsenal   es   \n",
       "11  Amo los escudos de la Premier que aparecen #Ar...   es   \n",
       "12                                           #Arsenal  und   \n",
       "13                                   Come on #arsenal   en   \n",
       "14              All three points, lets go lads! #NUFC   en   \n",
       "15  RT @lee_ryder: Reports in Turkey say that #nuf...   en   \n",
       "16                                     #COYG #arsenal  und   \n",
       "17                                              #NUFC  und   \n",
       "18  RT @spe_football: { #BPL } Coup d'envoi Newcas...   en   \n",
       "19                        Kick Off #Arsenal vs #NCUTD   en   \n",
       "\n",
       "                          hashtags  tag_num  \n",
       "0                      [NUFC, AFC]        1  \n",
       "1     [BPL, NEWARS, NUFC, Arsenal]        3  \n",
       "2                  [NUFC, Arsenal]        3  \n",
       "3   [NUFCvAFC, arsenal, NUFC, BPL]        1  \n",
       "4                           [NUFC]        1  \n",
       "5                  [NUFC, Arsenal]        3  \n",
       "6     [BPL, NEWARS, NUFC, Arsenal]        3  \n",
       "7                           [NUFC]        1  \n",
       "8                        [Arsenal]        2  \n",
       "9                           [NUFC]        1  \n",
       "10                 [NUFC, Arsenal]        3  \n",
       "11              [Arsenal, Chelsea]        2  \n",
       "12                       [Arsenal]        2  \n",
       "13                       [arsenal]        4  \n",
       "14                          [NUFC]        1  \n",
       "15                          [nufc]        4  \n",
       "16                 [COYG, arsenal]        4  \n",
       "17                          [NUFC]        1  \n",
       "18    [BPL, NEWARS, NUFC, Arsenal]        3  \n",
       "19                [Arsenal, NCUTD]        2  "
      ]
     },
     "execution_count": 36,
     "metadata": {},
     "output_type": "execute_result"
    }
   ],
   "source": [
    "tweets[:20]"
   ]
  },
  {
   "cell_type": "code",
   "execution_count": 12,
   "metadata": {
    "collapsed": false
   },
   "outputs": [
    {
     "name": "stdout",
     "output_type": "stream",
     "text": [
      "Home Team Tags:  5110\n",
      "Away Team Tags:  5597\n",
      "Both Team Tags:  2222\n",
      "Other Team Tags:  529\n",
      "No Tags: \t3373\n",
      "All Tweets:  16831\n"
     ]
    }
   ],
   "source": [
    "home_hashtags = len(tweets[tweets[\"tag_num\"] == 1])\n",
    "away_hashtags = len(tweets[tweets[\"tag_num\"] == 2])\n",
    "both_hashtags = len(tweets[tweets[\"tag_num\"] == 3])\n",
    "no_hashtags = len(tweets[tweets[\"tag_num\"] == 4])\n",
    "other_hashtags = len(tweets[tweets[\"tag_num\"] == 0])\n",
    "\n",
    "print \"Home Team Tags: \", home_hashtags\n",
    "print \"Away Team Tags: \", away_hashtags\n",
    "print \"Both Team Tags: \", both_hashtags\n",
    "print \"Other Team Tags: \", other_hashtags\n",
    "print \"No Tags: \\t\", no_hashtags\n",
    "print \"All Tweets: \", len(tweets)"
   ]
  },
  {
   "cell_type": "code",
   "execution_count": 33,
   "metadata": {
    "collapsed": false
   },
   "outputs": [
    {
     "data": {
      "image/png": "[encoded data removed]",
      "text/plain": [
       "<matplotlib.figure.Figure at 0x122e44610>"
      ]
     },
     "metadata": {},
     "output_type": "display_data"
    }
   ],
   "source": [
    "# Plot Hashtags Pie\n",
    "slices = [home_hashtags, both_hashtags, away_hashtags, other_hashtags, no_hashtags]\n",
    "activities = ['home','both','away', 'other', 'no_tag']\n",
    "cols = ['g','orange','b', 'w', 'y']\n",
    "\n",
    "plt.pie(slices,\n",
    "        labels=activities,\n",
    "        colors=cols,\n",
    "        autopct='%1.1f%%')\n",
    "\n",
    "plt.title('Tweets by hashtags\\n')\n",
    "plt.show()"
   ]
  },
  {
   "cell_type": "code",
   "execution_count": 14,
   "metadata": {
    "collapsed": false
   },
   "outputs": [
    {
     "data": {
      "text/html": [
       "<div>\n",
       "<table border=\"1\" class=\"dataframe\">\n",
       "  <thead>\n",
       "    <tr style=\"text-align: right;\">\n",
       "      <th></th>\n",
       "      <th>text</th>\n",
       "      <th>lang</th>\n",
       "      <th>hashtags</th>\n",
       "      <th>tag_num</th>\n",
       "    </tr>\n",
       "  </thead>\n",
       "  <tbody>\n",
       "    <tr>\n",
       "      <th>1</th>\n",
       "      <td>RT @spe_football: { #BPL } Coup d'envoi Newcas...</td>\n",
       "      <td>en</td>\n",
       "      <td>[BPL, NEWARS, NUFC, Arsenal]</td>\n",
       "      <td>3</td>\n",
       "    </tr>\n",
       "    <tr>\n",
       "      <th>4</th>\n",
       "      <td>I'd take another draw this week #NUFC</td>\n",
       "      <td>en</td>\n",
       "      <td>[NUFC]</td>\n",
       "      <td>1</td>\n",
       "    </tr>\n",
       "    <tr>\n",
       "      <th>5</th>\n",
       "      <td>Yeay Walcott 👍 #NUFC v #Arsenal</td>\n",
       "      <td>en</td>\n",
       "      <td>[NUFC, Arsenal]</td>\n",
       "      <td>3</td>\n",
       "    </tr>\n",
       "    <tr>\n",
       "      <th>6</th>\n",
       "      <td>RT @spe_football: { #BPL } Coup d'envoi Newcas...</td>\n",
       "      <td>en</td>\n",
       "      <td>[BPL, NEWARS, NUFC, Arsenal]</td>\n",
       "      <td>3</td>\n",
       "    </tr>\n",
       "    <tr>\n",
       "      <th>7</th>\n",
       "      <td>RT @NUFC: #NUFC get us underway here at St. Ja...</td>\n",
       "      <td>en</td>\n",
       "      <td>[NUFC]</td>\n",
       "      <td>1</td>\n",
       "    </tr>\n",
       "  </tbody>\n",
       "</table>\n",
       "</div>"
      ],
      "text/plain": [
       "                                                text lang  \\\n",
       "1  RT @spe_football: { #BPL } Coup d'envoi Newcas...   en   \n",
       "4              I'd take another draw this week #NUFC   en   \n",
       "5                   Yeay Walcott 👍 #NUFC v #Arsenal   en   \n",
       "6  RT @spe_football: { #BPL } Coup d'envoi Newcas...   en   \n",
       "7  RT @NUFC: #NUFC get us underway here at St. Ja...   en   \n",
       "\n",
       "                       hashtags  tag_num  \n",
       "1  [BPL, NEWARS, NUFC, Arsenal]        3  \n",
       "4                        [NUFC]        1  \n",
       "5               [NUFC, Arsenal]        3  \n",
       "6  [BPL, NEWARS, NUFC, Arsenal]        3  \n",
       "7                        [NUFC]        1  "
      ]
     },
     "execution_count": 14,
     "metadata": {},
     "output_type": "execute_result"
    }
   ],
   "source": [
    "# using only english tweets\n",
    "tweets_eng = tweets[tweets[\"lang\"] == \"en\"]\n",
    "tweets_eng.head()"
   ]
  },
  {
   "cell_type": "code",
   "execution_count": 15,
   "metadata": {
    "collapsed": false
   },
   "outputs": [
    {
     "name": "stdout",
     "output_type": "stream",
     "text": [
      "13620\n"
     ]
    }
   ],
   "source": [
    "print len(tweets_eng)"
   ]
  },
  {
   "cell_type": "markdown",
   "metadata": {
    "collapsed": true
   },
   "source": [
    "### Sentiment of EPL Tweets: Using Saved Classifier (Movie Reviews Naive Bayes)"
   ]
  },
  {
   "cell_type": "code",
   "execution_count": 27,
   "metadata": {
    "collapsed": false
   },
   "outputs": [],
   "source": [
    "# read saved classifier\n",
    "saved_classifier_f = open(\"pickled_algos/naiveBayes_for_short_reviews.pickle\", \"rb\")\n",
    "saved_classifier = pickle.load(saved_classifier_f)\n",
    "saved_classifier_f.close()\n",
    "\n",
    "# read saved word features\n",
    "word_features5k_f = open(\"pickled_algos/word_features5k_shortReviews.pickle\", \"rb\")\n",
    "word_features = pickle.load(word_features5k_f)\n",
    "word_features5k_f.close()\n",
    "\n",
    "# Define Sentiment Tokenizer Class as tok\n",
    "tok = sa.Tokenizer(preserve_case=False)\n",
    "def find_features(document):\n",
    "    words = tok.tokenize(document)\n",
    "    features = {}\n",
    "    for w in word_features:\n",
    "        features[w] = (w in words)\n",
    "\n",
    "    return features\n",
    "\n",
    "# Define Sentiment Analysis function. Using aboves\n",
    "def sentiment(text):\n",
    "    return saved_classifier.classify(find_features(text))"
   ]
  },
  {
   "cell_type": "code",
   "execution_count": 28,
   "metadata": {
    "collapsed": false
   },
   "outputs": [],
   "source": [
    "# Create DataFrames for home and away tweets\n",
    "home_tweets = tweets_eng[tweets_eng[\"tag_num\"] == 1]\n",
    "away_tweets = tweets_eng[tweets_eng[\"tag_num\"] == 2]\n",
    "home_tweets = pd.DataFrame(home_tweets.values, range(len(home_tweets)), home_tweets.columns)\n",
    "away_tweets = pd.DataFrame(away_tweets.values, range(len(away_tweets)), away_tweets.columns)"
   ]
  },
  {
   "cell_type": "markdown",
   "metadata": {},
   "source": [
    "## Sentiment Analysis"
   ]
  },
  {
   "cell_type": "code",
   "execution_count": 29,
   "metadata": {
    "collapsed": false
   },
   "outputs": [
    {
     "name": "stdout",
     "output_type": "stream",
     "text": [
      "Home Team: Counter({'neg': 2607, 'pos': 1737})\n",
      "Away Team: Counter({'pos': 2382, 'neg': 2136})\n"
     ]
    }
   ],
   "source": [
    "home_sent = map(lambda tweet: sentiment(tweet), home_tweets[\"text\"])\n",
    "away_sent = map(lambda tweet: sentiment(tweet), away_tweets[\"text\"])\n",
    "print \"Home Team:\", collections.Counter(home_sent)\n",
    "print \"Away Team:\", collections.Counter(away_sent)"
   ]
  },
  {
   "cell_type": "code",
   "execution_count": 30,
   "metadata": {
    "collapsed": true
   },
   "outputs": [],
   "source": [
    "home_sent = collections.Counter(home_sent)\n",
    "away_sent = collections.Counter(away_sent)"
   ]
  },
  {
   "cell_type": "code",
   "execution_count": 31,
   "metadata": {
    "collapsed": false
   },
   "outputs": [
    {
     "name": "stdout",
     "output_type": "stream",
     "text": [
      "Positive Tweets:  1737\n",
      "Negative Tweets:  2607\n"
     ]
    },
    {
     "data": {
      "image/png": "[encoded data removed]",
      "text/plain": [
       "<matplotlib.figure.Figure at 0x108002e50>"
      ]
     },
     "metadata": {},
     "output_type": "display_data"
    }
   ],
   "source": [
    "# Pie graph for home teams\n",
    "\n",
    "slices = [home_sent['pos'], home_sent['neg']]\n",
    "activities = ['pos', 'neg']\n",
    "cols = ['g','r']\n",
    "\n",
    "plt.pie(slices,\n",
    "        labels=activities,\n",
    "        colors=cols,\n",
    "        autopct='%1.1f%%')\n",
    "\n",
    "plt.title('Home Team Tweets \\n Classification')\n",
    "\n",
    "print \"Positive Tweets: \", home_sent['pos']\n",
    "print \"Negative Tweets: \", home_sent['neg']\n",
    "\n",
    "plt.show()"
   ]
  },
  {
   "cell_type": "code",
   "execution_count": 32,
   "metadata": {
    "collapsed": false
   },
   "outputs": [
    {
     "name": "stdout",
     "output_type": "stream",
     "text": [
      "Positive Tweets:  2382\n",
      "Negative Tweets:  2136\n"
     ]
    },
    {
     "data": {
      "image/png": "[encoded data removed]",
      "text/plain": [
       "<matplotlib.figure.Figure at 0x123970b50>"
      ]
     },
     "metadata": {},
     "output_type": "display_data"
    }
   ],
   "source": [
    "slices = [away_sent['pos'], away_sent['neg']]\n",
    "activities = ['pos', 'neg']\n",
    "cols = ['g','r']\n",
    "\n",
    "plt.pie(slices,\n",
    "        labels=activities,\n",
    "        colors=cols,\n",
    "        autopct='%1.1f%%')\n",
    "\n",
    "plt.title('Away Team Tweets \\n Classification')\n",
    "\n",
    "print \"Positive Tweets: \", away_sent['pos']\n",
    "print \"Negative Tweets: \", away_sent['neg']\n",
    "\n",
    "plt.show()"
   ]
  }
 ],
 "metadata": {
  "kernelspec": {
   "display_name": "Python 2",
   "language": "python",
   "name": "python2"
  },
  "language_info": {
   "codemirror_mode": {
    "name": "ipython",
    "version": 2
   },
   "file_extension": ".py",
   "mimetype": "text/x-python",
   "name": "python",
   "nbconvert_exporter": "python",
   "pygments_lexer": "ipython2",
   "version": "2.7.10"
  }
 },
 "nbformat": 4,
 "nbformat_minor": 0
}
