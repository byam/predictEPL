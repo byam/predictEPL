{
 "cells": [
  {
   "cell_type": "code",
   "execution_count": 1,
   "metadata": {
    "collapsed": false
   },
   "outputs": [
    {
     "name": "stdout",
     "output_type": "stream",
     "text": [
      "Populating the interactive namespace from numpy and matplotlib\n"
     ]
    }
   ],
   "source": [
    "%pylab inline\n",
    "%matplotlib inline"
   ]
  },
  {
   "cell_type": "code",
   "execution_count": 2,
   "metadata": {
    "collapsed": true
   },
   "outputs": [],
   "source": [
    "import json\n",
    "import pandas as pd\n",
    "import matplotlib.pyplot as plt\n",
    "import nltk\n",
    "from nltk.tokenize import word_tokenize, sent_tokenize\n",
    "import codecs\n",
    "import collections"
   ]
  },
  {
   "cell_type": "markdown",
   "metadata": {},
   "source": [
    "### Define"
   ]
  },
  {
   "cell_type": "code",
   "execution_count": 3,
   "metadata": {
    "collapsed": true
   },
   "outputs": [],
   "source": [
    "home = \"SWANS\"\n",
    "away = \"MUFC\""
   ]
  },
  {
   "cell_type": "markdown",
   "metadata": {},
   "source": [
    "### Load Data and Preprocessing"
   ]
  },
  {
   "cell_type": "code",
   "execution_count": 4,
   "metadata": {
    "collapsed": false
   },
   "outputs": [],
   "source": [
    "# Read file\n",
    "tweets_file = open(\"../../EPLdata/1508310000_SWANSvsMUFC.txt\", \"r\")"
   ]
  },
  {
   "cell_type": "code",
   "execution_count": 5,
   "metadata": {
    "collapsed": false
   },
   "outputs": [],
   "source": [
    "# Parsing JSON\n",
    "\n",
    "tweets_data = []\n",
    "for line in tweets_file:\n",
    "    try:\n",
    "        tweet = json.loads(line)\n",
    "        tweets_data.append(tweet)\n",
    "    except:\n",
    "        continue"
   ]
  },
  {
   "cell_type": "code",
   "execution_count": 6,
   "metadata": {
    "collapsed": true
   },
   "outputs": [],
   "source": [
    "tweets_file.close()"
   ]
  },
  {
   "cell_type": "code",
   "execution_count": 7,
   "metadata": {
    "collapsed": false
   },
   "outputs": [
    {
     "name": "stdout",
     "output_type": "stream",
     "text": [
      "30659\n"
     ]
    }
   ],
   "source": [
    "print len(tweets_data)"
   ]
  },
  {
   "cell_type": "code",
   "execution_count": 8,
   "metadata": {
    "collapsed": false,
    "scrolled": true
   },
   "outputs": [
    {
     "data": {
      "text/plain": [
       "u'Good at times this game but #MUFC inparticular have not really been at the races.'"
      ]
     },
     "execution_count": 8,
     "metadata": {},
     "output_type": "execute_result"
    }
   ],
   "source": [
    "tweets_data[30658]['text']"
   ]
  },
  {
   "cell_type": "markdown",
   "metadata": {},
   "source": [
    "### Create DataFrame as tweets"
   ]
  },
  {
   "cell_type": "code",
   "execution_count": 9,
   "metadata": {
    "collapsed": true
   },
   "outputs": [],
   "source": [
    "tweets = pd.DataFrame()\n",
    "tweets['text'] = map(lambda tweet: tweet['text'], tweets_data)\n",
    "tweets['lang'] = map(lambda tweet: tweet['lang'], tweets_data)\n",
    "tweets['country'] = map(lambda tweet: tweet['place']['country'] if tweet['place'] != None else None, tweets_data)\n",
    "tweets['hashtags'] = map(lambda tweet: map(lambda tag: tag['text'], tweet['entities']['hashtags']), tweets_data)"
   ]
  },
  {
   "cell_type": "code",
   "execution_count": 10,
   "metadata": {
    "collapsed": false,
    "scrolled": true
   },
   "outputs": [],
   "source": [
    "# 0: no tags, 3: both team tags, 1: only home team tags, 2: only away team tags, 4: other tags\n",
    "def find_tag(tag):\n",
    "    if not tag:\n",
    "        return 0\n",
    "    if home in tag and away in tag:\n",
    "        return 3\n",
    "    if home in tag:\n",
    "        return 1\n",
    "    if away in tag:\n",
    "        return 2\n",
    "    else:\n",
    "        return 4\n",
    "\n",
    "tweets[\"tag_num\"] = map(lambda tags: find_tag(tags), tweets['hashtags'])"
   ]
  },
  {
   "cell_type": "code",
   "execution_count": 11,
   "metadata": {
    "collapsed": false,
    "scrolled": true
   },
   "outputs": [
    {
     "data": {
      "text/html": [
       "<div>\n",
       "<table border=\"1\" class=\"dataframe\">\n",
       "  <thead>\n",
       "    <tr style=\"text-align: right;\">\n",
       "      <th></th>\n",
       "      <th>text</th>\n",
       "      <th>lang</th>\n",
       "      <th>country</th>\n",
       "      <th>hashtags</th>\n",
       "      <th>tag_num</th>\n",
       "    </tr>\n",
       "  </thead>\n",
       "  <tbody>\n",
       "    <tr>\n",
       "      <th>0</th>\n",
       "      <td>@Tomapapa Le pongo una moneda al #Swans contra...</td>\n",
       "      <td>es</td>\n",
       "      <td>None</td>\n",
       "      <td>[Swans, EPL]</td>\n",
       "      <td>4</td>\n",
       "    </tr>\n",
       "    <tr>\n",
       "      <th>1</th>\n",
       "      <td>game on #MUFC 👏👏👏</td>\n",
       "      <td>en</td>\n",
       "      <td>None</td>\n",
       "      <td>[MUFC]</td>\n",
       "      <td>2</td>\n",
       "    </tr>\n",
       "    <tr>\n",
       "      <th>2</th>\n",
       "      <td>We caught the W this morning #COD now #mufc ha...</td>\n",
       "      <td>en</td>\n",
       "      <td>None</td>\n",
       "      <td>[COD, mufc, GGMU]</td>\n",
       "      <td>4</td>\n",
       "    </tr>\n",
       "    <tr>\n",
       "      <th>3</th>\n",
       "      <td>RT @brightidol_af9: Seed Chart อันดับ3  ขอบคุณ...</td>\n",
       "      <td>th</td>\n",
       "      <td>None</td>\n",
       "      <td>[mufc]</td>\n",
       "      <td>4</td>\n",
       "    </tr>\n",
       "    <tr>\n",
       "      <th>4</th>\n",
       "      <td>RT @ManUtd_JP: アップ中のルーニー( @WayneRooney )とダルミアン...</td>\n",
       "      <td>ja</td>\n",
       "      <td>None</td>\n",
       "      <td>[mufc]</td>\n",
       "      <td>4</td>\n",
       "    </tr>\n",
       "  </tbody>\n",
       "</table>\n",
       "</div>"
      ],
      "text/plain": [
       "                                                text lang country  \\\n",
       "0  @Tomapapa Le pongo una moneda al #Swans contra...   es    None   \n",
       "1                               game on #MUFC 👏👏👏   en    None   \n",
       "2  We caught the W this morning #COD now #mufc ha...   en    None   \n",
       "3  RT @brightidol_af9: Seed Chart อันดับ3  ขอบคุณ...   th    None   \n",
       "4  RT @ManUtd_JP: アップ中のルーニー( @WayneRooney )とダルミアン...   ja    None   \n",
       "\n",
       "            hashtags  tag_num  \n",
       "0       [Swans, EPL]        4  \n",
       "1             [MUFC]        2  \n",
       "2  [COD, mufc, GGMU]        4  \n",
       "3             [mufc]        4  \n",
       "4             [mufc]        4  "
      ]
     },
     "execution_count": 11,
     "metadata": {},
     "output_type": "execute_result"
    }
   ],
   "source": [
    "tweets.head()"
   ]
  },
  {
   "cell_type": "code",
   "execution_count": 12,
   "metadata": {
    "collapsed": false
   },
   "outputs": [
    {
     "name": "stdout",
     "output_type": "stream",
     "text": [
      "Home Team Tags:  78\n",
      "Away Team Tags:  11410\n",
      "Both Team Tags:  137\n",
      "Other Team Tags:  532\n",
      "No Tags: \t18502\n",
      "All Tweets:  30659\n"
     ]
    }
   ],
   "source": [
    "home_hashtags = len(tweets[tweets[\"tag_num\"] == 1])\n",
    "away_hashtags = len(tweets[tweets[\"tag_num\"] == 2])\n",
    "both_hashtags = len(tweets[tweets[\"tag_num\"] == 3])\n",
    "no_hashtags = len(tweets[tweets[\"tag_num\"] == 4])\n",
    "other_hashtags = len(tweets[tweets[\"tag_num\"] == 0])\n",
    "\n",
    "print \"Home Team Tags: \", home_hashtags\n",
    "print \"Away Team Tags: \", away_hashtags\n",
    "print \"Both Team Tags: \", both_hashtags\n",
    "print \"Other Team Tags: \", other_hashtags\n",
    "print \"No Tags: \\t\", no_hashtags\n",
    "print \"All Tweets: \", len(tweets)"
   ]
  },
  {
   "cell_type": "code",
   "execution_count": 13,
   "metadata": {
    "collapsed": false
   },
   "outputs": [
    {
     "data": {
      "image/png": "[encoded data removed]",
      "text/plain": [
       "<matplotlib.figure.Figure at 0x134916510>"
      ]
     },
     "metadata": {},
     "output_type": "display_data"
    }
   ],
   "source": [
    "# Plot Hashtags Pie\n",
    "slices = [home_hashtags, both_hashtags, away_hashtags, other_hashtags, no_hashtags]\n",
    "activities = ['home','both','away', 'no_tag', 'other']\n",
    "cols = ['g','orange','b', 'w', 'y']\n",
    "\n",
    "plt.pie(slices,\n",
    "        labels=activities,\n",
    "        colors=cols,\n",
    "        autopct='%1.1f%%')\n",
    "\n",
    "plt.title('Tweets by hashtags\\n')\n",
    "plt.show()"
   ]
  },
  {
   "cell_type": "markdown",
   "metadata": {},
   "source": [
    "### Top 5 languages"
   ]
  },
  {
   "cell_type": "code",
   "execution_count": 14,
   "metadata": {
    "collapsed": false
   },
   "outputs": [
    {
     "data": {
      "text/plain": [
       "en     24314\n",
       "ar      1425\n",
       "und     1256\n",
       "in      1036\n",
       "es       681\n",
       "dtype: int64"
      ]
     },
     "execution_count": 14,
     "metadata": {},
     "output_type": "execute_result"
    },
    {
     "data": {
      "image/png": "[encoded data removed]",
      "text/plain": [
       "<matplotlib.figure.Figure at 0x134916050>"
      ]
     },
     "metadata": {},
     "output_type": "display_data"
    }
   ],
   "source": [
    "tweets_by_lang = tweets['lang'].value_counts()\n",
    "\n",
    "fig, ax = plt.subplots()\n",
    "ax.tick_params(axis='x', labelsize=15)\n",
    "ax.tick_params(axis='y', labelsize=10)\n",
    "ax.set_xlabel('Languages', fontsize=15)\n",
    "ax.set_ylabel('Number of tweets' , fontsize=15)\n",
    "ax.set_title('Top 5 languages', fontsize=15, fontweight='bold')\n",
    "tweets_by_lang[:5].plot(ax=ax, kind='bar', color='red')\n",
    "tweets_by_lang[:5]"
   ]
  },
  {
   "cell_type": "markdown",
   "metadata": {},
   "source": [
    "### Top 5 countries"
   ]
  },
  {
   "cell_type": "code",
   "execution_count": 15,
   "metadata": {
    "collapsed": false
   },
   "outputs": [
    {
     "data": {
      "text/plain": [
       "United Kingdom    166\n",
       "United States     111\n",
       "Malaysia           97\n",
       "Indonesia          51\n",
       "India              44\n",
       "dtype: int64"
      ]
     },
     "execution_count": 15,
     "metadata": {},
     "output_type": "execute_result"
    },
    {
     "data": {
      "image/png": "[encoded data removed]",
      "text/plain": [
       "<matplotlib.figure.Figure at 0x13502b890>"
      ]
     },
     "metadata": {},
     "output_type": "display_data"
    }
   ],
   "source": [
    "tweets_by_country = tweets['country'].value_counts()\n",
    "\n",
    "fig, ax = plt.subplots()\n",
    "ax.tick_params(axis='x', labelsize=15)\n",
    "ax.tick_params(axis='y', labelsize=10)\n",
    "ax.set_xlabel('Countries', fontsize=15)\n",
    "ax.set_ylabel('Number of tweets' , fontsize=15)\n",
    "ax.set_title('Top 5 countries', fontsize=15, fontweight='bold')\n",
    "tweets_by_country[:5].plot(ax=ax, kind='bar', color='blue')\n",
    "tweets_by_country[:5]"
   ]
  },
  {
   "cell_type": "code",
   "execution_count": 15,
   "metadata": {
    "collapsed": false,
    "scrolled": true
   },
   "outputs": [],
   "source": [
    "# tweets_by_country"
   ]
  },
  {
   "cell_type": "code",
   "execution_count": 16,
   "metadata": {
    "collapsed": false
   },
   "outputs": [
    {
     "name": "stdout",
     "output_type": "stream",
     "text": [
      "country:  784\n",
      "None:  29875\n"
     ]
    }
   ],
   "source": [
    "print \"country: \", sum(tweets_by_country)\n",
    "print \"None: \", len(tweets_data) - sum(tweets_by_country)"
   ]
  },
  {
   "cell_type": "markdown",
   "metadata": {},
   "source": [
    "### Count All Words"
   ]
  },
  {
   "cell_type": "code",
   "execution_count": 17,
   "metadata": {
    "collapsed": false
   },
   "outputs": [
    {
     "data": {
      "text/html": [
       "<div>\n",
       "<table border=\"1\" class=\"dataframe\">\n",
       "  <thead>\n",
       "    <tr style=\"text-align: right;\">\n",
       "      <th></th>\n",
       "      <th>text</th>\n",
       "      <th>lang</th>\n",
       "      <th>country</th>\n",
       "      <th>hashtags</th>\n",
       "      <th>tag_num</th>\n",
       "    </tr>\n",
       "  </thead>\n",
       "  <tbody>\n",
       "    <tr>\n",
       "      <th>1</th>\n",
       "      <td>game on #MUFC 👏👏👏</td>\n",
       "      <td>en</td>\n",
       "      <td>None</td>\n",
       "      <td>[MUFC]</td>\n",
       "      <td>2</td>\n",
       "    </tr>\n",
       "    <tr>\n",
       "      <th>2</th>\n",
       "      <td>We caught the W this morning #COD now #mufc ha...</td>\n",
       "      <td>en</td>\n",
       "      <td>None</td>\n",
       "      <td>[COD, mufc, GGMU]</td>\n",
       "      <td>4</td>\n",
       "    </tr>\n",
       "    <tr>\n",
       "      <th>6</th>\n",
       "      <td>RT @ManUtd: The teams are now walking out onto...</td>\n",
       "      <td>en</td>\n",
       "      <td>None</td>\n",
       "      <td>[mufc]</td>\n",
       "      <td>4</td>\n",
       "    </tr>\n",
       "    <tr>\n",
       "      <th>7</th>\n",
       "      <td>GLORY GLORY @ManUtd #MUFC</td>\n",
       "      <td>en</td>\n",
       "      <td>None</td>\n",
       "      <td>[MUFC]</td>\n",
       "      <td>2</td>\n",
       "    </tr>\n",
       "    <tr>\n",
       "      <th>9</th>\n",
       "      <td>RT @ManUtd: The skipper's all smiles following...</td>\n",
       "      <td>en</td>\n",
       "      <td>None</td>\n",
       "      <td>[mufc]</td>\n",
       "      <td>4</td>\n",
       "    </tr>\n",
       "  </tbody>\n",
       "</table>\n",
       "</div>"
      ],
      "text/plain": [
       "                                                text lang country  \\\n",
       "1                               game on #MUFC 👏👏👏   en    None   \n",
       "2  We caught the W this morning #COD now #mufc ha...   en    None   \n",
       "6  RT @ManUtd: The teams are now walking out onto...   en    None   \n",
       "7                          GLORY GLORY @ManUtd #MUFC   en    None   \n",
       "9  RT @ManUtd: The skipper's all smiles following...   en    None   \n",
       "\n",
       "            hashtags  tag_num  \n",
       "1             [MUFC]        2  \n",
       "2  [COD, mufc, GGMU]        4  \n",
       "6             [mufc]        4  \n",
       "7             [MUFC]        2  \n",
       "9             [mufc]        4  "
      ]
     },
     "execution_count": 17,
     "metadata": {},
     "output_type": "execute_result"
    }
   ],
   "source": [
    "tweets_eng = tweets[tweets[\"lang\"] == \"en\"]\n",
    "tweets_eng.head()"
   ]
  },
  {
   "cell_type": "code",
   "execution_count": 18,
   "metadata": {
    "collapsed": false
   },
   "outputs": [
    {
     "name": "stdout",
     "output_type": "stream",
     "text": [
      "24314\n"
     ]
    }
   ],
   "source": [
    "print len(tweets_eng)"
   ]
  },
  {
   "cell_type": "code",
   "execution_count": 19,
   "metadata": {
    "collapsed": false
   },
   "outputs": [],
   "source": [
    "# create all words lists\n",
    "all_words = []\n",
    "\n",
    "for tweet in tweets_eng[\"text\"]:\n",
    "    tweet_words = word_tokenize(tweet)\n",
    "    for word in tweet_words:\n",
    "        all_words.append(word.lower())"
   ]
  },
  {
   "cell_type": "code",
   "execution_count": 20,
   "metadata": {
    "collapsed": false,
    "scrolled": true
   },
   "outputs": [
    {
     "data": {
      "text/plain": [
       "[(u'#', 46899),\n",
       " (u':', 29539),\n",
       " (u'mufc', 22446),\n",
       " (u'@', 16567),\n",
       " (u'rt', 14372),\n",
       " (u'.', 12388),\n",
       " (u'the', 9578),\n",
       " (u'manutd', 8942),\n",
       " (u'http', 8380),\n",
       " (u'!', 6452),\n",
       " (u'-', 6177),\n",
       " (u'swansea', 5603),\n",
       " (u'a', 5576),\n",
       " (u'to', 5087),\n",
       " (u',', 5030),\n",
       " (u\"'\", 4974),\n",
       " (u'united', 4708),\n",
       " (u'swans', 4020),\n",
       " (u'on', 3491),\n",
       " (u'for', 3339)]"
      ]
     },
     "execution_count": 20,
     "metadata": {},
     "output_type": "execute_result"
    }
   ],
   "source": [
    "# count all words\n",
    "counted_all_words = collections.Counter(all_words)\n",
    "counted_all_words.most_common()[:20]"
   ]
  },
  {
   "cell_type": "markdown",
   "metadata": {},
   "source": [
    "### Extract Adjective Words"
   ]
  },
  {
   "cell_type": "code",
   "execution_count": 31,
   "metadata": {
    "collapsed": false
   },
   "outputs": [
    {
     "data": {
      "text/plain": [
       "u'RT @vancole9: After Chelsea losing points yest.. 3 points for #mufc is key today!'"
      ]
     },
     "execution_count": 31,
     "metadata": {},
     "output_type": "execute_result"
    }
   ],
   "source": [
    "tweets_eng['text'][11013]"
   ]
  },
  {
   "cell_type": "code",
   "execution_count": 32,
   "metadata": {
    "collapsed": false,
    "scrolled": true
   },
   "outputs": [
    {
     "data": {
      "text/plain": [
       "[(u'RT', 'NN'),\n",
       " (u'@', 'IN'),\n",
       " (u'vancole9', 'NNP'),\n",
       " (u':', ':'),\n",
       " (u'After', 'IN'),\n",
       " (u'Chelsea', 'NNP'),\n",
       " (u'losing', 'VBG'),\n",
       " (u'points', 'NNS'),\n",
       " (u'yest..', 'NNP'),\n",
       " (u'3', 'CD'),\n",
       " (u'points', 'NNS'),\n",
       " (u'for', 'IN'),\n",
       " (u'#', '#'),\n",
       " (u'mufc', 'NN'),\n",
       " (u'is', 'VBZ'),\n",
       " (u'key', 'JJ'),\n",
       " (u'today', 'NN'),\n",
       " (u'!', '.')]"
      ]
     },
     "execution_count": 32,
     "metadata": {},
     "output_type": "execute_result"
    }
   ],
   "source": [
    "nltk.pos_tag(word_tokenize(tweets_eng['text'][11013]))"
   ]
  },
  {
   "cell_type": "code",
   "execution_count": 33,
   "metadata": {
    "collapsed": false
   },
   "outputs": [],
   "source": [
    "# create J all words lists\n",
    "all_J_words = []\n",
    "\n",
    "#  j is adject, r is adverb, and v is verb\n",
    "#allowed_word_types = [\"J\",\"R\",\"V\"]\n",
    "allowed_word_types = [\"J\"]\n",
    "\n",
    "for tweet in tweets_eng[\"text\"]:\n",
    "    \n",
    "    tweet_words = word_tokenize(tweet)\n",
    "    \n",
    "    tweet_words_pos = nltk.pos_tag(tweet_words)\n",
    "    \n",
    "    for word in tweet_words_pos:\n",
    "        if word[1][0] in allowed_word_types and word[0][0] != \"/\":\n",
    "            all_J_words.append(word[0].lower())"
   ]
  },
  {
   "cell_type": "code",
   "execution_count": 34,
   "metadata": {
    "collapsed": false
   },
   "outputs": [
    {
     "data": {
      "text/plain": [
       "[(u'key', 610),\n",
       " (u'free-kick', 521),\n",
       " (u'kick-off', 519),\n",
       " (u'close', 500),\n",
       " (u'bastian', 490),\n",
       " (u'good', 441),\n",
       " (u'more', 379),\n",
       " (u'crucial', 320),\n",
       " (u'clean', 315),\n",
       " (u'wide', 296),\n",
       " (u'voetbal', 281),\n",
       " (u'few', 253),\n",
       " (u'low', 244),\n",
       " (u'new', 234),\n",
       " (u'yellow', 230),\n",
       " (u'late', 226),\n",
       " (u'first', 216),\n",
       " (u'french', 210),\n",
       " (u'little', 206),\n",
       " (u'separate', 196)]"
      ]
     },
     "execution_count": 34,
     "metadata": {},
     "output_type": "execute_result"
    }
   ],
   "source": [
    "# count J all words\n",
    "counted_all_J_words = collections.Counter(all_J_words)\n",
    "counted_all_J_words.most_common()[:20]"
   ]
  },
  {
   "cell_type": "code",
   "execution_count": 35,
   "metadata": {
    "collapsed": false
   },
   "outputs": [
    {
     "data": {
      "text/plain": [
       "[(u'key', 610),\n",
       " (u'free-kick', 521),\n",
       " (u'kick-off', 519),\n",
       " (u'close', 500),\n",
       " (u'bastian', 490),\n",
       " (u'good', 441),\n",
       " (u'more', 379),\n",
       " (u'crucial', 320),\n",
       " (u'clean', 315),\n",
       " (u'wide', 296),\n",
       " (u'voetbal', 281),\n",
       " (u'few', 253),\n",
       " (u'low', 244),\n",
       " (u'new', 234),\n",
       " (u'yellow', 230),\n",
       " (u'late', 226),\n",
       " (u'first', 216),\n",
       " (u'french', 210),\n",
       " (u'little', 206),\n",
       " (u'separate', 196),\n",
       " (u'top', 193),\n",
       " (u'best', 191),\n",
       " (u'important', 183),\n",
       " (u'pre-match', 145),\n",
       " (u'better', 133),\n",
       " (u'half-time', 127),\n",
       " (u\"'shit\", 127),\n",
       " (u'hear', 127),\n",
       " (u'closer', 119),\n",
       " (u'last', 113),\n",
       " (u'great', 112),\n",
       " (u'50th', 107),\n",
       " (u'additional', 102),\n",
       " (u'minimum', 101),\n",
       " (u'fourth', 101),\n",
       " (u'game-high', 88),\n",
       " (u'defensive', 88),\n",
       " (u'live', 75),\n",
       " (u'creative', 69),\n",
       " (u\"c'mon\", 68),\n",
       " (u'nervous', 66),\n",
       " (u'free', 64),\n",
       " (u'mufclive', 61),\n",
       " (u'watch', 60),\n",
       " (u'darmian', 60),\n",
       " (u'third', 58),\n",
       " (u'many', 54),\n",
       " (u'early', 53),\n",
       " (u'worst', 52),\n",
       " (u'main', 52),\n",
       " (u'strong', 51),\n",
       " (u'officialtallal', 47),\n",
       " (u'slow', 44),\n",
       " (u'competitive', 44),\n",
       " (u'much', 42),\n",
       " (u'next', 41),\n",
       " (u'lucky', 40),\n",
       " (u'nice', 38),\n",
       " (u'brilliant', 37),\n",
       " (u'bad', 37),\n",
       " (u'poor', 36),\n",
       " (u'same', 35),\n",
       " (u'terrible', 34),\n",
       " (u'least', 34),\n",
       " (u'final', 34),\n",
       " (u'big', 34),\n",
       " (u'swans-', 33),\n",
       " (u'clear', 32),\n",
       " (u'second', 31),\n",
       " (u'lifelong', 31),\n",
       " (u'c\\u2026', 28),\n",
       " (u'other', 28),\n",
       " (u'consecutive', 27),\n",
       " (u'unnecessary', 27),\n",
       " (u'awful', 24),\n",
       " (u'past', 24),\n",
       " (u'such', 24),\n",
       " (u'\\xa310m', 24),\n",
       " (u'happy', 24),\n",
       " (u'high', 23),\n",
       " (u'most', 22),\n",
       " (u'bright', 22),\n",
       " (u'solid', 22),\n",
       " (u'net', 21),\n",
       " (u\"'s**t\", 21),\n",
       " (u'horrible', 21),\n",
       " (u'samuelluckhurst', 21),\n",
       " (u'old', 21),\n",
       " (u'foul', 20),\n",
       " (u'strongest', 20),\n",
       " (u'incredible', 20),\n",
       " (u'long', 19),\n",
       " (u'far', 18),\n",
       " (u'hilarious', 18),\n",
       " (u'full', 18),\n",
       " (u'sure', 18),\n",
       " (u'easy', 18),\n",
       " (u'real', 18),\n",
       " (u'comfortable', 17),\n",
       " (u'able', 17),\n",
       " (u'only', 17),\n",
       " (u'ander\\u2026', 17),\n",
       " (u'biggest', 17),\n",
       " (u'fantastic', 16),\n",
       " (u'positive', 16),\n",
       " (u'wrong', 16),\n",
       " (u'unlucky', 16),\n",
       " (u'common', 16),\n",
       " (u'beast', 16),\n",
       " (u'dangerous', 16),\n",
       " (u'\\xa312m', 15),\n",
       " (u'social', 15),\n",
       " (u'give', 15),\n",
       " (u'small', 15),\n",
       " (u'whole', 15),\n",
       " (u'tough', 15),\n",
       " (u'confident', 15),\n",
       " (u'http\\u2026', 14),\n",
       " (u'heart-in-mouth', 14),\n",
       " (u'weak', 14),\n",
       " (u'hard', 13),\n",
       " (u'ademirjian', 13),\n",
       " (u'blind', 13),\n",
       " (u'average', 13),\n",
       " (u'quickly-taken', 13),\n",
       " (u'own', 13),\n",
       " (u'absolute', 12),\n",
       " (u'goal', 12),\n",
       " (u'hot', 12),\n",
       " (u'finish', 12),\n",
       " (u'stupid', 12),\n",
       " (u'different', 12),\n",
       " (u'line-up', 12),\n",
       " (u'young', 11),\n",
       " (u'direct', 11),\n",
       " (u'that.\\u2026', 11),\n",
       " (u'ultimatefanlive', 11),\n",
       " (u'predictable', 11),\n",
       " (u'professional', 11),\n",
       " (u'black', 11),\n",
       " (u'fair', 11),\n",
       " (u'true', 11),\n",
       " (u'pic', 11),\n",
       " (u'current', 10),\n",
       " (u'shite', 10),\n",
       " (u'beautiful', 10),\n",
       " (u'sharp', 10),\n",
       " (u'huge', 10),\n",
       " (u'unbelievable', 10),\n",
       " (u'thigh', 10),\n",
       " (u'static', 10),\n",
       " (u'several', 10),\n",
       " (u'arsenal', 10),\n",
       " (u'double', 10),\n",
       " (u'minutes\\u2026what', 10),\n",
       " (u'serious', 10),\n",
       " (u'dribble', 9),\n",
       " (u'swa\\u2026', 9),\n",
       " (u'consistent', 9),\n",
       " (u'38th', 9),\n",
       " (u'swans\\u2026', 9),\n",
       " (u'tactical', 9),\n",
       " (u'usual', 9),\n",
       " (u'less', 9),\n",
       " (u'eas\\u2026', 9),\n",
       " (u'toughest', 9),\n",
       " (u'complete', 9),\n",
       " (u'adjective', 8),\n",
       " (u'\\u02c8h\\u0259\\u028apl\\u026as/submit', 8),\n",
       " (u'later', 8),\n",
       " (u'34th', 8),\n",
       " (u'unsuccessful', 8),\n",
       " (u'ready', 8),\n",
       " (u'touch', 8),\n",
       " (u'28th', 8),\n",
       " (u'first-time', 8),\n",
       " (u'36th', 8),\n",
       " (u'26th', 8),\n",
       " (u'43rd', 8),\n",
       " (u'chant', 7),\n",
       " (u'easier', 7),\n",
       " (u'unimpressive', 7),\n",
       " (u'scary', 7),\n",
       " (u'loud', 7),\n",
       " (u'pedestrian', 7),\n",
       " (u'2nd', 7),\n",
       " (u'follow\\u2026', 7),\n",
       " (u'right', 7),\n",
       " (u'clinical', 7),\n",
       " (u'gon', 7),\n",
       " (u'faster', 7),\n",
       " (u'sorry', 6),\n",
       " (u'impressive', 6),\n",
       " (u'quick', 6),\n",
       " (u'winger/wide', 6),\n",
       " (u'obvious', 6),\n",
       " (u'topic', 6),\n",
       " (u'fat', 6),\n",
       " (u'london.\\u201d', 6),\n",
       " (u'short', 6),\n",
       " (u'enter', 6),\n",
       " (u'shaky', 6),\n",
       " (u'perfect', 6),\n",
       " (u'here\\u2019s', 6),\n",
       " (u'special', 6),\n",
       " (u'red', 6),\n",
       " (u'pathetic', 6),\n",
       " (u'honest', 6),\n",
       " (u'open', 6),\n",
       " (u'white', 6),\n",
       " (u'aggressive', 6),\n",
       " (u'hopeful', 6),\n",
       " (u'available', 6),\n",
       " (u'physical', 6),\n",
       " (u'necessary', 6),\n",
       " (u'3point', 6),\n",
       " (u'scared', 6),\n",
       " (u's/o', 6),\n",
       " (u'square', 6),\n",
       " (u'careful', 5),\n",
       " (u'exact', 5),\n",
       " (u'fabulous', 5),\n",
       " (u'brief', 5),\n",
       " (u'dreadful', 5),\n",
       " (u'm\\u2026', 5),\n",
       " (u'unreal', 5),\n",
       " (u\"'fight\", 5),\n",
       " (u'swansofficial', 5),\n",
       " (u'fit', 5),\n",
       " (u'bigger', 5),\n",
       " (u'3rd', 5),\n",
       " (u'massive', 5),\n",
       " (u'mobile', 5),\n",
       " (u'enough', 5),\n",
       " (u'celebrate', 5),\n",
       " (u'wish', 5),\n",
       " (u'quiet', 5),\n",
       " (u'constant', 5),\n",
       " (u'difficult', 5),\n",
       " (u'possible', 5),\n",
       " (u'alive', 5),\n",
       " (u'proper', 5),\n",
       " (u'central', 5),\n",
       " (u'similar', 5),\n",
       " (u'general', 5),\n",
       " (u'shit', 5),\n",
       " (u'worth', 4),\n",
       " (u'schweinsteiger', 4),\n",
       " (u'\\u20ac40m', 4),\n",
       " (u'sad', 4),\n",
       " (u'bipolar', 4),\n",
       " (u'premier', 4),\n",
       " (u'1st', 4),\n",
       " (u'wary', 4),\n",
       " (u'united', 4),\n",
       " (u'panic', 4),\n",
       " (u'1494mage', 4),\n",
       " (u'hat-trick', 4),\n",
       " (u'safe', 4),\n",
       " (u'trending', 4),\n",
       " (u'laughable', 4),\n",
       " (u'major', 4),\n",
       " (u'fast', 4),\n",
       " (u'painful', 4),\n",
       " (u'tactic', 4),\n",
       " (u'stronger', 4),\n",
       " (u'latest', 4),\n",
       " (u'exclusive', 4),\n",
       " (u'earth', 4),\n",
       " (u'prime', 4),\n",
       " (u'485th', 4),\n",
       " (u'season-long', 4),\n",
       " (u'outside', 4),\n",
       " (u'disappointing', 4),\n",
       " (u'funny', 4),\n",
       " (u'recent', 4),\n",
       " (u'previous', 4),\n",
       " (u'useless', 4),\n",
       " (u'man.united', 4),\n",
       " (u'wat', 4),\n",
       " (u'..come', 4),\n",
       " (u'official', 4),\n",
       " (u'tight', 4),\n",
       " (u'ouch', 3),\n",
       " (u'-d', 3),\n",
       " (u'worse', 3),\n",
       " (u'anonymous', 3),\n",
       " (u'17th', 3),\n",
       " (u\"'united\", 3),\n",
       " (u'international', 3),\n",
       " (u'ponderous', 3),\n",
       " (u'sexy', 3),\n",
       " (u'negative', 3),\n",
       " (u'successful', 3),\n",
       " (u'rubbish', 3),\n",
       " (u'we\\u2019ll', 3),\n",
       " (u'light', 3),\n",
       " (u'typical', 3),\n",
       " (u'damian', 3),\n",
       " (u'european', 3),\n",
       " (u'sang', 3),\n",
       " (u'sluggish', 3),\n",
       " (u'33-man', 3),\n",
       " (u'struggle', 3),\n",
       " (u'british', 3),\n",
       " (u'powerful', 3),\n",
       " (u'likely', 3),\n",
       " (u'followba\\u2026', 3),\n",
       " (u'vocal', 3),\n",
       " (u'future', 3),\n",
       " (u'aarrrgh', 3),\n",
       " (u'outstanding', 3),\n",
       " (u'normal', 3),\n",
       " (u'\\xa329m', 3),\n",
       " (u'interested', 3),\n",
       " (u'talksportlive', 3),\n",
       " (u\"y'all\", 3),\n",
       " (u'horrendous', 3),\n",
       " (u'lazy', 3),\n",
       " (u'\\u26bd\\ufe0fcome', 3),\n",
       " (u'league', 3),\n",
       " (u'dimensional', 3),\n",
       " (u'capable', 3),\n",
       " (u'former', 3),\n",
       " (u'mufc..biggest', 3),\n",
       " (u'sudden', 3),\n",
       " (u'harsh', 3),\n",
       " (u'closest', 3),\n",
       " (u'incapable', 3),\n",
       " (u'mic', 3),\n",
       " (u'legendary', 3),\n",
       " (u'passes..jeezus', 3),\n",
       " (u'overall', 3),\n",
       " (u'intense', 3),\n",
       " (u'u-n-i-t-e-d', 3),\n",
       " (u'youthful', 3),\n",
       " (u'initial', 3),\n",
       " (u'ayew', 3),\n",
       " (u'happier', 3),\n",
       " (u'underrated', 3),\n",
       " (u'sch', 2),\n",
       " (u'dear', 2),\n",
       " (u'simple/direct', 2),\n",
       " (u'85th', 2),\n",
       " (u'nanashalow', 2),\n",
       " (u'|aasd', 2),\n",
       " (u'cable', 2),\n",
       " (u\"'happy\", 2),\n",
       " (u'fewer', 2),\n",
       " (u'|vnfd', 2),\n",
       " (u'straight', 2),\n",
       " (u'.describe', 2),\n",
       " (u'hour\\u2026', 2),\n",
       " (u'uncomfortable', 2),\n",
       " (u'odd', 2),\n",
       " (u'suspect', 2),\n",
       " (u'active', 2),\n",
       " (u'ineffective', 2),\n",
       " (u'kid', 2),\n",
       " (u'possession-based', 2),\n",
       " (u'love', 2),\n",
       " (u'total', 2),\n",
       " (u'establish', 2),\n",
       " (u'deutscherfu\\xdfballmeister', 2),\n",
       " (u'nonchalant', 2),\n",
       " (u'imminent', 2),\n",
       " (u'positional', 2),\n",
       " (u'\\u2764\\ufe0f\\u2764\\ufe0fcome', 2),\n",
       " (u'dat', 2),\n",
       " (u'front', 2),\n",
       " (u'stressful', 2),\n",
       " (u'financial', 2),\n",
       " (u'happen', 2),\n",
       " (u'miss', 2),\n",
       " (u'paddypower', 2),\n",
       " (u'imperative', 2),\n",
       " (u'quite', 2),\n",
       " (u'inevitable', 2),\n",
       " (u'lousy', 2),\n",
       " (u\"'why\", 2),\n",
       " (u'spanish', 2),\n",
       " (u'ridiculous', 2),\n",
       " (u'decisive', 2),\n",
       " (u'kind', 2),\n",
       " (u'outrageous', 2),\n",
       " (u'to\\u2026', 2),\n",
       " (u'mind', 2),\n",
       " (u'vulnerable', 2),\n",
       " (u'bastard', 2),\n",
       " (u'afraid', 2),\n",
       " (u'mid', 2),\n",
       " (u'harmful', 2),\n",
       " (u'pish', 2),\n",
       " (u'hungry', 2),\n",
       " (u'german', 2),\n",
       " (u'mid-month', 2),\n",
       " (u'lethal', 2),\n",
       " (u\"'emulate\", 2),\n",
       " (u'goalless', 2),\n",
       " (u'unbeatable', 2),\n",
       " (u'|qadfg', 2),\n",
       " (u\"'decent\", 2),\n",
       " (u'sh*t', 2),\n",
       " (u'donovanemile', 2),\n",
       " (u'emotional', 2),\n",
       " (u'atleast', 2),\n",
       " (u'.not', 2),\n",
       " (u'glorious', 2),\n",
       " (u'effective', 2),\n",
       " (u'comical', 2),\n",
       " (u'|chfdd', 2),\n",
       " (u'fatter', 2),\n",
       " (u'mong', 2),\n",
       " (u'f**k', 2),\n",
       " (u'hat', 2),\n",
       " (u'reliable', 2),\n",
       " (u'near', 2),\n",
       " (u'mulive', 2),\n",
       " (u'unfortunate', 2),\n",
       " (u'ball', 2),\n",
       " (u'flesh', 2),\n",
       " (u'nid', 2),\n",
       " (u'..can', 2),\n",
       " (u'jealous', 2),\n",
       " (u'killer', 2),\n",
       " (u'manutd', 2),\n",
       " (u'magical', 2),\n",
       " (u'delight/hat-trick', 2),\n",
       " (u'sky', 2),\n",
       " (u'match', 2),\n",
       " (u'lose', 2),\n",
       " (u'invaluable', 2),\n",
       " (u'winger/forward', 2),\n",
       " (u'respect', 2),\n",
       " (u'|aaf', 2),\n",
       " (u'worthy', 2),\n",
       " (u'in-play', 2),\n",
       " (u'\\xa3240m', 2),\n",
       " (u'city..group', 2),\n",
       " (u\"'cause\", 2),\n",
       " (u\"'low-cost\", 2),\n",
       " (u'van', 2),\n",
       " (u'.let', 2),\n",
       " (u'twitter', 2),\n",
       " (u'abysmal', 2),\n",
       " (u'dead', 2),\n",
       " (u'selfish', 2),\n",
       " (u'..we', 2),\n",
       " (u'aerial', 2),\n",
       " (u'steady', 2),\n",
       " (u'single', 2),\n",
       " (u'midweek', 2),\n",
       " (u\"'low\", 2),\n",
       " (u\"'ll\", 2),\n",
       " (u'offensive', 2),\n",
       " (u'good.come', 2),\n",
       " (u'naive', 2),\n",
       " (u'wide-open', 1),\n",
       " (u'|qqasd', 1),\n",
       " (u'remarkable', 1),\n",
       " (u'mid-week', 1),\n",
       " (u'hear/read', 1),\n",
       " (u'relieve', 1),\n",
       " (u'link-up', 1),\n",
       " (u'mufc..they', 1),\n",
       " (u'asian', 1),\n",
       " (u'controversial', 1),\n",
       " (u'tonic', 1),\n",
       " (u'conservative', 1),\n",
       " (u'reluctant', 1),\n",
       " (u'fatal', 1),\n",
       " (u'@', 1),\n",
       " (u'global', 1),\n",
       " (u'straightforward', 1),\n",
       " (u'*sigh', 1),\n",
       " (u'spectacular\\U0001f44f\\U0001f3fc', 1),\n",
       " (u'|ffgffg', 1),\n",
       " (u'g\\u2026', 1),\n",
       " (u'.come', 1),\n",
       " (u'anemic', 1),\n",
       " (u'imranmohdkamal', 1),\n",
       " (u'arlowhite', 1),\n",
       " (u'12th', 1),\n",
       " (u'high\\U0001f6a9', 1),\n",
       " (u'large', 1),\n",
       " (u'pesky', 1),\n",
       " (u'izzatiiijamaaal', 1),\n",
       " (u\"mid'field\", 1),\n",
       " (u'swansea0-0manutd', 1),\n",
       " (u'batter', 1),\n",
       " (u'.*ok', 1),\n",
       " (u'quicker', 1),\n",
       " (u'two-footed', 1),\n",
       " (u'..how', 1),\n",
       " (u'rough', 1),\n",
       " (u'established', 1),\n",
       " (u'..on', 1),\n",
       " (u'.can', 1),\n",
       " (u'twitter\\U0001f44d\\U0001f3fc', 1),\n",
       " (u'cynical', 1),\n",
       " (u'+1min', 1),\n",
       " (u'|vvg', 1),\n",
       " (u\"'hi\", 1),\n",
       " (u'loose', 1),\n",
       " (u'productive', 1),\n",
       " (u'favourable', 1),\n",
       " (u'busy', 1),\n",
       " (u'dry', 1),\n",
       " (u\"van'gaal\", 1),\n",
       " (u'bext', 1),\n",
       " (u'.them', 1),\n",
       " (u'|qaddf', 1),\n",
       " (u'fuck\\u2026', 1),\n",
       " (u'it\\u2019ll', 1),\n",
       " (u'narrow', 1),\n",
       " (u'astute', 1),\n",
       " (u'br\\xfcgge', 1),\n",
       " (u'hectic', 1),\n",
       " (u'extra', 1),\n",
       " (u'win', 1),\n",
       " (u'logical', 1),\n",
       " (u'|fvdf', 1),\n",
       " (u'psychological', 1),\n",
       " (u'visible', 1),\n",
       " (u'.ohhh', 1),\n",
       " (u'..trying', 1),\n",
       " (u'predicted', 1),\n",
       " (u'sharper', 1),\n",
       " (u'cheeky', 1),\n",
       " (u'..and', 1),\n",
       " (u'defender..deathwish', 1),\n",
       " (u\"'fairytale\", 1),\n",
       " (u'theoretical', 1),\n",
       " (u'flat', 1),\n",
       " (u'.there', 1),\n",
       " (u'higher', 1),\n",
       " (u'rich', 1),\n",
       " (u'acceptable', 1),\n",
       " (u'us\\U0001f44f\\U0001f3fb', 1),\n",
       " (u'aware', 1),\n",
       " (u'5live', 1),\n",
       " (u\"l'pool\", 1),\n",
       " (u'dismal', 1),\n",
       " (u'\\xa1united', 1),\n",
       " (u'..nil', 1),\n",
       " (u'height', 1),\n",
       " (u'easiest', 1),\n",
       " (u'glad', 1),\n",
       " (u'chance-hes', 1),\n",
       " (u'oh', 1),\n",
       " (u'cant', 1),\n",
       " (u\"'real\", 1),\n",
       " (u'closing', 1),\n",
       " (u'arrive', 1),\n",
       " (u'slightest', 1),\n",
       " (u'crazy', 1),\n",
       " (u'shelvey-esque', 1),\n",
       " (u'atrocious', 1),\n",
       " (u'medical', 1),\n",
       " (u'awesome', 1),\n",
       " (u'sung-yueng', 1),\n",
       " (u'93rd', 1),\n",
       " (u'7.late', 1),\n",
       " (u'chin', 1),\n",
       " (u'.just', 1),\n",
       " (u'want', 1),\n",
       " (u'ma\\u2026', 1),\n",
       " (u'half\\u2026', 1),\n",
       " (u'dazzle', 1),\n",
       " (u'septic', 1),\n",
       " (u'very', 1),\n",
       " (u'swear', 1),\n",
       " (u'silent', 1),\n",
       " (u'|sc', 1),\n",
       " (u'animal', 1),\n",
       " (u'gate', 1),\n",
       " (u'gamble', 1),\n",
       " (u'foolish', 1),\n",
       " (u'm\\xfcller', 1),\n",
       " (u'stop', 1),\n",
       " (u'earlier', 1),\n",
       " (u'waynerooney\\U0001f4aa\\U0001f3fc', 1),\n",
       " (u'watch.lvg', 1),\n",
       " (u'tackle', 1),\n",
       " (u'sloppy', 1),\n",
       " (u'|ss', 1),\n",
       " (u'first.\\u2026', 1),\n",
       " (u'natural', 1),\n",
       " (u'pl..we', 1),\n",
       " (u'.see', 1),\n",
       " (u'non-threat', 1),\n",
       " (u'sh', 1),\n",
       " (u'green', 1),\n",
       " (u'allow', 1),\n",
       " (u'pressure\\U0001f631\\U0001f631\\U0001f631\\U0001f631\\U0001f631', 1),\n",
       " (u'centre-back', 1),\n",
       " (u'cute', 1),\n",
       " (u'happyhappyhappy', 1),\n",
       " (u'doubtful', 1),\n",
       " (u'numbers..which', 1),\n",
       " (u'|ddcch', 1),\n",
       " (u'cold', 1),\n",
       " (u'trouble', 1),\n",
       " (u'arrogant', 1),\n",
       " (u'match\\U0001f602\\U0001f62d', 1),\n",
       " (u'|tfcdd', 1),\n",
       " (u'lateral', 1),\n",
       " (u'us..nahh', 1),\n",
       " (u'winning', 1),\n",
       " (u'porto..they', 1),\n",
       " (u'willing', 1),\n",
       " (u'heart-2-mouth', 1),\n",
       " (u'monaco..they', 1),\n",
       " (u'season..let', 1),\n",
       " (u'non', 1),\n",
       " (u'smarter', 1),\n",
       " (u'dan', 1),\n",
       " (u'dawlish', 1),\n",
       " (u'clumsy', 1),\n",
       " (u'intelligent', 1),\n",
       " (u\"'memphis\", 1),\n",
       " (u'rite', 1),\n",
       " (u'\\U0001f60c', 1),\n",
       " (u'erratic', 1),\n",
       " (u'bitch', 1),\n",
       " (u'unfocused', 1),\n",
       " (u'|waddsf', 1),\n",
       " (u'glory-glory', 1),\n",
       " (u'fish', 1),\n",
       " (u'ref-ing', 1),\n",
       " (u'positioning..all', 1),\n",
       " (u'we\\u2019ve', 1),\n",
       " (u'http', 1),\n",
       " (u'tancredipalmer\\u2026', 1),\n",
       " (u'does..lol', 1),\n",
       " (u'winger/attacker', 1),\n",
       " (u'childish', 1),\n",
       " (u'opposite', 1),\n",
       " (u'\\xa360m', 1),\n",
       " (u'content', 1),\n",
       " (u'let-off', 1),\n",
       " (u'mate', 1),\n",
       " (u'.he', 1),\n",
       " (u'striker..\\U0001f602', 1),\n",
       " (u'philosophy', 1),\n",
       " (u'dirtyyy', 1),\n",
       " (u\"com'on\", 1),\n",
       " (u'st\\u2026', 1),\n",
       " (u'imagine', 1),\n",
       " (u'|asfg', 1),\n",
       " (u'half-hearted', 1),\n",
       " (u'agree', 1),\n",
       " (u'silverware', 1),\n",
       " (u'fetal', 1),\n",
       " (u'longterm', 1),\n",
       " (u'shelvey', 1),\n",
       " (u'american', 1),\n",
       " (u'ish', 1),\n",
       " (u'threat', 1),\n",
       " (u'motivational', 1),\n",
       " (u\"'push\", 1),\n",
       " (u'yest', 1),\n",
       " (u'bite', 1),\n",
       " (u'fuckin', 1),\n",
       " (u\"come'on\", 1),\n",
       " (u'philosophical', 1),\n",
       " (u'off..just', 1),\n",
       " (u'.united', 1),\n",
       " (u'impossible', 1),\n",
       " (u\"'em\", 1),\n",
       " (u'anggagayung', 1),\n",
       " (u'*shrek', 1),\n",
       " (u'off-the-ball', 1),\n",
       " (u'spinach', 1),\n",
       " (u'\\u2018landmark\\u2019', 1),\n",
       " (u'|ccgg', 1),\n",
       " (u\"came'on\", 1),\n",
       " (u'bitter', 1),\n",
       " (u'excellent', 1),\n",
       " (u'|cdss', 1),\n",
       " (u'somethin', 1),\n",
       " (u'relieved', 1),\n",
       " (u'uninventive', 1),\n",
       " (u'|zdd', 1),\n",
       " (u'i-league', 1),\n",
       " (u'off..\\U0001f602\\U0001f602\\U0001f602', 1),\n",
       " (u'\\U0001f62d\\U0001f62dfeeling', 1),\n",
       " (u're-motivated', 1),\n",
       " (u'matter', 1),\n",
       " (u'contrary', 1),\n",
       " (u'aesthetic', 1),\n",
       " (u'trophy', 1),\n",
       " (u'risky', 1),\n",
       " (u'questionable', 1),\n",
       " (u'41st', 1),\n",
       " (u'shittest', 1),\n",
       " (u'modern', 1),\n",
       " (u'infront', 1),\n",
       " (u'today.come', 1),\n",
       " (u'a.ayew', 1),\n",
       " (u'lid', 1),\n",
       " (u'free-flowing', 1),\n",
       " (u'nervy', 1),\n",
       " (u'reshmikasingh', 1),\n",
       " (u'come-on', 1),\n",
       " (u'loooong', 1),\n",
       " (u'couch', 1),\n",
       " (u'deadlier', 1),\n",
       " (u'superior', 1),\n",
       " (u'commentary', 1),\n",
       " (u'korean', 1),\n",
       " (u'wettest', 1),\n",
       " (u'ivanovic', 1),\n",
       " (u'it..one', 1),\n",
       " (u'electric', 1),\n",
       " (u'bst', 1),\n",
       " (u'doin', 1),\n",
       " (u'knew', 1),\n",
       " (u'dutch', 1),\n",
       " (u'..ashley', 1),\n",
       " (u'regular', 1),\n",
       " (u'plenty', 1),\n",
       " (u'game\\U0001f602', 1),\n",
       " (u'physically..they', 1),\n",
       " (u're-follow', 1),\n",
       " (u'tired', 1),\n",
       " (u\"'beast\", 1),\n",
       " (u'usual\\U0001f60a\\U0001f60a\\U0001f60a\\U0001f60a\\U0001f60a', 1),\n",
       " (u'surprising', 1),\n",
       " (u'trophy-winning', 1),\n",
       " (u'traditional', 1),\n",
       " (u'ruthless', 1),\n",
       " (u'brugge.\\u2026', 1),\n",
       " (u'shot', 1),\n",
       " (u'muderous', 1),\n",
       " (u\"'delete\", 1),\n",
       " (u'mufc:1st', 1),\n",
       " (u'|ffd', 1),\n",
       " (u'|ffc', 1),\n",
       " (u'1453749463732th', 1),\n",
       " (u'pull', 1),\n",
       " (u'rope\\U0001f610', 1),\n",
       " (u'.another', 1),\n",
       " (u'score', 1),\n",
       " (u'*collective', 1),\n",
       " (u'african', 1),\n",
       " (u'4th/5th', 1),\n",
       " (u'dominant', 1),\n",
       " (u'exceptional', 1),\n",
       " (u'familiar', 1),\n",
       " (u'rush', 1),\n",
       " (u'tbh', 1),\n",
       " (u'..crazy', 1),\n",
       " (u'valuable', 1),\n",
       " (u'eish', 1),\n",
       " (u'dodgy', 1),\n",
       " (u'swansea\\U0001f44a\\U0001f3fb', 1),\n",
       " (u'.dot', 1),\n",
       " (u'goal..but', 1),\n",
       " (u'shy', 1),\n",
       " (u'the_dave_turner\\u2026', 1),\n",
       " (u'manager..hope', 1),\n",
       " (u'mufc\\u2661', 1),\n",
       " (u'darmianofficial', 1),\n",
       " (u\"does'nt\", 1),\n",
       " (u'excatic', 1),\n",
       " (u'|n', 1),\n",
       " (u'herrera\\U0001f629', 1),\n",
       " (u'desperate', 1),\n",
       " (u'11th', 1),\n",
       " (u'wonder', 1),\n",
       " (u'|nn', 1),\n",
       " (u'televised', 1),\n",
       " (u'jumped', 1),\n",
       " (u'definite', 1),\n",
       " (u'orgasmic', 1),\n",
       " (u'unable', 1),\n",
       " (u'winger', 1),\n",
       " (u'mouthful', 1),\n",
       " (u'lethargic', 1),\n",
       " (u'go-go', 1),\n",
       " (u'explosive', 1),\n",
       " (u'swans\\u201d', 1),\n",
       " (u'handful', 1),\n",
       " (u'unstoppable', 1),\n",
       " (u'tat', 1),\n",
       " (u'invisible', 1),\n",
       " (u'spark', 1),\n",
       " (u'brillant', 1),\n",
       " (u'eddiekenny', 1),\n",
       " (u'\\xa1gracias', 1),\n",
       " (u'disastrous', 1),\n",
       " (u'f***ing', 1),\n",
       " (u'..sooo', 1),\n",
       " (u'simple', 1),\n",
       " (u'profmicky', 1),\n",
       " (u'oooo..that', 1),\n",
       " (u'\\u201cbastian', 1),\n",
       " (u'expensive', 1),\n",
       " (u'devil', 1),\n",
       " (u'four-straight', 1),\n",
       " (u'monthly', 1),\n",
       " (u'west', 1),\n",
       " (u'eeesh', 1),\n",
       " (u'due', 1),\n",
       " (u\"'stupid\", 1),\n",
       " (u\"'beat\", 1),\n",
       " (u'don\\u2019t', 1),\n",
       " (u'waste', 1),\n",
       " (u'..smh', 1),\n",
       " (u'taserng', 1),\n",
       " (u'like\\u2026', 1),\n",
       " (u'life', 1),\n",
       " (u'circus', 1),\n",
       " (u'controlled', 1),\n",
       " (u'pie', 1),\n",
       " (u'crumble', 1),\n",
       " (u'standard', 1),\n",
       " (u'nfin', 1),\n",
       " (u'it\\U0001f612', 1),\n",
       " (u'harder', 1),\n",
       " (u'n', 1),\n",
       " (u'healthy', 1),\n",
       " (u'suppose', 1),\n",
       " (u'promising', 1),\n",
       " (u'vidic', 1),\n",
       " (u'marioaldric', 1),\n",
       " (u'earful', 1),\n",
       " (u'blind.he', 1),\n",
       " (u'indonesian', 1),\n",
       " (u'breaking..carrick', 1),\n",
       " (u'htt\\u2026', 1),\n",
       " (u'optimistic', 1),\n",
       " (u'|vgfgh', 1),\n",
       " (u'weakest', 1),\n",
       " (u'.luke', 1),\n",
       " (u'pedestal', 1),\n",
       " (u'fastest', 1),\n",
       " (u\"we've\\u2026\", 1),\n",
       " (u\"'process\", 1),\n",
       " (u'jual', 1),\n",
       " (u'|qadf', 1),\n",
       " (u'medic', 1),\n",
       " (u'yal', 1),\n",
       " (u'coronary', 1),\n",
       " (u'|wscfsf', 1),\n",
       " (u'.cracking', 1),\n",
       " (u\"'we\", 1),\n",
       " (u'temporary', 1),\n",
       " (u'derby', 1),\n",
       " (u'am..they', 1),\n",
       " (u'first-half', 1),\n",
       " (u'f*cking', 1),\n",
       " (u'focal', 1),\n",
       " (u'rooney.playing', 1),\n",
       " (u'back-ups', 1),\n",
       " (u'cash-in', 1),\n",
       " (u'ragged', 1),\n",
       " (u'newtactic', 1),\n",
       " (u'|addd', 1),\n",
       " (u'english', 1),\n",
       " (u'non-foul', 1),\n",
       " (u'attack..nervous', 1),\n",
       " (u'average..just', 1),\n",
       " (u'seasonal', 1),\n",
       " (u'shambolic', 1),\n",
       " (u'99mufc_social', 1),\n",
       " (u'sleepy', 1),\n",
       " (u'|y', 1),\n",
       " (u'routl\\u2026', 1),\n",
       " (u'polish', 1),\n",
       " (u'alternative', 1),\n",
       " (u'generous', 1),\n",
       " (u'milky', 1),\n",
       " (u'eager', 1),\n",
       " (u'\\xa1\\xa1vamoooss', 1),\n",
       " (u'problematic', 1),\n",
       " (u'halftime', 1),\n",
       " (u'mcfc', 1),\n",
       " (u'i\\u2019d', 1),\n",
       " (u'fate', 1),\n",
       " (u'vangaal', 1),\n",
       " (u'dark', 1),\n",
       " (u'quest', 1),\n",
       " (u'bloody', 1),\n",
       " (u'timmijager', 1),\n",
       " (u'2close', 1),\n",
       " (u'trash', 1),\n",
       " (u'd', 1),\n",
       " (u'cool', 1),\n",
       " (u'rcatanese', 1),\n",
       " (u'6th', 1),\n",
       " (u'|qqsf', 1),\n",
       " (u'|cvg', 1),\n",
       " (u'soft', 1),\n",
       " (u\"'unleash\", 1),\n",
       " (u'livelier', 1),\n",
       " (u'italian', 1),\n",
       " (u'discrete', 1),\n",
       " (u'feast', 1),\n",
       " (u'mid-table', 1),\n",
       " (u'added', 1),\n",
       " (u'stardust', 1),\n",
       " (u'racial', 1),\n",
       " (u'class\\U0001f44c\\U0001f3fc', 1),\n",
       " (u'go\\u26bd\\u26bd', 1),\n",
       " (u'24yard', 1),\n",
       " (u'gosh', 1),\n",
       " (u'slick', 1),\n",
       " (u'per', 1),\n",
       " (u'you\\u2019d', 1),\n",
       " (u'epic', 1),\n",
       " (u'chance-he', 1),\n",
       " (u'reasonable', 1),\n",
       " (u'*havent', 1),\n",
       " (u'martin', 1),\n",
       " (u'iconic', 1),\n",
       " (u'game.not', 1),\n",
       " (u'petty', 1),\n",
       " (u'\\xa352m', 1),\n",
       " (u'*if', 1),\n",
       " (u'cautious', 1),\n",
       " (u'forward..no', 1),\n",
       " (u'mr.gaal', 1),\n",
       " (u'season..plus', 1),\n",
       " (u'favorite', 1),\n",
       " (u'benched', 1),\n",
       " (u'illegal', 1),\n",
       " (u\"'let\", 1),\n",
       " (u'mean', 1),\n",
       " (u'\\xa1come', 1),\n",
       " (u'wasteful', 1),\n",
       " (u'\\xa365m', 1),\n",
       " (u'injectio\\u2026', 1),\n",
       " (u'camden', 1),\n",
       " (u'yous', 1),\n",
       " (u'alright.hd', 1),\n",
       " (u'mental', 1),\n",
       " (u'lvglogic', 1),\n",
       " (u'exciting', 1),\n",
       " (u'media.there', 1),\n",
       " (u'myopic', 1),\n",
       " (u'sigur\\xf0sson', 1),\n",
       " (u'graves\\U0001f44eif', 1),\n",
       " (u'brazilian', 1),\n",
       " (u'dynamite', 1),\n",
       " (u'shit..noob', 1),\n",
       " (u'abeg', 1),\n",
       " (u'treble', 1),\n",
       " (u'lowest', 1),\n",
       " (u'shower', 1),\n",
       " (u'\\xa1glory', 1),\n",
       " (u'basic', 1),\n",
       " (u'clearest', 1),\n",
       " (u'..dumb', 1),\n",
       " (u'highest', 1),\n",
       " (u'dull', 1),\n",
       " (u'bud', 1),\n",
       " (u'longer', 1),\n",
       " (u'swagger', 1),\n",
       " (u'evident', 1),\n",
       " (u'inside', 1),\n",
       " (u'incompetent', 1),\n",
       " (u'crystal', 1),\n",
       " (u\"'re\", 1),\n",
       " (u'dirty', 1),\n",
       " (u'last-minute', 1),\n",
       " (u'vibrant', 1),\n",
       " (u\"ma'fuckas\", 1),\n",
       " (u\"'bring\", 1),\n",
       " (u'enthusiastic', 1),\n",
       " (u'a.lindegaard', 1),\n",
       " (u'cmon', 1),\n",
       " (u'screamed\\U0001f610', 1),\n",
       " (u'classic', 1),\n",
       " (u\"'seldom\", 1),\n",
       " (u\"'shit'\", 1),\n",
       " (u'|cvgg', 1),\n",
       " (u\"sleep.c'mon\", 1),\n",
       " (u'idiots..stealing', 1),\n",
       " (u'awhile', 1),\n",
       " (u'.slow', 1),\n",
       " (u'incorrect', 1),\n",
       " (u'goal-getter', 1),\n",
       " (u'sleevesmusicgh', 1),\n",
       " (u'3pointswoulddonicely', 1),\n",
       " (u'us.must', 1),\n",
       " (u'anything/stop', 1),\n",
       " (u'non-existant', 1),\n",
       " (u'today\\U0001f44c', 1),\n",
       " (u'start..united', 1),\n",
       " (u'unneeded', 1),\n",
       " (u'forcing', 1),\n",
       " (u\"o'clock\", 1),\n",
       " (u'boys\\U0001f44c', 1),\n",
       " (u'..football', 1),\n",
       " (u'swamun.let', 1),\n",
       " (u'..dominate', 1),\n",
       " (u'editorsuresh', 1),\n",
       " (u'|bgffg', 1),\n",
       " ...]"
      ]
     },
     "execution_count": 35,
     "metadata": {},
     "output_type": "execute_result"
    }
   ],
   "source": [
    "counted_all_J_words.most_common()"
   ]
  },
  {
   "cell_type": "code",
   "execution_count": null,
   "metadata": {
    "collapsed": false
   },
   "outputs": [],
   "source": [
    "# tweets.head()\n",
    "# tweets.tail()\n",
    "# tweets.columns\n",
    "# tweets.values\n",
    "# tweets.values[0]\n",
    "tweets.describe()\n",
    "# tweets.T\n",
    "# tweets.sort_index(axis=1, ascending=False)\n",
    "# tweets.sort(columns='lang')\n",
    "# tweets['lang']\n",
    "# tweets.text\n",
    "# tweets[0:5]\n",
    "# tweets.loc[:,['text','country']]\n",
    "# tweets.loc[1:7,['text','lang']]\n",
    "# tweets.loc[1,['text','lang']]\n",
    "# tweets.iloc[1:3, 0:3]\n",
    "# tweets.groupby(['lang', 'country']).sum()"
   ]
  },
  {
   "cell_type": "markdown",
   "metadata": {
    "collapsed": true
   },
   "source": [
    "### Tweets Sentiment"
   ]
  },
  {
   "cell_type": "code",
   "execution_count": 36,
   "metadata": {
    "collapsed": false
   },
   "outputs": [],
   "source": [
    "# sentiment_mod.py\n",
    "import sentiment_mod as s"
   ]
  },
  {
   "cell_type": "code",
   "execution_count": 38,
   "metadata": {
    "collapsed": false
   },
   "outputs": [
    {
     "name": "stdout",
     "output_type": "stream",
     "text": [
      "RT @vancole9: After Chelsea losing points yest.. 3 points for #mufc is key today!\n",
      "('pos', 0.6)\n"
     ]
    }
   ],
   "source": [
    "print tweets_eng['text'][11013]\n",
    "print s.sentiment(tweets_eng['text'][11013])"
   ]
  },
  {
   "cell_type": "code",
   "execution_count": 39,
   "metadata": {
    "collapsed": false
   },
   "outputs": [],
   "source": [
    "home_tweets = tweets_eng[tweets_eng[\"tag_num\"] == 1]\n",
    "away_tweets = tweets_eng[tweets_eng[\"tag_num\"] == 2]"
   ]
  },
  {
   "cell_type": "code",
   "execution_count": 40,
   "metadata": {
    "collapsed": false
   },
   "outputs": [
    {
     "data": {
      "text/html": [
       "<div>\n",
       "<table border=\"1\" class=\"dataframe\">\n",
       "  <thead>\n",
       "    <tr style=\"text-align: right;\">\n",
       "      <th></th>\n",
       "      <th>text</th>\n",
       "      <th>lang</th>\n",
       "      <th>country</th>\n",
       "      <th>hashtags</th>\n",
       "      <th>tag_num</th>\n",
       "    </tr>\n",
       "  </thead>\n",
       "  <tbody>\n",
       "    <tr>\n",
       "      <th>436</th>\n",
       "      <td>Haha how daft from City to announce De Bruyne ...</td>\n",
       "      <td>en</td>\n",
       "      <td>None</td>\n",
       "      <td>[mufc, SWANS]</td>\n",
       "      <td>1</td>\n",
       "    </tr>\n",
       "    <tr>\n",
       "      <th>1478</th>\n",
       "      <td>XI Inicial del #SWANS: Fabianski, Naughton, Fe...</td>\n",
       "      <td>en</td>\n",
       "      <td>None</td>\n",
       "      <td>[SWANS]</td>\n",
       "      <td>1</td>\n",
       "    </tr>\n",
       "    <tr>\n",
       "      <th>2014</th>\n",
       "      <td>Friends of the #SWANS</td>\n",
       "      <td>en</td>\n",
       "      <td>None</td>\n",
       "      <td>[SWANS]</td>\n",
       "      <td>1</td>\n",
       "    </tr>\n",
       "    <tr>\n",
       "      <th>3371</th>\n",
       "      <td>RT @FutbolElineas: XI Inicial del #SWANS: Fabi...</td>\n",
       "      <td>en</td>\n",
       "      <td>None</td>\n",
       "      <td>[SWANS]</td>\n",
       "      <td>1</td>\n",
       "    </tr>\n",
       "    <tr>\n",
       "      <th>6181</th>\n",
       "      <td>#SWANS have settled into this game well. Some ...</td>\n",
       "      <td>en</td>\n",
       "      <td>None</td>\n",
       "      <td>[SWANS, BPL]</td>\n",
       "      <td>1</td>\n",
       "    </tr>\n",
       "  </tbody>\n",
       "</table>\n",
       "</div>"
      ],
      "text/plain": [
       "                                                   text lang country  \\\n",
       "436   Haha how daft from City to announce De Bruyne ...   en    None   \n",
       "1478  XI Inicial del #SWANS: Fabianski, Naughton, Fe...   en    None   \n",
       "2014                              Friends of the #SWANS   en    None   \n",
       "3371  RT @FutbolElineas: XI Inicial del #SWANS: Fabi...   en    None   \n",
       "6181  #SWANS have settled into this game well. Some ...   en    None   \n",
       "\n",
       "           hashtags  tag_num  \n",
       "436   [mufc, SWANS]        1  \n",
       "1478        [SWANS]        1  \n",
       "2014        [SWANS]        1  \n",
       "3371        [SWANS]        1  \n",
       "6181   [SWANS, BPL]        1  "
      ]
     },
     "execution_count": 40,
     "metadata": {},
     "output_type": "execute_result"
    }
   ],
   "source": [
    "home_tweets.head()"
   ]
  },
  {
   "cell_type": "code",
   "execution_count": 41,
   "metadata": {
    "collapsed": false
   },
   "outputs": [
    {
     "data": {
      "text/html": [
       "<div>\n",
       "<table border=\"1\" class=\"dataframe\">\n",
       "  <thead>\n",
       "    <tr style=\"text-align: right;\">\n",
       "      <th></th>\n",
       "      <th>text</th>\n",
       "      <th>lang</th>\n",
       "      <th>country</th>\n",
       "      <th>hashtags</th>\n",
       "      <th>tag_num</th>\n",
       "    </tr>\n",
       "  </thead>\n",
       "  <tbody>\n",
       "    <tr>\n",
       "      <th>1</th>\n",
       "      <td>game on #MUFC 👏👏👏</td>\n",
       "      <td>en</td>\n",
       "      <td>None</td>\n",
       "      <td>[MUFC]</td>\n",
       "      <td>2</td>\n",
       "    </tr>\n",
       "    <tr>\n",
       "      <th>7</th>\n",
       "      <td>GLORY GLORY @ManUtd #MUFC</td>\n",
       "      <td>en</td>\n",
       "      <td>None</td>\n",
       "      <td>[MUFC]</td>\n",
       "      <td>2</td>\n",
       "    </tr>\n",
       "    <tr>\n",
       "      <th>12</th>\n",
       "      <td>RT @premierleague: KICK-OFF #MUFC get us under...</td>\n",
       "      <td>en</td>\n",
       "      <td>None</td>\n",
       "      <td>[MUFC, SWAMUN]</td>\n",
       "      <td>2</td>\n",
       "    </tr>\n",
       "    <tr>\n",
       "      <th>16</th>\n",
       "      <td>RT @premierleague: KICK-OFF #MUFC get us under...</td>\n",
       "      <td>en</td>\n",
       "      <td>None</td>\n",
       "      <td>[MUFC, SWAMUN]</td>\n",
       "      <td>2</td>\n",
       "    </tr>\n",
       "    <tr>\n",
       "      <th>22</th>\n",
       "      <td>Kickoff: Swansea City vs Manchester United. #G...</td>\n",
       "      <td>en</td>\n",
       "      <td>None</td>\n",
       "      <td>[GGMU, MUFC]</td>\n",
       "      <td>2</td>\n",
       "    </tr>\n",
       "  </tbody>\n",
       "</table>\n",
       "</div>"
      ],
      "text/plain": [
       "                                                 text lang country  \\\n",
       "1                                game on #MUFC 👏👏👏   en    None   \n",
       "7                           GLORY GLORY @ManUtd #MUFC   en    None   \n",
       "12  RT @premierleague: KICK-OFF #MUFC get us under...   en    None   \n",
       "16  RT @premierleague: KICK-OFF #MUFC get us under...   en    None   \n",
       "22  Kickoff: Swansea City vs Manchester United. #G...   en    None   \n",
       "\n",
       "          hashtags  tag_num  \n",
       "1           [MUFC]        2  \n",
       "7           [MUFC]        2  \n",
       "12  [MUFC, SWAMUN]        2  \n",
       "16  [MUFC, SWAMUN]        2  \n",
       "22    [GGMU, MUFC]        2  "
      ]
     },
     "execution_count": 41,
     "metadata": {},
     "output_type": "execute_result"
    }
   ],
   "source": [
    "away_tweets.head()"
   ]
  },
  {
   "cell_type": "code",
   "execution_count": 43,
   "metadata": {
    "collapsed": false
   },
   "outputs": [],
   "source": [
    "import pandas as pd"
   ]
  },
  {
   "cell_type": "code",
   "execution_count": 44,
   "metadata": {
    "collapsed": false
   },
   "outputs": [],
   "source": [
    "home_tweets = pd.DataFrame(home_tweets.values, range(len(home_tweets)), home_tweets.columns)\n",
    "away_tweets = pd.DataFrame(away_tweets.values, range(len(away_tweets)), away_tweets.columns)"
   ]
  },
  {
   "cell_type": "code",
   "execution_count": 45,
   "metadata": {
    "collapsed": false
   },
   "outputs": [
    {
     "data": {
      "text/html": [
       "<div>\n",
       "<table border=\"1\" class=\"dataframe\">\n",
       "  <thead>\n",
       "    <tr style=\"text-align: right;\">\n",
       "      <th></th>\n",
       "      <th>text</th>\n",
       "      <th>lang</th>\n",
       "      <th>country</th>\n",
       "      <th>hashtags</th>\n",
       "      <th>tag_num</th>\n",
       "    </tr>\n",
       "  </thead>\n",
       "  <tbody>\n",
       "    <tr>\n",
       "      <th>0</th>\n",
       "      <td>Haha how daft from City to announce De Bruyne ...</td>\n",
       "      <td>en</td>\n",
       "      <td>None</td>\n",
       "      <td>[mufc, SWANS]</td>\n",
       "      <td>1</td>\n",
       "    </tr>\n",
       "    <tr>\n",
       "      <th>1</th>\n",
       "      <td>XI Inicial del #SWANS: Fabianski, Naughton, Fe...</td>\n",
       "      <td>en</td>\n",
       "      <td>None</td>\n",
       "      <td>[SWANS]</td>\n",
       "      <td>1</td>\n",
       "    </tr>\n",
       "    <tr>\n",
       "      <th>2</th>\n",
       "      <td>Friends of the #SWANS</td>\n",
       "      <td>en</td>\n",
       "      <td>None</td>\n",
       "      <td>[SWANS]</td>\n",
       "      <td>1</td>\n",
       "    </tr>\n",
       "    <tr>\n",
       "      <th>3</th>\n",
       "      <td>RT @FutbolElineas: XI Inicial del #SWANS: Fabi...</td>\n",
       "      <td>en</td>\n",
       "      <td>None</td>\n",
       "      <td>[SWANS]</td>\n",
       "      <td>1</td>\n",
       "    </tr>\n",
       "    <tr>\n",
       "      <th>4</th>\n",
       "      <td>#SWANS have settled into this game well. Some ...</td>\n",
       "      <td>en</td>\n",
       "      <td>None</td>\n",
       "      <td>[SWANS, BPL]</td>\n",
       "      <td>1</td>\n",
       "    </tr>\n",
       "  </tbody>\n",
       "</table>\n",
       "</div>"
      ],
      "text/plain": [
       "                                                text lang country  \\\n",
       "0  Haha how daft from City to announce De Bruyne ...   en    None   \n",
       "1  XI Inicial del #SWANS: Fabianski, Naughton, Fe...   en    None   \n",
       "2                              Friends of the #SWANS   en    None   \n",
       "3  RT @FutbolElineas: XI Inicial del #SWANS: Fabi...   en    None   \n",
       "4  #SWANS have settled into this game well. Some ...   en    None   \n",
       "\n",
       "        hashtags tag_num  \n",
       "0  [mufc, SWANS]       1  \n",
       "1        [SWANS]       1  \n",
       "2        [SWANS]       1  \n",
       "3        [SWANS]       1  \n",
       "4   [SWANS, BPL]       1  "
      ]
     },
     "execution_count": 45,
     "metadata": {},
     "output_type": "execute_result"
    }
   ],
   "source": [
    "home_tweets.head()"
   ]
  },
  {
   "cell_type": "code",
   "execution_count": 46,
   "metadata": {
    "collapsed": false
   },
   "outputs": [
    {
     "data": {
      "text/html": [
       "<div>\n",
       "<table border=\"1\" class=\"dataframe\">\n",
       "  <thead>\n",
       "    <tr style=\"text-align: right;\">\n",
       "      <th></th>\n",
       "      <th>text</th>\n",
       "      <th>lang</th>\n",
       "      <th>country</th>\n",
       "      <th>hashtags</th>\n",
       "      <th>tag_num</th>\n",
       "    </tr>\n",
       "  </thead>\n",
       "  <tbody>\n",
       "    <tr>\n",
       "      <th>0</th>\n",
       "      <td>game on #MUFC 👏👏👏</td>\n",
       "      <td>en</td>\n",
       "      <td>None</td>\n",
       "      <td>[MUFC]</td>\n",
       "      <td>2</td>\n",
       "    </tr>\n",
       "    <tr>\n",
       "      <th>1</th>\n",
       "      <td>GLORY GLORY @ManUtd #MUFC</td>\n",
       "      <td>en</td>\n",
       "      <td>None</td>\n",
       "      <td>[MUFC]</td>\n",
       "      <td>2</td>\n",
       "    </tr>\n",
       "    <tr>\n",
       "      <th>2</th>\n",
       "      <td>RT @premierleague: KICK-OFF #MUFC get us under...</td>\n",
       "      <td>en</td>\n",
       "      <td>None</td>\n",
       "      <td>[MUFC, SWAMUN]</td>\n",
       "      <td>2</td>\n",
       "    </tr>\n",
       "    <tr>\n",
       "      <th>3</th>\n",
       "      <td>RT @premierleague: KICK-OFF #MUFC get us under...</td>\n",
       "      <td>en</td>\n",
       "      <td>None</td>\n",
       "      <td>[MUFC, SWAMUN]</td>\n",
       "      <td>2</td>\n",
       "    </tr>\n",
       "    <tr>\n",
       "      <th>4</th>\n",
       "      <td>Kickoff: Swansea City vs Manchester United. #G...</td>\n",
       "      <td>en</td>\n",
       "      <td>None</td>\n",
       "      <td>[GGMU, MUFC]</td>\n",
       "      <td>2</td>\n",
       "    </tr>\n",
       "  </tbody>\n",
       "</table>\n",
       "</div>"
      ],
      "text/plain": [
       "                                                text lang country  \\\n",
       "0                               game on #MUFC 👏👏👏   en    None   \n",
       "1                          GLORY GLORY @ManUtd #MUFC   en    None   \n",
       "2  RT @premierleague: KICK-OFF #MUFC get us under...   en    None   \n",
       "3  RT @premierleague: KICK-OFF #MUFC get us under...   en    None   \n",
       "4  Kickoff: Swansea City vs Manchester United. #G...   en    None   \n",
       "\n",
       "         hashtags tag_num  \n",
       "0          [MUFC]       2  \n",
       "1          [MUFC]       2  \n",
       "2  [MUFC, SWAMUN]       2  \n",
       "3  [MUFC, SWAMUN]       2  \n",
       "4    [GGMU, MUFC]       2  "
      ]
     },
     "execution_count": 46,
     "metadata": {},
     "output_type": "execute_result"
    }
   ],
   "source": [
    "away_tweets.head()"
   ]
  },
  {
   "cell_type": "markdown",
   "metadata": {},
   "source": [
    "## Sentiment Analysis"
   ]
  },
  {
   "cell_type": "code",
   "execution_count": 47,
   "metadata": {
    "collapsed": true
   },
   "outputs": [],
   "source": [
    "home_sent = map(lambda tweet: s.sentiment(tweet)[0], home_tweets[\"text\"])"
   ]
  },
  {
   "cell_type": "code",
   "execution_count": 48,
   "metadata": {
    "collapsed": true
   },
   "outputs": [],
   "source": [
    "away_sent = map(lambda tweet: s.sentiment(tweet)[0], away_tweets[\"text\"])"
   ]
  },
  {
   "cell_type": "code",
   "execution_count": 49,
   "metadata": {
    "collapsed": false
   },
   "outputs": [
    {
     "name": "stdout",
     "output_type": "stream",
     "text": [
      "Home Team: Counter({'neg': 45, 'pos': 7})\n",
      "Away Team: Counter({'neg': 7315, 'pos': 1615})\n"
     ]
    }
   ],
   "source": [
    "print \"Home Team:\", collections.Counter(home_sent)\n",
    "print \"Away Team:\", collections.Counter(away_sent)"
   ]
  },
  {
   "cell_type": "code",
   "execution_count": 50,
   "metadata": {
    "collapsed": false
   },
   "outputs": [],
   "source": [
    "home_sent = collections.Counter(home_sent)\n",
    "away_sent = collections.Counter(away_sent)"
   ]
  },
  {
   "cell_type": "code",
   "execution_count": 51,
   "metadata": {
    "collapsed": false
   },
   "outputs": [
    {
     "name": "stdout",
     "output_type": "stream",
     "text": [
      "Positive Tweets:  7\n",
      "Negative Tweets:  45\n"
     ]
    },
    {
     "data": {
      "image/png": "[encoded data removed]",
      "text/plain": [
       "<matplotlib.figure.Figure at 0x1372520d0>"
      ]
     },
     "metadata": {},
     "output_type": "display_data"
    }
   ],
   "source": [
    "slices = [home_sent['pos'], home_sent['neg']]\n",
    "activities = ['pos', 'neg']\n",
    "cols = ['g','r']\n",
    "\n",
    "plt.pie(slices,\n",
    "        labels=activities,\n",
    "        colors=cols,\n",
    "        autopct='%1.1f%%')\n",
    "\n",
    "plt.title('Home Team Tweets \\n Classification')\n",
    "\n",
    "print \"Positive Tweets: \", home_sent['pos']\n",
    "print \"Negative Tweets: \", home_sent['neg']\n",
    "\n",
    "plt.show()"
   ]
  },
  {
   "cell_type": "code",
   "execution_count": 52,
   "metadata": {
    "collapsed": false
   },
   "outputs": [
    {
     "name": "stdout",
     "output_type": "stream",
     "text": [
      "Positive Tweets:  1615\n",
      "Negative Tweets:  7315\n"
     ]
    },
    {
     "data": {
      "image/png": "[encoded data removed]",
      "text/plain": [
       "<matplotlib.figure.Figure at 0x13504fdd0>"
      ]
     },
     "metadata": {},
     "output_type": "display_data"
    }
   ],
   "source": [
    "slices = [away_sent['pos'], away_sent['neg']]\n",
    "activities = ['pos', 'neg']\n",
    "cols = ['g','r']\n",
    "\n",
    "plt.pie(slices,\n",
    "        labels=activities,\n",
    "        colors=cols,\n",
    "        autopct='%1.1f%%')\n",
    "\n",
    "plt.title('Away Team Tweets \\n Classification')\n",
    "\n",
    "print \"Positive Tweets: \", away_sent['pos']\n",
    "print \"Negative Tweets: \", away_sent['neg']\n",
    "\n",
    "plt.show()"
   ]
  }
 ],
 "metadata": {
  "kernelspec": {
   "display_name": "Python 2",
   "language": "python",
   "name": "python2"
  },
  "language_info": {
   "codemirror_mode": {
    "name": "ipython",
    "version": 2
   },
   "file_extension": ".py",
   "mimetype": "text/x-python",
   "name": "python",
   "nbconvert_exporter": "python",
   "pygments_lexer": "ipython2",
   "version": "2.7.10"
  }
 },
 "nbformat": 4,
 "nbformat_minor": 0
}
