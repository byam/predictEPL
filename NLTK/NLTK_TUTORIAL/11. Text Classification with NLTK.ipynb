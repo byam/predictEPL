{
 "cells": [
  {
   "cell_type": "code",
   "execution_count": 1,
   "metadata": {
    "collapsed": true
   },
   "outputs": [],
   "source": [
    "import nltk\n",
    "import random\n",
    "from nltk.corpus import movie_reviews"
   ]
  },
  {
   "cell_type": "code",
   "execution_count": 2,
   "metadata": {
    "collapsed": true
   },
   "outputs": [],
   "source": [
    "documents = [(list(movie_reviews.words(fileid)), category)\n",
    "             for category in movie_reviews.categories()\n",
    "             for fileid in movie_reviews.fileids(category)]"
   ]
  },
  {
   "cell_type": "code",
   "execution_count": 3,
   "metadata": {
    "collapsed": true
   },
   "outputs": [],
   "source": [
    "random.shuffle(documents)"
   ]
  },
  {
   "cell_type": "code",
   "execution_count": 4,
   "metadata": {
    "collapsed": false,
    "scrolled": true
   },
   "outputs": [
    {
     "name": "stdout",
     "output_type": "stream",
     "text": [
      "([u'how', u'do', u'films', u'like', u'mouse', u'hunt', u'get', u'into', u'theatres', u'?', u'isn', u\"'\", u't', u'there', u'a', u'law', u'or', u'something', u'?', u'this', u'diabolical', u'load', u'of', u'claptrap', u'from', u'steven', u'speilberg', u\"'\", u's', u'dreamworks', u'studio', u'is', u'hollywood', u'family', u'fare', u'at', u'its', u'deadly', u'worst', u'.', u'mouse', u'hunt', u'takes', u'the', u'bare', u'threads', u'of', u'a', u'plot', u'and', u'tries', u'to', u'prop', u'it', u'up', u'with', u'overacting', u'and', u'flat', u'-', u'out', u'stupid', u'slapstick', u'that', u'makes', u'comedies', u'like', u'jingle', u'all', u'the', u'way', u'look', u'decent', u'by', u'comparison', u'.', u'writer', u'adam', u'rifkin', u'and', u'director', u'gore', u'verbinski', u'are', u'the', u'names', u'chiefly', u'responsible', u'for', u'this', u'swill', u'.', u'the', u'plot', u',', u'for', u'what', u'its', u'worth', u',', u'concerns', u'two', u'brothers', u'(', u'nathan', u'lane', u'and', u'an', u'appalling', u'lee', u'evens', u')', u'who', u'inherit', u'a', u'poorly', u'run', u'string', u'factory', u'and', u'a', u'seemingly', u'worthless', u'house', u'from', u'their', u'eccentric', u'father', u'.', u'deciding', u'to', u'check', u'out', u'the', u'long', u'-', u'abandoned', u'house', u',', u'they', u'soon', u'learn', u'that', u'it', u\"'\", u's', u'worth', u'a', u'fortune', u'and', u'set', u'about', u'selling', u'it', u'in', u'auction', u'to', u'the', u'highest', u'bidder', u'.', u'but', u'battling', u'them', u'at', u'every', u'turn', u'is', u'a', u'very', u'smart', u'mouse', u',', u'happy', u'with', u'his', u'run', u'-', u'down', u'little', u'abode', u'and', u'wanting', u'it', u'to', u'stay', u'that', u'way', u'.', u'the', u'story', u'alternates', u'between', u'unfunny', u'scenes', u'of', u'the', u'brothers', u'bickering', u'over', u'what', u'to', u'do', u'with', u'their', u'inheritance', u'and', u'endless', u'action', u'sequences', u'as', u'the', u'two', u'take', u'on', u'their', u'increasingly', u'determined', u'furry', u'foe', u'.', u'whatever', u'promise', u'the', u'film', u'starts', u'with', u'soon', u'deteriorates', u'into', u'boring', u'dialogue', u',', u'terrible', u'overacting', u',', u'and', u'increasingly', u'uninspired', u'slapstick', u'that', u'becomes', u'all', u'sound', u'and', u'fury', u',', u'signifying', u'nothing', u'.', u'the', u'script', u'becomes', u'so', u'unspeakably', u'bad', u'that', u'the', u'best', u'line', u'poor', u'lee', u'evens', u'can', u'utter', u'after', u'another', u'run', u'in', u'with', u'the', u'rodent', u'is', u':', u'\"', u'i', u'hate', u'that', u'mouse', u'\"', u'.', u'oh', u'cringe', u'!', u'this', u'is', u'home', u'alone', u'all', u'over', u'again', u',', u'and', u'ten', u'times', u'worse', u'.', u'one', u'touching', u'scene', u'early', u'on', u'is', u'worth', u'mentioning', u'.', u'we', u'follow', u'the', u'mouse', u'through', u'a', u'maze', u'of', u'walls', u'and', u'pipes', u'until', u'he', u'arrives', u'at', u'his', u'makeshift', u'abode', u'somewhere', u'in', u'a', u'wall', u'.', u'he', u'jumps', u'into', u'a', u'tiny', u'bed', u',', u'pulls', u'up', u'a', u'makeshift', u'sheet', u'and', u'snuggles', u'up', u'to', u'sleep', u',', u'seemingly', u'happy', u'and', u'just', u'wanting', u'to', u'be', u'left', u'alone', u'.', u'it', u\"'\", u's', u'a', u'magical', u'little', u'moment', u'in', u'an', u'otherwise', u'soulless', u'film', u'.', u'a', u'message', u'to', u'speilberg', u':', u'if', u'you', u'want', u'dreamworks', u'to', u'be', u'associated', u'with', u'some', u'kind', u'of', u'artistic', u'credibility', u',', u'then', u'either', u'give', u'all', u'concerned', u'in', u'mouse', u'hunt', u'a', u'swift', u'kick', u'up', u'the', u'arse', u'or', u'hire', u'yourself', u'some', u'decent', u'writers', u'and', u'directors', u'.', u'this', u'kind', u'of', u'rubbish', u'will', u'just', u'not', u'do', u'at', u'all', u'.'], u'neg')\n"
     ]
    }
   ],
   "source": [
    "print(documents[1])"
   ]
  },
  {
   "cell_type": "code",
   "execution_count": 5,
   "metadata": {
    "collapsed": true
   },
   "outputs": [],
   "source": [
    "all_words = []\n",
    "for w in movie_reviews.words():\n",
    "    all_words.append(w.lower())"
   ]
  },
  {
   "cell_type": "code",
   "execution_count": 6,
   "metadata": {
    "collapsed": true
   },
   "outputs": [],
   "source": [
    "all_words = nltk.FreqDist(all_words)"
   ]
  },
  {
   "cell_type": "code",
   "execution_count": 7,
   "metadata": {
    "collapsed": false
   },
   "outputs": [
    {
     "name": "stdout",
     "output_type": "stream",
     "text": [
      "[(u',', 77717), (u'the', 76529), (u'.', 65876), (u'a', 38106), (u'and', 35576), (u'of', 34123), (u'to', 31937), (u\"'\", 30585), (u'is', 25195), (u'in', 21822), (u's', 18513), (u'\"', 17612), (u'it', 16107), (u'that', 15924), (u'-', 15595)]\n"
     ]
    }
   ],
   "source": [
    "print(all_words.most_common(15))"
   ]
  },
  {
   "cell_type": "code",
   "execution_count": 8,
   "metadata": {
    "collapsed": false
   },
   "outputs": [
    {
     "name": "stdout",
     "output_type": "stream",
     "text": [
      "253\n"
     ]
    }
   ],
   "source": [
    "print(all_words[\"stupid\"])"
   ]
  }
 ],
 "metadata": {
  "kernelspec": {
   "display_name": "Python 2",
   "language": "python",
   "name": "python2"
  },
  "language_info": {
   "codemirror_mode": {
    "name": "ipython",
    "version": 2
   },
   "file_extension": ".py",
   "mimetype": "text/x-python",
   "name": "python",
   "nbconvert_exporter": "python",
   "pygments_lexer": "ipython2",
   "version": "2.7.10"
  }
 },
 "nbformat": 4,
 "nbformat_minor": 0
}
