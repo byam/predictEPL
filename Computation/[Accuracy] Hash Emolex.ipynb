{
 "cells": [
  {
   "cell_type": "code",
   "execution_count": 1,
   "metadata": {
    "collapsed": false
   },
   "outputs": [
    {
     "name": "stdout",
     "output_type": "stream",
     "text": [
      "Populating the interactive namespace from numpy and matplotlib\n"
     ]
    }
   ],
   "source": [
    "%pylab inline\n",
    "%matplotlib inline\n",
    "\n",
    "# Global Imports\n",
    "import matplotlib.pyplot as plt\n",
    "import numpy as np\n",
    "import pandas as pd\n",
    "from sklearn import datasets\n",
    "import os\n",
    "import sys\n",
    "import pickle\n",
    "from pprint import pprint\n",
    "from time import time\n",
    "import datetime\n",
    "from time import gmtime, strftime\n",
    "import statsmodels.api as sm\n",
    "from patsy import dmatrices\n",
    "\n",
    "# Scikit-Learn imports\n",
    "from sklearn.linear_model import LogisticRegressionCV\n",
    "from sklearn.linear_model import LogisticRegression\n",
    "from sklearn.svm import SVC\n",
    "from sklearn.tree import DecisionTreeClassifier\n",
    "from sklearn.ensemble import RandomForestClassifier\n",
    "\n",
    "from sklearn.pipeline import Pipeline\n",
    "from sklearn.grid_search import GridSearchCV\n",
    "from sklearn.cross_validation import StratifiedKFold\n",
    "from sklearn.cross_validation import train_test_split\n",
    "\n",
    "from sklearn.cross_validation import cross_val_score\n",
    "from sklearn import metrics\n",
    "\n",
    "# Local Imports\n",
    "path = str(os.path.expanduser('~')) + '/git/predictEPL/config'\n",
    "sys.path.append(path)\n",
    "import paths\n",
    "\n",
    "sys.path.append(paths.UTILS)\n",
    "import useful_methods"
   ]
  },
  {
   "cell_type": "markdown",
   "metadata": {},
   "source": [
    "## Data Manipulation Functions"
   ]
  },
  {
   "cell_type": "code",
   "execution_count": 2,
   "metadata": {
    "collapsed": true
   },
   "outputs": [],
   "source": [
    "# Definings\n",
    "RESULT_FILE_NAME = \"log_hash_all_ht.csv\""
   ]
  },
  {
   "cell_type": "code",
   "execution_count": 4,
   "metadata": {
    "collapsed": false,
    "scrolled": true
   },
   "outputs": [],
   "source": [
    "def ReadHashDf():\n",
    "    # Read game_infos as df\n",
    "    dfGameInfo = useful_methods.csv_dic_df(paths.READ_PATH_GAME_INFO + 'game_infos.csv')\n",
    "    dfGameInfo = useful_methods.DropNanGames(dfGameInfo).copy().reset_index(drop=True)\n",
    "    dfGameInfo.GW = [int(gw) for gw in dfGameInfo.GW]\n",
    "    dfGameInfo = dfGameInfo.sort_values(['GW', 'away_team'], ascending=[True, True]).copy().reset_index(drop=True)\n",
    "\n",
    "    # Read Hash Emolex Model result\n",
    "    df = useful_methods.csv_dic_df(paths.READ_PATH_RESULTS + RESULT_FILE_NAME)\n",
    "    df.GW = [int(gw) for gw in df.GW]\n",
    "    df = df.sort_values(['GW', 'away_team'], ascending=[True, True]).copy().reset_index(drop=True)\n",
    "\n",
    "\n",
    "    # Combine 2 dfs\n",
    "    df['score_ht_away'] = [int(item) for item in dfGameInfo.score_ht_away]\n",
    "    df['score_ht_home'] = [int(item) for item in dfGameInfo.score_ht_home]\n",
    "    df['score_ft_away'] = [int(item) for item in dfGameInfo.score_ft_away]\n",
    "    df['score_ft_home'] = [int(item) for item in dfGameInfo.score_ft_home]\n",
    "\n",
    "    df['pn_away_neg'] = [float(item) for item in df.pn_away_neg]\n",
    "    df['pn_away_pos'] = [float(item) for item in df.pn_away_pos]\n",
    "    df['pn_home_neg'] = [float(item) for item in df.pn_home_neg]\n",
    "    df['pn_home_pos'] = [float(item) for item in df.pn_home_pos]\n",
    "\n",
    "    # 'home_win': 1, 'away_win': 0, 'draw': 2\n",
    "    def Labeling(goal_diff):\n",
    "        if goal_diff > 0:\n",
    "            return 1\n",
    "        elif goal_diff < 0:\n",
    "            return 0\n",
    "        else:\n",
    "            return 2\n",
    "\n",
    "    df['goal_diff_ht'] = df.score_ht_home - df.score_ht_away\n",
    "    df['goal_diff_ft'] = df.score_ft_home - df.score_ft_away\n",
    "    df['result'] = [Labeling(item) for item in df.goal_diff_ft]\n",
    "\n",
    "\n",
    "    # **********************************************\n",
    "    # Add previous 4 games points sum\n",
    "    dfBe4GameSum = useful_methods.csv_dic_df(paths.DATA_HOME + \"EPL/info_before_4game_sum.csv\")\n",
    "\n",
    "    team_homes = list(df.home_team)\n",
    "    team_aways = list(df.away_team)\n",
    "    GWs = [int(gw) for gw in df.GW]\n",
    "\n",
    "    be_4game_sum_home = []\n",
    "    be_4game_sum_away = []\n",
    "\n",
    "    for index in range(len(GWs)):\n",
    "        team_home = team_homes[index]\n",
    "        team_away = team_aways[index]\n",
    "        gw = GWs[index]\n",
    "\n",
    "        be_4game_sum_home.append(int(dfBe4GameSum[dfBe4GameSum.team == team_home][str(gw)]))\n",
    "        be_4game_sum_away.append(int(dfBe4GameSum[dfBe4GameSum.team == team_away][str(gw)]))\n",
    "\n",
    "    df['be_4game_sum_away'] = be_4game_sum_away\n",
    "    df['be_4game_sum_home'] = be_4game_sum_home    \n",
    "\n",
    "    return df"
   ]
  },
  {
   "cell_type": "code",
   "execution_count": 6,
   "metadata": {
    "collapsed": false,
    "scrolled": true
   },
   "outputs": [],
   "source": [
    "# Create df for models.\n",
    "def CreateDfForModel(ht_draw=False, ft_wld=False):\n",
    "    df = ReadHashDf()\n",
    "        \n",
    "    # only for Win or Lose\n",
    "    if not ft_wld:\n",
    "        df = df[df.result != 2].copy().reset_index(drop=True)\n",
    "    \n",
    "    # HT: Equal\n",
    "    if ht_draw:\n",
    "        df = df[df.goal_diff_ht == 0].copy().reset_index(drop=True)\n",
    "    \n",
    "    dta = pd.DataFrame()\n",
    "    \n",
    "    # Teams\n",
    "    dta['team_home'] = df.home_team\n",
    "    dta['team_away'] = df.away_team\n",
    "\n",
    "    # POS, NEG scores by percentage %\n",
    "    dta['pn_home_pos'] = df.pn_home_pos / (df.pn_home_pos + df.pn_home_neg)\n",
    "    dta['pn_home_neg'] = df.pn_home_neg / (df.pn_home_pos + df.pn_home_neg)\n",
    "    dta['pn_away_pos'] = df.pn_away_pos / (df.pn_away_pos + df.pn_away_neg)\n",
    "    dta['pn_away_neg'] = df.pn_away_neg / (df.pn_away_pos + df.pn_away_neg)\n",
    "    \n",
    "    dta['pn_diff_pos'] = dta['pn_home_pos'] - dta['pn_away_pos']\n",
    "    \n",
    "    # HF scores\n",
    "    dta['score_ht_home'] = df.score_ht_home\n",
    "    dta['score_ht_away'] = df.score_ht_away\n",
    "    \n",
    "    dta['goal_diff_ht'] = df['goal_diff_ht']\n",
    "\n",
    "    # 'home_win': 1, 'away_win': 0, 'draw': 2\n",
    "    dta['result'] = df.result\n",
    "    \n",
    "    # be_4game_sum\n",
    "    dta['be_4game_sum_home'] = df.be_4game_sum_home / 12.0\n",
    "    dta['be_4game_sum_away'] = df.be_4game_sum_away / 12.0\n",
    "    \n",
    "    return dta"
   ]
  },
  {
   "cell_type": "code",
   "execution_count": 7,
   "metadata": {
    "collapsed": false
   },
   "outputs": [],
   "source": [
    "# X: df, y: list\n",
    "def CreateXy(df, team_name=False, hash_emolex=True, score_ht=True, be_4game_sum=False):\n",
    "    if team_name and hash_emolex and score_ht and be_4game_sum:\n",
    "        y, X = dmatrices('result ~ \\\n",
    "            be_4game_sum_home + be_4game_sum_away + \\\n",
    "            score_ht_home + score_ht_away + \\\n",
    "            pn_home_pos + pn_home_neg + pn_away_pos + pn_away_neg + \\\n",
    "            pn_diff_pos + \\\n",
    "            C(team_home) + C(team_away)',\n",
    "            df, return_type=\"dataframe\")\n",
    "    elif hash_emolex and score_ht and be_4game_sum:\n",
    "        y, X = dmatrices('result ~ \\\n",
    "            be_4game_sum_home + be_4game_sum_away + \\\n",
    "            score_ht_home + score_ht_away + \\\n",
    "            pn_home_pos + pn_home_neg + pn_away_pos + pn_away_neg + \\\n",
    "            pn_diff_pos',\n",
    "            df, return_type=\"dataframe\")\n",
    "    elif hash_emolex and be_4game_sum:\n",
    "        y, X = dmatrices('result ~ \\\n",
    "            be_4game_sum_home + be_4game_sum_away + \\\n",
    "            pn_home_pos + pn_home_neg + pn_away_pos + pn_away_neg + \\\n",
    "            pn_diff_pos',\n",
    "            df, return_type=\"dataframe\")\n",
    "    elif score_ht and be_4game_sum:\n",
    "        y, X = dmatrices('result ~ \\\n",
    "            score_ht_home + score_ht_away + \\\n",
    "            be_4game_sum_home + be_4game_sum_away',\n",
    "            df, return_type=\"dataframe\")\n",
    "    elif hash_emolex:\n",
    "        y, X = dmatrices('result ~ \\\n",
    "            pn_home_pos + pn_home_neg + pn_away_pos + pn_away_neg + \\\n",
    "            pn_diff_pos',\n",
    "            df, return_type=\"dataframe\")\n",
    "    else:\n",
    "        y, X = dmatrices('result ~ \\\n",
    "            score_ht_home + score_ht_away',\n",
    "            df, return_type=\"dataframe\")\n",
    "        \n",
    "    # flatten y into a 1-D array\n",
    "    y = np.ravel(y)\n",
    "    \n",
    "    return X, y"
   ]
  },
  {
   "cell_type": "markdown",
   "metadata": {},
   "source": [
    "## Models: Logistic, SVC"
   ]
  },
  {
   "cell_type": "code",
   "execution_count": 8,
   "metadata": {
    "collapsed": false
   },
   "outputs": [],
   "source": [
    "def ModelScoresWL(df, team_name, hash_emolex, score_ht, be_4game_sum, variable_scores=False):\n",
    "    # instantiate a logistic regression model, and fit with X and y\n",
    "    X, y = CreateXy(df, team_name, hash_emolex, score_ht, be_4game_sum)\n",
    "\n",
    "    # Set Models\n",
    "    model_log = LogisticRegression()\n",
    "    model_svc = SVC()\n",
    "\n",
    "    # Fit to models\n",
    "    model_log = model_log.fit(X, y)\n",
    "    model_svc = model_svc.fit(X, y)\n",
    "\n",
    "    # Cross Validation\n",
    "    scores_log = cross_val_score(LogisticRegression(), X, y, scoring='accuracy', cv=18)\n",
    "    scores_svc = cross_val_score(SVC(), X, y, scoring='accuracy', cv=18)\n",
    "\n",
    "    # Accuracy scores\n",
    "    print(\"--------------------------\\n\")\n",
    "    print(\"[Log]: \\t%.3f (cv: %.3f)\" % (model_log.score(X, y), scores_log.mean()))\n",
    "    print(\"[SVC]: \\t%.3f (cv: %.3f)\" % (model_svc.score(X, y), scores_svc.mean()))\n",
    "    \n",
    "    \n",
    "    if variable_scores:\n",
    "        # Variable Scores\n",
    "        dfVars = pd.DataFrame()\n",
    "        dfVars['var'] = X.columns\n",
    "        dfVars['score'] = np.transpose(model_log.coef_)\n",
    "        print(\"\\n\", dfVars)"
   ]
  },
  {
   "cell_type": "code",
   "execution_count": 9,
   "metadata": {
    "collapsed": true
   },
   "outputs": [],
   "source": [
    "def ModelScoresWLD(df, team_name, hash_emolex, score_ht, be_4game_sum):\n",
    "    # instantiate a logistic regression model, and fit with X and y\n",
    "    X, y = CreateXy(df, team_name, hash_emolex, score_ht, be_4game_sum)\n",
    "\n",
    "    # Set Models\n",
    "    model_log = LogisticRegression()\n",
    "    model_svc = SVC()\n",
    "\n",
    "    # Fit to models\n",
    "    model_log = model_log.fit(X, y)\n",
    "    model_svc = model_svc.fit(X, y)\n",
    "\n",
    "    # Cross Validation\n",
    "    scores_log = cross_val_score(LogisticRegression(), X, y, scoring='accuracy', cv=18)\n",
    "    scores_svc = cross_val_score(SVC(), X, y, scoring='accuracy', cv=18)\n",
    "\n",
    "    # Accuracy scores\n",
    "    print(\"--------------------------\\n\")\n",
    "    print(\"[Log]: \\t%.3f (cv: %.3f)\" % (model_log.score(X, y), scores_log.mean()))\n",
    "    print(\"[SVC]: \\t%.3f (cv: %.3f)\" % (model_svc.score(X, y), scores_svc.mean()))"
   ]
  },
  {
   "cell_type": "markdown",
   "metadata": {},
   "source": [
    "### Accuracy"
   ]
  },
  {
   "cell_type": "code",
   "execution_count": 10,
   "metadata": {
    "collapsed": false
   },
   "outputs": [],
   "source": [
    "# Create DFs for models\n",
    "# WL: win, lose; WLD: win, lose, draw\n",
    "dfWL = CreateDfForModel(ht_draw=False, ft_wld=False)\n",
    "dfWLD = CreateDfForModel(ht_draw=False, ft_wld=True)"
   ]
  },
  {
   "cell_type": "code",
   "execution_count": 12,
   "metadata": {
    "collapsed": false
   },
   "outputs": [
    {
     "name": "stdout",
     "output_type": "stream",
     "text": [
      "--------------------------\n",
      "\n",
      "[Log]: \t0.766 (cv: 0.765)\n",
      "[SVC]: \t0.766 (cv: 0.765)\n",
      "\n",
      "              var     score\n",
      "0      Intercept  0.107486\n",
      "1  score_ht_home  1.320774\n",
      "2  score_ht_away -1.762310\n",
      "--------------------------\n",
      "\n",
      "[Log]: \t0.781 (cv: 0.743)\n",
      "[SVC]: \t0.766 (cv: 0.765)\n",
      "\n",
      "                  var     score\n",
      "0          Intercept  0.235985\n",
      "1      score_ht_home  1.309614\n",
      "2      score_ht_away -1.734518\n",
      "3  be_4game_sum_home -0.092961\n",
      "4  be_4game_sum_away -0.485873\n",
      "--------------------------\n",
      "\n",
      "[Log]: \t0.695 (cv: 0.682)\n",
      "[SVC]: \t0.648 (cv: 0.634)\n",
      "\n",
      "            var     score\n",
      "0    Intercept  0.105339\n",
      "1  pn_home_pos  0.836647\n",
      "2  pn_home_neg -0.731308\n",
      "3  pn_away_pos -0.855293\n",
      "4  pn_away_neg  0.960632\n",
      "5  pn_diff_pos  1.691940\n",
      "--------------------------\n",
      "\n",
      "[Log]: \t0.703 (cv: 0.686)\n",
      "[SVC]: \t0.602 (cv: 0.595)\n",
      "\n",
      "                  var     score\n",
      "0          Intercept  0.263121\n",
      "1  be_4game_sum_home -0.181918\n",
      "2  be_4game_sum_away -0.870859\n",
      "3        pn_home_pos  0.970561\n",
      "4        pn_home_neg -0.707440\n",
      "5        pn_away_pos -0.694735\n",
      "6        pn_away_neg  0.957856\n",
      "7        pn_diff_pos  1.665296\n",
      "--------------------------\n",
      "\n",
      "[Log]: \t0.789 (cv: 0.705)\n",
      "[SVC]: \t0.766 (cv: 0.765)\n",
      "\n",
      "                  var     score\n",
      "0          Intercept  0.178635\n",
      "1  be_4game_sum_home -0.155827\n",
      "2  be_4game_sum_away -0.501035\n",
      "3      score_ht_home  1.184246\n",
      "4      score_ht_away -1.652601\n",
      "5        pn_home_pos  0.508916\n",
      "6        pn_home_neg -0.330281\n",
      "7        pn_away_pos -0.226769\n",
      "8        pn_away_neg  0.405404\n",
      "9        pn_diff_pos  0.735685\n",
      "--------------------------\n",
      "\n",
      "[Log]: \t0.867 (cv: 0.719)\n",
      "[SVC]: \t0.773 (cv: 0.750)\n"
     ]
    }
   ],
   "source": [
    "# Win, Lose\n",
    "ModelScoresWL(dfWL, team_name=False, hash_emolex=False, score_ht=True, be_4game_sum=False, variable_scores=True)\n",
    "ModelScoresWL(dfWL, team_name=False, hash_emolex=False, score_ht=True, be_4game_sum=True, variable_scores=True)\n",
    "ModelScoresWL(dfWL, team_name=False, hash_emolex=True, score_ht=False, be_4game_sum=False, variable_scores=True)\n",
    "ModelScoresWL(dfWL, team_name=False, hash_emolex=True, score_ht=False, be_4game_sum=True, variable_scores=True)\n",
    "ModelScoresWL(dfWL, team_name=False, hash_emolex=True, score_ht=True, be_4game_sum=True, variable_scores=True)\n",
    "ModelScoresWL(dfWL, team_name=True, hash_emolex=True, score_ht=True, be_4game_sum=True, variable_scores=False)"
   ]
  },
  {
   "cell_type": "code",
   "execution_count": 13,
   "metadata": {
    "collapsed": false
   },
   "outputs": [
    {
     "name": "stdout",
     "output_type": "stream",
     "text": [
      "--------------------------\n",
      "\n",
      "[Log]: \t0.554 (cv: 0.553)\n",
      "[SVC]: \t0.582 (cv: 0.493)\n",
      "--------------------------\n",
      "\n",
      "[Log]: \t0.588 (cv: 0.541)\n",
      "[SVC]: \t0.599 (cv: 0.498)\n",
      "--------------------------\n",
      "\n",
      "[Log]: \t0.497 (cv: 0.499)\n",
      "[SVC]: \t0.469 (cv: 0.459)\n",
      "--------------------------\n",
      "\n",
      "[Log]: \t0.508 (cv: 0.502)\n",
      "[SVC]: \t0.435 (cv: 0.431)\n",
      "--------------------------\n",
      "\n",
      "[Log]: \t0.571 (cv: 0.526)\n",
      "[SVC]: \t0.588 (cv: 0.542)\n",
      "--------------------------\n",
      "\n",
      "[Log]: \t0.689 (cv: 0.507)\n",
      "[SVC]: \t0.559 (cv: 0.542)\n"
     ]
    }
   ],
   "source": [
    "ModelScoresWLD(dfWLD, team_name=False, hash_emolex=False, score_ht=True, be_4game_sum=False)\n",
    "ModelScoresWLD(dfWLD, team_name=False, hash_emolex=False, score_ht=True, be_4game_sum=True)\n",
    "ModelScoresWLD(dfWLD, team_name=False, hash_emolex=True, score_ht=False, be_4game_sum=False)\n",
    "ModelScoresWLD(dfWLD, team_name=False, hash_emolex=True, score_ht=False, be_4game_sum=True)\n",
    "ModelScoresWLD(dfWLD, team_name=False, hash_emolex=True, score_ht=True, be_4game_sum=True)\n",
    "ModelScoresWLD(dfWLD, team_name=True, hash_emolex=True, score_ht=True, be_4game_sum=True)"
   ]
  }
 ],
 "metadata": {
  "kernelspec": {
   "display_name": "Python 3",
   "language": "python",
   "name": "python3"
  },
  "language_info": {
   "codemirror_mode": {
    "name": "ipython",
    "version": 3
   },
   "file_extension": ".py",
   "mimetype": "text/x-python",
   "name": "python",
   "nbconvert_exporter": "python",
   "pygments_lexer": "ipython3",
   "version": "3.4.3"
  }
 },
 "nbformat": 4,
 "nbformat_minor": 0
}
