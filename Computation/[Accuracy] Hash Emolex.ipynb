{
 "cells": [
  {
   "cell_type": "code",
   "execution_count": 1,
   "metadata": {
    "collapsed": false
   },
   "outputs": [
    {
     "name": "stdout",
     "output_type": "stream",
     "text": [
      "Populating the interactive namespace from numpy and matplotlib\n"
     ]
    }
   ],
   "source": [
    "%pylab inline\n",
    "%matplotlib inline\n",
    "\n",
    "# Global Imports\n",
    "import matplotlib.pyplot as plt\n",
    "import matplotlib\n",
    "matplotlib.style.use('ggplot')\n",
    "import numpy as np\n",
    "import pandas as pd\n",
    "from sklearn import datasets\n",
    "import os\n",
    "import sys\n",
    "import pickle\n",
    "from pprint import pprint\n",
    "from time import time\n",
    "import datetime\n",
    "from time import gmtime, strftime\n",
    "import statsmodels.api as sm\n",
    "from patsy import dmatrices\n",
    "\n",
    "# Scikit-Learn imports\n",
    "from sklearn.linear_model import LogisticRegressionCV\n",
    "from sklearn.linear_model import LogisticRegression\n",
    "from sklearn.svm import SVC\n",
    "from sklearn.tree import DecisionTreeClassifier\n",
    "from sklearn.ensemble import RandomForestClassifier\n",
    "\n",
    "from sklearn.pipeline import Pipeline\n",
    "from sklearn.grid_search import GridSearchCV\n",
    "from sklearn.cross_validation import StratifiedKFold\n",
    "from sklearn.cross_validation import train_test_split\n",
    "\n",
    "from sklearn.cross_validation import cross_val_score\n",
    "from sklearn import metrics\n",
    "\n",
    "# Local Imports\n",
    "path = str(os.path.expanduser('~')) + '/git/predictEPL/config'\n",
    "sys.path.append(path)\n",
    "import paths\n",
    "\n",
    "sys.path.append(paths.UTILS)\n",
    "import useful_methods"
   ]
  },
  {
   "cell_type": "markdown",
   "metadata": {},
   "source": [
    "## Data Manipulation Functions"
   ]
  },
  {
   "cell_type": "code",
   "execution_count": 2,
   "metadata": {
    "collapsed": false,
    "scrolled": true
   },
   "outputs": [],
   "source": [
    "def ReadHashDf():\n",
    "    # Read game_infos as df\n",
    "    dfGameInfo = useful_methods.csv_dic_df(paths.READ_PATH_GAME_INFO + 'game_infos.csv')\n",
    "    dfGameInfo = useful_methods.DropNanGames(dfGameInfo).copy().reset_index(drop=True)\n",
    "    dfGameInfo.GW = [int(gw) for gw in dfGameInfo.GW]\n",
    "    dfGameInfo = dfGameInfo.sort_values(['GW', 'away_team'], ascending=[True, True]).copy().reset_index(drop=True)\n",
    "\n",
    "    # Read Hash Emolex Model result\n",
    "    df = useful_methods.csv_dic_df(paths.READ_PATH_RESULTS + RESULT_FILE_NAME)\n",
    "    df.GW = [int(gw) for gw in df.GW]\n",
    "    df = df.sort_values(['GW', 'away_team'], ascending=[True, True]).copy().reset_index(drop=True)\n",
    "\n",
    "\n",
    "    # Combine 2 dfs\n",
    "    df['score_ht_away'] = [int(item) for item in dfGameInfo.score_ht_away]\n",
    "    df['score_ht_home'] = [int(item) for item in dfGameInfo.score_ht_home]\n",
    "    df['score_ft_away'] = [int(item) for item in dfGameInfo.score_ft_away]\n",
    "    df['score_ft_home'] = [int(item) for item in dfGameInfo.score_ft_home]\n",
    "\n",
    "    df['pn_away_neg'] = [float(item) for item in df.pn_away_neg]\n",
    "    df['pn_away_pos'] = [float(item) for item in df.pn_away_pos]\n",
    "    df['pn_home_neg'] = [float(item) for item in df.pn_home_neg]\n",
    "    df['pn_home_pos'] = [float(item) for item in df.pn_home_pos]\n",
    "\n",
    "    # ******************************************************\n",
    "    # 'home_win': 1, 'away_win': 0, 'draw': 2\n",
    "    def Labeling3(goal_diff):\n",
    "        if goal_diff > 0:\n",
    "            return 1\n",
    "        elif goal_diff < 0:\n",
    "            return 0\n",
    "        else:\n",
    "            return 2\n",
    "\n",
    "    df['goal_diff_ht'] = df.score_ht_home - df.score_ht_away\n",
    "    df['goal_diff_ft'] = df.score_ft_home - df.score_ft_away\n",
    "    df['result'] = [Labeling3(item) for item in df.goal_diff_ft]\n",
    "    \n",
    "    \n",
    "    # 'home_win, draw': 1, 'home_lose': 0\n",
    "    def Labeling2(goal_diff):\n",
    "        if goal_diff < 0:\n",
    "            return 0\n",
    "        else:\n",
    "            return 1\n",
    "    df['res2'] = [Labeling2(item) for item in df.goal_diff_ft]\n",
    "\n",
    "    # **********************************************\n",
    "    # Add previous 4 games points sum\n",
    "    dfBe4GameSum = useful_methods.csv_dic_df(paths.DATA_HOME + \"EPL/info_before_4game_sum.csv\")\n",
    "\n",
    "    team_homes = list(df.home_team)\n",
    "    team_aways = list(df.away_team)\n",
    "    GWs = [int(gw) for gw in df.GW]\n",
    "\n",
    "    be_4game_sum_home = []\n",
    "    be_4game_sum_away = []\n",
    "\n",
    "    for index in range(len(GWs)):\n",
    "        team_home = team_homes[index]\n",
    "        team_away = team_aways[index]\n",
    "        gw = GWs[index]\n",
    "\n",
    "        be_4game_sum_home.append(int(dfBe4GameSum[dfBe4GameSum.team == team_home][str(gw)]))\n",
    "        be_4game_sum_away.append(int(dfBe4GameSum[dfBe4GameSum.team == team_away][str(gw)]))\n",
    "\n",
    "    df['be_4game_sum_away'] = be_4game_sum_away\n",
    "    df['be_4game_sum_home'] = be_4game_sum_home    \n",
    "\n",
    "    return df"
   ]
  },
  {
   "cell_type": "code",
   "execution_count": 3,
   "metadata": {
    "collapsed": false,
    "scrolled": true
   },
   "outputs": [],
   "source": [
    "# Create df for models.\n",
    "def CreateDfForModel(ht_draw=False, ft_wld=False):\n",
    "    df = ReadHashDf()\n",
    "        \n",
    "    # only for Win or Lose\n",
    "    if not ft_wld:\n",
    "        df = df[df.result != 2].copy().reset_index(drop=True)\n",
    "    \n",
    "    # HT: Equal\n",
    "    if ht_draw:\n",
    "        df = df[df.goal_diff_ht == 0].copy().reset_index(drop=True)\n",
    "    \n",
    "    dta = pd.DataFrame()\n",
    "    \n",
    "    # Teams\n",
    "    dta['team_home'] = df.home_team\n",
    "    dta['team_away'] = df.away_team\n",
    "\n",
    "    # POS, NEG scores by percentage %\n",
    "    dta['pn_home_pos'] = df.pn_home_pos / (df.pn_home_pos + df.pn_home_neg)\n",
    "    dta['pn_home_neg'] = df.pn_home_neg / (df.pn_home_pos + df.pn_home_neg)\n",
    "    dta['pn_away_pos'] = df.pn_away_pos / (df.pn_away_pos + df.pn_away_neg)\n",
    "    dta['pn_away_neg'] = df.pn_away_neg / (df.pn_away_pos + df.pn_away_neg)\n",
    "    \n",
    "    dta['pn_diff_pos'] = dta['pn_home_pos'] - dta['pn_away_pos']\n",
    "    dta['pn_diff_neg'] = dta['pn_home_neg'] - dta['pn_away_neg']\n",
    "    \n",
    "    # HF scores\n",
    "    dta['score_ht_home'] = df.score_ht_home\n",
    "    dta['score_ht_away'] = df.score_ht_away\n",
    "    dta['score_ft_home'] = df.score_ft_home\n",
    "    dta['score_ft_away'] = df.score_ft_away\n",
    "    \n",
    "    dta['goal_diff_ht'] = df['goal_diff_ht']\n",
    "    dta['goal_diff_ft'] = df['goal_diff_ft']\n",
    "\n",
    "    # 'home_win': 1, 'away_win': 0, 'draw': 2\n",
    "    dta['result'] = df.result\n",
    "    \n",
    "    # 'home_win or draw': 1, 'home_lose': 0\n",
    "    dta['res2'] = df['res2']\n",
    "    \n",
    "    # be_4game_sum\n",
    "    dta['be_4game_sum_home'] = df.be_4game_sum_home / 12.0\n",
    "    dta['be_4game_sum_away'] = df.be_4game_sum_away / 12.0\n",
    "    \n",
    "    # ht_point * sentiments\n",
    "    dta['sp_home'] = dta['pn_home_pos'] * (dta['score_ht_home'] + 1)\n",
    "    dta['sn_home'] = dta['pn_home_neg'] * (dta['score_ht_home'] + 1)\n",
    "    dta['sp_away'] = dta['pn_away_pos'] * (dta['score_ht_away'] + 1)\n",
    "    dta['sn_away'] = dta['pn_away_neg'] * (dta['score_ht_away'] + 1)\n",
    "    dta['sp_diff'] = dta['sp_home'] - dta['sp_away']\n",
    "    dta['sn_diff'] = dta['sn_home'] - dta['sn_away']\n",
    "    \n",
    "    return dta"
   ]
  },
  {
   "cell_type": "code",
   "execution_count": 4,
   "metadata": {
    "collapsed": false
   },
   "outputs": [],
   "source": [
    "# X: df, y: list\n",
    "def CreateXy(df, team_name=False, hash_emolex=True, score_ht=True, be_4game_sum=False, score_sent=False):\n",
    "    print(\"--------------------------\\n\")\n",
    "#     print(\"score_ht: %s, be_4game_sum: %s\\nhash_emolex: %s,  team_name: %s\\n\" %\n",
    "#           (score_ht, be_4game_sum, hash_emolex, team_name))\n",
    "    \n",
    "    if team_name and hash_emolex and score_ht and be_4game_sum:\n",
    "        y, X = dmatrices('result ~ \\\n",
    "            be_4game_sum_home + be_4game_sum_away + \\\n",
    "            score_ht_home + score_ht_away + \\\n",
    "            pn_home_pos + pn_home_neg + pn_away_pos + pn_away_neg + \\\n",
    "            pn_diff_pos + \\\n",
    "            C(team_home) + C(team_away)',\n",
    "            df, return_type=\"dataframe\")\n",
    "    elif hash_emolex and score_ht and be_4game_sum:\n",
    "        y, X = dmatrices('result ~ \\\n",
    "            be_4game_sum_home + be_4game_sum_away + \\\n",
    "            score_ht_home + score_ht_away + \\\n",
    "            pn_home_pos + pn_home_neg + pn_away_pos + pn_away_neg + \\\n",
    "            pn_diff_pos',\n",
    "            df, return_type=\"dataframe\")\n",
    "    elif hash_emolex and be_4game_sum:\n",
    "        y, X = dmatrices('result ~ \\\n",
    "            be_4game_sum_home + be_4game_sum_away + \\\n",
    "            pn_home_pos + pn_home_neg + pn_away_pos + pn_away_neg + \\\n",
    "            pn_diff_pos',\n",
    "            df, return_type=\"dataframe\")\n",
    "    elif score_ht and be_4game_sum:\n",
    "        y, X = dmatrices('result ~ \\\n",
    "            score_ht_home + score_ht_away + \\\n",
    "            be_4game_sum_home + be_4game_sum_away',\n",
    "            df, return_type=\"dataframe\")\n",
    "    elif score_ht and hash_emolex:\n",
    "        y, X = dmatrices('result ~ \\\n",
    "            score_ht_home + score_ht_away + \\\n",
    "            pn_home_pos + pn_home_neg + pn_away_pos + pn_away_neg',\n",
    "            df, return_type=\"dataframe\")\n",
    "    elif hash_emolex:\n",
    "        y, X = dmatrices('result ~ \\\n",
    "            pn_home_pos + pn_home_neg + pn_away_pos + pn_away_neg',\n",
    "            df, return_type=\"dataframe\")\n",
    "    elif score_sent:\n",
    "        y, X = dmatrices('result ~ \\\n",
    "            sp_home + sn_home + sp_away + sn_away',\n",
    "            df, return_type=\"dataframe\")\n",
    "    else:\n",
    "        y, X = dmatrices('result ~ \\\n",
    "            score_ht_home + score_ht_away',\n",
    "            df, return_type=\"dataframe\")\n",
    "        \n",
    "    # flatten y into a 1-D array\n",
    "    y = np.ravel(y)\n",
    "    \n",
    "    return X, y"
   ]
  },
  {
   "cell_type": "markdown",
   "metadata": {},
   "source": [
    "## Models: Logistic, SVC"
   ]
  },
  {
   "cell_type": "code",
   "execution_count": null,
   "metadata": {
    "collapsed": false
   },
   "outputs": [],
   "source": [
    "def ModelScoresWL(df, team_name, hash_emolex, score_ht, be_4game_sum, variable_scores=False, score_sent=False):\n",
    "    # instantiate a logistic regression model, and fit with X and y\n",
    "    X, y = CreateXy(df, team_name, hash_emolex, score_ht, be_4game_sum, score_sent)\n",
    "\n",
    "    # Set Models\n",
    "    model_log = LogisticRegression(penalty='l1')\n",
    "    model_svc = SVC()\n",
    "\n",
    "    # Fit to models\n",
    "    model_log = model_log.fit(X, y)\n",
    "    model_svc = model_svc.fit(X, y)\n",
    "\n",
    "    # Cross Validation\n",
    "    scores_log = cross_val_score(LogisticRegression(penalty='l1'), X, y, scoring='accuracy', cv=18)\n",
    "    scores_svc = cross_val_score(SVC(), X, y, scoring='accuracy', cv=18)\n",
    "\n",
    "    # Accuracy scores\n",
    "    print(\"[Log]: \\t%.3f (cv: %.3f)\" % (model_log.score(X, y), scores_log.mean()))\n",
    "    print(\"[SVC]: \\t%.3f (cv: %.3f)\" % (model_svc.score(X, y), scores_svc.mean()))\n",
    "    \n",
    "    \n",
    "    if variable_scores:\n",
    "        # Variable Scores\n",
    "        dfVars = pd.DataFrame()\n",
    "        dfVars['var'] = X.columns\n",
    "        dfVars['score'] = np.transpose(model_log.coef_)\n",
    "        print(\"\\n\", dfVars)"
   ]
  },
  {
   "cell_type": "code",
   "execution_count": null,
   "metadata": {
    "collapsed": true
   },
   "outputs": [],
   "source": [
    "def ModelScoresWLD(df, team_name, hash_emolex, score_ht, be_4game_sum, score_sent=False):\n",
    "    # instantiate a logistic regression model, and fit with X and y\n",
    "    X, y = CreateXy(df, team_name, hash_emolex, score_ht, be_4game_sum, score_sent)\n",
    "\n",
    "    # Set Models\n",
    "    model_log = LogisticRegression(penalty='l1')\n",
    "    model_svc = SVC()\n",
    "\n",
    "    # Fit to models\n",
    "    model_log = model_log.fit(X, y)\n",
    "    model_svc = model_svc.fit(X, y)\n",
    "\n",
    "    # Cross Validation\n",
    "    scores_log = cross_val_score(LogisticRegression(penalty='l1'), X, y, scoring='accuracy', cv=18)\n",
    "    scores_svc = cross_val_score(SVC(), X, y, scoring='accuracy', cv=18)\n",
    "\n",
    "    # Accuracy scores\n",
    "#     print(\"--------------------------\\n\")\n",
    "    print(\"[Log]: \\t%.3f (cv: %.3f)\" % (model_log.score(X, y), scores_log.mean()))\n",
    "    print(\"[SVC]: \\t%.3f (cv: %.3f)\" % (model_svc.score(X, y), scores_svc.mean()))"
   ]
  },
  {
   "cell_type": "markdown",
   "metadata": {},
   "source": [
    "### Accuracy"
   ]
  },
  {
   "cell_type": "code",
   "execution_count": null,
   "metadata": {
    "collapsed": true
   },
   "outputs": [],
   "source": [
    "# Definings\n",
    "RESULT_FILE_NAME = \"hash_all_ht.csv\""
   ]
  },
  {
   "cell_type": "code",
   "execution_count": null,
   "metadata": {
    "collapsed": false
   },
   "outputs": [],
   "source": [
    "# Create DFs for models\n",
    "# WL: win, lose; WLD: win, lose, draw\n",
    "dfWL = CreateDfForModel(ht_draw=False, ft_wld=False)\n",
    "dfWLD = CreateDfForModel(ht_draw=False, ft_wld=True)"
   ]
  },
  {
   "cell_type": "code",
   "execution_count": null,
   "metadata": {
    "collapsed": false,
    "scrolled": true
   },
   "outputs": [],
   "source": [
    "# Win, Lose\n",
    "ModelScoresWL(dfWL, team_name=False, hash_emolex=False, score_ht=True, be_4game_sum=False, variable_scores=True)\n",
    "ModelScoresWL(dfWL, team_name=False, hash_emolex=False, score_ht=True, be_4game_sum=True, variable_scores=True)\n",
    "ModelScoresWL(dfWL, team_name=False, hash_emolex=True, score_ht=False, be_4game_sum=False, variable_scores=True)\n",
    "# ModelScoresWL(dfWL, team_name=False, hash_emolex=True, score_ht=False, be_4game_sum=True, variable_scores=False)\n",
    "ModelScoresWL(dfWL, team_name=False, hash_emolex=True, score_ht=True, be_4game_sum=False, variable_scores=True)\n",
    "# ModelScoresWL(dfWL, team_name=True, hash_emolex=True, score_ht=True, be_4game_sum=True, variable_scores=False)\n",
    "\n",
    "ModelScoresWL(dfWL, team_name=False, hash_emolex=False, score_ht=False, be_4game_sum=False,\n",
    "              variable_scores=True, score_sent=True)"
   ]
  },
  {
   "cell_type": "code",
   "execution_count": null,
   "metadata": {
    "collapsed": false,
    "scrolled": true
   },
   "outputs": [],
   "source": [
    "ModelScoresWLD(dfWLD, team_name=False, hash_emolex=False, score_ht=True, be_4game_sum=False)\n",
    "# ModelScoresWLD(dfWLD, team_name=False, hash_emolex=False, score_ht=True, be_4game_sum=True)\n",
    "# ModelScoresWLD(dfWLD, team_name=False, hash_emolex=True, score_ht=False, be_4game_sum=False)\n",
    "ModelScoresWLD(dfWLD, team_name=False, hash_emolex=True, score_ht=False, be_4game_sum=False)\n",
    "# ModelScoresWLD(dfWLD, team_name=False, hash_emolex=True, score_ht=True, be_4game_sum=True)\n",
    "# ModelScoresWLD(dfWLD, team_name=True, hash_emolex=True, score_ht=True, be_4game_sum=True)\n",
    "ModelScoresWLD(dfWLD, team_name=False, hash_emolex=True, score_ht=True, be_4game_sum=False)\n",
    "ModelScoresWLD(dfWLD, team_name=False, hash_emolex=False, score_ht=False, be_4game_sum=False, score_sent=True)"
   ]
  },
  {
   "cell_type": "markdown",
   "metadata": {},
   "source": [
    "## Tune Variables"
   ]
  },
  {
   "cell_type": "code",
   "execution_count": null,
   "metadata": {
    "collapsed": true
   },
   "outputs": [],
   "source": [
    "def ModelAccuracy(X, y, penalty='l2'):\n",
    "    # Set Models\n",
    "    model_log = LogisticRegression(penalty=penalty)\n",
    "    model_svc = SVC()\n",
    "\n",
    "    # Fit to models\n",
    "    model_log = model_log.fit(X, y)\n",
    "    model_svc = model_svc.fit(X, y)\n",
    "\n",
    "    # Cross Validation\n",
    "    scores_log = cross_val_score(model_log, X, y, scoring='accuracy', cv=18)\n",
    "    scores_svc = cross_val_score(model_svc, X, y, scoring='accuracy', cv=18)\n",
    "\n",
    "    # Accuracy scores\n",
    "    print(\"--------------------------\\n\")\n",
    "    print(\"[Log]: \\t%.3f (cv: %.3f)\" % (model_log.score(X, y), scores_log.mean()))\n",
    "    print(\"[SVC]: \\t%.3f (cv: %.3f)\" % (model_svc.score(X, y), scores_svc.mean()))\n",
    "\n",
    "\n",
    "    # Variable Scores\n",
    "    dfVars = pd.DataFrame()\n",
    "    dfVars['var'] = X.columns\n",
    "    dfVars['score'] = np.transpose(model_log.coef_)\n",
    "    print(\"\\n\", dfVars)"
   ]
  },
  {
   "cell_type": "code",
   "execution_count": null,
   "metadata": {
    "collapsed": false
   },
   "outputs": [],
   "source": [
    "df = CreateDfForModel(ft_wld=False)\n",
    "y, X = dmatrices('result ~ \\\n",
    "            score_ht_home + score_ht_away + goal_diff_ht',\n",
    "            df, return_type=\"dataframe\")\n",
    "y = np.ravel(y)\n",
    "\n",
    "ModelAccuracy(X, y, penalty='l1')"
   ]
  },
  {
   "cell_type": "code",
   "execution_count": null,
   "metadata": {
    "collapsed": false
   },
   "outputs": [],
   "source": [
    "df = CreateDfForModel(ft_wld=False)\n",
    "y, X = dmatrices(\n",
    "#     'result ~ pn_home_pos + pn_home_neg + pn_away_pos + pn_away_neg + pn_diff_pos + pn_diff_neg',\n",
    "    'result ~ pn_away_neg + pn_diff_neg',\n",
    "            df, return_type=\"dataframe\")\n",
    "y = np.ravel(y)\n",
    "\n",
    "ModelAccuracy(X, y, penalty='l1')"
   ]
  },
  {
   "cell_type": "code",
   "execution_count": null,
   "metadata": {
    "collapsed": false
   },
   "outputs": [],
   "source": [
    "df = CreateDfForModel(ft_wld=False)\n",
    "y, X = dmatrices(\n",
    "    'result ~ \\\n",
    "            score_ht_home + score_ht_away + goal_diff_ht + \\\n",
    "            pn_home_pos + pn_home_neg + pn_away_pos + pn_away_neg + pn_diff_pos + pn_diff_neg',\n",
    "            df, return_type=\"dataframe\")\n",
    "y = np.ravel(y)\n",
    "\n",
    "ModelAccuracy(X, y, penalty='l1')"
   ]
  },
  {
   "cell_type": "code",
   "execution_count": null,
   "metadata": {
    "collapsed": false
   },
   "outputs": [],
   "source": [
    "df = CreateDfForModel(ft_wld=False)\n",
    "y, X = dmatrices(\n",
    "    'result ~ \\\n",
    "            score_ht_home + score_ht_away + goal_diff_ht + \\\n",
    "            sp_home + sn_home + sp_away + sn_away + sp_diff + sn_diff + \\\n",
    "            pn_home_pos + pn_home_neg + pn_away_pos + pn_away_neg + pn_diff_pos + pn_diff_neg',\n",
    "            df, return_type=\"dataframe\")\n",
    "y = np.ravel(y)\n",
    "\n",
    "ModelAccuracy(X, y, penalty='l1')"
   ]
  },
  {
   "cell_type": "markdown",
   "metadata": {},
   "source": [
    "## Scatter Plot"
   ]
  },
  {
   "cell_type": "code",
   "execution_count": null,
   "metadata": {
    "collapsed": false
   },
   "outputs": [],
   "source": [
    "import numpy as np\n",
    "\n",
    "pn_home_pos = np.array(df.pn_diff_pos)\n",
    "score_ht_home = np.array(df.goal_diff_ht)\n",
    "\n",
    "np.corrcoef(pn_home_pos, score_ht_home)"
   ]
  },
  {
   "cell_type": "code",
   "execution_count": null,
   "metadata": {
    "collapsed": true
   },
   "outputs": [],
   "source": [
    "def PlotScatter(x, y):\n",
    "    x = np.array(x)\n",
    "    y = np.array(y)\n",
    "    \n",
    "    cm = plt.cm.get_cmap('seismic')\n",
    "    z = x\n",
    "\n",
    "    # Scatter Plot\n",
    "    plt.figure(figsize=(10, 6))\n",
    "    \n",
    "    \n",
    "    plt.yticks(np.arange(min(y) - 1, max(y) + 1, 1))\n",
    "    \n",
    "    sc = plt.scatter(x, y, c=z, marker=\"o\", s=500, alpha=0.3, cmap=cm)\n",
    "    plt.colorbar(sc)\n",
    "    plt.grid(True)\n",
    "    plt.axhline(y=0, c=\"k\", alpha=0.5)\n",
    "    plt.xlabel('Percentage')\n",
    "    plt.ylabel('Result')\n",
    "    plt.title('Sentiment Percentage against Result')\n",
    "    plt.show()\n",
    "\n",
    "    # Correlation\n",
    "    print(\"Correlation: \", np.corrcoef(x, y)[0][1])"
   ]
  },
  {
   "cell_type": "code",
   "execution_count": null,
   "metadata": {
    "collapsed": false,
    "scrolled": false
   },
   "outputs": [],
   "source": [
    "df = CreateDfForModel(ft_wld=False)\n",
    "PlotScatter(df.pn_diff_pos, df.goal_diff_ht)\n",
    "PlotScatter(df.pn_diff_pos, df.goal_diff_ft)\n",
    "PlotScatter(df.sp_diff, df.goal_diff_ft)\n",
    "PlotScatter(df.goal_diff_ht, df.goal_diff_ft)"
   ]
  },
  {
   "cell_type": "markdown",
   "metadata": {},
   "source": [
    "## Panda Dataframe Plot"
   ]
  },
  {
   "cell_type": "code",
   "execution_count": null,
   "metadata": {
    "collapsed": false
   },
   "outputs": [],
   "source": [
    "import matplotlib\n",
    "matplotlib.style.use('ggplot')\n",
    "\n",
    "df = CreateDfForModel(ft_wld=True)\n",
    "\n",
    "# Plot Histogram\n",
    "plt.figure()\n",
    "df.goal_diff_ft.plot(kind='hist')\n",
    "plt.xlabel(\"FT: Goal Difference\")\n",
    "\n",
    "plt.figure()\n",
    "df.result.plot(kind='hist')\n",
    "plt.xlabel(\"0:Home Lose, 1: Home Win, 2: Draw\")\n",
    "\n",
    "plt.figure()\n",
    "df.res2.plot(kind='hist')"
   ]
  },
  {
   "cell_type": "code",
   "execution_count": null,
   "metadata": {
    "collapsed": false
   },
   "outputs": [],
   "source": [
    "df = CreateDfForModel(ft_wld=False)\n",
    "df.plot(kind='scatter',\n",
    "        x='pn_diff_pos',\n",
    "        y='goal_diff_ft',\n",
    "        c='pn_diff_pos',\n",
    "        marker=\"o\",\n",
    "        s=500,\n",
    "        alpha=0.4,\n",
    "        figsize=(10, 7),\n",
    "        grid=True,\n",
    "        colormap='seismic',\n",
    "       )"
   ]
  },
  {
   "cell_type": "code",
   "execution_count": null,
   "metadata": {
    "collapsed": false
   },
   "outputs": [],
   "source": [
    "# The correlation matrix \n",
    "cor = df.corr()\n",
    "cor"
   ]
  },
  {
   "cell_type": "code",
   "execution_count": null,
   "metadata": {
    "collapsed": false
   },
   "outputs": [],
   "source": [
    "cor.result"
   ]
  },
  {
   "cell_type": "markdown",
   "metadata": {},
   "source": [
    "## Scatter Matrix Plot"
   ]
  },
  {
   "cell_type": "code",
   "execution_count": null,
   "metadata": {
    "collapsed": false
   },
   "outputs": [],
   "source": [
    "from pandas.tools.plotting import scatter_matrix\n",
    "\n",
    "df = CreateDfForModel(ft_wld=True)\n",
    "dta = df[[\n",
    "        'pn_home_pos', 'pn_away_neg',\n",
    "        'pn_diff_pos',\n",
    "        'goal_diff_ht',\n",
    "        'sp_diff',\n",
    "        'goal_diff_ft']]\n",
    "\n",
    "scatter_matrix(dta, alpha=0.8, figsize=(15, 10), diagonal='kde')"
   ]
  },
  {
   "cell_type": "markdown",
   "metadata": {},
   "source": [
    "## Density Plot"
   ]
  },
  {
   "cell_type": "code",
   "execution_count": null,
   "metadata": {
    "collapsed": false
   },
   "outputs": [],
   "source": [
    "df = CreateDfForModel(ft_wld=True)\n",
    "\n",
    "df.pn_diff_pos.plot(kind='kde')"
   ]
  },
  {
   "cell_type": "markdown",
   "metadata": {},
   "source": [
    "## Andrews Curves"
   ]
  },
  {
   "cell_type": "code",
   "execution_count": null,
   "metadata": {
    "collapsed": false
   },
   "outputs": [],
   "source": [
    "from pandas.tools.plotting import andrews_curves\n",
    "\n",
    "df = CreateDfForModel(ft_wld=False)\n",
    "data = df[['pn_diff_pos'] + ['result']]\n",
    "# data = df[df.columns[2:]]\n",
    "\n",
    "plt.figure(figsize=(10, 6))\n",
    "andrews_curves(data, 'result')"
   ]
  },
  {
   "cell_type": "markdown",
   "metadata": {},
   "source": [
    "## Parallel Coordinates"
   ]
  },
  {
   "cell_type": "code",
   "execution_count": null,
   "metadata": {
    "collapsed": false
   },
   "outputs": [],
   "source": [
    "from pandas.tools.plotting import parallel_coordinates\n",
    "\n",
    "df = CreateDfForModel(ft_wld=False)\n",
    "\n",
    "df['res'] = df.result\n",
    "\n",
    "data = df[[\n",
    "        'pn_home_pos',\n",
    "        'pn_away_neg',\n",
    "        'pn_diff_pos',\n",
    "        'res'\n",
    "          ] + ['result']]\n",
    "# data = df[df.columns[2:]]\n",
    "\n",
    "plt.figure(figsize=(16, 6))\n",
    "parallel_coordinates(data, 'result')\n",
    "\n",
    "\n",
    "\n",
    "data = df[[\n",
    "        'score_ht_home',\n",
    "        'score_ht_away',\n",
    "        'goal_diff_ht',\n",
    "        'res'\n",
    "          ] + ['result']]\n",
    "plt.figure(figsize=(16, 6))\n",
    "parallel_coordinates(data, 'result')"
   ]
  },
  {
   "cell_type": "markdown",
   "metadata": {},
   "source": [
    "## Lag Plot"
   ]
  },
  {
   "cell_type": "code",
   "execution_count": null,
   "metadata": {
    "collapsed": false
   },
   "outputs": [],
   "source": [
    "from pandas.tools.plotting import lag_plot\n",
    "\n",
    "df = CreateDfForModel(ft_wld=False)\n",
    "data = df.pn_home_pos\n",
    "\n",
    "plt.figure(figsize=(16, 6))\n",
    "lag_plot(data)"
   ]
  },
  {
   "cell_type": "markdown",
   "metadata": {},
   "source": [
    "## Autocorrelation Plot"
   ]
  },
  {
   "cell_type": "code",
   "execution_count": null,
   "metadata": {
    "collapsed": false
   },
   "outputs": [],
   "source": [
    "from pandas.tools.plotting import autocorrelation_plot\n",
    "\n",
    "df = CreateDfForModel(ft_wld=False)\n",
    "data = df.pn_diff_pos\n",
    "\n",
    "plt.figure(figsize=(16, 6))\n",
    "autocorrelation_plot(data)"
   ]
  },
  {
   "cell_type": "markdown",
   "metadata": {},
   "source": [
    "## Bootstrap Plot"
   ]
  },
  {
   "cell_type": "code",
   "execution_count": null,
   "metadata": {
    "collapsed": false
   },
   "outputs": [],
   "source": [
    "from pandas.tools.plotting import bootstrap_plot\n",
    "\n",
    "df = CreateDfForModel(ft_wld=False)\n",
    "data = df.pn_diff_pos\n",
    "\n",
    "bootstrap_plot(data, size=50, samples=500, color='grey')"
   ]
  },
  {
   "cell_type": "markdown",
   "metadata": {},
   "source": [
    "## RadViz"
   ]
  },
  {
   "cell_type": "code",
   "execution_count": null,
   "metadata": {
    "collapsed": false
   },
   "outputs": [],
   "source": [
    "from pandas.tools.plotting import radviz\n",
    "\n",
    "\n",
    "df = CreateDfForModel(ft_wld=True)\n",
    "\n",
    "data = df[[\n",
    "        'pn_diff_pos', 'score_ht_home', \n",
    "        'pn_diff_neg',\n",
    "        'score_ht_away'\n",
    "          ] + ['result']]\n",
    "data = df[df.columns[2:]]\n",
    "\n",
    "plt.figure(figsize=(16, 10))\n",
    "\n",
    "radviz(data, 'result')\n",
    "plt.axhline(y=0, c=\"k\", alpha=0.3)\n",
    "plt.axvline(x=0, c=\"k\", alpha=0.3)"
   ]
  }
 ],
 "metadata": {
  "kernelspec": {
   "display_name": "Python 3",
   "language": "python",
   "name": "python3"
  },
  "language_info": {
   "codemirror_mode": {
    "name": "ipython",
    "version": 3
   },
   "file_extension": ".py",
   "mimetype": "text/x-python",
   "name": "python",
   "nbconvert_exporter": "python",
   "pygments_lexer": "ipython3",
   "version": "3.4.3"
  }
 },
 "nbformat": 4,
 "nbformat_minor": 0
}
