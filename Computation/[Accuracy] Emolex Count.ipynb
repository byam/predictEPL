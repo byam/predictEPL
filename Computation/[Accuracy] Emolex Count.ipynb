{
 "cells": [
  {
   "cell_type": "code",
   "execution_count": 1,
   "metadata": {
    "collapsed": false
   },
   "outputs": [
    {
     "name": "stdout",
     "output_type": "stream",
     "text": [
      "Populating the interactive namespace from numpy and matplotlib\n"
     ]
    }
   ],
   "source": [
    "%pylab inline\n",
    "%matplotlib inline\n",
    "\n",
    "# Global Imports\n",
    "import matplotlib.pyplot as plt\n",
    "import numpy as np\n",
    "import pandas as pd\n",
    "from sklearn import datasets\n",
    "import os\n",
    "import sys\n",
    "import pickle\n",
    "from pprint import pprint\n",
    "from time import time\n",
    "import datetime\n",
    "from time import gmtime, strftime\n",
    "import statsmodels.api as sm\n",
    "from patsy import dmatrices\n",
    "\n",
    "# Scikit-Learn imports\n",
    "from sklearn.linear_model import LogisticRegressionCV\n",
    "from sklearn.linear_model import LogisticRegression\n",
    "from sklearn.svm import SVC\n",
    "from sklearn.tree import DecisionTreeClassifier\n",
    "from sklearn.ensemble import RandomForestClassifier\n",
    "\n",
    "from sklearn.pipeline import Pipeline\n",
    "from sklearn.grid_search import GridSearchCV\n",
    "from sklearn.cross_validation import StratifiedKFold\n",
    "from sklearn.cross_validation import train_test_split\n",
    "\n",
    "from sklearn.cross_validation import cross_val_score\n",
    "from sklearn import metrics\n",
    "\n",
    "# Local Imports\n",
    "path = str(os.path.expanduser('~')) + '/git/predictEPL/config'\n",
    "sys.path.append(path)\n",
    "import paths\n",
    "\n",
    "sys.path.append(paths.UTILS)\n",
    "import useful_methods"
   ]
  },
  {
   "cell_type": "markdown",
   "metadata": {},
   "source": [
    "## Data Manipulation Functions"
   ]
  },
  {
   "cell_type": "code",
   "execution_count": 2,
   "metadata": {
    "collapsed": true
   },
   "outputs": [],
   "source": [
    "# Definings\n",
    "RESULT_FILE_NAME = \"log_emolex_all_ht.csv\""
   ]
  },
  {
   "cell_type": "code",
   "execution_count": 3,
   "metadata": {
    "collapsed": false,
    "scrolled": true
   },
   "outputs": [],
   "source": [
    "def ReadEmolexDf():\n",
    "    # Read game_infos as df\n",
    "    dfGameInfo = useful_methods.csv_dic_df(paths.READ_PATH_GAME_INFO + 'game_infos.csv')\n",
    "    dfGameInfo = useful_methods.DropNanGames(dfGameInfo).copy().reset_index(drop=True)\n",
    "    dfGameInfo.GW = [int(gw) for gw in dfGameInfo.GW]\n",
    "    dfGameInfo = dfGameInfo.sort_values(['GW', 'away_team'], ascending=[True, True]).copy().reset_index(drop=True)\n",
    "\n",
    "    # Read Hash Emolex Model result\n",
    "    df = useful_methods.csv_dic_df(paths.READ_PATH_RESULTS + RESULT_FILE_NAME)\n",
    "    df.GW = [int(gw) for gw in df.GW]\n",
    "    df = df.sort_values(['GW', 'away_team'], ascending=[True, True]).copy().reset_index(drop=True)\n",
    "\n",
    "    df.emolex_home = [np.array([float(emo.strip()) for emo in emolex_home[1:-2].split('.')]) for emolex_home in list(df.emolex_home)]\n",
    "    df.emolex_away = [np.array([float(emo.strip()) for emo in emolex_away[1:-2].split('.')]) for emolex_away in list(df.emolex_away)]\n",
    "\n",
    "\n",
    "    # Combine 2 dfs\n",
    "    df['score_ht_away'] = [int(item) for item in dfGameInfo.score_ht_away]\n",
    "    df['score_ht_home'] = [int(item) for item in dfGameInfo.score_ht_home]\n",
    "    df['score_ft_away'] = [int(item) for item in dfGameInfo.score_ft_away]\n",
    "    df['score_ft_home'] = [int(item) for item in dfGameInfo.score_ft_home]\n",
    "\n",
    "    # 'home_win': 1, 'away_win': 0, 'draw': 2\n",
    "    def Labeling(goal_diff):\n",
    "        if goal_diff > 0:\n",
    "            return 1\n",
    "        elif goal_diff < 0:\n",
    "            return 0\n",
    "        else:\n",
    "            return 2\n",
    "\n",
    "    df['goal_diff_ht'] = df.score_ht_home - df.score_ht_away\n",
    "    df['goal_diff_ft'] = df.score_ft_home - df.score_ft_away\n",
    "    df['result'] = [Labeling(item) for item in df.goal_diff_ft]\n",
    "\n",
    "\n",
    "    # **********************************************\n",
    "    # Add previous 4 games points sum\n",
    "    dfBe4GameSum = useful_methods.csv_dic_df(paths.DATA_HOME + \"EPL/info_before_4game_sum.csv\")\n",
    "\n",
    "    team_homes = list(df.home_team)\n",
    "    team_aways = list(df.away_team)\n",
    "    GWs = [int(gw) for gw in df.GW]\n",
    "\n",
    "    be_4game_sum_home = []\n",
    "    be_4game_sum_away = []\n",
    "\n",
    "    for index in range(len(GWs)):\n",
    "        team_home = team_homes[index]\n",
    "        team_away = team_aways[index]\n",
    "        gw = GWs[index]\n",
    "\n",
    "        be_4game_sum_home.append(int(dfBe4GameSum[dfBe4GameSum.team == team_home][str(gw)]))\n",
    "        be_4game_sum_away.append(int(dfBe4GameSum[dfBe4GameSum.team == team_away][str(gw)]))\n",
    "\n",
    "    df['be_4game_sum_away'] = be_4game_sum_away\n",
    "    df['be_4game_sum_home'] = be_4game_sum_home    \n",
    "\n",
    "    return df"
   ]
  },
  {
   "cell_type": "code",
   "execution_count": 4,
   "metadata": {
    "collapsed": false,
    "scrolled": true
   },
   "outputs": [],
   "source": [
    "# Create df for models.\n",
    "def CreateDfForModel(ht_draw=False, ft_wld=False):\n",
    "    df = ReadEmolexDf()\n",
    "        \n",
    "    # only for Win or Lose\n",
    "    if not ft_wld:\n",
    "        df = df[df.result != 2].copy().reset_index(drop=True)\n",
    "    \n",
    "    # HT: Equal\n",
    "    if ht_draw:\n",
    "        df = df[df.goal_diff_ht == 0].copy().reset_index(drop=True)\n",
    "    \n",
    "    dta = pd.DataFrame()\n",
    "    \n",
    "    # Teams\n",
    "    dta['team_home'] = df.home_team\n",
    "    dta['team_away'] = df.away_team\n",
    "    \n",
    "    # HF scores\n",
    "    dta['score_ht_home'] = df.score_ht_home\n",
    "    dta['score_ht_away'] = df.score_ht_away\n",
    "    \n",
    "    dta['goal_diff_ht'] = df['goal_diff_ht']\n",
    "\n",
    "    # 'home_win': 1, 'away_win': 0, 'draw': 2\n",
    "    dta['result'] = df.result\n",
    "    \n",
    "    # be_4game_sum\n",
    "    dta['be_4game_sum_home'] = df.be_4game_sum_home / 12.0\n",
    "    dta['be_4game_sum_away'] = df.be_4game_sum_away / 12.0\n",
    "    \n",
    "    # Emolex 8\n",
    "    dta['anger_home'] = [emolex[0] / sum(emolex[:-2]) for emolex in df.emolex_home]\n",
    "    dta['fear_home'] = [emolex[1] / sum(emolex[:-2]) for emolex in df.emolex_home]\n",
    "    dta['disgust_home'] = [emolex[2] / sum(emolex[:-2]) for emolex in df.emolex_home]\n",
    "    dta['sadness_home'] = [emolex[3] / sum(emolex[:-2])  for emolex in df.emolex_home]\n",
    "    dta['surprise_home'] = [emolex[4] / sum(emolex[:-2])  for emolex in df.emolex_home]\n",
    "    dta['trust_home'] = [emolex[5] / sum(emolex[:-2])  for emolex in df.emolex_home]\n",
    "    dta['joy_home'] = [emolex[6] / sum(emolex[:-2])  for emolex in df.emolex_home]\n",
    "    dta['anticipation_home'] = [emolex[7] / sum(emolex[:-2])  for emolex in df.emolex_home]\n",
    "    dta['pos_home'] = [emolex[8] / sum(emolex[-2:])  for emolex in df.emolex_home]\n",
    "    dta['neg_home'] = [emolex[9] / sum(emolex[-2:])  for emolex in df.emolex_home]\n",
    "\n",
    "    dta['anger_away'] = [emolex[0] / sum(emolex[:-2])  for emolex in df.emolex_away]\n",
    "    dta['fear_away'] = [emolex[1] / sum(emolex[:-2])  for emolex in df.emolex_away]\n",
    "    dta['disgust_away'] = [emolex[2] / sum(emolex[:-2])  for emolex in df.emolex_away]\n",
    "    dta['sadness_away'] = [emolex[3] / sum(emolex[:-2])  for emolex in df.emolex_away]\n",
    "    dta['surprise_away'] = [emolex[4] / sum(emolex[:-2])  for emolex in df.emolex_away]\n",
    "    dta['trust_away'] = [emolex[5] / sum(emolex[:-2])  for emolex in df.emolex_away]\n",
    "    dta['joy_away'] = [emolex[6] / sum(emolex[:-2])  for emolex in df.emolex_away]\n",
    "    dta['anticipation_away'] = [emolex[7] / sum(emolex[:-2])  for emolex in df.emolex_away]\n",
    "    dta['pos_away'] = [emolex[8] / sum(emolex[-2:])  for emolex in df.emolex_away]\n",
    "    dta['neg_away'] = [emolex[9] / sum(emolex[-2:])  for emolex in df.emolex_away]\n",
    "    \n",
    "    return dta"
   ]
  },
  {
   "cell_type": "code",
   "execution_count": 5,
   "metadata": {
    "collapsed": false
   },
   "outputs": [],
   "source": [
    "# X: df, y: list\n",
    "def CreateXy(df, team_name=False, emolex=True, score_ht=True, be_4game_sum=False):\n",
    "    if team_name and emolex and score_ht and be_4game_sum:\n",
    "        y, X = dmatrices('result ~ \\\n",
    "            be_4game_sum_home + be_4game_sum_away + \\\n",
    "            score_ht_home + score_ht_away + \\\n",
    "            anger_home + fear_home + disgust_home + sadness_home + \\\n",
    "            surprise_home + trust_home + joy_home + anticipation_home + \\\n",
    "            anger_away + fear_away + disgust_away + sadness_away + \\\n",
    "            surprise_away + trust_away + joy_away + anticipation_away + \\\n",
    "            pos_home + neg_home + pos_away + neg_away + \\\n",
    "            C(team_home) + C(team_away)',\n",
    "            df, return_type=\"dataframe\")\n",
    "    elif emolex and score_ht and be_4game_sum:\n",
    "        y, X = dmatrices('result ~ \\\n",
    "            be_4game_sum_home + be_4game_sum_away + \\\n",
    "            score_ht_home + score_ht_away + \\\n",
    "            anger_home + fear_home + disgust_home + sadness_home + \\\n",
    "            surprise_home + trust_home + joy_home + anticipation_home + \\\n",
    "            anger_away + fear_away + disgust_away + sadness_away + \\\n",
    "            surprise_away + trust_away + joy_away + anticipation_away + \\\n",
    "            pos_home + neg_home + pos_away + neg_away',\n",
    "            df, return_type=\"dataframe\")\n",
    "    elif emolex and be_4game_sum:\n",
    "        y, X = dmatrices('result ~ \\\n",
    "            be_4game_sum_home + be_4game_sum_away + \\\n",
    "            anger_home + fear_home + disgust_home + sadness_home + \\\n",
    "            surprise_home + trust_home + joy_home + anticipation_home + \\\n",
    "            anger_away + fear_away + disgust_away + sadness_away + \\\n",
    "            surprise_away + trust_away + joy_away + anticipation_away + \\\n",
    "            pos_home + neg_home + pos_away + neg_away',\n",
    "            df, return_type=\"dataframe\")\n",
    "    elif score_ht and be_4game_sum:\n",
    "        y, X = dmatrices('result ~ \\\n",
    "            score_ht_home + score_ht_away + \\\n",
    "            be_4game_sum_home + be_4game_sum_away',\n",
    "            df, return_type=\"dataframe\")\n",
    "    elif emolex:\n",
    "        y, X = dmatrices('result ~ \\\n",
    "            anger_home + fear_home + disgust_home + sadness_home + \\\n",
    "            surprise_home + trust_home + joy_home + anticipation_home + \\\n",
    "            anger_away + fear_away + disgust_away + sadness_away + \\\n",
    "            surprise_away + trust_away + joy_away + anticipation_away + \\\n",
    "            pos_home + neg_home + pos_away + neg_away',\n",
    "            df, return_type=\"dataframe\")\n",
    "    else:\n",
    "        y, X = dmatrices('result ~ \\\n",
    "            score_ht_home + score_ht_away',\n",
    "            df, return_type=\"dataframe\")\n",
    "        \n",
    "    # flatten y into a 1-D array\n",
    "    y = np.ravel(y)\n",
    "    \n",
    "    return X, y"
   ]
  },
  {
   "cell_type": "markdown",
   "metadata": {},
   "source": [
    "## Models: Logistic, SVC"
   ]
  },
  {
   "cell_type": "code",
   "execution_count": 6,
   "metadata": {
    "collapsed": false
   },
   "outputs": [],
   "source": [
    "def ModelScoresWL(df, team_name, emolex, score_ht, be_4game_sum, variable_scores=False):\n",
    "    # instantiate a logistic regression model, and fit with X and y\n",
    "    X, y = CreateXy(df, team_name, emolex, score_ht, be_4game_sum)\n",
    "\n",
    "    # Set Models\n",
    "    model_log = LogisticRegression()\n",
    "    model_svc = SVC()\n",
    "\n",
    "    # Fit to models\n",
    "    model_log = model_log.fit(X, y)\n",
    "    model_svc = model_svc.fit(X, y)\n",
    "\n",
    "    # Cross Validation\n",
    "    scores_log = cross_val_score(LogisticRegression(), X, y, scoring='accuracy', cv=18)\n",
    "    scores_svc = cross_val_score(SVC(), X, y, scoring='accuracy', cv=18)\n",
    "\n",
    "    # Accuracy scores\n",
    "    print(\"--------------------------\\n\")\n",
    "    print(\"[Log]: \\t%.3f (cv: %.3f)\" % (model_log.score(X, y), scores_log.mean()))\n",
    "    print(\"[SVC]: \\t%.3f (cv: %.3f)\" % (model_svc.score(X, y), scores_svc.mean()))\n",
    "    \n",
    "    \n",
    "    if variable_scores:\n",
    "        # Variable Scores\n",
    "        dfVars = pd.DataFrame()\n",
    "        dfVars['var'] = X.columns\n",
    "        dfVars['score'] = np.transpose(model_log.coef_)\n",
    "        print(\"\\n\", dfVars)"
   ]
  },
  {
   "cell_type": "code",
   "execution_count": 7,
   "metadata": {
    "collapsed": true
   },
   "outputs": [],
   "source": [
    "def ModelScoresWLD(df, team_name, emolex, score_ht, be_4game_sum):\n",
    "    # instantiate a logistic regression model, and fit with X and y\n",
    "    X, y = CreateXy(df, team_name, emolex, score_ht, be_4game_sum)\n",
    "\n",
    "    # Set Models\n",
    "    model_log = LogisticRegression()\n",
    "    model_svc = SVC()\n",
    "\n",
    "    # Fit to models\n",
    "    model_log = model_log.fit(X, y)\n",
    "    model_svc = model_svc.fit(X, y)\n",
    "\n",
    "    # Cross Validation\n",
    "    scores_log = cross_val_score(LogisticRegression(), X, y, scoring='accuracy', cv=18)\n",
    "    scores_svc = cross_val_score(SVC(), X, y, scoring='accuracy', cv=18)\n",
    "\n",
    "    # Accuracy scores\n",
    "    print(\"--------------------------\\n\")\n",
    "    print(\"[Log]: \\t%.3f (cv: %.3f)\" % (model_log.score(X, y), scores_log.mean()))\n",
    "    print(\"[SVC]: \\t%.3f (cv: %.3f)\" % (model_svc.score(X, y), scores_svc.mean()))"
   ]
  },
  {
   "cell_type": "markdown",
   "metadata": {},
   "source": [
    "### Accuracy"
   ]
  },
  {
   "cell_type": "code",
   "execution_count": 8,
   "metadata": {
    "collapsed": false
   },
   "outputs": [],
   "source": [
    "# Create DFs for models\n",
    "# WL: win, lose; WLD: win, lose, draw\n",
    "dfWL = CreateDfForModel(ht_draw=False, ft_wld=False)\n",
    "dfWLD = CreateDfForModel(ht_draw=False, ft_wld=True)"
   ]
  },
  {
   "cell_type": "code",
   "execution_count": 9,
   "metadata": {
    "collapsed": false
   },
   "outputs": [
    {
     "name": "stdout",
     "output_type": "stream",
     "text": [
      "--------------------------\n",
      "\n",
      "[Log]: \t0.766 (cv: 0.765)\n",
      "[SVC]: \t0.766 (cv: 0.765)\n",
      "--------------------------\n",
      "\n",
      "[Log]: \t0.781 (cv: 0.743)\n",
      "[SVC]: \t0.766 (cv: 0.765)\n",
      "--------------------------\n",
      "\n",
      "[Log]: \t0.695 (cv: 0.665)\n",
      "[SVC]: \t0.594 (cv: 0.594)\n",
      "--------------------------\n",
      "\n",
      "[Log]: \t0.719 (cv: 0.710)\n",
      "[SVC]: \t0.594 (cv: 0.594)\n",
      "--------------------------\n",
      "\n",
      "[Log]: \t0.773 (cv: 0.742)\n",
      "[SVC]: \t0.750 (cv: 0.733)\n",
      "--------------------------\n",
      "\n",
      "[Log]: \t0.859 (cv: 0.711)\n",
      "[SVC]: \t0.758 (cv: 0.742)\n"
     ]
    }
   ],
   "source": [
    "# Win, Lose\n",
    "ModelScoresWL(dfWL, team_name=False, emolex=False, score_ht=True, be_4game_sum=False, variable_scores=False)\n",
    "ModelScoresWL(dfWL, team_name=False, emolex=False, score_ht=True, be_4game_sum=True, variable_scores=False)\n",
    "ModelScoresWL(dfWL, team_name=False, emolex=True, score_ht=False, be_4game_sum=False, variable_scores=False)\n",
    "ModelScoresWL(dfWL, team_name=False, emolex=True, score_ht=False, be_4game_sum=True, variable_scores=False)\n",
    "ModelScoresWL(dfWL, team_name=False, emolex=True, score_ht=True, be_4game_sum=True, variable_scores=False)\n",
    "ModelScoresWL(dfWL, team_name=True, emolex=True, score_ht=True, be_4game_sum=True, variable_scores=False)"
   ]
  },
  {
   "cell_type": "code",
   "execution_count": 10,
   "metadata": {
    "collapsed": false
   },
   "outputs": [
    {
     "name": "stdout",
     "output_type": "stream",
     "text": [
      "--------------------------\n",
      "\n",
      "[Log]: \t0.554 (cv: 0.553)\n",
      "[SVC]: \t0.582 (cv: 0.493)\n",
      "--------------------------\n",
      "\n",
      "[Log]: \t0.588 (cv: 0.541)\n",
      "[SVC]: \t0.599 (cv: 0.498)\n",
      "--------------------------\n",
      "\n",
      "[Log]: \t0.514 (cv: 0.503)\n",
      "[SVC]: \t0.429 (cv: 0.431)\n",
      "--------------------------\n",
      "\n",
      "[Log]: \t0.520 (cv: 0.498)\n",
      "[SVC]: \t0.429 (cv: 0.431)\n",
      "--------------------------\n",
      "\n",
      "[Log]: \t0.599 (cv: 0.535)\n",
      "[SVC]: \t0.542 (cv: 0.530)\n",
      "--------------------------\n",
      "\n",
      "[Log]: \t0.678 (cv: 0.524)\n",
      "[SVC]: \t0.548 (cv: 0.537)\n"
     ]
    }
   ],
   "source": [
    "ModelScoresWLD(dfWLD, team_name=False, emolex=False, score_ht=True, be_4game_sum=False)\n",
    "ModelScoresWLD(dfWLD, team_name=False, emolex=False, score_ht=True, be_4game_sum=True)\n",
    "ModelScoresWLD(dfWLD, team_name=False, emolex=True, score_ht=False, be_4game_sum=False)\n",
    "ModelScoresWLD(dfWLD, team_name=False, emolex=True, score_ht=False, be_4game_sum=True)\n",
    "ModelScoresWLD(dfWLD, team_name=False, emolex=True, score_ht=True, be_4game_sum=True)\n",
    "ModelScoresWLD(dfWLD, team_name=True, emolex=True, score_ht=True, be_4game_sum=True)"
   ]
  },
  {
   "cell_type": "code",
   "execution_count": null,
   "metadata": {
    "collapsed": true
   },
   "outputs": [],
   "source": []
  }
 ],
 "metadata": {
  "kernelspec": {
   "display_name": "Python 3",
   "language": "python",
   "name": "python3"
  },
  "language_info": {
   "codemirror_mode": {
    "name": "ipython",
    "version": 3
   },
   "file_extension": ".py",
   "mimetype": "text/x-python",
   "name": "python",
   "nbconvert_exporter": "python",
   "pygments_lexer": "ipython3",
   "version": "3.4.3"
  }
 },
 "nbformat": 4,
 "nbformat_minor": 0
}
