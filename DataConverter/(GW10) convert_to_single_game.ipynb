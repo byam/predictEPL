{
 "cells": [
  {
   "cell_type": "code",
   "execution_count": 1,
   "metadata": {
    "collapsed": false
   },
   "outputs": [],
   "source": [
    "import os\n",
    "os.chdir(\"/Users/Bya/git/predictEPL/MyFunctions/\")\n",
    "from converter import read_file_and_save_as_each_game\n",
    "from converter import createTuples\n",
    "from converter import Teams\n",
    "\n",
    "team = Teams()"
   ]
  },
  {
   "cell_type": "code",
   "execution_count": 2,
   "metadata": {
    "collapsed": false
   },
   "outputs": [],
   "source": [
    "weekGames = [    \n",
    "    team.Villa, team.Swansea,\n",
    "    team.Leicester, team.Crystal,\n",
    "    team.Norwich, team.WestBromwich,\n",
    "    team.Stoke, team.Watford,\n",
    "    team.WestHam, team.Chelsea,\n",
    "    \n",
    "    team.Arsenal, team.Everton,\n",
    "    \n",
    "    team.Sunderland, team.Newcastle,\n",
    "    \n",
    "    team.Bournemouth, team.Tottenham,\n",
    "    team.United, team.City,\n",
    "    \n",
    "    team.Liverpool, team.Southampton,\n",
    "            ]"
   ]
  },
  {
   "cell_type": "code",
   "execution_count": 3,
   "metadata": {
    "collapsed": false
   },
   "outputs": [],
   "source": [
    "CSVfileNames = [\n",
    "    \"/Users/Bya/Dropbox/Research/datas/GW10/game1_5.txt.csv\",\n",
    "    \"/Users/Bya/Dropbox/Research/datas/GW10/game1_5.txt.csv\",\n",
    "    \"/Users/Bya/Dropbox/Research/datas/GW10/game1_5.txt.csv\",\n",
    "    \"/Users/Bya/Dropbox/Research/datas/GW10/game1_5.txt.csv\",\n",
    "    \"/Users/Bya/Dropbox/Research/datas/GW10/game1_5.txt.csv\",\n",
    "    \n",
    "    \"/Users/Bya/Dropbox/Research/datas/GW10/game6.txt.csv\",\n",
    "    \n",
    "    \"/Users/Bya/Dropbox/Research/datas/GW10/game7.txt.csv\",\n",
    "    \n",
    "    \"/Users/Bya/Dropbox/Research/datas/GW10/game8_9.txt.csv\",\n",
    "    \"/Users/Bya/Dropbox/Research/datas/GW10/game8_9.txt.csv\",\n",
    "    \n",
    "    \"/Users/Bya/Dropbox/Research/datas/GW10/game10.txt.csv\",\n",
    "]"
   ]
  },
  {
   "cell_type": "code",
   "execution_count": 4,
   "metadata": {
    "collapsed": false
   },
   "outputs": [
    {
     "name": "stdout",
     "output_type": "stream",
     "text": [
      "\n",
      " Villa vs Swansea :\n",
      "\n",
      "[('home', 2141), ('away', 488), ('both', 1220), ('nothing', 29769)]\n",
      "\n",
      " Leicester vs Crystal :\n",
      "\n",
      "[('home', 1397), ('away', 718), ('both', 611), ('nothing', 30892)]\n",
      "\n",
      " Norwich vs WestBromwich :\n",
      "\n",
      "[('home', 541), ('away', 1467), ('both', 421), ('nothing', 31189)]\n",
      "\n",
      " Stoke vs Watford :\n",
      "\n",
      "[('home', 856), ('away', 1710), ('both', 407), ('nothing', 30645)]\n",
      "\n",
      " WestHam vs Chelsea :\n",
      "\n",
      "[('home', 1871), ('away', 17170), ('both', 3400), ('nothing', 11177)]\n",
      "\n",
      " Arsenal vs Everton :\n",
      "\n",
      "[('home', 9297), ('away', 2037), ('both', 2163), ('nothing', 41)]\n",
      "\n",
      " Sunderland vs Newcastle :\n",
      "\n",
      "[('home', 2299), ('away', 5622), ('both', 2168), ('nothing', 13)]\n",
      "\n",
      " Bournemouth vs Tottenham :\n",
      "\n",
      "[('home', 1448), ('away', 6094), ('both', 351), ('nothing', 48776)]\n",
      "\n",
      " United vs City :\n",
      "\n",
      "[('home', 34776), ('away', 7558), ('both', 6260), ('nothing', 8075)]\n",
      "\n",
      " Liverpool vs Southampton :\n",
      "\n",
      "[('home', 14322), ('away', 893), ('both', 1928), ('nothing', 35)]\n"
     ]
    }
   ],
   "source": [
    "GW = 'GW10'\n",
    "\n",
    "weekGames = createTuples(weekGames)\n",
    "for i in range(len(weekGames)):\n",
    "    read_file_and_save_as_each_game(CSVfileNames[i], weekGames[i], GW)"
   ]
  }
 ],
 "metadata": {
  "kernelspec": {
   "display_name": "Python 2",
   "language": "python",
   "name": "python2"
  },
  "language_info": {
   "codemirror_mode": {
    "name": "ipython",
    "version": 2
   },
   "file_extension": ".py",
   "mimetype": "text/x-python",
   "name": "python",
   "nbconvert_exporter": "python",
   "pygments_lexer": "ipython2",
   "version": "2.7.10"
  }
 },
 "nbformat": 4,
 "nbformat_minor": 0
}
