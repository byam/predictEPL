{
 "cells": [
  {
   "cell_type": "code",
   "execution_count": 1,
   "metadata": {
    "collapsed": false
   },
   "outputs": [],
   "source": [
    "import os\n",
    "os.chdir(\"/Users/Bya/git/predictEPL/MyFunctions/\")\n",
    "from converter import read_file_and_save_as_each_game\n",
    "from converter import createTuples\n",
    "from converter import Teams\n",
    "\n",
    "team = Teams()"
   ]
  },
  {
   "cell_type": "code",
   "execution_count": 3,
   "metadata": {
    "collapsed": false
   },
   "outputs": [],
   "source": [
    "weekGames = [\n",
    "    team.Chelsea, team.Arsenal,\n",
    "    \n",
    "    team.Villa, team.WestBromwich,\n",
    "    team.Bournemouth, team.Sunderland,\n",
    "    team.Newcastle, team.Watford,\n",
    "    team.Stoke, team.Leicester,\n",
    "    team.Swansea, team.Everton,\n",
    "    \n",
    "    team.City, team.WestHam,\n",
    "    \n",
    "    team.Tottenham, team.Crystal,\n",
    "    \n",
    "    team.Liverpool, team.Norwich,\n",
    "    team.Southampton, team.United,\n",
    "            ]"
   ]
  },
  {
   "cell_type": "code",
   "execution_count": 4,
   "metadata": {
    "collapsed": false
   },
   "outputs": [],
   "source": [
    "CSVfileNames = [\n",
    "    \"/Users/Bya/Dropbox/Research/datas/GW6/1509192045_CFCvsARSENAL_json.txt.csv\",\n",
    "    \n",
    "    \"/Users/Bya/Dropbox/Research/datas/GW6/1509192300_5matches_json.txt.csv\",\n",
    "    \"/Users/Bya/Dropbox/Research/datas/GW6/1509192300_5matches_json.txt.csv\",\n",
    "    \"/Users/Bya/Dropbox/Research/datas/GW6/1509192300_5matches_json.txt.csv\",\n",
    "    \"/Users/Bya/Dropbox/Research/datas/GW6/1509192300_5matches_json.txt.csv\",\n",
    "    \"/Users/Bya/Dropbox/Research/datas/GW6/1509192300_5matches_json.txt.csv\",\n",
    "    \n",
    "    \"/Users/Bya/Dropbox/Research/datas/GW6/1509200130_MCFCvsWHU_json.txt.csv\",\n",
    "    \n",
    "    \"/Users/Bya/Dropbox/Research/datas/GW6/1509202130_COYSvsCPFC_json.txt.csv\",\n",
    "    \n",
    "    \"/Users/Bya/Dropbox/Research/datas/GW6/1509210000_2matches_json.txt.csv\",\n",
    "    \"/Users/Bya/Dropbox/Research/datas/GW6/1509210000_2matches_json.txt.csv\",\n",
    "]"
   ]
  },
  {
   "cell_type": "code",
   "execution_count": 5,
   "metadata": {
    "collapsed": false
   },
   "outputs": [
    {
     "name": "stdout",
     "output_type": "stream",
     "text": [
      "\n",
      " Chelsea vs Arsenal :\n",
      "\n",
      "[('home', 7120), ('away', 5435), ('both', 6989), ('nothing', 44)]\n",
      "\n",
      " Villa vs WestBromwich :\n",
      "\n",
      "[('home', 766), ('away', 459), ('both', 1092), ('nothing', 11446)]\n",
      "\n",
      " Bournemouth vs Sunderland :\n",
      "\n",
      "[('home', 1065), ('away', 1261), ('both', 858), ('nothing', 10579)]\n",
      "\n",
      " Newcastle vs Watford :\n",
      "\n",
      "[('home', 3962), ('away', 1178), ('both', 504), ('nothing', 8119)]\n",
      "\n",
      " Stoke vs Leicester :\n",
      "\n",
      "[('home', 506), ('away', 639), ('both', 1254), ('nothing', 11364)]\n",
      "\n",
      " Swansea vs Everton :\n",
      "\n",
      "[('home', 146), ('away', 593), ('both', 396), ('nothing', 12628)]\n",
      "\n",
      " City vs WestHam :\n",
      "\n",
      "[('home', 6579), ('away', 4148), ('both', 2062), ('nothing', 24)]\n",
      "\n",
      " Tottenham vs Crystal :\n",
      "\n",
      "[('home', 2323), ('away', 41), ('both', 623), ('nothing', 2)]\n",
      "\n",
      " Liverpool vs Norwich :\n",
      "\n",
      "[('home', 7869), ('away', 430), ('both', 2091), ('nothing', 43548)]\n",
      "\n",
      " Southampton vs United :\n",
      "\n",
      "[('home', 1018), ('away', 38673), ('both', 3825), ('nothing', 10422)]\n"
     ]
    }
   ],
   "source": [
    "GW = 'GW6'\n",
    "\n",
    "weekGames = createTuples(weekGames)\n",
    "for i in range(len(weekGames)):\n",
    "    read_file_and_save_as_each_game(CSVfileNames[i], weekGames[i], GW)"
   ]
  }
 ],
 "metadata": {
  "kernelspec": {
   "display_name": "Python 2",
   "language": "python",
   "name": "python2"
  },
  "language_info": {
   "codemirror_mode": {
    "name": "ipython",
    "version": 2
   },
   "file_extension": ".py",
   "mimetype": "text/x-python",
   "name": "python",
   "nbconvert_exporter": "python",
   "pygments_lexer": "ipython2",
   "version": "2.7.10"
  }
 },
 "nbformat": 4,
 "nbformat_minor": 0
}
