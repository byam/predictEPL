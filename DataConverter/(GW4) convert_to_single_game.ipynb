{
 "cells": [
  {
   "cell_type": "code",
   "execution_count": 9,
   "metadata": {
    "collapsed": false
   },
   "outputs": [],
   "source": [
    "import os\n",
    "os.chdir(\"/Users/Bya/git/predictEPL/MyFunctions/\")\n",
    "from converter import read_file_and_save_as_each_game\n",
    "from converter import createTuples\n",
    "from converter import Teams"
   ]
  },
  {
   "cell_type": "code",
   "execution_count": 13,
   "metadata": {
    "collapsed": false
   },
   "outputs": [],
   "source": [
    "team = Teams()\n",
    "weekGames = [\n",
    "    team.Newcastle, team.Arsenal,\n",
    "    \n",
    "    team.Villa, team.Sunderland,\n",
    "    team.Bournemouth, team.Leicester,\n",
    "    team.Chelsea, team.Crystal,\n",
    "    team.Liverpool, team.WestHam,\n",
    "    team.City, team.Watford,\n",
    "    team.Stoke, team.WestBromwich,\n",
    "    \n",
    "#     team.Tottenham, team.Everton,\n",
    "    team.Southampton, team.Norwich,\n",
    "    \n",
    "    team.Swansea, team.United,\n",
    "            ]"
   ]
  },
  {
   "cell_type": "code",
   "execution_count": 14,
   "metadata": {
    "collapsed": false
   },
   "outputs": [],
   "source": [
    "CSVfileNames = [\n",
    "    \"/Users/Bya/Dropbox/Research/datas/GW4/1508292045_NUFCvsARSENAL_json.txt.csv\",\n",
    "    \n",
    "    \"/Users/Bya/Dropbox/Research/datas/GW4/1508292300_6matches_json.txt.csv\",\n",
    "    \"/Users/Bya/Dropbox/Research/datas/GW4/1508292300_6matches_json.txt.csv\",\n",
    "    \"/Users/Bya/Dropbox/Research/datas/GW4/1508292300_6matches_json.txt.csv\",\n",
    "    \"/Users/Bya/Dropbox/Research/datas/GW4/1508292300_6matches_json.txt.csv\",\n",
    "    \"/Users/Bya/Dropbox/Research/datas/GW4/1508292300_6matches_json.txt.csv\",\n",
    "    \"/Users/Bya/Dropbox/Research/datas/GW4/1508292300_6matches_json.txt.csv\",\n",
    "    \n",
    "    \"/Users/Bya/Dropbox/Research/datas/GW4/1508302130_SAINTSvsNCFC_json.txt.csv\",\n",
    "    \n",
    "    \"/Users/Bya/Dropbox/Research/datas/GW4/1508310000_SWANSvsMUFC_json.txt.csv\",\n",
    "]"
   ]
  },
  {
   "cell_type": "code",
   "execution_count": 16,
   "metadata": {
    "collapsed": false
   },
   "outputs": [
    {
     "name": "stdout",
     "output_type": "stream",
     "text": [
      "\n",
      " Newcastle vs Arsenal :\n",
      "\n",
      "[('home', 6257), ('away', 6661), ('both', 3573), ('nothing', 33)]\n",
      "\n",
      " Villa vs Sunderland :\n",
      "\n",
      "[('home', 628), ('away', 4), ('both', 1463), ('nothing', 26874)]\n",
      "\n",
      " Bournemouth vs Leicester :\n",
      "\n",
      "[('home', 830), ('away', 349), ('both', 766), ('nothing', 27024)]\n",
      "\n",
      " Chelsea vs Crystal :\n",
      "\n",
      "[('home', 4350), ('away', 478), ('both', 1499), ('nothing', 22642)]\n",
      "\n",
      " Liverpool vs WestHam :\n",
      "\n",
      "[('home', 8621), ('away', 1611), ('both', 3298), ('nothing', 15439)]\n",
      "\n",
      " City vs Watford :\n",
      "\n",
      "[('home', 2354), ('away', 361), ('both', 810), ('nothing', 25444)]\n",
      "\n",
      " Stoke vs WestBromwich :\n",
      "\n",
      "[('home', 1128), ('away', 406), ('both', 1294), ('nothing', 26141)]\n",
      "\n",
      " Southampton vs Norwich :\n",
      "\n",
      "[('home', 1806), ('away', 1634), ('both', 1835), ('nothing', 20)]\n",
      "\n",
      " Swansea vs United :\n",
      "\n",
      "[('home', 1286), ('away', 24353), ('both', 3610), ('nothing', 64)]\n"
     ]
    }
   ],
   "source": [
    "GW = 'GW4'\n",
    "\n",
    "weekGames = createTuples(weekGames)\n",
    "for i in range(len(weekGames)):\n",
    "    read_file_and_save_as_each_game(CSVfileNames[i], weekGames[i], GW)"
   ]
  }
 ],
 "metadata": {
  "kernelspec": {
   "display_name": "Python 3",
   "language": "python",
   "name": "python3"
  },
  "language_info": {
   "codemirror_mode": {
    "name": "ipython",
    "version": 3
   },
   "file_extension": ".py",
   "mimetype": "text/x-python",
   "name": "python",
   "nbconvert_exporter": "python",
   "pygments_lexer": "ipython3",
   "version": "3.4.3"
  }
 },
 "nbformat": 4,
 "nbformat_minor": 0
}
