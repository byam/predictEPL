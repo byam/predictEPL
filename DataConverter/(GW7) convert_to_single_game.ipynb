{
 "cells": [
  {
   "cell_type": "code",
   "execution_count": 3,
   "metadata": {
    "collapsed": false
   },
   "outputs": [],
   "source": [
    "import os\n",
    "os.chdir(\"/Users/Bya/git/predictEPL/MyFunctions/\")\n",
    "from converter import read_file_and_save_as_each_game\n",
    "from converter import createTuples\n",
    "from converter import Teams\n",
    "\n",
    "team = Teams()"
   ]
  },
  {
   "cell_type": "code",
   "execution_count": 4,
   "metadata": {
    "collapsed": false
   },
   "outputs": [],
   "source": [
    "weekGames = [\n",
    "    team.Tottenham, team.City,\n",
    "    \n",
    "    team.Leicester, team.Arsenal,\n",
    "    team.Liverpool, team.Villa,\n",
    "    team.United, team.Sunderland,\n",
    "    team.Southampton, team.Swansea,\n",
    "    team.Stoke, team.Bournemouth,\n",
    "    team.WestHam, team.Norwich,\n",
    "    \n",
    "    team.Newcastle, team.Chelsea,\n",
    "    \n",
    "    team.Watford, team.Crystal,\n",
    "    \n",
    "    team.WestBromwich, team.Everton,\n",
    "            ]"
   ]
  },
  {
   "cell_type": "code",
   "execution_count": 5,
   "metadata": {
    "collapsed": false
   },
   "outputs": [],
   "source": [
    "CSVfileNames = [\n",
    "    \"/Users/Bya/Dropbox/Research/datas/GW7/1509262045_COYSvsMCFC_json.txt.csv\",\n",
    "    \n",
    "    \"/Users/Bya/Dropbox/Research/datas/GW7/1509262300_6matches_json.txt.csv\",\n",
    "    \"/Users/Bya/Dropbox/Research/datas/GW7/1509262300_6matches_json.txt.csv\",\n",
    "    \"/Users/Bya/Dropbox/Research/datas/GW7/1509262300_6matches_json.txt.csv\",\n",
    "    \"/Users/Bya/Dropbox/Research/datas/GW7/1509262300_6matches_json.txt.csv\",\n",
    "    \"/Users/Bya/Dropbox/Research/datas/GW7/1509262300_6matches_json.txt.csv\",\n",
    "    \"/Users/Bya/Dropbox/Research/datas/GW7/1509262300_6matches_json.txt.csv\",\n",
    "    \n",
    "    \"/Users/Bya/Dropbox/Research/datas/GW7/1509270130_NUFCvsCFC_json.txt.csv\",\n",
    "    \n",
    "    \"/Users/Bya/Dropbox/Research/datas/GW7/1509280000_WATFORDvsCPFC_json.txt.csv\",\n",
    "    \n",
    "    \"/Users/Bya/Dropbox/Research/datas/GW7/1509290400_WBAvsEFC_json.txt.csv\",\n",
    "]"
   ]
  },
  {
   "cell_type": "code",
   "execution_count": 6,
   "metadata": {
    "collapsed": false
   },
   "outputs": [
    {
     "name": "stdout",
     "output_type": "stream",
     "text": [
      "\n",
      " Tottenham vs City :\n",
      "\n",
      "[('home', 4497), ('away', 7770), ('both', 1061), ('nothing', 19)]\n",
      "\n",
      " Leicester vs Arsenal :\n",
      "\n",
      "[('home', 593), ('away', 4770), ('both', 1723), ('nothing', 44873)]\n",
      "\n",
      " Liverpool vs Villa :\n",
      "\n",
      "[('home', 8509), ('away', 1289), ('both', 1911), ('nothing', 40250)]\n",
      "\n",
      " United vs Sunderland :\n",
      "\n",
      "[('home', 27300), ('away', 452), ('both', 1606), ('nothing', 22601)]\n",
      "\n",
      " Southampton vs Swansea :\n",
      "\n",
      "[('home', 519), ('away', 140), ('both', 349), ('nothing', 50951)]\n",
      "\n",
      " Stoke vs Bournemouth :\n",
      "\n",
      "[('home', 160), ('away', 420), ('both', 695), ('nothing', 50684)]\n",
      "\n",
      " WestHam vs Norwich :\n",
      "\n",
      "[('home', 709), ('away', 505), ('both', 568), ('nothing', 50177)]\n",
      "\n",
      " Newcastle vs Chelsea :\n",
      "\n",
      "[('home', 4174), ('away', 4990), ('both', 1848), ('nothing', 10)]\n",
      "\n",
      " Watford vs Crystal :\n",
      "\n",
      "[('home', 136), ('away', 135), ('both', 58), ('nothing', 1)]\n",
      "\n",
      " WestBromwich vs Everton :\n",
      "\n",
      "[('home', 643), ('away', 1048), ('both', 790), ('nothing', 10)]\n"
     ]
    }
   ],
   "source": [
    "GW = 'GW7'\n",
    "\n",
    "weekGames = createTuples(weekGames)\n",
    "for i in range(len(weekGames)):\n",
    "    read_file_and_save_as_each_game(CSVfileNames[i], weekGames[i], GW)"
   ]
  }
 ],
 "metadata": {
  "kernelspec": {
   "display_name": "Python 2",
   "language": "python",
   "name": "python2"
  },
  "language_info": {
   "codemirror_mode": {
    "name": "ipython",
    "version": 2
   },
   "file_extension": ".py",
   "mimetype": "text/x-python",
   "name": "python",
   "nbconvert_exporter": "python",
   "pygments_lexer": "ipython2",
   "version": "2.7.10"
  }
 },
 "nbformat": 4,
 "nbformat_minor": 0
}
