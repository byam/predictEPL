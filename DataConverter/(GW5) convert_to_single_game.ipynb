{
 "cells": [
  {
   "cell_type": "code",
   "execution_count": 3,
   "metadata": {
    "collapsed": false
   },
   "outputs": [],
   "source": [
    "import os\n",
    "os.chdir(\"/Users/Bya/git/predictEPL/MyFunctions/\")\n",
    "from converter import read_file_and_save_as_each_game\n",
    "from converter import createTuples\n",
    "from converter import Teams\n",
    "\n",
    "team = Teams()"
   ]
  },
  {
   "cell_type": "code",
   "execution_count": 4,
   "metadata": {
    "collapsed": false
   },
   "outputs": [],
   "source": [
    "weekGames = [\n",
    "    team.Everton, team.Chelsea,\n",
    "    \n",
    "    team.Arsenal, team.Stoke,\n",
    "    team.Crystal, team.City,\n",
    "    team.Norwich, team.Bournemouth,\n",
    "    team.Watford, team.Swansea,\n",
    "    team.WestBromwich, team.Southampton,\n",
    "    \n",
    "    team.United, team.Liverpool,\n",
    "    \n",
    "    team.Sunderland, team.Tottenham,\n",
    "    \n",
    "    team.Leicester, team.Villa,\n",
    "    \n",
    "    team.WestHam, team.Newcastle,\n",
    "            ]"
   ]
  },
  {
   "cell_type": "code",
   "execution_count": 5,
   "metadata": {
    "collapsed": false
   },
   "outputs": [],
   "source": [
    "CSVfileNames = [\n",
    "    \"/Users/Bya/Dropbox/Research/datas/GW5/1509122045_EFCvsCFC_json.txt.csv\",\n",
    "    \n",
    "    \"/Users/Bya/Dropbox/Research/datas/GW5/1509122300_5matches_json.txt.csv\",\n",
    "    \"/Users/Bya/Dropbox/Research/datas/GW5/1509122300_5matches_json.txt.csv\",\n",
    "    \"/Users/Bya/Dropbox/Research/datas/GW5/1509122300_5matches_json.txt.csv\",\n",
    "    \"/Users/Bya/Dropbox/Research/datas/GW5/1509122300_5matches_json.txt.csv\",\n",
    "    \"/Users/Bya/Dropbox/Research/datas/GW5/1509122300_5matches_json.txt.csv\",\n",
    "    \n",
    "    \"/Users/Bya/Dropbox/Research/datas/GW5/1509130130_MUFCvsLFC_json.txt.csv\",\n",
    "    \n",
    "    \"/Users/Bya/Dropbox/Research/datas/GW5/1509132130_SAFCvsCOYS_json.txt.csv\",\n",
    "    \n",
    "    \"/Users/Bya/Dropbox/Research/datas/GW5/15091400_LCFCvsAVFC_json.txt.csv\",\n",
    "    \n",
    "    \"/Users/Bya/Dropbox/Research/datas/GW5/1509150400_WHUFCvsNUFC_json.txt.csv\",\n",
    "]"
   ]
  },
  {
   "cell_type": "code",
   "execution_count": 7,
   "metadata": {
    "collapsed": false
   },
   "outputs": [
    {
     "name": "stdout",
     "output_type": "stream",
     "text": [
      "\n",
      " Everton vs Chelsea :\n",
      "\n",
      "[('home', 3030), ('away', 11795), ('both', 9060), ('nothing', 35)]\n",
      "\n",
      " Arsenal vs Stoke :\n",
      "\n",
      "[('home', 6626), ('away', 358), ('both', 2078), ('nothing', 8689)]\n",
      "\n",
      " Crystal vs City :\n",
      "\n",
      "[('home', 534), ('away', 3086), ('both', 2116), ('nothing', 12015)]\n",
      "\n",
      " Norwich vs Bournemouth :\n",
      "\n",
      "[('home', 522), ('away', 215), ('both', 419), ('nothing', 16595)]\n",
      "\n",
      " Watford vs Swansea :\n",
      "\n",
      "[('home', 232), ('away', 206), ('both', 415), ('nothing', 16898)]\n",
      "\n",
      " WestBromwich vs Southampton :\n",
      "\n",
      "[('home', 490), ('away', 309), ('both', 290), ('nothing', 16662)]\n",
      "\n",
      " United vs Liverpool :\n",
      "\n",
      "[('home', 25892), ('away', 10852), ('both', 10448), ('nothing', 71)]\n",
      "\n",
      " Sunderland vs Tottenham :\n",
      "\n",
      "[('home', 1045), ('away', 2810), ('both', 436), ('nothing', 13)]\n",
      "\n",
      " Leicester vs Villa :\n",
      "\n",
      "[('home', 527), ('away', 2683), ('both', 3834), ('nothing', 9)]\n",
      "\n",
      " WestHam vs Newcastle :\n",
      "\n",
      "[('home', 1764), ('away', 3413), ('both', 1610), ('nothing', 15)]\n"
     ]
    }
   ],
   "source": [
    "GW = 'GW5'\n",
    "\n",
    "weekGames = createTuples(weekGames)\n",
    "for i in range(len(weekGames)):\n",
    "    read_file_and_save_as_each_game(CSVfileNames[i], weekGames[i], GW)"
   ]
  }
 ],
 "metadata": {
  "kernelspec": {
   "display_name": "Python 2",
   "language": "python",
   "name": "python2"
  },
  "language_info": {
   "codemirror_mode": {
    "name": "ipython",
    "version": 2
   },
   "file_extension": ".py",
   "mimetype": "text/x-python",
   "name": "python",
   "nbconvert_exporter": "python",
   "pygments_lexer": "ipython2",
   "version": "2.7.10"
  }
 },
 "nbformat": 4,
 "nbformat_minor": 0
}
