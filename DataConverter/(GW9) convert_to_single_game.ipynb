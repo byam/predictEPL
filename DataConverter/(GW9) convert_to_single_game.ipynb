{
 "cells": [
  {
   "cell_type": "code",
   "execution_count": 1,
   "metadata": {
    "collapsed": false
   },
   "outputs": [],
   "source": [
    "import os\n",
    "os.chdir(\"/Users/Bya/git/predictEPL/MyFunctions/\")\n",
    "from converter import read_file_and_save_as_each_game\n",
    "from converter import createTuples\n",
    "from converter import Teams\n",
    "\n",
    "team = Teams()"
   ]
  },
  {
   "cell_type": "code",
   "execution_count": 2,
   "metadata": {
    "collapsed": false
   },
   "outputs": [],
   "source": [
    "weekGames = [\n",
    "    team.Tottenham, team.Liverpool,\n",
    "    \n",
    "    team.Chelsea, team.Villa,\n",
    "    team.Crystal, team.WestHam,\n",
    "    team.Everton, team.United,\n",
    "    team.City, team.Bournemouth,\n",
    "    team.Southampton, team.Leicester,\n",
    "    team.WestBromwich, team.Sunderland,\n",
    "    \n",
    "    team.Watford, team.Arsenal,\n",
    "    \n",
    "    team.Newcastle, team.Norwich,\n",
    "    \n",
    "    team.Swansea, team.Stoke,\n",
    "            ]"
   ]
  },
  {
   "cell_type": "code",
   "execution_count": 3,
   "metadata": {
    "collapsed": false
   },
   "outputs": [],
   "source": [
    "CSVfileNames = [\n",
    "    \"/Users/Bya/Dropbox/Research/datas/GW9/game1.txt.csv\",\n",
    "\n",
    "    \"/Users/Bya/Dropbox/Research/datas/GW9/game2_7.txt.csv\",\n",
    "    \"/Users/Bya/Dropbox/Research/datas/GW9/game2_7.txt.csv\",\n",
    "    \"/Users/Bya/Dropbox/Research/datas/GW9/game2_7.txt.csv\",\n",
    "    \"/Users/Bya/Dropbox/Research/datas/GW9/game2_7.txt.csv\",\n",
    "    \"/Users/Bya/Dropbox/Research/datas/GW9/game2_7.txt.csv\",\n",
    "    \"/Users/Bya/Dropbox/Research/datas/GW9/game2_7.txt.csv\",\n",
    "\n",
    "    \"/Users/Bya/Dropbox/Research/datas/GW9/game8.txt.csv\",\n",
    "    \n",
    "    \"/Users/Bya/Dropbox/Research/datas/GW9/game9.txt.csv\",\n",
    "    \n",
    "    \"/Users/Bya/Dropbox/Research/datas/GW9/game10.txt.csv\"\n",
    "]"
   ]
  },
  {
   "cell_type": "code",
   "execution_count": 4,
   "metadata": {
    "collapsed": false
   },
   "outputs": [
    {
     "name": "stdout",
     "output_type": "stream",
     "text": [
      "\n",
      " Tottenham vs Liverpool :\n",
      "\n",
      "[('home', 4165), ('away', 21253), ('both', 1771), ('nothing', 54)]\n",
      "\n",
      " Chelsea vs Villa :\n",
      "\n",
      "[('home', 7370), ('away', 2271), ('both', 2369), ('nothing', 89264)]\n",
      "\n",
      " Crystal vs WestHam :\n",
      "\n",
      "[('home', 742), ('away', 1181), ('both', 767), ('nothing', 98584)]\n",
      "\n",
      " Everton vs United :\n",
      "\n",
      "[('home', 2310), ('away', 61686), ('both', 4479), ('nothing', 32799)]\n",
      "\n",
      " City vs Bournemouth :\n",
      "\n",
      "[('home', 12710), ('away', 703), ('both', 2055), ('nothing', 85806)]\n",
      "\n",
      " Southampton vs Leicester :\n",
      "\n",
      "[('home', 934), ('away', 926), ('both', 770), ('nothing', 98644)]\n",
      "\n",
      " WestBromwich vs Sunderland :\n",
      "\n",
      "[('home', 919), ('away', 812), ('both', 514), ('nothing', 99029)]\n",
      "\n",
      " Watford vs Arsenal :\n",
      "\n",
      "[('home', 1245), ('away', 12260), ('both', 1567), ('nothing', 16)]\n",
      "\n",
      " Newcastle vs Norwich :\n",
      "\n",
      "[('home', 9438), ('away', 3175), ('both', 2489), ('nothing', 26)]\n",
      "\n",
      " Swansea vs Stoke :\n",
      "\n",
      "[('home', 501), ('away', 959), ('both', 559), ('nothing', 4)]\n"
     ]
    }
   ],
   "source": [
    "GW = 'GW9'\n",
    "\n",
    "weekGames = createTuples(weekGames)\n",
    "for i in range(len(weekGames)):\n",
    "    read_file_and_save_as_each_game(CSVfileNames[i], weekGames[i], GW)"
   ]
  }
 ],
 "metadata": {
  "kernelspec": {
   "display_name": "Python 2",
   "language": "python",
   "name": "python2"
  },
  "language_info": {
   "codemirror_mode": {
    "name": "ipython",
    "version": 2
   },
   "file_extension": ".py",
   "mimetype": "text/x-python",
   "name": "python",
   "nbconvert_exporter": "python",
   "pygments_lexer": "ipython2",
   "version": "2.7.10"
  }
 },
 "nbformat": 4,
 "nbformat_minor": 0
}
