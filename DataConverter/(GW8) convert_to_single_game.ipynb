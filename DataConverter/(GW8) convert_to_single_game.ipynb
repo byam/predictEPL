{
 "cells": [
  {
   "cell_type": "code",
   "execution_count": 1,
   "metadata": {
    "collapsed": false
   },
   "outputs": [],
   "source": [
    "import os\n",
    "os.chdir(\"/Users/Bya/git/predictEPL/MyFunctions/\")\n",
    "from converter import read_file_and_save_as_each_game\n",
    "from converter import createTuples\n",
    "from converter import Teams\n",
    "\n",
    "team = Teams()"
   ]
  },
  {
   "cell_type": "code",
   "execution_count": 7,
   "metadata": {
    "collapsed": false
   },
   "outputs": [],
   "source": [
    "weekGames = [\n",
    "    team.Crystal, team.WestBromwich,\n",
    "    \n",
    "    team.Villa, team.Stoke,\n",
    "    team.Bournemouth, team.Watford,\n",
    "    team.City, team.Newcastle,\n",
    "    team.Norwich, team.Leicester,\n",
    "    team.Sunderland, team.WestHam,\n",
    "    \n",
    "    team.Chelsea, team.Southampton,\n",
    "    \n",
    "    team.Everton, team.Liverpool,\n",
    "    \n",
    "    team.Arsenal, team.United,\n",
    "    team.Swansea, team.Tottenham,\n",
    "            ]"
   ]
  },
  {
   "cell_type": "code",
   "execution_count": 8,
   "metadata": {
    "collapsed": false
   },
   "outputs": [],
   "source": [
    "CSVfileNames = [\n",
    "    \"/Users/Bya/Dropbox/Research/datas/GW8/game1_json.txt.csv\",\n",
    "    \n",
    "    \"/Users/Bya/Dropbox/Research/datas/GW8/game2_6_json.txt.csv\",\n",
    "    \"/Users/Bya/Dropbox/Research/datas/GW8/game2_6_json.txt.csv\",\n",
    "    \"/Users/Bya/Dropbox/Research/datas/GW8/game2_6_json.txt.csv\",\n",
    "    \"/Users/Bya/Dropbox/Research/datas/GW8/game2_6_json.txt.csv\",\n",
    "    \"/Users/Bya/Dropbox/Research/datas/GW8/game2_6_json.txt.csv\",\n",
    "    \n",
    "    \"/Users/Bya/Dropbox/Research/datas/GW8/game7_json.txt.csv\",\n",
    "    \n",
    "    \"/Users/Bya/Dropbox/Research/datas/GW8/game8_json.txt.csv\",\n",
    "    \n",
    "    \"/Users/Bya/Dropbox/Research/datas/GW8/game9_10_json.txt.csv\",\n",
    "    \"/Users/Bya/Dropbox/Research/datas/GW8/game9_10_json.txt.csv\",\n",
    "]"
   ]
  },
  {
   "cell_type": "code",
   "execution_count": 9,
   "metadata": {
    "collapsed": false
   },
   "outputs": [
    {
     "name": "stdout",
     "output_type": "stream",
     "text": [
      "\n",
      " Crystal vs WestBromwich :\n",
      "\n",
      "[('home', 1546), ('away', 2133), ('both', 991), ('nothing', 52)]\n",
      "\n",
      " Villa vs Stoke :\n",
      "\n",
      "[('home', 1638), ('away', 311), ('both', 2135), ('nothing', 45410)]\n",
      "\n",
      " Bournemouth vs Watford :\n",
      "\n",
      "[('home', 844), ('away', 1166), ('both', 1122), ('nothing', 46362)]\n",
      "\n",
      " City vs Newcastle :\n",
      "\n",
      "[('home', 20561), ('away', 7982), ('both', 5907), ('nothing', 15044)]\n",
      "\n",
      " Norwich vs Leicester :\n",
      "\n",
      "[('home', 751), ('away', 1420), ('both', 1220), ('nothing', 46103)]\n",
      "\n",
      " Sunderland vs WestHam :\n",
      "\n",
      "[('home', 2090), ('away', 1559), ('both', 1371), ('nothing', 44474)]\n",
      "\n",
      " Chelsea vs Southampton :\n",
      "\n",
      "[('home', 25055), ('away', 3942), ('both', 2515), ('nothing', 84)]\n",
      "\n",
      " Everton vs Liverpool :\n",
      "\n",
      "[('home', 2514), ('away', 20236), ('both', 6604), ('nothing', 39)]\n",
      "\n",
      " Arsenal vs United :\n",
      "\n",
      "[('home', 25551), ('away', 51785), ('both', 12842), ('nothing', 9518)]\n",
      "\n",
      " Swansea vs Tottenham :\n",
      "\n",
      "[('home', 1831), ('away', 7294), ('both', 259), ('nothing', 90312)]\n"
     ]
    }
   ],
   "source": [
    "GW = 'GW8'\n",
    "\n",
    "weekGames = createTuples(weekGames)\n",
    "for i in range(len(weekGames)):\n",
    "    read_file_and_save_as_each_game(CSVfileNames[i], weekGames[i], GW)"
   ]
  }
 ],
 "metadata": {
  "kernelspec": {
   "display_name": "Python 2",
   "language": "python",
   "name": "python2"
  },
  "language_info": {
   "codemirror_mode": {
    "name": "ipython",
    "version": 2
   },
   "file_extension": ".py",
   "mimetype": "text/x-python",
   "name": "python",
   "nbconvert_exporter": "python",
   "pygments_lexer": "ipython2",
   "version": "2.7.10"
  }
 },
 "nbformat": 4,
 "nbformat_minor": 0
}
