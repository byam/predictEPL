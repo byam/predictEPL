{
 "cells": [
  {
   "cell_type": "code",
   "execution_count": 1,
   "metadata": {
    "collapsed": true
   },
   "outputs": [],
   "source": [
    "import os\n",
    "import sys\n",
    "import json\n",
    "import csv"
   ]
  },
  {
   "cell_type": "code",
   "execution_count": 2,
   "metadata": {
    "collapsed": false
   },
   "outputs": [],
   "source": [
    "# return filenames as list\n",
    "def GetFilenames(foldername):\n",
    "    for folderName, subFolders, fileNames in os.walk(foldername):\n",
    "        fileNames = filter(lambda filename: filename.endswith('.txt'), fileNames)\n",
    "        fileNames = map(lambda filename: str(foldername + '/' + filename), fileNames)\n",
    "        return list(fileNames)"
   ]
  },
  {
   "cell_type": "code",
   "execution_count": 3,
   "metadata": {
    "collapsed": false
   },
   "outputs": [],
   "source": [
    "# Parsing JSON file, return as list(if returnList != 0), save to csv file(if saveCSV != 0)\n",
    "def ParseJson(textFilePath, returnList, saveCSV):\n",
    "    # Read file\n",
    "    pathData = \"/Users/Bya/Dropbox/Research/datas/\"\n",
    "    os.chdir(pathData)\n",
    "\n",
    "    with open(textFilePath, 'rb') as tweetRaw:\n",
    "        tweets_file = tweetRaw.read()\n",
    "    \n",
    "    # Parsing JSON\n",
    "    tweets_data = []\n",
    "    for line in tweets_file:\n",
    "        try:\n",
    "            all_data = json.loads(line)\n",
    "            text = all_data['text'].encode('utf8')\n",
    "            date = all_data['created_at'].encode('utf8')\n",
    "            user = all_data[\"user\"][\"screen_name\"].encode('utf8')\n",
    "            tags = map(lambda tag: tag['text'],\n",
    "                       all_data['entities']['hashtags'])\n",
    "\n",
    "            # if tweet has no tags, check quoted tweets tag\n",
    "            if len(tags) == 0:\n",
    "                text = text + '. ' + all_data['quoted_status']['text'].encode('utf8')\n",
    "\n",
    "                tags = map(lambda tag: tag['text'],\n",
    "                           all_data['quoted_status']['entities']['hashtags'])\n",
    "\n",
    "            # if still has no tags\n",
    "            if len(tags) == 0:\n",
    "                tags = ['no_tags']\n",
    "            \n",
    "            data_featured = {'text': text,\n",
    "                             'date': date,\n",
    "                             'user': user,\n",
    "                             'tags': ','.join(map(lambda tag: tag.lower(), tags))}\n",
    "            tweets_data.append(data_featured)\n",
    "            \n",
    "            # add to CSV file\n",
    "            if saveCSV:\n",
    "                DicSaveToCSV(textFilePath, data_featured)\n",
    "                    \n",
    "        except:\n",
    "            continue\n",
    "    \n",
    "    if(returnList):\n",
    "        return tweets_data"
   ]
  },
  {
   "cell_type": "code",
   "execution_count": 4,
   "metadata": {
    "collapsed": false
   },
   "outputs": [],
   "source": [
    "# Save the dictionary values to file\n",
    "def DicSaveToCSV(fileName, myDic):\n",
    "    with open(fileName + '.csv', 'a') as f:\n",
    "        w = csv.DictWriter(f, myDic.keys())\n",
    "        w.writerow(myDic)"
   ]
  },
  {
   "cell_type": "code",
   "execution_count": 6,
   "metadata": {
    "collapsed": true
   },
   "outputs": [],
   "source": [
    "# Change home directory\n",
    "pathData = \"/Users/Bya/Dropbox/Research/datas/\"\n",
    "os.chdir(pathData)\n",
    "\n",
    "# Change the weeknumber\n",
    "weeknumber = 11\n",
    "filenames = GetFilenames('GW' + str(weeknumber))"
   ]
  },
  {
   "cell_type": "code",
   "execution_count": 7,
   "metadata": {
    "collapsed": false
   },
   "outputs": [
    {
     "data": {
      "text/plain": [
       "['GW11/game1.txt',\n",
       " 'GW11/game10.txt',\n",
       " 'GW11/game2_7.txt',\n",
       " 'GW11/game8.txt',\n",
       " 'GW11/game9.txt']"
      ]
     },
     "execution_count": 7,
     "metadata": {},
     "output_type": "execute_result"
    }
   ],
   "source": [
    "filenames"
   ]
  },
  {
   "cell_type": "code",
   "execution_count": 10,
   "metadata": {
    "collapsed": false
   },
   "outputs": [],
   "source": [
    "ParseJson(filenames[4], 0, 1)"
   ]
  },
  {
   "cell_type": "code",
   "execution_count": null,
   "metadata": {
    "collapsed": false
   },
   "outputs": [],
   "source": [
    "for filename in filenames:\n",
    "    ParseJson(filename, 0, 1)"
   ]
  }
 ],
 "metadata": {
  "kernelspec": {
   "display_name": "Python 3",
   "language": "python",
   "name": "python3"
  },
  "language_info": {
   "codemirror_mode": {
    "name": "ipython",
    "version": 3
   },
   "file_extension": ".py",
   "mimetype": "text/x-python",
   "name": "python",
   "nbconvert_exporter": "python",
   "pygments_lexer": "ipython3",
   "version": "3.4.3"
  }
 },
 "nbformat": 4,
 "nbformat_minor": 0
}
